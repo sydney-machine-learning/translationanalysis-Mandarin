{
 "cells": [
  {
   "cell_type": "code",
   "execution_count": 3,
   "metadata": {},
   "outputs": [
    {
     "name": "stdout",
     "output_type": "stream",
     "text": [
      "Collecting python-docx\n",
      "  Downloading python_docx-1.1.2-py3-none-any.whl (244 kB)\n",
      "\u001b[2K     \u001b[90m━━━━━━━━━━━━━━━━━━━━━━━━━━━━━━━━━━━━━━━\u001b[0m \u001b[32m244.3/244.3 KB\u001b[0m \u001b[31m4.9 MB/s\u001b[0m eta \u001b[36m0:00:00\u001b[0ma \u001b[36m0:00:01\u001b[0m\n",
      "\u001b[?25hRequirement already satisfied: lxml>=3.1.0 in /Library/Frameworks/Python.framework/Versions/3.10/lib/python3.10/site-packages (from python-docx) (4.9.1)\n",
      "Requirement already satisfied: typing-extensions>=4.9.0 in /Library/Frameworks/Python.framework/Versions/3.10/lib/python3.10/site-packages (from python-docx) (4.9.0)\n",
      "Installing collected packages: python-docx\n",
      "Successfully installed python-docx-1.1.2\n",
      "\u001b[33mWARNING: You are using pip version 22.0.4; however, version 24.0 is available.\n",
      "You should consider upgrading via the '/usr/local/bin/python3 -m pip install --upgrade pip' command.\u001b[0m\u001b[33m\n",
      "\u001b[0mNote: you may need to restart the kernel to use updated packages.\n"
     ]
    }
   ],
   "source": [
    "%pip install python-docx"
   ]
  },
  {
   "cell_type": "code",
   "execution_count": 2,
   "metadata": {},
   "outputs": [],
   "source": [
    "import requests\n",
    "from bs4 import BeautifulSoup\n",
    "import pandas as pd\n",
    "import PyPDF2\n",
    "from docx import Document"
   ]
  },
  {
   "cell_type": "code",
   "execution_count": 23,
   "metadata": {},
   "outputs": [],
   "source": [
    "for i in range(1,10):\n",
    "    file_path = f'/Users/wangxuechun/Desktop/Julia_Lovell_the_true_story_of_Ahq/Julia_lovell_version_chapt{i}.docx'\n",
    "\n",
    "    doc = Document(file_path)\n",
    "    paragraphs = [para.text for para in doc.paragraphs if para.text.strip() != \"\"]\n",
    "\n",
    "\n",
    "    df = pd.DataFrame(paragraphs, columns=[f'English_Verse_chap{i}_julia'])\n",
    "\n",
    "    df = df.drop(df.index[0])\n",
    "\n",
    "    csv_path = f'/Users/wangxuechun/unsw/thesis-repo/julia_dataset/chapter_{i}_eng_version_julia.csv'\n",
    "\n",
    "    df.to_csv(csv_path, index=False)\n",
    "\n",
    "\n",
    "\n",
    "    \n",
    "\n"
   ]
  },
  {
   "cell_type": "code",
   "execution_count": 5,
   "metadata": {},
   "outputs": [],
   "source": [
    "from googletrans import Translator, LANGUAGES"
   ]
  },
  {
   "cell_type": "code",
   "execution_count": 10,
   "metadata": {},
   "outputs": [
    {
     "ename": "KeyboardInterrupt",
     "evalue": "",
     "output_type": "error",
     "traceback": [
      "\u001b[0;31m---------------------------------------------------------------------------\u001b[0m",
      "\u001b[0;31mKeyboardInterrupt\u001b[0m                         Traceback (most recent call last)",
      "\u001b[1;32m/Users/wangxuechun/unsw/thesis-repo/Julia_lovell_attempt.ipynb Cell 5\u001b[0m line \u001b[0;36m1\n\u001b[1;32m      <a href='vscode-notebook-cell:/Users/wangxuechun/unsw/thesis-repo/Julia_lovell_attempt.ipynb#W3sZmlsZQ%3D%3D?line=6'>7</a>\u001b[0m paragraphs \u001b[39m=\u001b[39m [para\u001b[39m.\u001b[39mtext \u001b[39mfor\u001b[39;00m para \u001b[39min\u001b[39;00m doc_google\u001b[39m.\u001b[39mparagraphs \u001b[39mif\u001b[39;00m para\u001b[39m.\u001b[39mtext\u001b[39m.\u001b[39mstrip() \u001b[39m!=\u001b[39m \u001b[39m\"\u001b[39m\u001b[39m\"\u001b[39m]\n\u001b[1;32m     <a href='vscode-notebook-cell:/Users/wangxuechun/unsw/thesis-repo/Julia_lovell_attempt.ipynb#W3sZmlsZQ%3D%3D?line=9'>10</a>\u001b[0m df \u001b[39m=\u001b[39m pd\u001b[39m.\u001b[39mDataFrame(paragraphs, columns\u001b[39m=\u001b[39m[\u001b[39m'\u001b[39m\u001b[39mParagraphs\u001b[39m\u001b[39m'\u001b[39m])\n\u001b[0;32m---> <a href='vscode-notebook-cell:/Users/wangxuechun/unsw/thesis-repo/Julia_lovell_attempt.ipynb#W3sZmlsZQ%3D%3D?line=11'>12</a>\u001b[0m df[\u001b[39mf\u001b[39m\u001b[39m'\u001b[39m\u001b[39mEnglish_Verse_chap\u001b[39m\u001b[39m{\u001b[39;00mi\u001b[39m}\u001b[39;00m\u001b[39m_google\u001b[39m\u001b[39m'\u001b[39m] \u001b[39m=\u001b[39m df[\u001b[39m'\u001b[39;49m\u001b[39mParagraphs\u001b[39;49m\u001b[39m'\u001b[39;49m]\u001b[39m.\u001b[39;49mapply(\u001b[39mlambda\u001b[39;49;00m text: translator\u001b[39m.\u001b[39;49mtranslate(text, src\u001b[39m=\u001b[39;49m\u001b[39m'\u001b[39;49m\u001b[39mzh-cn\u001b[39;49m\u001b[39m'\u001b[39;49m, dest\u001b[39m=\u001b[39;49m\u001b[39m'\u001b[39;49m\u001b[39men\u001b[39;49m\u001b[39m'\u001b[39;49m)\u001b[39m.\u001b[39;49mtext)\n\u001b[1;32m     <a href='vscode-notebook-cell:/Users/wangxuechun/unsw/thesis-repo/Julia_lovell_attempt.ipynb#W3sZmlsZQ%3D%3D?line=13'>14</a>\u001b[0m df \u001b[39m=\u001b[39m df\u001b[39m.\u001b[39mdrop(columns\u001b[39m=\u001b[39m[\u001b[39m'\u001b[39m\u001b[39mParagraphs\u001b[39m\u001b[39m'\u001b[39m])\n\u001b[1;32m     <a href='vscode-notebook-cell:/Users/wangxuechun/unsw/thesis-repo/Julia_lovell_attempt.ipynb#W3sZmlsZQ%3D%3D?line=14'>15</a>\u001b[0m csv_path \u001b[39m=\u001b[39m \u001b[39mf\u001b[39m\u001b[39m'\u001b[39m\u001b[39m/Users/wangxuechun/unsw/thesis-repo/google_dataset/chapter_\u001b[39m\u001b[39m{\u001b[39;00mi\u001b[39m}\u001b[39;00m\u001b[39m_eng_version_google.csv\u001b[39m\u001b[39m'\u001b[39m\n",
      "File \u001b[0;32m/Library/Frameworks/Python.framework/Versions/3.10/lib/python3.10/site-packages/pandas/core/series.py:4760\u001b[0m, in \u001b[0;36mSeries.apply\u001b[0;34m(self, func, convert_dtype, args, by_row, **kwargs)\u001b[0m\n\u001b[1;32m   4625\u001b[0m \u001b[39mdef\u001b[39;00m \u001b[39mapply\u001b[39m(\n\u001b[1;32m   4626\u001b[0m     \u001b[39mself\u001b[39m,\n\u001b[1;32m   4627\u001b[0m     func: AggFuncType,\n\u001b[0;32m   (...)\u001b[0m\n\u001b[1;32m   4632\u001b[0m     \u001b[39m*\u001b[39m\u001b[39m*\u001b[39mkwargs,\n\u001b[1;32m   4633\u001b[0m ) \u001b[39m-\u001b[39m\u001b[39m>\u001b[39m DataFrame \u001b[39m|\u001b[39m Series:\n\u001b[1;32m   4634\u001b[0m     \u001b[39m\"\"\"\u001b[39;00m\n\u001b[1;32m   4635\u001b[0m \u001b[39m    Invoke function on values of Series.\u001b[39;00m\n\u001b[1;32m   4636\u001b[0m \n\u001b[0;32m   (...)\u001b[0m\n\u001b[1;32m   4751\u001b[0m \u001b[39m    dtype: float64\u001b[39;00m\n\u001b[1;32m   4752\u001b[0m \u001b[39m    \"\"\"\u001b[39;00m\n\u001b[1;32m   4753\u001b[0m     \u001b[39mreturn\u001b[39;00m SeriesApply(\n\u001b[1;32m   4754\u001b[0m         \u001b[39mself\u001b[39;49m,\n\u001b[1;32m   4755\u001b[0m         func,\n\u001b[1;32m   4756\u001b[0m         convert_dtype\u001b[39m=\u001b[39;49mconvert_dtype,\n\u001b[1;32m   4757\u001b[0m         by_row\u001b[39m=\u001b[39;49mby_row,\n\u001b[1;32m   4758\u001b[0m         args\u001b[39m=\u001b[39;49margs,\n\u001b[1;32m   4759\u001b[0m         kwargs\u001b[39m=\u001b[39;49mkwargs,\n\u001b[0;32m-> 4760\u001b[0m     )\u001b[39m.\u001b[39;49mapply()\n",
      "File \u001b[0;32m/Library/Frameworks/Python.framework/Versions/3.10/lib/python3.10/site-packages/pandas/core/apply.py:1207\u001b[0m, in \u001b[0;36mSeriesApply.apply\u001b[0;34m(self)\u001b[0m\n\u001b[1;32m   1204\u001b[0m     \u001b[39mreturn\u001b[39;00m \u001b[39mself\u001b[39m\u001b[39m.\u001b[39mapply_compat()\n\u001b[1;32m   1206\u001b[0m \u001b[39m# self.func is Callable\u001b[39;00m\n\u001b[0;32m-> 1207\u001b[0m \u001b[39mreturn\u001b[39;00m \u001b[39mself\u001b[39;49m\u001b[39m.\u001b[39;49mapply_standard()\n",
      "File \u001b[0;32m/Library/Frameworks/Python.framework/Versions/3.10/lib/python3.10/site-packages/pandas/core/apply.py:1287\u001b[0m, in \u001b[0;36mSeriesApply.apply_standard\u001b[0;34m(self)\u001b[0m\n\u001b[1;32m   1281\u001b[0m \u001b[39m# row-wise access\u001b[39;00m\n\u001b[1;32m   1282\u001b[0m \u001b[39m# apply doesn't have a `na_action` keyword and for backward compat reasons\u001b[39;00m\n\u001b[1;32m   1283\u001b[0m \u001b[39m# we need to give `na_action=\"ignore\"` for categorical data.\u001b[39;00m\n\u001b[1;32m   1284\u001b[0m \u001b[39m# TODO: remove the `na_action=\"ignore\"` when that default has been changed in\u001b[39;00m\n\u001b[1;32m   1285\u001b[0m \u001b[39m#  Categorical (GH51645).\u001b[39;00m\n\u001b[1;32m   1286\u001b[0m action \u001b[39m=\u001b[39m \u001b[39m\"\u001b[39m\u001b[39mignore\u001b[39m\u001b[39m\"\u001b[39m \u001b[39mif\u001b[39;00m \u001b[39misinstance\u001b[39m(obj\u001b[39m.\u001b[39mdtype, CategoricalDtype) \u001b[39melse\u001b[39;00m \u001b[39mNone\u001b[39;00m\n\u001b[0;32m-> 1287\u001b[0m mapped \u001b[39m=\u001b[39m obj\u001b[39m.\u001b[39;49m_map_values(\n\u001b[1;32m   1288\u001b[0m     mapper\u001b[39m=\u001b[39;49mcurried, na_action\u001b[39m=\u001b[39;49maction, convert\u001b[39m=\u001b[39;49m\u001b[39mself\u001b[39;49m\u001b[39m.\u001b[39;49mconvert_dtype\n\u001b[1;32m   1289\u001b[0m )\n\u001b[1;32m   1291\u001b[0m \u001b[39mif\u001b[39;00m \u001b[39mlen\u001b[39m(mapped) \u001b[39mand\u001b[39;00m \u001b[39misinstance\u001b[39m(mapped[\u001b[39m0\u001b[39m], ABCSeries):\n\u001b[1;32m   1292\u001b[0m     \u001b[39m# GH#43986 Need to do list(mapped) in order to get treated as nested\u001b[39;00m\n\u001b[1;32m   1293\u001b[0m     \u001b[39m#  See also GH#25959 regarding EA support\u001b[39;00m\n\u001b[1;32m   1294\u001b[0m     \u001b[39mreturn\u001b[39;00m obj\u001b[39m.\u001b[39m_constructor_expanddim(\u001b[39mlist\u001b[39m(mapped), index\u001b[39m=\u001b[39mobj\u001b[39m.\u001b[39mindex)\n",
      "File \u001b[0;32m/Library/Frameworks/Python.framework/Versions/3.10/lib/python3.10/site-packages/pandas/core/base.py:921\u001b[0m, in \u001b[0;36mIndexOpsMixin._map_values\u001b[0;34m(self, mapper, na_action, convert)\u001b[0m\n\u001b[1;32m    918\u001b[0m \u001b[39mif\u001b[39;00m \u001b[39misinstance\u001b[39m(arr, ExtensionArray):\n\u001b[1;32m    919\u001b[0m     \u001b[39mreturn\u001b[39;00m arr\u001b[39m.\u001b[39mmap(mapper, na_action\u001b[39m=\u001b[39mna_action)\n\u001b[0;32m--> 921\u001b[0m \u001b[39mreturn\u001b[39;00m algorithms\u001b[39m.\u001b[39;49mmap_array(arr, mapper, na_action\u001b[39m=\u001b[39;49mna_action, convert\u001b[39m=\u001b[39;49mconvert)\n",
      "File \u001b[0;32m/Library/Frameworks/Python.framework/Versions/3.10/lib/python3.10/site-packages/pandas/core/algorithms.py:1814\u001b[0m, in \u001b[0;36mmap_array\u001b[0;34m(arr, mapper, na_action, convert)\u001b[0m\n\u001b[1;32m   1812\u001b[0m values \u001b[39m=\u001b[39m arr\u001b[39m.\u001b[39mastype(\u001b[39mobject\u001b[39m, copy\u001b[39m=\u001b[39m\u001b[39mFalse\u001b[39;00m)\n\u001b[1;32m   1813\u001b[0m \u001b[39mif\u001b[39;00m na_action \u001b[39mis\u001b[39;00m \u001b[39mNone\u001b[39;00m:\n\u001b[0;32m-> 1814\u001b[0m     \u001b[39mreturn\u001b[39;00m lib\u001b[39m.\u001b[39;49mmap_infer(values, mapper, convert\u001b[39m=\u001b[39;49mconvert)\n\u001b[1;32m   1815\u001b[0m \u001b[39melse\u001b[39;00m:\n\u001b[1;32m   1816\u001b[0m     \u001b[39mreturn\u001b[39;00m lib\u001b[39m.\u001b[39mmap_infer_mask(\n\u001b[1;32m   1817\u001b[0m         values, mapper, mask\u001b[39m=\u001b[39misna(values)\u001b[39m.\u001b[39mview(np\u001b[39m.\u001b[39muint8), convert\u001b[39m=\u001b[39mconvert\n\u001b[1;32m   1818\u001b[0m     )\n",
      "File \u001b[0;32mlib.pyx:2920\u001b[0m, in \u001b[0;36mpandas._libs.lib.map_infer\u001b[0;34m()\u001b[0m\n",
      "\u001b[1;32m/Users/wangxuechun/unsw/thesis-repo/Julia_lovell_attempt.ipynb Cell 5\u001b[0m line \u001b[0;36m1\n\u001b[1;32m      <a href='vscode-notebook-cell:/Users/wangxuechun/unsw/thesis-repo/Julia_lovell_attempt.ipynb#W3sZmlsZQ%3D%3D?line=6'>7</a>\u001b[0m paragraphs \u001b[39m=\u001b[39m [para\u001b[39m.\u001b[39mtext \u001b[39mfor\u001b[39;00m para \u001b[39min\u001b[39;00m doc_google\u001b[39m.\u001b[39mparagraphs \u001b[39mif\u001b[39;00m para\u001b[39m.\u001b[39mtext\u001b[39m.\u001b[39mstrip() \u001b[39m!=\u001b[39m \u001b[39m\"\u001b[39m\u001b[39m\"\u001b[39m]\n\u001b[1;32m     <a href='vscode-notebook-cell:/Users/wangxuechun/unsw/thesis-repo/Julia_lovell_attempt.ipynb#W3sZmlsZQ%3D%3D?line=9'>10</a>\u001b[0m df \u001b[39m=\u001b[39m pd\u001b[39m.\u001b[39mDataFrame(paragraphs, columns\u001b[39m=\u001b[39m[\u001b[39m'\u001b[39m\u001b[39mParagraphs\u001b[39m\u001b[39m'\u001b[39m])\n\u001b[0;32m---> <a href='vscode-notebook-cell:/Users/wangxuechun/unsw/thesis-repo/Julia_lovell_attempt.ipynb#W3sZmlsZQ%3D%3D?line=11'>12</a>\u001b[0m df[\u001b[39mf\u001b[39m\u001b[39m'\u001b[39m\u001b[39mEnglish_Verse_chap\u001b[39m\u001b[39m{\u001b[39;00mi\u001b[39m}\u001b[39;00m\u001b[39m_google\u001b[39m\u001b[39m'\u001b[39m] \u001b[39m=\u001b[39m df[\u001b[39m'\u001b[39m\u001b[39mParagraphs\u001b[39m\u001b[39m'\u001b[39m]\u001b[39m.\u001b[39mapply(\u001b[39mlambda\u001b[39;00m text: translator\u001b[39m.\u001b[39;49mtranslate(text, src\u001b[39m=\u001b[39;49m\u001b[39m'\u001b[39;49m\u001b[39mzh-cn\u001b[39;49m\u001b[39m'\u001b[39;49m, dest\u001b[39m=\u001b[39;49m\u001b[39m'\u001b[39;49m\u001b[39men\u001b[39;49m\u001b[39m'\u001b[39;49m)\u001b[39m.\u001b[39mtext)\n\u001b[1;32m     <a href='vscode-notebook-cell:/Users/wangxuechun/unsw/thesis-repo/Julia_lovell_attempt.ipynb#W3sZmlsZQ%3D%3D?line=13'>14</a>\u001b[0m df \u001b[39m=\u001b[39m df\u001b[39m.\u001b[39mdrop(columns\u001b[39m=\u001b[39m[\u001b[39m'\u001b[39m\u001b[39mParagraphs\u001b[39m\u001b[39m'\u001b[39m])\n\u001b[1;32m     <a href='vscode-notebook-cell:/Users/wangxuechun/unsw/thesis-repo/Julia_lovell_attempt.ipynb#W3sZmlsZQ%3D%3D?line=14'>15</a>\u001b[0m csv_path \u001b[39m=\u001b[39m \u001b[39mf\u001b[39m\u001b[39m'\u001b[39m\u001b[39m/Users/wangxuechun/unsw/thesis-repo/google_dataset/chapter_\u001b[39m\u001b[39m{\u001b[39;00mi\u001b[39m}\u001b[39;00m\u001b[39m_eng_version_google.csv\u001b[39m\u001b[39m'\u001b[39m\n",
      "File \u001b[0;32m/Library/Frameworks/Python.framework/Versions/3.10/lib/python3.10/site-packages/googletrans/client.py:194\u001b[0m, in \u001b[0;36mTranslator.translate\u001b[0;34m(self, text, dest, src)\u001b[0m\n\u001b[1;32m    191\u001b[0m         \u001b[39mraise\u001b[39;00m \u001b[39mValueError\u001b[39;00m(\u001b[39m'\u001b[39m\u001b[39minvalid destination language\u001b[39m\u001b[39m'\u001b[39m)\n\u001b[1;32m    193\u001b[0m origin \u001b[39m=\u001b[39m text\n\u001b[0;32m--> 194\u001b[0m data, response \u001b[39m=\u001b[39m \u001b[39mself\u001b[39;49m\u001b[39m.\u001b[39;49m_translate(text, dest, src)\n\u001b[1;32m    196\u001b[0m token_found \u001b[39m=\u001b[39m \u001b[39mFalse\u001b[39;00m\n\u001b[1;32m    197\u001b[0m square_bracket_counts \u001b[39m=\u001b[39m [\u001b[39m0\u001b[39m, \u001b[39m0\u001b[39m]\n",
      "File \u001b[0;32m/Library/Frameworks/Python.framework/Versions/3.10/lib/python3.10/site-packages/googletrans/client.py:120\u001b[0m, in \u001b[0;36mTranslator._translate\u001b[0;34m(self, text, dest, src)\u001b[0m\n\u001b[1;32m    109\u001b[0m data \u001b[39m=\u001b[39m {\n\u001b[1;32m    110\u001b[0m     \u001b[39m'\u001b[39m\u001b[39mf.req\u001b[39m\u001b[39m'\u001b[39m: \u001b[39mself\u001b[39m\u001b[39m.\u001b[39m_build_rpc_request(text, dest, src),\n\u001b[1;32m    111\u001b[0m }\n\u001b[1;32m    112\u001b[0m params \u001b[39m=\u001b[39m {\n\u001b[1;32m    113\u001b[0m     \u001b[39m'\u001b[39m\u001b[39mrpcids\u001b[39m\u001b[39m'\u001b[39m: RPC_ID,\n\u001b[1;32m    114\u001b[0m     \u001b[39m'\u001b[39m\u001b[39mbl\u001b[39m\u001b[39m'\u001b[39m: \u001b[39m'\u001b[39m\u001b[39mboq_translate-webserver_20201207.13_p0\u001b[39m\u001b[39m'\u001b[39m,\n\u001b[0;32m   (...)\u001b[0m\n\u001b[1;32m    118\u001b[0m     \u001b[39m'\u001b[39m\u001b[39mrt\u001b[39m\u001b[39m'\u001b[39m: \u001b[39m'\u001b[39m\u001b[39mc\u001b[39m\u001b[39m'\u001b[39m,\n\u001b[1;32m    119\u001b[0m }\n\u001b[0;32m--> 120\u001b[0m r \u001b[39m=\u001b[39m \u001b[39mself\u001b[39;49m\u001b[39m.\u001b[39;49mclient\u001b[39m.\u001b[39;49mpost(url, params\u001b[39m=\u001b[39;49mparams, data\u001b[39m=\u001b[39;49mdata)\n\u001b[1;32m    122\u001b[0m \u001b[39mif\u001b[39;00m r\u001b[39m.\u001b[39mstatus_code \u001b[39m!=\u001b[39m \u001b[39m200\u001b[39m \u001b[39mand\u001b[39;00m \u001b[39mself\u001b[39m\u001b[39m.\u001b[39mraise_Exception:\n\u001b[1;32m    123\u001b[0m     \u001b[39mraise\u001b[39;00m \u001b[39mException\u001b[39;00m(\u001b[39m'\u001b[39m\u001b[39mUnexpected status code \u001b[39m\u001b[39m\"\u001b[39m\u001b[39m{}\u001b[39;00m\u001b[39m\"\u001b[39m\u001b[39m from \u001b[39m\u001b[39m{}\u001b[39;00m\u001b[39m'\u001b[39m\u001b[39m.\u001b[39mformat(\n\u001b[1;32m    124\u001b[0m         r\u001b[39m.\u001b[39mstatus_code, \u001b[39mself\u001b[39m\u001b[39m.\u001b[39mservice_urls))\n",
      "File \u001b[0;32m/Library/Frameworks/Python.framework/Versions/3.10/lib/python3.10/site-packages/httpx/_client.py:824\u001b[0m, in \u001b[0;36mClient.post\u001b[0;34m(self, url, data, files, json, params, headers, cookies, auth, allow_redirects, timeout)\u001b[0m\n\u001b[1;32m    810\u001b[0m \u001b[39mdef\u001b[39;00m \u001b[39mpost\u001b[39m(\n\u001b[1;32m    811\u001b[0m     \u001b[39mself\u001b[39m,\n\u001b[1;32m    812\u001b[0m     url: URLTypes,\n\u001b[0;32m   (...)\u001b[0m\n\u001b[1;32m    822\u001b[0m     timeout: typing\u001b[39m.\u001b[39mUnion[TimeoutTypes, UnsetType] \u001b[39m=\u001b[39m UNSET,\n\u001b[1;32m    823\u001b[0m ) \u001b[39m-\u001b[39m\u001b[39m>\u001b[39m Response:\n\u001b[0;32m--> 824\u001b[0m     \u001b[39mreturn\u001b[39;00m \u001b[39mself\u001b[39;49m\u001b[39m.\u001b[39;49mrequest(\n\u001b[1;32m    825\u001b[0m         \u001b[39m\"\u001b[39;49m\u001b[39mPOST\u001b[39;49m\u001b[39m\"\u001b[39;49m,\n\u001b[1;32m    826\u001b[0m         url,\n\u001b[1;32m    827\u001b[0m         data\u001b[39m=\u001b[39;49mdata,\n\u001b[1;32m    828\u001b[0m         files\u001b[39m=\u001b[39;49mfiles,\n\u001b[1;32m    829\u001b[0m         json\u001b[39m=\u001b[39;49mjson,\n\u001b[1;32m    830\u001b[0m         params\u001b[39m=\u001b[39;49mparams,\n\u001b[1;32m    831\u001b[0m         headers\u001b[39m=\u001b[39;49mheaders,\n\u001b[1;32m    832\u001b[0m         cookies\u001b[39m=\u001b[39;49mcookies,\n\u001b[1;32m    833\u001b[0m         auth\u001b[39m=\u001b[39;49mauth,\n\u001b[1;32m    834\u001b[0m         allow_redirects\u001b[39m=\u001b[39;49mallow_redirects,\n\u001b[1;32m    835\u001b[0m         timeout\u001b[39m=\u001b[39;49mtimeout,\n\u001b[1;32m    836\u001b[0m     )\n",
      "File \u001b[0;32m/Library/Frameworks/Python.framework/Versions/3.10/lib/python3.10/site-packages/httpx/_client.py:600\u001b[0m, in \u001b[0;36mClient.request\u001b[0;34m(self, method, url, data, files, json, params, headers, cookies, auth, allow_redirects, timeout)\u001b[0m\n\u001b[1;32m    575\u001b[0m \u001b[39mdef\u001b[39;00m \u001b[39mrequest\u001b[39m(\n\u001b[1;32m    576\u001b[0m     \u001b[39mself\u001b[39m,\n\u001b[1;32m    577\u001b[0m     method: \u001b[39mstr\u001b[39m,\n\u001b[0;32m   (...)\u001b[0m\n\u001b[1;32m    588\u001b[0m     timeout: typing\u001b[39m.\u001b[39mUnion[TimeoutTypes, UnsetType] \u001b[39m=\u001b[39m UNSET,\n\u001b[1;32m    589\u001b[0m ) \u001b[39m-\u001b[39m\u001b[39m>\u001b[39m Response:\n\u001b[1;32m    590\u001b[0m     request \u001b[39m=\u001b[39m \u001b[39mself\u001b[39m\u001b[39m.\u001b[39mbuild_request(\n\u001b[1;32m    591\u001b[0m         method\u001b[39m=\u001b[39mmethod,\n\u001b[1;32m    592\u001b[0m         url\u001b[39m=\u001b[39murl,\n\u001b[0;32m   (...)\u001b[0m\n\u001b[1;32m    598\u001b[0m         cookies\u001b[39m=\u001b[39mcookies,\n\u001b[1;32m    599\u001b[0m     )\n\u001b[0;32m--> 600\u001b[0m     \u001b[39mreturn\u001b[39;00m \u001b[39mself\u001b[39;49m\u001b[39m.\u001b[39;49msend(\n\u001b[1;32m    601\u001b[0m         request, auth\u001b[39m=\u001b[39;49mauth, allow_redirects\u001b[39m=\u001b[39;49mallow_redirects, timeout\u001b[39m=\u001b[39;49mtimeout,\n\u001b[1;32m    602\u001b[0m     )\n",
      "File \u001b[0;32m/Library/Frameworks/Python.framework/Versions/3.10/lib/python3.10/site-packages/httpx/_client.py:620\u001b[0m, in \u001b[0;36mClient.send\u001b[0;34m(self, request, stream, auth, allow_redirects, timeout)\u001b[0m\n\u001b[1;32m    616\u001b[0m timeout \u001b[39m=\u001b[39m \u001b[39mself\u001b[39m\u001b[39m.\u001b[39mtimeout \u001b[39mif\u001b[39;00m \u001b[39misinstance\u001b[39m(timeout, UnsetType) \u001b[39melse\u001b[39;00m Timeout(timeout)\n\u001b[1;32m    618\u001b[0m auth \u001b[39m=\u001b[39m \u001b[39mself\u001b[39m\u001b[39m.\u001b[39mbuild_auth(request, auth)\n\u001b[0;32m--> 620\u001b[0m response \u001b[39m=\u001b[39m \u001b[39mself\u001b[39;49m\u001b[39m.\u001b[39;49msend_handling_redirects(\n\u001b[1;32m    621\u001b[0m     request, auth\u001b[39m=\u001b[39;49mauth, timeout\u001b[39m=\u001b[39;49mtimeout, allow_redirects\u001b[39m=\u001b[39;49mallow_redirects,\n\u001b[1;32m    622\u001b[0m )\n\u001b[1;32m    624\u001b[0m \u001b[39mif\u001b[39;00m \u001b[39mnot\u001b[39;00m stream:\n\u001b[1;32m    625\u001b[0m     \u001b[39mtry\u001b[39;00m:\n",
      "File \u001b[0;32m/Library/Frameworks/Python.framework/Versions/3.10/lib/python3.10/site-packages/httpx/_client.py:647\u001b[0m, in \u001b[0;36mClient.send_handling_redirects\u001b[0;34m(self, request, auth, timeout, allow_redirects, history)\u001b[0m\n\u001b[1;32m    644\u001b[0m \u001b[39mif\u001b[39;00m \u001b[39mlen\u001b[39m(history) \u001b[39m>\u001b[39m \u001b[39mself\u001b[39m\u001b[39m.\u001b[39mmax_redirects:\n\u001b[1;32m    645\u001b[0m     \u001b[39mraise\u001b[39;00m TooManyRedirects()\n\u001b[0;32m--> 647\u001b[0m response \u001b[39m=\u001b[39m \u001b[39mself\u001b[39;49m\u001b[39m.\u001b[39;49msend_handling_auth(\n\u001b[1;32m    648\u001b[0m     request, auth\u001b[39m=\u001b[39;49mauth, timeout\u001b[39m=\u001b[39;49mtimeout, history\u001b[39m=\u001b[39;49mhistory\n\u001b[1;32m    649\u001b[0m )\n\u001b[1;32m    650\u001b[0m response\u001b[39m.\u001b[39mhistory \u001b[39m=\u001b[39m \u001b[39mlist\u001b[39m(history)\n\u001b[1;32m    652\u001b[0m \u001b[39mif\u001b[39;00m \u001b[39mnot\u001b[39;00m response\u001b[39m.\u001b[39mis_redirect:\n",
      "File \u001b[0;32m/Library/Frameworks/Python.framework/Versions/3.10/lib/python3.10/site-packages/httpx/_client.py:684\u001b[0m, in \u001b[0;36mClient.send_handling_auth\u001b[0;34m(self, request, history, auth, timeout)\u001b[0m\n\u001b[1;32m    682\u001b[0m request \u001b[39m=\u001b[39m \u001b[39mnext\u001b[39m(auth_flow)\n\u001b[1;32m    683\u001b[0m \u001b[39mwhile\u001b[39;00m \u001b[39mTrue\u001b[39;00m:\n\u001b[0;32m--> 684\u001b[0m     response \u001b[39m=\u001b[39m \u001b[39mself\u001b[39;49m\u001b[39m.\u001b[39;49msend_single_request(request, timeout)\n\u001b[1;32m    685\u001b[0m     \u001b[39mif\u001b[39;00m auth\u001b[39m.\u001b[39mrequires_response_body:\n\u001b[1;32m    686\u001b[0m         response\u001b[39m.\u001b[39mread()\n",
      "File \u001b[0;32m/Library/Frameworks/Python.framework/Versions/3.10/lib/python3.10/site-packages/httpx/_client.py:714\u001b[0m, in \u001b[0;36mClient.send_single_request\u001b[0;34m(self, request, timeout)\u001b[0m\n\u001b[1;32m    705\u001b[0m transport \u001b[39m=\u001b[39m \u001b[39mself\u001b[39m\u001b[39m.\u001b[39mtransport_for_url(request\u001b[39m.\u001b[39murl)\n\u001b[1;32m    707\u001b[0m \u001b[39mtry\u001b[39;00m:\n\u001b[1;32m    708\u001b[0m     (\n\u001b[1;32m    709\u001b[0m         http_version,\n\u001b[1;32m    710\u001b[0m         status_code,\n\u001b[1;32m    711\u001b[0m         reason_phrase,\n\u001b[1;32m    712\u001b[0m         headers,\n\u001b[1;32m    713\u001b[0m         stream,\n\u001b[0;32m--> 714\u001b[0m     ) \u001b[39m=\u001b[39m transport\u001b[39m.\u001b[39;49mrequest(\n\u001b[1;32m    715\u001b[0m         request\u001b[39m.\u001b[39;49mmethod\u001b[39m.\u001b[39;49mencode(),\n\u001b[1;32m    716\u001b[0m         request\u001b[39m.\u001b[39;49murl\u001b[39m.\u001b[39;49mraw,\n\u001b[1;32m    717\u001b[0m         headers\u001b[39m=\u001b[39;49mrequest\u001b[39m.\u001b[39;49mheaders\u001b[39m.\u001b[39;49mraw,\n\u001b[1;32m    718\u001b[0m         stream\u001b[39m=\u001b[39;49mrequest\u001b[39m.\u001b[39;49mstream,\n\u001b[1;32m    719\u001b[0m         timeout\u001b[39m=\u001b[39;49mtimeout\u001b[39m.\u001b[39;49mas_dict(),\n\u001b[1;32m    720\u001b[0m     )\n\u001b[1;32m    721\u001b[0m \u001b[39mexcept\u001b[39;00m HTTPError \u001b[39mas\u001b[39;00m exc:\n\u001b[1;32m    722\u001b[0m     \u001b[39m# Add the original request to any HTTPError unless\u001b[39;00m\n\u001b[1;32m    723\u001b[0m     \u001b[39m# there'a already a request attached in the case of\u001b[39;00m\n\u001b[1;32m    724\u001b[0m     \u001b[39m# a ProxyError.\u001b[39;00m\n\u001b[1;32m    725\u001b[0m     \u001b[39mif\u001b[39;00m exc\u001b[39m.\u001b[39m_request \u001b[39mis\u001b[39;00m \u001b[39mNone\u001b[39;00m:\n",
      "File \u001b[0;32m/Library/Frameworks/Python.framework/Versions/3.10/lib/python3.10/site-packages/httpcore/_sync/connection_pool.py:152\u001b[0m, in \u001b[0;36mSyncConnectionPool.request\u001b[0;34m(self, method, url, headers, stream, timeout)\u001b[0m\n\u001b[1;32m    149\u001b[0m         logger\u001b[39m.\u001b[39mtrace(\u001b[39m\"\u001b[39m\u001b[39mreuse connection=\u001b[39m\u001b[39m%r\u001b[39;00m\u001b[39m\"\u001b[39m, connection)\n\u001b[1;32m    151\u001b[0m \u001b[39mtry\u001b[39;00m:\n\u001b[0;32m--> 152\u001b[0m     response \u001b[39m=\u001b[39m connection\u001b[39m.\u001b[39;49mrequest(\n\u001b[1;32m    153\u001b[0m         method, url, headers\u001b[39m=\u001b[39;49mheaders, stream\u001b[39m=\u001b[39;49mstream, timeout\u001b[39m=\u001b[39;49mtimeout\n\u001b[1;32m    154\u001b[0m     )\n\u001b[1;32m    155\u001b[0m \u001b[39mexcept\u001b[39;00m NewConnectionRequired:\n\u001b[1;32m    156\u001b[0m     connection \u001b[39m=\u001b[39m \u001b[39mNone\u001b[39;00m\n",
      "File \u001b[0;32m/Library/Frameworks/Python.framework/Versions/3.10/lib/python3.10/site-packages/httpcore/_sync/connection.py:78\u001b[0m, in \u001b[0;36mSyncHTTPConnection.request\u001b[0;34m(self, method, url, headers, stream, timeout)\u001b[0m\n\u001b[1;32m     74\u001b[0m \u001b[39massert\u001b[39;00m \u001b[39mself\u001b[39m\u001b[39m.\u001b[39mconnection \u001b[39mis\u001b[39;00m \u001b[39mnot\u001b[39;00m \u001b[39mNone\u001b[39;00m\n\u001b[1;32m     75\u001b[0m logger\u001b[39m.\u001b[39mtrace(\n\u001b[1;32m     76\u001b[0m     \u001b[39m\"\u001b[39m\u001b[39mconnection.request method=\u001b[39m\u001b[39m%r\u001b[39;00m\u001b[39m url=\u001b[39m\u001b[39m%r\u001b[39;00m\u001b[39m headers=\u001b[39m\u001b[39m%r\u001b[39;00m\u001b[39m\"\u001b[39m, method, url, headers\n\u001b[1;32m     77\u001b[0m )\n\u001b[0;32m---> 78\u001b[0m \u001b[39mreturn\u001b[39;00m \u001b[39mself\u001b[39;49m\u001b[39m.\u001b[39;49mconnection\u001b[39m.\u001b[39;49mrequest(method, url, headers, stream, timeout)\n",
      "File \u001b[0;32m/Library/Frameworks/Python.framework/Versions/3.10/lib/python3.10/site-packages/httpcore/_sync/http2.py:118\u001b[0m, in \u001b[0;36mSyncHTTP2Connection.request\u001b[0;34m(self, method, url, headers, stream, timeout)\u001b[0m\n\u001b[1;32m    116\u001b[0m     \u001b[39mself\u001b[39m\u001b[39m.\u001b[39mstreams[stream_id] \u001b[39m=\u001b[39m h2_stream\n\u001b[1;32m    117\u001b[0m     \u001b[39mself\u001b[39m\u001b[39m.\u001b[39mevents[stream_id] \u001b[39m=\u001b[39m []\n\u001b[0;32m--> 118\u001b[0m     \u001b[39mreturn\u001b[39;00m h2_stream\u001b[39m.\u001b[39;49mrequest(method, url, headers, stream, timeout)\n\u001b[1;32m    119\u001b[0m \u001b[39mexcept\u001b[39;00m \u001b[39mException\u001b[39;00m:\n\u001b[1;32m    120\u001b[0m     \u001b[39mself\u001b[39m\u001b[39m.\u001b[39mmax_streams_semaphore\u001b[39m.\u001b[39mrelease()\n",
      "File \u001b[0;32m/Library/Frameworks/Python.framework/Versions/3.10/lib/python3.10/site-packages/httpcore/_sync/http2.py:292\u001b[0m, in \u001b[0;36mSyncHTTP2Stream.request\u001b[0;34m(self, method, url, headers, stream, timeout)\u001b[0m\n\u001b[1;32m    289\u001b[0m     \u001b[39mself\u001b[39m\u001b[39m.\u001b[39msend_body(stream, timeout)\n\u001b[1;32m    291\u001b[0m \u001b[39m# Receive the response.\u001b[39;00m\n\u001b[0;32m--> 292\u001b[0m status_code, headers \u001b[39m=\u001b[39m \u001b[39mself\u001b[39;49m\u001b[39m.\u001b[39;49mreceive_response(timeout)\n\u001b[1;32m    293\u001b[0m reason_phrase \u001b[39m=\u001b[39m get_reason_phrase(status_code)\n\u001b[1;32m    294\u001b[0m stream \u001b[39m=\u001b[39m SyncByteStream(\n\u001b[1;32m    295\u001b[0m     iterator\u001b[39m=\u001b[39m\u001b[39mself\u001b[39m\u001b[39m.\u001b[39mbody_iter(timeout), close_func\u001b[39m=\u001b[39m\u001b[39mself\u001b[39m\u001b[39m.\u001b[39m_response_closed\n\u001b[1;32m    296\u001b[0m )\n",
      "File \u001b[0;32m/Library/Frameworks/Python.framework/Versions/3.10/lib/python3.10/site-packages/httpcore/_sync/http2.py:344\u001b[0m, in \u001b[0;36mSyncHTTP2Stream.receive_response\u001b[0;34m(self, timeout)\u001b[0m\n\u001b[1;32m    340\u001b[0m \u001b[39m\"\"\"\u001b[39;00m\n\u001b[1;32m    341\u001b[0m \u001b[39mRead the response status and headers from the network.\u001b[39;00m\n\u001b[1;32m    342\u001b[0m \u001b[39m\"\"\"\u001b[39;00m\n\u001b[1;32m    343\u001b[0m \u001b[39mwhile\u001b[39;00m \u001b[39mTrue\u001b[39;00m:\n\u001b[0;32m--> 344\u001b[0m     event \u001b[39m=\u001b[39m \u001b[39mself\u001b[39;49m\u001b[39m.\u001b[39;49mconnection\u001b[39m.\u001b[39;49mwait_for_event(\u001b[39mself\u001b[39;49m\u001b[39m.\u001b[39;49mstream_id, timeout)\n\u001b[1;32m    345\u001b[0m     \u001b[39mif\u001b[39;00m \u001b[39misinstance\u001b[39m(event, h2\u001b[39m.\u001b[39mevents\u001b[39m.\u001b[39mResponseReceived):\n\u001b[1;32m    346\u001b[0m         \u001b[39mbreak\u001b[39;00m\n",
      "File \u001b[0;32m/Library/Frameworks/Python.framework/Versions/3.10/lib/python3.10/site-packages/httpcore/_sync/http2.py:197\u001b[0m, in \u001b[0;36mSyncHTTP2Connection.wait_for_event\u001b[0;34m(self, stream_id, timeout)\u001b[0m\n\u001b[1;32m    195\u001b[0m \u001b[39mwith\u001b[39;00m \u001b[39mself\u001b[39m\u001b[39m.\u001b[39mread_lock:\n\u001b[1;32m    196\u001b[0m     \u001b[39mwhile\u001b[39;00m \u001b[39mnot\u001b[39;00m \u001b[39mself\u001b[39m\u001b[39m.\u001b[39mevents[stream_id]:\n\u001b[0;32m--> 197\u001b[0m         \u001b[39mself\u001b[39;49m\u001b[39m.\u001b[39;49mreceive_events(timeout)\n\u001b[1;32m    198\u001b[0m \u001b[39mreturn\u001b[39;00m \u001b[39mself\u001b[39m\u001b[39m.\u001b[39mevents[stream_id]\u001b[39m.\u001b[39mpop(\u001b[39m0\u001b[39m)\n",
      "File \u001b[0;32m/Library/Frameworks/Python.framework/Versions/3.10/lib/python3.10/site-packages/httpcore/_sync/http2.py:204\u001b[0m, in \u001b[0;36mSyncHTTP2Connection.receive_events\u001b[0;34m(self, timeout)\u001b[0m\n\u001b[1;32m    200\u001b[0m \u001b[39mdef\u001b[39;00m \u001b[39mreceive_events\u001b[39m(\u001b[39mself\u001b[39m, timeout: TimeoutDict) \u001b[39m-\u001b[39m\u001b[39m>\u001b[39m \u001b[39mNone\u001b[39;00m:\n\u001b[1;32m    201\u001b[0m     \u001b[39m\"\"\"\u001b[39;00m\n\u001b[1;32m    202\u001b[0m \u001b[39m    Read some data from the network, and update the H2 state.\u001b[39;00m\n\u001b[1;32m    203\u001b[0m \u001b[39m    \"\"\"\u001b[39;00m\n\u001b[0;32m--> 204\u001b[0m     data \u001b[39m=\u001b[39m \u001b[39mself\u001b[39;49m\u001b[39m.\u001b[39;49msocket\u001b[39m.\u001b[39;49mread(\u001b[39mself\u001b[39;49m\u001b[39m.\u001b[39;49mREAD_NUM_BYTES, timeout)\n\u001b[1;32m    205\u001b[0m     events \u001b[39m=\u001b[39m \u001b[39mself\u001b[39m\u001b[39m.\u001b[39mh2_state\u001b[39m.\u001b[39mreceive_data(data)\n\u001b[1;32m    206\u001b[0m     \u001b[39mfor\u001b[39;00m event \u001b[39min\u001b[39;00m events:\n",
      "File \u001b[0;32m/Library/Frameworks/Python.framework/Versions/3.10/lib/python3.10/site-packages/httpcore/_backends/sync.py:62\u001b[0m, in \u001b[0;36mSyncSocketStream.read\u001b[0;34m(self, n, timeout)\u001b[0m\n\u001b[1;32m     60\u001b[0m \u001b[39mwith\u001b[39;00m map_exceptions(exc_map):\n\u001b[1;32m     61\u001b[0m     \u001b[39mself\u001b[39m\u001b[39m.\u001b[39msock\u001b[39m.\u001b[39msettimeout(read_timeout)\n\u001b[0;32m---> 62\u001b[0m     \u001b[39mreturn\u001b[39;00m \u001b[39mself\u001b[39;49m\u001b[39m.\u001b[39;49msock\u001b[39m.\u001b[39;49mrecv(n)\n",
      "File \u001b[0;32m/Library/Frameworks/Python.framework/Versions/3.10/lib/python3.10/ssl.py:1259\u001b[0m, in \u001b[0;36mSSLSocket.recv\u001b[0;34m(self, buflen, flags)\u001b[0m\n\u001b[1;32m   1255\u001b[0m     \u001b[39mif\u001b[39;00m flags \u001b[39m!=\u001b[39m \u001b[39m0\u001b[39m:\n\u001b[1;32m   1256\u001b[0m         \u001b[39mraise\u001b[39;00m \u001b[39mValueError\u001b[39;00m(\n\u001b[1;32m   1257\u001b[0m             \u001b[39m\"\u001b[39m\u001b[39mnon-zero flags not allowed in calls to recv() on \u001b[39m\u001b[39m%s\u001b[39;00m\u001b[39m\"\u001b[39m \u001b[39m%\u001b[39m\n\u001b[1;32m   1258\u001b[0m             \u001b[39mself\u001b[39m\u001b[39m.\u001b[39m\u001b[39m__class__\u001b[39m)\n\u001b[0;32m-> 1259\u001b[0m     \u001b[39mreturn\u001b[39;00m \u001b[39mself\u001b[39;49m\u001b[39m.\u001b[39;49mread(buflen)\n\u001b[1;32m   1260\u001b[0m \u001b[39melse\u001b[39;00m:\n\u001b[1;32m   1261\u001b[0m     \u001b[39mreturn\u001b[39;00m \u001b[39msuper\u001b[39m()\u001b[39m.\u001b[39mrecv(buflen, flags)\n",
      "File \u001b[0;32m/Library/Frameworks/Python.framework/Versions/3.10/lib/python3.10/ssl.py:1132\u001b[0m, in \u001b[0;36mSSLSocket.read\u001b[0;34m(self, len, buffer)\u001b[0m\n\u001b[1;32m   1130\u001b[0m         \u001b[39mreturn\u001b[39;00m \u001b[39mself\u001b[39m\u001b[39m.\u001b[39m_sslobj\u001b[39m.\u001b[39mread(\u001b[39mlen\u001b[39m, buffer)\n\u001b[1;32m   1131\u001b[0m     \u001b[39melse\u001b[39;00m:\n\u001b[0;32m-> 1132\u001b[0m         \u001b[39mreturn\u001b[39;00m \u001b[39mself\u001b[39;49m\u001b[39m.\u001b[39;49m_sslobj\u001b[39m.\u001b[39;49mread(\u001b[39mlen\u001b[39;49m)\n\u001b[1;32m   1133\u001b[0m \u001b[39mexcept\u001b[39;00m SSLError \u001b[39mas\u001b[39;00m x:\n\u001b[1;32m   1134\u001b[0m     \u001b[39mif\u001b[39;00m x\u001b[39m.\u001b[39margs[\u001b[39m0\u001b[39m] \u001b[39m==\u001b[39m SSL_ERROR_EOF \u001b[39mand\u001b[39;00m \u001b[39mself\u001b[39m\u001b[39m.\u001b[39msuppress_ragged_eofs:\n",
      "\u001b[0;31mKeyboardInterrupt\u001b[0m: "
     ]
    }
   ],
   "source": [
    "#google \n",
    "translator = Translator()\n",
    "for i in range(1,10):\n",
    "    file_path_google = f'/Users/wangxuechun/Desktop/Chinese_Version_The_true_story_of_Ah_q/Chinese_version_the_true_story_of_Ah_q_chapt{i}.docx'\n",
    "\n",
    "    doc_google = Document(file_path_google)\n",
    "    paragraphs = [para.text for para in doc_google.paragraphs if para.text.strip() != \"\"]\n",
    "\n",
    "\n",
    "    df = pd.DataFrame(paragraphs, columns=['Paragraphs'])\n",
    "\n",
    "    df[f'English_Verse_chap{i}_google'] = df['Paragraphs'].apply(lambda text: translator.translate(text, src='zh-cn', dest='en').text)\n",
    "\n",
    "    df = df.drop(columns=['Paragraphs'])\n",
    "    csv_path = f'/Users/wangxuechun/unsw/thesis-repo/google_dataset/chapter_{i}_eng_version_google.csv'\n",
    "\n",
    "    df.to_csv(csv_path, index=False)\n"
   ]
  },
  {
   "cell_type": "code",
   "execution_count": 11,
   "metadata": {},
   "outputs": [],
   "source": [
    "#hsien dataset extraction\n",
    "for i in range(1,10):\n",
    "    file_path = f'/Users/wangxuechun/Desktop/Hsien_version_the_true_story_of_Ah_Q/Hsien_version_the_true_story_of_Ah_Q_chapter{i}.docx'\n",
    "\n",
    "    doc = Document(file_path)\n",
    "    paragraphs = [para.text for para in doc.paragraphs if para.text.strip() != \"\"]\n",
    "\n",
    "\n",
    "    df = pd.DataFrame(paragraphs, columns=[f'English_Verse_chap{i}_hsien'])\n",
    "\n",
    "\n",
    "    csv_path = f'/Users/wangxuechun/unsw/thesis-repo/hsien_dataset/chapter_{i}_eng_version_hsien.csv'\n",
    "\n",
    "    df.to_csv(csv_path, index=False)"
   ]
  }
 ],
 "metadata": {
  "kernelspec": {
   "display_name": "Python 3",
   "language": "python",
   "name": "python3"
  },
  "language_info": {
   "codemirror_mode": {
    "name": "ipython",
    "version": 3
   },
   "file_extension": ".py",
   "mimetype": "text/x-python",
   "name": "python",
   "nbconvert_exporter": "python",
   "pygments_lexer": "ipython3",
   "version": "3.10.5"
  }
 },
 "nbformat": 4,
 "nbformat_minor": 2
}
