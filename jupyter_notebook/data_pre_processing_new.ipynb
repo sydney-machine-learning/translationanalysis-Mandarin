{
 "cells": [
  {
   "cell_type": "code",
   "execution_count": 3,
   "metadata": {},
   "outputs": [
    {
     "name": "stdout",
     "output_type": "stream",
     "text": [
      "Collecting python-docx\n",
      "  Downloading python_docx-1.1.2-py3-none-any.whl (244 kB)\n",
      "\u001b[2K     \u001b[90m━━━━━━━━━━━━━━━━━━━━━━━━━━━━━━━━━━━━━━━\u001b[0m \u001b[32m244.3/244.3 KB\u001b[0m \u001b[31m4.9 MB/s\u001b[0m eta \u001b[36m0:00:00\u001b[0ma \u001b[36m0:00:01\u001b[0m\n",
      "\u001b[?25hRequirement already satisfied: lxml>=3.1.0 in /Library/Frameworks/Python.framework/Versions/3.10/lib/python3.10/site-packages (from python-docx) (4.9.1)\n",
      "Requirement already satisfied: typing-extensions>=4.9.0 in /Library/Frameworks/Python.framework/Versions/3.10/lib/python3.10/site-packages (from python-docx) (4.9.0)\n",
      "Installing collected packages: python-docx\n",
      "Successfully installed python-docx-1.1.2\n",
      "\u001b[33mWARNING: You are using pip version 22.0.4; however, version 24.0 is available.\n",
      "You should consider upgrading via the '/usr/local/bin/python3 -m pip install --upgrade pip' command.\u001b[0m\u001b[33m\n",
      "\u001b[0mNote: you may need to restart the kernel to use updated packages.\n"
     ]
    }
   ],
   "source": [
    "%pip install python-docx"
   ]
  },
  {
   "cell_type": "code",
   "execution_count": 1,
   "metadata": {},
   "outputs": [],
   "source": [
    "import requests\n",
    "from bs4 import BeautifulSoup\n",
    "import pandas as pd\n",
    "import PyPDF2\n",
    "from docx import Document"
   ]
  },
  {
   "cell_type": "code",
   "execution_count": 3,
   "metadata": {},
   "outputs": [],
   "source": [
    "for i in range(1,10):\n",
    "    file_path = f'/Users/wangxuechun/Desktop/Julia_Lovell_the_true_story_of_Ahq/Julia_lovell_version_chapt{i}.docx'\n",
    "\n",
    "    doc = Document(file_path)\n",
    "    paragraphs = [para.text for para in doc.paragraphs if para.text.strip() != \"\"]\n",
    "\n",
    "\n",
    "    df = pd.DataFrame(paragraphs, columns=[f'English_Verse_chap{i}_julia'])\n",
    "\n",
    "    df = df.drop(df.index[0])\n",
    "\n",
    "    csv_path = f'/Users/wangxuechun/unsw/thesis-repo/Data_set/julia_dataset/chapter_{i}_eng_version_julia.csv'\n",
    "\n",
    "    df.to_csv(csv_path, index=False)\n",
    "\n",
    "\n",
    "\n",
    "    \n",
    "\n"
   ]
  },
  {
   "cell_type": "code",
   "execution_count": 4,
   "metadata": {},
   "outputs": [],
   "source": [
    "from googletrans import Translator, LANGUAGES"
   ]
  },
  {
   "cell_type": "code",
   "execution_count": 5,
   "metadata": {},
   "outputs": [],
   "source": [
    "#google \n",
    "translator = Translator()\n",
    "for i in range(1,10):\n",
    "    file_path_google = f'/Users/wangxuechun/Desktop/Chinese_Version_The_true_story_of_Ah_q/Chinese_version_the_true_story_of_Ah_q_chapt{i}.docx'\n",
    "\n",
    "    doc_google = Document(file_path_google)\n",
    "    paragraphs = [para.text for para in doc_google.paragraphs if para.text.strip() != \"\"]\n",
    "\n",
    "\n",
    "    df = pd.DataFrame(paragraphs, columns=['Paragraphs'])\n",
    "\n",
    "    df[f'English_Verse_chap{i}_google'] = df['Paragraphs'].apply(lambda text: translator.translate(text, src='zh-cn', dest='en').text)\n",
    "\n",
    "    df = df.drop(columns=['Paragraphs'])\n",
    "    csv_path = f'/Users/wangxuechun/unsw/thesis-repo/Data_set/google_dataset/chapter_{i}_eng_version_google.csv'\n",
    "\n",
    "    df.to_csv(csv_path, index=False)\n"
   ]
  },
  {
   "cell_type": "code",
   "execution_count": 7,
   "metadata": {},
   "outputs": [],
   "source": [
    "#hsien dataset extraction\n",
    "for i in range(1,10):\n",
    "    file_path = f'/Users/wangxuechun/Desktop/Hsien_version_the_true_story_of_Ah_Q/Hsien_version_the_true_story_of_Ah_Q_chapter{i}.docx'\n",
    "\n",
    "    doc = Document(file_path)\n",
    "    paragraphs = [para.text for para in doc.paragraphs if para.text.strip() != \"\"]\n",
    "\n",
    "\n",
    "    df = pd.DataFrame(paragraphs, columns=[f'English_Verse_chap{i}_hsien'])\n",
    "\n",
    "\n",
    "    csv_path = f'/Users/wangxuechun/unsw/thesis-repo/Data_set/hsien_dataset/chapter_{i}_eng_version_hsien.csv'\n",
    "\n",
    "    df.to_csv(csv_path, index=False)"
   ]
  }
 ],
 "metadata": {
  "kernelspec": {
   "display_name": "Python 3",
   "language": "python",
   "name": "python3"
  },
  "language_info": {
   "codemirror_mode": {
    "name": "ipython",
    "version": 3
   },
   "file_extension": ".py",
   "mimetype": "text/x-python",
   "name": "python",
   "nbconvert_exporter": "python",
   "pygments_lexer": "ipython3",
   "version": "3.10.5"
  }
 },
 "nbformat": 4,
 "nbformat_minor": 2
}
