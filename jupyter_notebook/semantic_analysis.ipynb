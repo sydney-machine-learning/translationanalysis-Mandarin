{
 "cells": [
  {
   "cell_type": "code",
   "execution_count": 5,
   "metadata": {},
   "outputs": [
    {
     "name": "stdout",
     "output_type": "stream",
     "text": [
      "Requirement already satisfied: nltk in /Library/Frameworks/Python.framework/Versions/3.10/lib/python3.10/site-packages (3.8.1)\n",
      "Requirement already satisfied: tqdm in /Library/Frameworks/Python.framework/Versions/3.10/lib/python3.10/site-packages (from nltk) (4.66.1)\n",
      "Requirement already satisfied: click in /Library/Frameworks/Python.framework/Versions/3.10/lib/python3.10/site-packages (from nltk) (8.1.7)\n",
      "Requirement already satisfied: joblib in /Library/Frameworks/Python.framework/Versions/3.10/lib/python3.10/site-packages (from nltk) (1.3.2)\n",
      "Requirement already satisfied: regex>=2021.8.3 in /Library/Frameworks/Python.framework/Versions/3.10/lib/python3.10/site-packages (from nltk) (2023.12.25)\n",
      "\u001b[33mWARNING: You are using pip version 22.0.4; however, version 24.0 is available.\n",
      "You should consider upgrading via the '/usr/local/bin/python3 -m pip install --upgrade pip' command.\u001b[0m\u001b[33m\n",
      "\u001b[0mNote: you may need to restart the kernel to use updated packages.\n"
     ]
    }
   ],
   "source": [
    "#part one: compute the jaccard similarity\n",
    "#https://github.com/VipanchiKatthula/Jaccard_Cosine_Similarity/blob/master/Jaccard_and_Cosine_Similarity.ipynb\n",
    "%pip install nltk"
   ]
  },
  {
   "cell_type": "code",
   "execution_count": 1,
   "metadata": {},
   "outputs": [],
   "source": [
    "import numpy as np\n",
    "import pandas as pd"
   ]
  },
  {
   "cell_type": "code",
   "execution_count": null,
   "metadata": {},
   "outputs": [],
   "source": []
  },
  {
   "cell_type": "code",
   "execution_count": 2,
   "metadata": {},
   "outputs": [
    {
     "data": {
      "text/plain": [
       "pandas.core.frame.DataFrame"
      ]
     },
     "execution_count": 2,
     "metadata": {},
     "output_type": "execute_result"
    }
   ],
   "source": [
    "#load the file\n",
    "df_hsien = pd.read_csv('/Users/wangxuechun/unsw/UNSW-Thesis-/data_processing/chapter_4_eng_version_hsien.csv')\n",
    "df_google = pd.read_csv('/Users/wangxuechun/unsw/UNSW-Thesis-/data_processing/chapter_4_eng_version_google.csv')\n",
    "df_yiyun = pd.read_csv('/Users/wangxuechun/unsw/UNSW-Thesis-/data_processing/chapter_4_eng_version_yiyun.csv')\n",
    "df_google = df_google.drop('Unnamed: 0', axis=1)\n",
    "df_hsien.columns = ['English_Verse']\n",
    "df_yiyun.columns = ['English_Verse']\n",
    "df_google.columns = ['English_Verse']\n",
    "type(df_hsien)"
   ]
  },
  {
   "cell_type": "code",
   "execution_count": 3,
   "metadata": {},
   "outputs": [],
   "source": [
    "#convert lists of lists:\n",
    "def lists_of_lists(lists):\n",
    "    return [item for sublist in lists for item in sublist]"
   ]
  },
  {
   "cell_type": "code",
   "execution_count": 4,
   "metadata": {},
   "outputs": [],
   "source": [
    "#computation of jaccard similarities\n",
    "def jaccard_similarities(list1, list2):\n",
    "    intersections = len(set(list1).intersection(set(list2)))\n",
    "    unions = len(set(list1).union(set(list2)))\n",
    "    return (intersections/unions)*100"
   ]
  },
  {
   "cell_type": "code",
   "execution_count": 5,
   "metadata": {},
   "outputs": [
    {
     "name": "stderr",
     "output_type": "stream",
     "text": [
      "[nltk_data] Downloading package punkt to\n",
      "[nltk_data]     /Users/wangxuechun/nltk_data...\n",
      "[nltk_data]   Package punkt is already up-to-date!\n",
      "[nltk_data] Downloading package stopwords to\n",
      "[nltk_data]     /Users/wangxuechun/nltk_data...\n",
      "[nltk_data]   Package stopwords is already up-to-date!\n"
     ]
    },
    {
     "data": {
      "text/plain": [
       "True"
      ]
     },
     "execution_count": 5,
     "metadata": {},
     "output_type": "execute_result"
    }
   ],
   "source": [
    "import string\n",
    "import nltk\n",
    "from nltk.corpus import stopwords\n",
    "from nltk.tokenize import word_tokenize\n",
    "import ssl\n",
    "\n",
    "try:\n",
    "    _create_unverified_https_context = ssl._create_unverified_context\n",
    "except AttributeError:\n",
    "    pass\n",
    "else:\n",
    "    ssl._create_default_https_context = _create_unverified_https_context\n",
    "\n",
    "\n",
    "nltk.download('punkt')\n",
    "nltk.download('stopwords')\n",
    "\n",
    "\n",
    "\n"
   ]
  },
  {
   "cell_type": "code",
   "execution_count": 6,
   "metadata": {},
   "outputs": [],
   "source": [
    "#data cleaning\n",
    "def data_cleaning(text):\n",
    "    tokens = word_tokenize(text)\n",
    "    #remove the punctuation and convert all to the lower case\n",
    "    tokens = [token.lower() for token in tokens if token.isalpha()]\n",
    "    # Remove stop words\n",
    "    stop_words = set(stopwords.words('english'))\n",
    "    filtered_text = [word for word in tokens if word not in stop_words]\n",
    "    return filtered_text\n",
    "\n",
    "\n",
    "hsien_lists = df_hsien['English_Verse'].apply(data_cleaning)\n",
    "google_lists = df_google['English_Verse'].apply(data_cleaning)\n",
    "yiyun_lists = df_yiyun['English_Verse'].apply(data_cleaning)\n",
    "hsien_list = lists_of_lists(hsien_lists)\n",
    "google_list = lists_of_lists(google_lists)\n",
    "yiyun_list = lists_of_lists(yiyun_lists)"
   ]
  },
  {
   "cell_type": "code",
   "execution_count": 7,
   "metadata": {},
   "outputs": [
    {
     "name": "stdout",
     "output_type": "stream",
     "text": [
      "18.58974358974359 21.49532710280374 26.126126126126124\n"
     ]
    }
   ],
   "source": [
    "#implementation phase\n",
    "js_yg = jaccard_similarities(yiyun_list, google_list)\n",
    "js_hg = jaccard_similarities(hsien_list,google_list)\n",
    "js_hy = jaccard_similarities(hsien_list, yiyun_list)\n",
    "\n",
    "print(js_yg, js_hg, js_hy)\n",
    "\n"
   ]
  },
  {
   "cell_type": "code",
   "execution_count": 8,
   "metadata": {},
   "outputs": [],
   "source": [
    "#semantic analysis cosine similarity\n",
    "hsien_list      = ','.join(str(v) for v in hsien_list)\n",
    "google_list    = ','.join(str(v) for v in google_list)\n",
    "yiyun_list    = ','.join(str(v) for v in yiyun_list)"
   ]
  },
  {
   "cell_type": "code",
   "execution_count": 9,
   "metadata": {},
   "outputs": [
    {
     "name": "stdout",
     "output_type": "stream",
     "text": [
      "Requirement already satisfied: scikit-learn in /Library/Frameworks/Python.framework/Versions/3.10/lib/python3.10/site-packages (1.4.0)\n",
      "Requirement already satisfied: threadpoolctl>=2.0.0 in /Library/Frameworks/Python.framework/Versions/3.10/lib/python3.10/site-packages (from scikit-learn) (3.3.0)\n",
      "Requirement already satisfied: scipy>=1.6.0 in /Library/Frameworks/Python.framework/Versions/3.10/lib/python3.10/site-packages (from scikit-learn) (1.12.0)\n",
      "Requirement already satisfied: numpy<2.0,>=1.19.5 in /Library/Frameworks/Python.framework/Versions/3.10/lib/python3.10/site-packages (from scikit-learn) (1.26.1)\n",
      "Requirement already satisfied: joblib>=1.2.0 in /Library/Frameworks/Python.framework/Versions/3.10/lib/python3.10/site-packages (from scikit-learn) (1.3.2)\n",
      "\u001b[33mWARNING: You are using pip version 22.0.4; however, version 24.0 is available.\n",
      "You should consider upgrading via the '/usr/local/bin/python3 -m pip install --upgrade pip' command.\u001b[0m\u001b[33m\n",
      "\u001b[0mNote: you may need to restart the kernel to use updated packages.\n"
     ]
    }
   ],
   "source": [
    "%pip install scikit-learn"
   ]
  },
  {
   "cell_type": "code",
   "execution_count": 10,
   "metadata": {},
   "outputs": [
    {
     "name": "stdout",
     "output_type": "stream",
     "text": [
      "[[1.         0.33609327 0.50282451]\n",
      " [0.33609327 1.         0.30499986]\n",
      " [0.50282451 0.30499986 1.        ]]\n"
     ]
    }
   ],
   "source": [
    "#Calculating Cosine Similarity through TF-IDF\n",
    "\n",
    "from sklearn.feature_extraction.text import TfidfVectorizer\n",
    "from sklearn.metrics.pairwise import cosine_similarity\n",
    "\n",
    "doc = [hsien_list, yiyun_list, google_list]\n",
    "\n",
    "vectorizer = TfidfVectorizer()\n",
    "tfidf = vectorizer.fit_transform(doc)\n",
    "words = vectorizer.get_feature_names_out()\n",
    "similarity_matrix = cosine_similarity(tfidf)\n",
    "\n",
    "print(similarity_matrix)"
   ]
  },
  {
   "cell_type": "code",
   "execution_count": 11,
   "metadata": {},
   "outputs": [
    {
     "name": "stdout",
     "output_type": "stream",
     "text": [
      "Requirement already satisfied: keybert in /Library/Frameworks/Python.framework/Versions/3.10/lib/python3.10/site-packages (0.8.4)\n",
      "Requirement already satisfied: rich>=10.4.0 in /Library/Frameworks/Python.framework/Versions/3.10/lib/python3.10/site-packages (from keybert) (13.7.0)\n",
      "Requirement already satisfied: sentence-transformers>=0.3.8 in /Library/Frameworks/Python.framework/Versions/3.10/lib/python3.10/site-packages (from keybert) (2.4.0)\n",
      "Requirement already satisfied: scikit-learn>=0.22.2 in /Library/Frameworks/Python.framework/Versions/3.10/lib/python3.10/site-packages (from keybert) (1.4.0)\n",
      "Requirement already satisfied: numpy>=1.18.5 in /Library/Frameworks/Python.framework/Versions/3.10/lib/python3.10/site-packages (from keybert) (1.26.1)\n",
      "Requirement already satisfied: pygments<3.0.0,>=2.13.0 in /Library/Frameworks/Python.framework/Versions/3.10/lib/python3.10/site-packages (from rich>=10.4.0->keybert) (2.13.0)\n",
      "Requirement already satisfied: markdown-it-py>=2.2.0 in /Library/Frameworks/Python.framework/Versions/3.10/lib/python3.10/site-packages (from rich>=10.4.0->keybert) (3.0.0)\n",
      "Requirement already satisfied: threadpoolctl>=2.0.0 in /Library/Frameworks/Python.framework/Versions/3.10/lib/python3.10/site-packages (from scikit-learn>=0.22.2->keybert) (3.3.0)\n",
      "Requirement already satisfied: scipy>=1.6.0 in /Library/Frameworks/Python.framework/Versions/3.10/lib/python3.10/site-packages (from scikit-learn>=0.22.2->keybert) (1.12.0)\n",
      "Requirement already satisfied: joblib>=1.2.0 in /Library/Frameworks/Python.framework/Versions/3.10/lib/python3.10/site-packages (from scikit-learn>=0.22.2->keybert) (1.3.2)\n",
      "Requirement already satisfied: transformers<5.0.0,>=4.32.0 in /Library/Frameworks/Python.framework/Versions/3.10/lib/python3.10/site-packages (from sentence-transformers>=0.3.8->keybert) (4.37.0)\n",
      "Requirement already satisfied: torch>=1.11.0 in /Library/Frameworks/Python.framework/Versions/3.10/lib/python3.10/site-packages (from sentence-transformers>=0.3.8->keybert) (2.1.2)\n",
      "Requirement already satisfied: huggingface-hub>=0.15.1 in /Library/Frameworks/Python.framework/Versions/3.10/lib/python3.10/site-packages (from sentence-transformers>=0.3.8->keybert) (0.20.3)\n",
      "Requirement already satisfied: tqdm in /Library/Frameworks/Python.framework/Versions/3.10/lib/python3.10/site-packages (from sentence-transformers>=0.3.8->keybert) (4.66.1)\n",
      "Requirement already satisfied: Pillow in /Library/Frameworks/Python.framework/Versions/3.10/lib/python3.10/site-packages (from sentence-transformers>=0.3.8->keybert) (10.2.0)\n",
      "Requirement already satisfied: pyyaml>=5.1 in /Library/Frameworks/Python.framework/Versions/3.10/lib/python3.10/site-packages (from huggingface-hub>=0.15.1->sentence-transformers>=0.3.8->keybert) (6.0.1)\n",
      "Requirement already satisfied: typing-extensions>=3.7.4.3 in /Library/Frameworks/Python.framework/Versions/3.10/lib/python3.10/site-packages (from huggingface-hub>=0.15.1->sentence-transformers>=0.3.8->keybert) (4.9.0)\n",
      "Requirement already satisfied: requests in /Library/Frameworks/Python.framework/Versions/3.10/lib/python3.10/site-packages (from huggingface-hub>=0.15.1->sentence-transformers>=0.3.8->keybert) (2.31.0)\n",
      "Requirement already satisfied: packaging>=20.9 in /Library/Frameworks/Python.framework/Versions/3.10/lib/python3.10/site-packages (from huggingface-hub>=0.15.1->sentence-transformers>=0.3.8->keybert) (21.3)\n",
      "Requirement already satisfied: fsspec>=2023.5.0 in /Library/Frameworks/Python.framework/Versions/3.10/lib/python3.10/site-packages (from huggingface-hub>=0.15.1->sentence-transformers>=0.3.8->keybert) (2023.12.2)\n",
      "Requirement already satisfied: filelock in /Library/Frameworks/Python.framework/Versions/3.10/lib/python3.10/site-packages (from huggingface-hub>=0.15.1->sentence-transformers>=0.3.8->keybert) (3.13.1)\n",
      "Requirement already satisfied: mdurl~=0.1 in /Library/Frameworks/Python.framework/Versions/3.10/lib/python3.10/site-packages (from markdown-it-py>=2.2.0->rich>=10.4.0->keybert) (0.1.2)\n",
      "Requirement already satisfied: jinja2 in /Library/Frameworks/Python.framework/Versions/3.10/lib/python3.10/site-packages (from torch>=1.11.0->sentence-transformers>=0.3.8->keybert) (3.1.2)\n",
      "Requirement already satisfied: networkx in /Library/Frameworks/Python.framework/Versions/3.10/lib/python3.10/site-packages (from torch>=1.11.0->sentence-transformers>=0.3.8->keybert) (3.2.1)\n",
      "Requirement already satisfied: sympy in /Library/Frameworks/Python.framework/Versions/3.10/lib/python3.10/site-packages (from torch>=1.11.0->sentence-transformers>=0.3.8->keybert) (1.12)\n",
      "Requirement already satisfied: tokenizers<0.19,>=0.14 in /Library/Frameworks/Python.framework/Versions/3.10/lib/python3.10/site-packages (from transformers<5.0.0,>=4.32.0->sentence-transformers>=0.3.8->keybert) (0.15.1)\n",
      "Requirement already satisfied: regex!=2019.12.17 in /Library/Frameworks/Python.framework/Versions/3.10/lib/python3.10/site-packages (from transformers<5.0.0,>=4.32.0->sentence-transformers>=0.3.8->keybert) (2023.12.25)\n",
      "Requirement already satisfied: safetensors>=0.3.1 in /Library/Frameworks/Python.framework/Versions/3.10/lib/python3.10/site-packages (from transformers<5.0.0,>=4.32.0->sentence-transformers>=0.3.8->keybert) (0.4.2)\n",
      "Requirement already satisfied: pyparsing!=3.0.5,>=2.0.2 in /Library/Frameworks/Python.framework/Versions/3.10/lib/python3.10/site-packages (from packaging>=20.9->huggingface-hub>=0.15.1->sentence-transformers>=0.3.8->keybert) (3.0.9)\n",
      "Requirement already satisfied: MarkupSafe>=2.0 in /Library/Frameworks/Python.framework/Versions/3.10/lib/python3.10/site-packages (from jinja2->torch>=1.11.0->sentence-transformers>=0.3.8->keybert) (2.1.1)\n",
      "Requirement already satisfied: certifi>=2017.4.17 in /Library/Frameworks/Python.framework/Versions/3.10/lib/python3.10/site-packages (from requests->huggingface-hub>=0.15.1->sentence-transformers>=0.3.8->keybert) (2023.7.22)\n",
      "Requirement already satisfied: idna<4,>=2.5 in /Library/Frameworks/Python.framework/Versions/3.10/lib/python3.10/site-packages (from requests->huggingface-hub>=0.15.1->sentence-transformers>=0.3.8->keybert) (2.10)\n",
      "Requirement already satisfied: charset-normalizer<4,>=2 in /Library/Frameworks/Python.framework/Versions/3.10/lib/python3.10/site-packages (from requests->huggingface-hub>=0.15.1->sentence-transformers>=0.3.8->keybert) (3.3.2)\n",
      "Requirement already satisfied: urllib3<3,>=1.21.1 in /Library/Frameworks/Python.framework/Versions/3.10/lib/python3.10/site-packages (from requests->huggingface-hub>=0.15.1->sentence-transformers>=0.3.8->keybert) (2.1.0)\n",
      "Requirement already satisfied: mpmath>=0.19 in /Library/Frameworks/Python.framework/Versions/3.10/lib/python3.10/site-packages (from sympy->torch>=1.11.0->sentence-transformers>=0.3.8->keybert) (1.3.0)\n",
      "\u001b[33mWARNING: You are using pip version 22.0.4; however, version 24.0 is available.\n",
      "You should consider upgrading via the '/usr/local/bin/python3 -m pip install --upgrade pip' command.\u001b[0m\u001b[33m\n",
      "\u001b[0mNote: you may need to restart the kernel to use updated packages.\n"
     ]
    }
   ],
   "source": [
    "#Keybert - extract keyword\n",
    "%pip install keybert"
   ]
  },
  {
   "cell_type": "code",
   "execution_count": 11,
   "metadata": {},
   "outputs": [],
   "source": [
    "from keybert import KeyBERT\n",
    "km_model = KeyBERT()"
   ]
  },
  {
   "cell_type": "code",
   "execution_count": 12,
   "metadata": {},
   "outputs": [
    {
     "name": "stdout",
     "output_type": "stream",
     "text": [
      "[[('victory', 0.3793), ('victors', 0.3656), ('surrendered', 0.351), ('triumph', 0.3256), ('rival', 0.3121)], [('fly', 0.4497), ('light', 0.4108), ('elated', 0.2952), ('look', 0.2642), ('ah', 0.1349)], [('nun', 0.4271), ('snored', 0.4183), ('flew', 0.3269), ('finger', 0.2598), ('victory', 0.256)], [('sonless', 0.5798), ('die', 0.2846), ('ah', 0.0955)], [('sonless', 0.2803), ('teachings', 0.2527), ('wife', 0.2264), ('ought', 0.211), ('descendants', 0.206)], [('monk', 0.3812), ('woman', 0.3592), ('paws', 0.3521), ('thought', 0.1073)], [('fingers', 0.2895), ('asleep', 0.2687), ('soft', 0.2443), ('thinking', 0.1925), ('evening', 0.1869)], [('woman', 0.5084), ('menace', 0.4291), ('mankind', 0.3863)], [('shang', 0.4679), ('chinese', 0.3642), ('chan', 0.341), ('cho', 0.3034), ('chin', 0.2992)], [('nuns', 0.4837), ('monks', 0.4243), ('heretics', 0.4008), ('nun', 0.3944), ('morals', 0.3576)], [('nun', 0.5241), ('odiousness', 0.3115), ('headedness', 0.2718), ('woman', 0.2481), ('hateful', 0.2231)], [('woman', 0.5164), ('thought', 0.2514), ('ah', 0.1772)], [('ahl', 0.3862), ('seduce', 0.3473), ('modesty', 0.3339), ('rendezvous', 0.2792), ('odiousness', 0.2486)], [('lamp', 0.3961), ('kitchen', 0.3396), ('light', 0.3245), ('chao', 0.3135), ('rice', 0.2888)], [('chao', 0.4336), ('maidservant', 0.4256), ('amah', 0.4171), ('wu', 0.3607), ('dishes', 0.3343)], [('mistress', 0.5923), ('concubine', 0.5808), ('eaten', 0.3149), ('master', 0.2554), ('hasn', 0.2462)], [('widow', 0.4822), ('amah', 0.3605), ('wu', 0.3338), ('woman', 0.3248), ('little', 0.2036)], [('mistress', 0.5244), ('moon', 0.5012), ('eighth', 0.3147), ('baby', 0.2327), ('young', 0.1943)], [('woman', 0.5133), ('thought', 0.2336), ('ah', 0.1881)], [('stood', 0.5793), ('pipe', 0.504)], [('mistress', 0.4826), ('wu', 0.432), ('amah', 0.431), ('chattered', 0.2638), ('young', 0.2026)], [('rushed', 0.2957), ('sleep', 0.2549), ('suddenly', 0.2062), ('feet', 0.1483), ('forward', 0.1363)], [('silence', 0.6223), ('moment', 0.4166), ('absolute', 0.3557)], [('amah', 0.4273), ('wu', 0.3986), ('ai', 0.3642), ('shrieking', 0.2867), ('sobbing', 0.2689)], [('stood', 0.3623), ('bang', 0.3544), ('kneeling', 0.3302), ('rice', 0.3103), ('bench', 0.3014)], [('dare', 0.4999)], [('bamboo', 0.3451), ('hands', 0.2894), ('pole', 0.2847), ('head', 0.2834), ('shoulders', 0.2825)], [('turtle', 0.4409), ('candidate', 0.3666), ('egg', 0.3659), ('mandarin', 0.3622), ('shouted', 0.3039)], [('weichuang', 0.3475), ('fled', 0.2745), ('grinding', 0.2661), ('grind', 0.258), ('rice', 0.2415)], [('chao', 0.579), ('chen', 0.2848), ('yen', 0.2822), ('tsou', 0.2636), ('mistress', 0.249)], [('mistress', 0.4343), ('wu', 0.3619), ('amah', 0.333), ('servants', 0.3071), ('quarters', 0.1863)], [('brooding', 0.4965), ('room', 0.3141), ('outside', 0.2652), ('stay', 0.1645), ('come', 0.1253)], [('tsou', 0.3876), ('suicide', 0.3656), ('mrs', 0.327), ('woman', 0.2442), ('mustn', 0.1296)], [('muttering', 0.4644), ('wu', 0.4621), ('inaudible', 0.4596), ('wailed', 0.4578), ('amah', 0.3902)], [('chao', 0.4695), ('chen', 0.3648), ('mischief', 0.3594), ('szu', 0.3549), ('bamboo', 0.3278)], [('bailiff', 0.4273), ('cold', 0.323), ('skin', 0.2686), ('goose', 0.2565), ('felt', 0.2536)], [('bailiff', 0.4833), ('chao', 0.4305), ('servants', 0.4019), ('rebel', 0.2614), ('family', 0.1872)], [('curse', 0.4629), ('sleep', 0.4237), ('ve', 0.3374), ('lose', 0.306)], [('bailiff', 0.4782), ('cash', 0.3135), ('abuse', 0.3113), ('pay', 0.2936), ('hat', 0.2588)], [('incense', 0.4833), ('candles', 0.4769), ('chao', 0.3227), ('red', 0.2842), ('weighing', 0.2434)], [('taoist', 0.4431), ('chao', 0.4022), ('priests', 0.3632), ('spirits', 0.317), ('pay', 0.2391)], [('chao', 0.5095), ('household', 0.3215), ('foot', 0.2734), ('ah', 0.1801), ('set', 0.114)], [('wu', 0.5264), ('amah', 0.3905), ('responsible', 0.3017), ('happen', 0.2009), ('ah', 0.1835)], [('wages', 0.4321), ('shirt', 0.3625), ('ah', 0.1916)], [('chao', 0.3744), ('candles', 0.3544), ('incense', 0.3481), ('tattered', 0.342), ('diapers', 0.2413)]]\n"
     ]
    }
   ],
   "source": [
    "#extract keyword from chapter 4\n",
    "df_hsien_texts = df_hsien['English_Verse'].tolist()\n",
    "df_yiyun_texts = df_yiyun['English_Verse'].tolist()\n",
    "df_google_texts = df_google['English_Verse'].tolist()\n",
    "keywords = []\n",
    "for text in df_hsien_texts:\n",
    "    extracted_keywords = km_model.extract_keywords(text, keyphrase_ngram_range=(1, 1), stop_words='english')\n",
    "    keywords.append(extracted_keywords)\n",
    "print(keywords)\n"
   ]
  },
  {
   "cell_type": "code",
   "execution_count": 13,
   "metadata": {},
   "outputs": [
    {
     "name": "stdout",
     "output_type": "stream",
     "text": [
      "[[('victory', 0.4794), ('proud', 0.4192), ('winners', 0.3988), ('crowned', 0.395), ('overcome', 0.3263)], [('flying', 0.5399), ('seeing', 0.3646)], [('finger', 0.4655), ('fingers', 0.454), ('thumb', 0.4208), ('slippery', 0.3892), ('snore', 0.3022)], [('grandson', 0.4907), ('broken', 0.3516), ('son', 0.3399)], [('piety', 0.265), ('thoughts', 0.2628), ('sentence', 0.2609), ('filial', 0.2461), ('ghost', 0.2451)], [('women', 0.4972), ('thought', 0.2537)], [('monk', 0.4618), ('woman', 0.302), ('women', 0.2894), ('moves', 0.2582), ('thought', 0.1071)], [('snoring', 0.4943), ('female', 0.2953), ('slippery', 0.2796), ('fingers', 0.2515), ('fluttered', 0.2459)], [('harmful', 0.4741), ('women', 0.3903), ('know', 0.2221)], [('zhou', 0.4953), ('shang', 0.4864), ('zhuo', 0.451), ('qin', 0.4264), ('chinese', 0.3541)], [('fanny', 0.3132), ('doctrine', 0.2472), ('monk', 0.2443), ('righteousness', 0.2433), ('nun', 0.2407)], [('nun', 0.503), ('nuns', 0.4482), ('heresy', 0.3106), ('fluttering', 0.3061), ('stunned', 0.2534)], [('female', 0.5485), ('thought', 0.1815), ('ah', 0.1641)], [('yi', 0.4608), ('iraqi', 0.3047), ('laugh', 0.2743), ('seduce', 0.2595), ('pretend', 0.1918)], [('lamp', 0.437), ('rice', 0.4), ('zhao', 0.379), ('light', 0.3715), ('taiye', 0.3484)], [('zhao', 0.4928), ('maid', 0.4625), ('taiye', 0.4534), ('wu', 0.4465), ('ma', 0.323)], [('wife', 0.3641), ('eat', 0.3237), ('small', 0.2949), ('master', 0.2776), ('days', 0.2339)], [('lonely', 0.424), ('wu', 0.3833), ('woman', 0.3743), ('little', 0.3286), ('ma', 0.3184)], [('grandma', 0.5295), ('august', 0.4271), ('children', 0.3133), ('young', 0.2251), ('going', 0.1858)], [('woman', 0.5123), ('thought', 0.251), ('ah', 0.1749)], [('cigarette', 0.5194), ('stood', 0.4553), ('pipe', 0.3779)], [('grandma', 0.5556), ('wu', 0.4447), ('ma', 0.3833), ('said', 0.2245), ('young', 0.2039)], [('yi', 0.4833), ('sleepy', 0.3945), ('kneeled', 0.2832), ('rushed', 0.2569), ('suddenly', 0.2474)], [('silent', 0.7223), ('moment', 0.3068)], [('yelled', 0.4172), ('shouting', 0.4096), ('trembled', 0.3833), ('shook', 0.3657), ('wu', 0.3592)], [('stood', 0.3985), ('chunmi', 0.3813), ('froze', 0.3079), ('bench', 0.2991), ('bar', 0.28)], [('reversed', 0.6043)], [('hitting', 0.338), ('bamboo', 0.3202), ('shooting', 0.2777), ('bar', 0.2765), ('door', 0.2681)], [('xiucai', 0.5227), ('eggs', 0.444), ('forgot', 0.2512), ('story', 0.2354), ('scolded', 0.206)], [('chunmi', 0.4497), ('weizhuang', 0.4396), ('rice', 0.3657), ('eggs', 0.3641), ('fingerache', 0.3065)], [('xunxun', 0.621), ('xun', 0.5395), ('taiye', 0.4887), ('zhao', 0.4778), ('courtyard', 0.2949)], [('wu', 0.4445), ('grandmother', 0.4429), ('mother', 0.3383), ('dragging', 0.3183), ('walked', 0.2268)], [('hide', 0.3726), ('outside', 0.3154), ('room', 0.3096), ('think', 0.2019), ('don', 0.1751)], [('shortcomings', 0.3819), ('zou', 0.3606), ('qiyi', 0.3363), ('said', 0.1907), ('doesn', 0.1249)], [('cried', 0.4921), ('wu', 0.425), ('words', 0.3395), ('clamped', 0.3023), ('hear', 0.2764)], [('zhao', 0.5186), ('chunmi', 0.3727), ('bamboo', 0.2938), ('walked', 0.2889), ('saw', 0.278)], [('zhao', 0.4813), ('bamboo', 0.3795), ('cold', 0.3467), ('shirtless', 0.317), ('cloth', 0.297)], [('zhao', 0.5326), ('rebellion', 0.3559), ('mother', 0.3077), ('night', 0.2766), ('sleep', 0.2369)], [('wines', 0.4409), ('yunyun', 0.4285), ('mortgaged', 0.2608), ('pay', 0.2529), ('lesson', 0.213)], [('candle', 0.5161), ('pound', 0.3822), ('zhao', 0.3818), ('fragrant', 0.38), ('weight', 0.3516)], [('zhao', 0.4076), ('taoist', 0.3929), ('ghosts', 0.3378), ('mansion', 0.316), ('priest', 0.285)], [('san', 0.2857), ('zhao', 0.2806), ('threshold', 0.1659), ('house', 0.136), ('step', 0.1085)], [('wu', 0.56), ('moms', 0.3305), ('asked', 0.2133), ('followed', 0.1829), ('ah', 0.1334)], [('wu', 0.3749), ('shirts', 0.3711), ('cloth', 0.3487), ('workers', 0.291), ('ask', 0.217)], [('zhao', 0.3781), ('shirtless', 0.3571), ('cloth', 0.3444), ('quilt', 0.3252), ('shirt', 0.3243)]]\n"
     ]
    }
   ],
   "source": [
    "keywords_google = []\n",
    "for text in df_google_texts:\n",
    "    extracted_keywords = km_model.extract_keywords(text, keyphrase_ngram_range=(1, 1), stop_words='english')\n",
    "    keywords_google.append(extracted_keywords)\n",
    "print(keywords_google)\n"
   ]
  },
  {
   "cell_type": "code",
   "execution_count": 13,
   "metadata": {},
   "outputs": [
    {
     "name": "stdout",
     "output_type": "stream",
     "text": [
      "[[('victory', 0.4304), ('overcoming', 0.3769), ('conquest', 0.3725), ('superiority', 0.3711), ('slain', 0.3658)], [('snoring', 0.4942), ('nun', 0.4415), ('forefinger', 0.3588), ('thumb', 0.297), ('lain', 0.2796)], [('descendants', 0.4364), ('scripture', 0.4183), ('ancient', 0.3109), ('grave', 0.2777), ('dying', 0.2596)], [('woman', 0.4018), ('thought', 0.204)], [('goose', 0.5018), ('sauce', 0.3668), ('woman', 0.2876), ('thought', 0.1582)], [('snoring', 0.5754), ('asleep', 0.275), ('evening', 0.1403), ('fingertips', 0.1308), ('fell', 0.11)], [('women', 0.4279), ('evil', 0.4067), ('proof', 0.3494), ('irrefutable', 0.3482), ('root', 0.2002)], [('shang', 0.4352), ('zhou', 0.4243), ('zhuo', 0.363), ('qin', 0.3449), ('concubine', 0.3319)], [('nuns', 0.3534), ('heretics', 0.338), ('monks', 0.3303), ('nun', 0.3022), ('ordained', 0.2503)], [('confucius', 0.4579), ('nun', 0.452), ('confucian', 0.3608), ('veiled', 0.3391), ('bewitchingly', 0.3144)], [('woman', 0.5064), ('thinking', 0.38), ('ah', 0.2087), ('went', 0.1023)], [('seduce', 0.3213), ('men', 0.2769), ('women', 0.2768), ('suspected', 0.259), ('hypocrites', 0.2456)], [('lamps', 0.4415), ('lamp', 0.4302), ('zhao', 0.3508), ('husking', 0.3296), ('zhaos', 0.3185)], [('maid', 0.4349), ('dishes', 0.3991), ('zhaos', 0.3964), ('wu', 0.3345), ('mrs', 0.3154)], [('mistress', 0.6221), ('concubine', 0.6154), ('eaten', 0.3214), ('master', 0.2697), ('hasn', 0.2248)], [('widow', 0.5414), ('mrs', 0.4925), ('wu', 0.4704), ('woman', 0.4153), ('young', 0.2359)], [('mistress', 0.6005), ('month', 0.3614), ('baby', 0.3088), ('eighth', 0.2932), ('young', 0.2626)], [('woman', 0.7029)], [('stood', 0.5174), ('pipe', 0.4993), ('ah', 0.2065)], [('wu', 0.5074), ('chattered', 0.5071)], [('rushed', 0.3269), ('sleep', 0.2769), ('suddenly', 0.2397), ('knees', 0.1711), ('ah', 0.1549)], [('shuddering', 0.4346), ('screams', 0.4113), ('stunned', 0.3505), ('silence', 0.3156), ('moment', 0.2151)], [('zhaos', 0.3791), ('bamboo', 0.3129), ('landed', 0.2753), ('village', 0.2692), ('discovered', 0.2626)], [('little', 0.5393), ('filthy', 0.4958)], [('bamboo', 0.4126), ('strike', 0.3457), ('kitchen', 0.3032), ('hands', 0.3014), ('pain', 0.2739)], [('letters', 0.3907), ('bastard', 0.3563), ('invective', 0.3397), ('honoured', 0.2868), ('scholarly', 0.2777)], [('weizhuang', 0.4967), ('husking', 0.4093), ('stinging', 0.3549), ('bamboo', 0.3043), ('fingers', 0.2843)], [('zhao', 0.512), ('house', 0.3305), ('zou', 0.3033), ('courtyard', 0.2679), ('apartments', 0.2506)], [('zhao', 0.4667), ('wu', 0.4071), ('servants', 0.365), ('mrs', 0.3232), ('daughter', 0.2221)], [('zou', 0.4598), ('killing', 0.3606), ('thinks', 0.2988), ('think', 0.2984), ('worse', 0.2825)], [('wu', 0.4704), ('mrs', 0.3828), ('sobs', 0.3513), ('incoherent', 0.2823), ('response', 0.2449)], [('zhao', 0.4691), ('rum', 0.4639), ('bamboo', 0.3819), ('temple', 0.2433), ('stick', 0.2367)], [('zhaos', 0.4057), ('bamboo', 0.3492), ('prickling', 0.295), ('village', 0.2731), ('chested', 0.2656)], [('zhaos', 0.5179), ('servants', 0.3573), ('slept', 0.3385), ('wink', 0.2935), ('mess', 0.2331)], [('constable', 0.407), ('cash', 0.3313), ('mortgaged', 0.2507), ('rate', 0.2459), ('tip', 0.2441)], [('candles', 0.5742), ('incense', 0.46), ('zhaos', 0.4292), ('red', 0.352), ('pound', 0.3286)], [('zhaos', 0.4199), ('spirits', 0.3868), ('priest', 0.3682), ('daoist', 0.3626), ('costs', 0.3236)], [('zhaos', 0.5216), ('foot', 0.43), ('threshold', 0.3707), ('set', 0.2243)], [('wu', 0.4431), ('responsible', 0.3806), ('accident', 0.3509), ('mrs', 0.3108), ('unforeseen', 0.175)], [('shirt', 0.42), ('wages', 0.3962), ('abandon', 0.3066), ('hope', 0.2588), ('recovering', 0.2211)], [('wu', 0.3307), ('zhaos', 0.3306), ('tattered', 0.3096), ('cotton', 0.2981), ('candles', 0.2782)]]\n"
     ]
    }
   ],
   "source": [
    "keywords_yiyun = []\n",
    "for text in df_yiyun_texts:\n",
    "    extracted_keywords = km_model.extract_keywords(text, keyphrase_ngram_range=(1, 1), stop_words='english')\n",
    "    keywords_yiyun.append(extracted_keywords)\n",
    "print(keywords_yiyun)\n"
   ]
  },
  {
   "cell_type": "code",
   "execution_count": 21,
   "metadata": {},
   "outputs": [
    {
     "data": {
      "text/html": [
       "<div>\n",
       "<style scoped>\n",
       "    .dataframe tbody tr th:only-of-type {\n",
       "        vertical-align: middle;\n",
       "    }\n",
       "\n",
       "    .dataframe tbody tr th {\n",
       "        vertical-align: top;\n",
       "    }\n",
       "\n",
       "    .dataframe thead th {\n",
       "        text-align: right;\n",
       "    }\n",
       "</style>\n",
       "<table border=\"1\" class=\"dataframe\">\n",
       "  <thead>\n",
       "    <tr style=\"text-align: right;\">\n",
       "      <th></th>\n",
       "      <th>English_Verse</th>\n",
       "    </tr>\n",
       "  </thead>\n",
       "  <tbody>\n",
       "    <tr>\n",
       "      <th>0</th>\n",
       "      <td>There are, it is said, some victors who deligh...</td>\n",
       "    </tr>\n",
       "    <tr>\n",
       "      <th>1</th>\n",
       "      <td>See him now: walking on air after a busy day o...</td>\n",
       "    </tr>\n",
       "    <tr>\n",
       "      <th>2</th>\n",
       "      <td>‘May you die without descendants!’ echoed in t...</td>\n",
       "    </tr>\n",
       "    <tr>\n",
       "      <th>3</th>\n",
       "      <td>‘Woman...’ he thought. ‘Must... find... woman...</td>\n",
       "    </tr>\n",
       "    <tr>\n",
       "      <th>4</th>\n",
       "      <td>‘Sauce for the goose...’ he thought some more,...</td>\n",
       "    </tr>\n",
       "    <tr>\n",
       "      <th>...</th>\n",
       "      <td>...</td>\n",
       "    </tr>\n",
       "    <tr>\n",
       "      <th>63</th>\n",
       "      <td>‘What’s that under there, then?’ The old nun i...</td>\n",
       "    </tr>\n",
       "    <tr>\n",
       "      <th>64</th>\n",
       "      <td>‘Reckon they’re yours, do you? Do they answer ...</td>\n",
       "    </tr>\n",
       "    <tr>\n",
       "      <th>65</th>\n",
       "      <td>Ah-Q broke into a run, pursued by a sizeable b...</td>\n",
       "    </tr>\n",
       "    <tr>\n",
       "      <th>66</th>\n",
       "      <td>Afraid the dog might be set loose on him, Ah-Q...</td>\n",
       "    </tr>\n",
       "    <tr>\n",
       "      <th>67</th>\n",
       "      <td>In the time it took to eat three turnips, his ...</td>\n",
       "    </tr>\n",
       "  </tbody>\n",
       "</table>\n",
       "<p>68 rows × 1 columns</p>\n",
       "</div>"
      ],
      "text/plain": [
       "                                        English_Verse\n",
       "0   There are, it is said, some victors who deligh...\n",
       "1   See him now: walking on air after a busy day o...\n",
       "2   ‘May you die without descendants!’ echoed in t...\n",
       "3    ‘Woman...’ he thought. ‘Must... find... woman...\n",
       "4   ‘Sauce for the goose...’ he thought some more,...\n",
       "..                                                ...\n",
       "63  ‘What’s that under there, then?’ The old nun i...\n",
       "64  ‘Reckon they’re yours, do you? Do they answer ...\n",
       "65  Ah-Q broke into a run, pursued by a sizeable b...\n",
       "66  Afraid the dog might be set loose on him, Ah-Q...\n",
       "67  In the time it took to eat three turnips, his ...\n",
       "\n",
       "[68 rows x 1 columns]"
      ]
     },
     "execution_count": 21,
     "metadata": {},
     "output_type": "execute_result"
    }
   ],
   "source": [
    "df_yiyun_chap5 = pd.read_csv('/Users/wangxuechun/unsw/UNSW-Thesis-/data_processing/chapter_5_eng_version_yiyun.csv')\n",
    "df_yiyun_chap5.rename(columns={'English_Verse_chap5_yiyun': 'English_Verse'}, inplace=True)\n",
    "df_yiyun_all = pd.concat([df_yiyun, df_yiyun_chap5], ignore_index=True)\n",
    "df_yiyun_all"
   ]
  },
  {
   "cell_type": "code",
   "execution_count": 26,
   "metadata": {},
   "outputs": [
    {
     "name": "stderr",
     "output_type": "stream",
     "text": [
      "huggingface/tokenizers: The current process just got forked, after parallelism has already been used. Disabling parallelism to avoid deadlocks...\n",
      "To disable this warning, you can either:\n",
      "\t- Avoid using `tokenizers` before the fork if possible\n",
      "\t- Explicitly set the environment variable TOKENIZERS_PARALLELISM=(true | false)\n"
     ]
    },
    {
     "name": "stdout",
     "output_type": "stream",
     "text": [
      "Collecting gensim\n",
      "  Downloading gensim-4.3.2-cp310-cp310-macosx_11_0_arm64.whl (24.0 MB)\n",
      "\u001b[2K     \u001b[90m━━━━━━━━━━━━━━━━━━━━━━━━━━━━━━━━━━━━━━━━\u001b[0m \u001b[32m24.0/24.0 MB\u001b[0m \u001b[31m6.6 MB/s\u001b[0m eta \u001b[36m0:00:00\u001b[0m00:01\u001b[0m00:01\u001b[0m\n",
      "\u001b[?25hCollecting smart-open>=1.8.1\n",
      "  Downloading smart_open-7.0.4-py3-none-any.whl (61 kB)\n",
      "\u001b[2K     \u001b[90m━━━━━━━━━━━━━━━━━━━━━━━━━━━━━━━━━━━━━━━━\u001b[0m \u001b[32m61.2/61.2 KB\u001b[0m \u001b[31m4.8 MB/s\u001b[0m eta \u001b[36m0:00:00\u001b[0m\n",
      "\u001b[?25hRequirement already satisfied: scipy>=1.7.0 in /Library/Frameworks/Python.framework/Versions/3.10/lib/python3.10/site-packages (from gensim) (1.12.0)\n",
      "Requirement already satisfied: numpy>=1.18.5 in /Library/Frameworks/Python.framework/Versions/3.10/lib/python3.10/site-packages (from gensim) (1.26.1)\n",
      "Requirement already satisfied: wrapt in /Library/Frameworks/Python.framework/Versions/3.10/lib/python3.10/site-packages (from smart-open>=1.8.1->gensim) (1.14.1)\n",
      "Installing collected packages: smart-open, gensim\n",
      "Successfully installed gensim-4.3.2 smart-open-7.0.4\n",
      "\u001b[33mWARNING: You are using pip version 22.0.4; however, version 24.0 is available.\n",
      "You should consider upgrading via the '/usr/local/bin/python3 -m pip install --upgrade pip' command.\u001b[0m\u001b[33m\n",
      "\u001b[0mNote: you may need to restart the kernel to use updated packages.\n"
     ]
    }
   ],
   "source": [
    "%pip install gensim\n"
   ]
  },
  {
   "cell_type": "code",
   "execution_count": 34,
   "metadata": {},
   "outputs": [],
   "source": [
    "import gensim\n",
    "from gensim.utils import simple_preprocess"
   ]
  },
  {
   "cell_type": "code",
   "execution_count": 49,
   "metadata": {},
   "outputs": [],
   "source": [
    "from gensim.utils import simple_preprocess\n",
    "stop_words = stopwords.words('english')\n",
    "newStopWords = [\"ah\", \"q\", \"i\"]\n",
    "stop_words.extend(newStopWords)\n",
    "\n",
    "def remove_stopwords(tweets):\n",
    "    return [[word for word in gensim.utils.simple_preprocess(str(tweet)) if word not in stop_words] for tweet in tweets]\n",
    "\n",
    "def tokenize(tweet):\n",
    "    for word in tweet:\n",
    "        yield(gensim.utils.simple_preprocess(str(word), deacc=True))\n",
    "\n",
    "\n",
    "def preprocessing(df):\n",
    "\n",
    "  df['English_Verse'] = df['English_Verse'].str.lower()                                                      # Convert to lowercase\n",
    "  df['English_Verse'] = df['English_Verse'].str.replace(\"[^a-zA-Z#]\", \" \")                                   # Remove punctuations\n",
    "  df['English_Verse'] = df['English_Verse'].apply(lambda x:' '.join([w for w in x.split() if len(w)>3]))     # Remove short words\n",
    "  df['Tweet tokens'] = list(tokenize(df['English_Verse']))\n",
    "  df['tokens_no_stop'] = remove_stopwords(df['English_Verse'])\n",
    "  df['tokens_no_stop_joined'] = df['English_Verse'].apply(lambda x: ' '.join([word for word in x.split(' ') if word not in stop_words]))\n",
    "  return df\n",
    "\n",
    "def retrieve_text(df):\n",
    "  doc = '. '.join(df['tokens_no_stop_joined'])\n",
    "  return doc\n",
    "\n",
    "def ngrams_series_func(data, n):\n",
    "  \n",
    "  wordList = re.sub(\"[^\\w]\", \" \",  data).split()\n",
    "  ngrams_series = (pd.Series(nltk.ngrams(wordList, n)).value_counts())[:10]\n",
    "  return ngrams_series\n",
    "     "
   ]
  },
  {
   "cell_type": "code",
   "execution_count": 50,
   "metadata": {},
   "outputs": [
    {
     "data": {
      "text/html": [
       "<div>\n",
       "<style scoped>\n",
       "    .dataframe tbody tr th:only-of-type {\n",
       "        vertical-align: middle;\n",
       "    }\n",
       "\n",
       "    .dataframe tbody tr th {\n",
       "        vertical-align: top;\n",
       "    }\n",
       "\n",
       "    .dataframe thead th {\n",
       "        text-align: right;\n",
       "    }\n",
       "</style>\n",
       "<table border=\"1\" class=\"dataframe\">\n",
       "  <thead>\n",
       "    <tr style=\"text-align: right;\">\n",
       "      <th></th>\n",
       "      <th>English_Verse</th>\n",
       "      <th>Tweet tokens</th>\n",
       "      <th>tokens_no_stop</th>\n",
       "      <th>tokens_no_stop_joined</th>\n",
       "    </tr>\n",
       "  </thead>\n",
       "  <tbody>\n",
       "    <tr>\n",
       "      <th>0</th>\n",
       "      <td>there are, said, some victors delight only vic...</td>\n",
       "      <td>[there, are, said, some, victors, delight, onl...</td>\n",
       "      <td>[said, victors, delight, victory, worthy, adve...</td>\n",
       "      <td>are, said, victors delight victory worthy adve...</td>\n",
       "    </tr>\n",
       "    <tr>\n",
       "      <th>1</th>\n",
       "      <td>now: walking after busy moral victory! this la...</td>\n",
       "      <td>[now, walking, after, busy, moral, victory, th...</td>\n",
       "      <td>[walking, busy, moral, victory, latest, victor...</td>\n",
       "      <td>now: walking busy moral victory! latest victor...</td>\n",
       "    </tr>\n",
       "    <tr>\n",
       "      <th>2</th>\n",
       "      <td>‘may without descendants!’ echoed cathedral ah...</td>\n",
       "      <td>[may, without, descendants, echoed, cathedral,...</td>\n",
       "      <td>[may, without, descendants, echoed, cathedral,...</td>\n",
       "      <td>‘may without descendants!’ echoed cathedral ah...</td>\n",
       "    </tr>\n",
       "    <tr>\n",
       "      <th>3</th>\n",
       "      <td>‘woman...’ thought. ‘must... find... woman...</td>\n",
       "      <td>[woman, thought, must, find, woman]</td>\n",
       "      <td>[woman, thought, must, find, woman]</td>\n",
       "      <td>‘woman...’ thought. ‘must... find... woman...</td>\n",
       "    </tr>\n",
       "    <tr>\n",
       "      <th>4</th>\n",
       "      <td>‘sauce goose...’ thought some more, ‘... must....</td>\n",
       "      <td>[sauce, goose, thought, some, more, must, find...</td>\n",
       "      <td>[sauce, goose, thought, must, find, woman]</td>\n",
       "      <td>‘sauce goose...’ thought more, ‘... must... fi...</td>\n",
       "    </tr>\n",
       "    <tr>\n",
       "      <th>...</th>\n",
       "      <td>...</td>\n",
       "      <td>...</td>\n",
       "      <td>...</td>\n",
       "      <td>...</td>\n",
       "    </tr>\n",
       "    <tr>\n",
       "      <th>63</th>\n",
       "      <td>‘what’s that under there, then?’ indicated pro...</td>\n",
       "      <td>[what, that, under, there, then, indicated, pr...</td>\n",
       "      <td>[indicated, protuberance, beneath, jacket]</td>\n",
       "      <td>‘what’s there, then?’ indicated protuberance b...</td>\n",
       "    </tr>\n",
       "    <tr>\n",
       "      <th>64</th>\n",
       "      <td>‘reckon they’re yours, you? they answer call t...</td>\n",
       "      <td>[reckon, they, re, yours, you, they, answer, c...</td>\n",
       "      <td>[reckon, answer, call]</td>\n",
       "      <td>‘reckon they’re yours, you? answer call them? ...</td>\n",
       "    </tr>\n",
       "    <tr>\n",
       "      <th>65</th>\n",
       "      <td>ah-q broke into run, pursued sizeable black us...</td>\n",
       "      <td>[ah, broke, into, run, pursued, sizeable, blac...</td>\n",
       "      <td>[broke, run, pursued, sizeable, black, usually...</td>\n",
       "      <td>ah-q broke run, pursued sizeable black usually...</td>\n",
       "    </tr>\n",
       "    <tr>\n",
       "      <th>66</th>\n",
       "      <td>afraid might loose him, ah-q gathered trophies...</td>\n",
       "      <td>[afraid, might, loose, him, ah, gathered, trop...</td>\n",
       "      <td>[afraid, might, loose, gathered, trophies, pic...</td>\n",
       "      <td>afraid might loose him, ah-q gathered trophies...</td>\n",
       "    </tr>\n",
       "    <tr>\n",
       "      <th>67</th>\n",
       "      <td>time took three turnips, mind made</td>\n",
       "      <td>[time, took, three, turnips, mind, made]</td>\n",
       "      <td>[time, took, three, turnips, mind, made]</td>\n",
       "      <td>time took three turnips, mind made</td>\n",
       "    </tr>\n",
       "  </tbody>\n",
       "</table>\n",
       "<p>68 rows × 4 columns</p>\n",
       "</div>"
      ],
      "text/plain": [
       "                                        English_Verse  \\\n",
       "0   there are, said, some victors delight only vic...   \n",
       "1   now: walking after busy moral victory! this la...   \n",
       "2   ‘may without descendants!’ echoed cathedral ah...   \n",
       "3       ‘woman...’ thought. ‘must... find... woman...   \n",
       "4   ‘sauce goose...’ thought some more, ‘... must....   \n",
       "..                                                ...   \n",
       "63  ‘what’s that under there, then?’ indicated pro...   \n",
       "64  ‘reckon they’re yours, you? they answer call t...   \n",
       "65  ah-q broke into run, pursued sizeable black us...   \n",
       "66  afraid might loose him, ah-q gathered trophies...   \n",
       "67                 time took three turnips, mind made   \n",
       "\n",
       "                                         Tweet tokens  \\\n",
       "0   [there, are, said, some, victors, delight, onl...   \n",
       "1   [now, walking, after, busy, moral, victory, th...   \n",
       "2   [may, without, descendants, echoed, cathedral,...   \n",
       "3                 [woman, thought, must, find, woman]   \n",
       "4   [sauce, goose, thought, some, more, must, find...   \n",
       "..                                                ...   \n",
       "63  [what, that, under, there, then, indicated, pr...   \n",
       "64  [reckon, they, re, yours, you, they, answer, c...   \n",
       "65  [ah, broke, into, run, pursued, sizeable, blac...   \n",
       "66  [afraid, might, loose, him, ah, gathered, trop...   \n",
       "67           [time, took, three, turnips, mind, made]   \n",
       "\n",
       "                                       tokens_no_stop  \\\n",
       "0   [said, victors, delight, victory, worthy, adve...   \n",
       "1   [walking, busy, moral, victory, latest, victor...   \n",
       "2   [may, without, descendants, echoed, cathedral,...   \n",
       "3                 [woman, thought, must, find, woman]   \n",
       "4          [sauce, goose, thought, must, find, woman]   \n",
       "..                                                ...   \n",
       "63         [indicated, protuberance, beneath, jacket]   \n",
       "64                             [reckon, answer, call]   \n",
       "65  [broke, run, pursued, sizeable, black, usually...   \n",
       "66  [afraid, might, loose, gathered, trophies, pic...   \n",
       "67           [time, took, three, turnips, mind, made]   \n",
       "\n",
       "                                tokens_no_stop_joined  \n",
       "0   are, said, victors delight victory worthy adve...  \n",
       "1   now: walking busy moral victory! latest victor...  \n",
       "2   ‘may without descendants!’ echoed cathedral ah...  \n",
       "3       ‘woman...’ thought. ‘must... find... woman...  \n",
       "4   ‘sauce goose...’ thought more, ‘... must... fi...  \n",
       "..                                                ...  \n",
       "63  ‘what’s there, then?’ indicated protuberance b...  \n",
       "64  ‘reckon they’re yours, you? answer call them? ...  \n",
       "65  ah-q broke run, pursued sizeable black usually...  \n",
       "66  afraid might loose him, ah-q gathered trophies...  \n",
       "67                 time took three turnips, mind made  \n",
       "\n",
       "[68 rows x 4 columns]"
      ]
     },
     "execution_count": 50,
     "metadata": {},
     "output_type": "execute_result"
    }
   ],
   "source": [
    "df_ngrams_yiyun = pd.DataFrame(df_yiyun_all)\n",
    "df_ngrams_yiyun = preprocessing(df_ngrams_yiyun)\n",
    "df_ngrams_yiyun\n"
   ]
  },
  {
   "cell_type": "code",
   "execution_count": 51,
   "metadata": {},
   "outputs": [
    {
     "name": "stdout",
     "output_type": "stream",
     "text": [
      "are, said, victors delight victory worthy adversaries; conquest weak stupid dust ashes mouths. others who, overcoming everything everyone path, field strewn corpses slain, obeisances surrendered; enemy left fight, friend celebrate then, then, feel desolate solitude victory. weakness ah-q, inexhaustible delight himself, susceptible living proof, perhaps, global superiority chinese civilization.. now: walking busy moral victory! latest victory, however, bring unusual twist tail. eventually, floated temple earth grain, where, according well-established custom, immediately lain begun snoring. inexplicably, however, particular evening difficulty keeping eyes closed. something curious thumb forefinger: felt softer, silkier usual. something nun’s face attached fingers, face rubbed smooth?. ‘may without descendants!’ echoed cathedral ah-q’s mind. ‘she’s quite right,’ thought himself. ought woman. without descendants, i’ll offer bowl rice grave... woman’s need.’ words ancient sages: ‘there three ways betraying parents, dying without descendants serious.’ again: ‘those without descendants become hungry ghosts.’ thinking point was, therefore, fully line scripture; pity, then, approach resolving difficulty erred unorthodox side.. ‘woman...’ thought. ‘must... find... woman.... ‘sauce goose...’ thought more, ‘... must... find... woman!’. when, exactly, ah-q began snoring evening, reliable information. point certain fell asleep light-headed feeling satiny smoothness still fingertips. ‘woman...’. irrefutable proof women root evil.. great majority chinese history would become saints sages ruined women first. look shang dynasty destroyed licentious concubine performed service zhou. dynasty, now... well, sources aren’t entirely unequivocal this, surmise woman involved somewhere, probably wouldn’t wandering truth. moving swiftly attested fact later han,6 course another concubine, diao chan, dong zhuo death.. point career, ah-q blessed character rigid uprightness. although knowing whether ever received personal moral guidance celebrated spiritual authority, always strictly upheld classically ordained prohibitions concerning segregation sexes, rejected righteous bile conduct heretics young fake foreign devil. nuns, affairs monks; woman walking streets designs strange men; woman conversation, wherever were, must good. always disciplining angry glare, sentences penetrating criticism; nobody else about, would cast pebble behind.. was, thirty year confucius enjoined ‘stand firm’ losing head, thoroughly un-confucian way, nun. abominable creatures women truly were; nun’s face bewitchingly smooth, modestly veiled, ah-q would not, turn, submitted bewitched. five years past, wedged within packed opera audience, taken opportunity pinch woman’s thigh, intervening trousers protected debilitating light-headedness. heretic vixen nun, shameless naked face.. ‘woman...’ ah-q went thinking.. ah-q often kept women suspected designs strange close surveillance, never smiled him. also listened carefully women spoke him; never tried seduce either. proof female perfidy: hypocrites, pretending pure driven snow.. evening, spent husking rice zhao’s, ah-q kitchen smoking postprandial pipe tobacco. households, casual labour went back home dinner, zhaos’, dinner served early exceptions occasionally made rule keeping lamps dinner. zhaos’ eldest revising examinations, allowed lamp study evening. hired ah-q jobs, permitted lamp rice-husking dark. ah-q came sitting kitchen, taking time pipe went back work.. dishes done, zhaos’ maid, bench chat ah-q.. ‘the mistress hasn’t eaten days, master going concubine...’. ‘woman... wu...’ ah-q thought. ‘she’s still young... widow...’. ‘the young mistress baby eighth month...’. ‘woman...’. ah-q pipe stood. ‘she’s chattered. ‘sleep me!’ ah-q suddenly rushed forward, dropping knees her.. moment stunned silence fled room, shuddering, screams rippled sobs.. staring perplexedly wall while, still knees, ah-q placed hands empty bench propelled slowly back feet, assailed sense could somehow handled things better. distractedly tucked pipe belt, decided return rice-husking. moment heavy object landed, thump, head. spinning round, discovered village genius zhaos’ eldest standing front holding large bamboo pole.. ‘you filthy little...’. came bamboo again. covering head hands, ah-q took weight blows directly joints fingers, caused little pain. rushed kitchen, taking valedictory strike back went.. ‘bastard!’ letters honoured touch scholarly invective.. fingers still stinging, ah-q took solitary refuge rice-husking room, feeling deeply unsettled ‘bastard’. common-or-garden term abuse around weizhuang, usage favoured well-to-do, official connections. longer mood romance. since bamboo expletive seemed brought whole matter close, ah-q husking again, heavy weight lifted mind. soon, beginning overheat exertion work, paused remove layers clothing.. heard great commotion outside. ah-q loved nothing better spectacle went search noise drew inexorably inner courtyard around zhao’s apartments arranged. although dusk fallen, could still make many assembled company resident members zhao clan, including hunger-striking lady house, next door, couple slightly distant relatives, zhao baiyan zhao sichen.. ‘come out.’ zhao’s daughter-in-law trying coax servants’ quarters. ‘don’t upset you.’. thinks worse you,’ interpolated, ‘you mustn’t think killing yourself.’. wu’s response incoherent sobs.. ‘rum,’ ah-q thought himself. ‘what’s her?’ sidled zhao sichen, hope learning more, became swiftly aware rapid approach zhao, holding thick bamboo stick own. reminded thrashing long received zhao junior, deduced present lively situation might something him. turning exit back husking floor, found path blocked stick. logically enough, decided leave back door, soon found back inside temple earth grain.. sitting while, ah-q began feel goose bumps prickling skin. spring nights still warm enough comfortably bare-chested. had, remembered, left shirt zhaos’; memory bamboo discouraged trying retrieve point village constable enter. ‘damn you, ah-q! can’t even keep hands zhaos’ servants? haven’t slept wink tonight thanks mess. damn you!’. went while, lecturing ah-q various misdeeds, latter naturally nothing say. meeting drew conclusion, constable four hundred coppers double usual rate he’d called night. since ah-q cash him, mortgaged felt hat, obliged sign following five conditions.. take pair candles pound packet incense zhaos’ tomorrow, apology.. cover costs daoist priest zhaos hired exorcize evil spirits.. never foot, ever again, zhaos’ threshold.. accident, unforeseen kind, subsequently befall ah-q, ah-q alone, would held responsible.. abandon hope recovering wages shirt.. regrettably, ah-q lacked funds make good indemnity. happy coincidence, spring, able without cotton quilt, pawned thousand coppers, enabling fulfil demands peace treaty. kowtowing, bare-chested, found coppers left over, chose blow wine rather redeem felt hat. zhaos didn’t burn candles incense right away, preferring keep mistress house next paid respects buddha. tattered shirt recycled nappies baby born younger mistress eighth month; off-cuts used soles shoes.. time ah-q dues paid made back temple earth grain, gone down, beginning feel slight malaise. eventually, dawned root cause absence shirt. remembering still possession ragged cotton jacket, draped shoulders down. next opened eyes, sun’s rays beating wall facing west. ‘damn,’ muttered himself, sitting. wander streets, usually did. although felt particular physical discomfort result lack clothing half, something seemed strike quite right world. women weizhuang seemed suddenly timid him, darting doorways seeing approach. even fifty would take shelter like rest them, pulling ten-year-old daughter her. ‘whores,’ ah-q mused curiously himself. ‘acting like vestal virgins sudden.’. took little longer, however, sense quite rightness take firm hold. one, tavern began refuse credit. two, babbling nonsense him, caretaker temple earth grain seemed ordering premises. three, days many exactly, couldn’t quite say, good number hired him. refused credit tavern something could with; chased temple temporary inconvenience; didn’t work, ah-q’s stomach bitterly complained. this, indeed, confounded nuisance.. could stand longer, ah-q obliged make inquiries employers except zhaos’, whose gate banned. things seemed different now. furious-looking would always stalk tell lost though beggar.. extraordinary, pondered ah-q. families always clamouring casual labour seemed nothing going. ah-q smelt rat. careful investigation around employers revealed work done, called upon another individual whose name posterity precisely recorded which, using tried-and-tested method, leave impoverished runt whose position great hierarchy things ah-q somewhere hairy wang. never, worst nightmares, would ah-q dreamt utter weed would make bowl rice. cause fury. ah-q stormed off, waving fist bursting spontaneously song, reprising line favourite operas, battle dragon tiger:. ‘i-i-i-i-i thrash mace, yes, will!’. days later, last encountered opposite main gate qians’. eyes gleaming antagonistic recognition, ah-q advanced, holding ground.. ‘pig!’ ah-q glared, spittle flying.. about,’ negotiated, ‘slug?’. pleasing show modesty succeeded intensifying ah-q’s rage. forced improvise absence mace, rushed forward grab hold queue. opponent left hand protecting base pigtail, attacking ah-q’s queue other. although ah-q would given instant’s pause pathetic recent hard times fallen reduced comparable physical state. pretty much match other, good half-hour remained locked struggle, hand own, assaulting other’s queue, backs curved blue arch whitewashed front wall qian household.. ‘all right! right!’ audience interjected: perhaps arbitrate; perhaps express approval; perhaps stir things more.. adversaries deaf surroundings. ah-q would advance three paces, retreat many; standstill would reached. would retake three steps, time ah-q retreating; standstill again. maybe another half-hour striking clocks weizhuang, hard precise subject; could twenty minutes hair steaming, foreheads running sweat. exact instant ah-q relaxed grip, same. straightening stepped back pushed crowd.. ‘let lesson you!’ ah-q tossed shoulder.. ‘let lesson you!’ came reply.. certain lack clarity closure particular battle dragon tiger weizhuang. victor? vanquished? audience satisfied performance? particular opinion expressed either way. still hired ah-q labourer.. unusually mild day, breeze seemed breath summer ah-q began feel cold. wouldn’t minded own; hunger couldn’t stand. first quilt, felt shirt gone; padded jacket sold. left trousers couldn’t ragged cotton jacket, nobody would want, except making shoe soles. dreamt finding money road, never did; dreamt finding coin dilapidated room living frantic search yielded nothing. decided search sustenance.. walked past familiar sights tavern, trays steamed rolls without pausing, without registering twinge desire either. searching something else; though something was, couldn’t say.. weizhuang place, soon enough reached village fringed paddy fields busy pale green shoots. occasional black wove among them: farmers working land. without stopping appreciate pastoral idyll, ah-q went still intuited, quest food. eventually, neared convent quiet cultivation.. convent’s whitewashed walls emerged unexpectedly fresh green fields surrounded them. vegetable garden tucked inside earthen wall back. ah-q hesitated, glancing around him: nobody about. scaling garden wall, hauling bunch knotweed. surface wall crumbled, ah-q’s feet began tremble beneath him, managed scramble incidental mulberry tree. though garden within lush vegetation, seemed wine steamed rolls indeed anything else edible sight. copse bamboo lined western wall, shoots visible base, unfortunately needed cooking first. elsewhere, bolting oilseed rape, flowering mustard greens pak-choi past first flush youth.. ah-q prowled garden gate, feeling keen sense injustice all. there, however, joyful surprise awaited him: elderly turnips. squatted tugged them. round head suddenly popped gate, shrank back again: ah-q’s enemy, young nun. even though ah-q always scrupulous never slightest respect people young nuns, discretion sometimes turns better part valour uprooting four turnips fast could, twisted green outer leaves, tucked jacket, time greet nun.. buddha! garden, ah-q, stealing turnips!... stop thief!’. ‘me? stealing turnips?’ ah-q said, edging away.. ‘what’s there, then?’ indicated protuberance beneath jacket.. ‘reckon they’re yours, you? answer call them? you...’. ah-q broke run, pursued sizeable black usually stationed front gate; found back garden mystery. dog’s fangs snarled inches ah-q’s leg, turnip happily fell jacket, giving creature brief pause long enough ah-q scramble back mulberry tree, earthen wall, hurl himself, together surviving turnips, ground beyond, leaving black barking tree, chanted prayers.. afraid might loose him, ah-q gathered trophies off, picking small stones road went along; black made reappearance. discarding stones, ah-q turnips walked. nothing here, thought; time luck town.. time took three turnips, mind made\n"
     ]
    }
   ],
   "source": [
    "text = retrieve_text(df_ngrams_yiyun)\n",
    "print(text)"
   ]
  },
  {
   "cell_type": "code",
   "execution_count": 48,
   "metadata": {},
   "outputs": [
    {
     "data": {
      "text/plain": [
       "Text(0, 0.5, '')"
      ]
     },
     "execution_count": 48,
     "metadata": {},
     "output_type": "execute_result"
    },
    {
     "data": {
      "image/png": "[encoded data removed]",
      "text/plain": [
       "<Figure size 800x800 with 1 Axes>"
      ]
     },
     "metadata": {},
     "output_type": "display_data"
    }
   ],
   "source": [
    "bigram1 = ngrams_series_func(text, 2)\n",
    "trigram1 = ngrams_series_func(text, 3)\n",
    "\n",
    "\n",
    "\n",
    "ngram1 = pd.concat([bigram1, trigram1])\n",
    "barstyle = {'width': 0.5, 'edgecolor': 'black'}\n",
    "\n",
    "plt.rcParams.update({'font.size': 14})\n",
    "#fig, ax=plt.subplots(1,2, figsize=(16,8), gridspec_kw = {'width_ratios':[1,1], 'wspace':0.1, 'hspace':0.1})\n",
    "fig, ax=plt.subplots(1,1, figsize=(8,8))\n",
    "\n",
    "#barh_ax = ax[0]\n",
    "barh_ax = ax\n",
    "\n",
    "ngram1[::-1].plot.barh(ax=barh_ax, color= 'skyblue',**barstyle)\n",
    "barh_ax.yaxis.set_label_position(\"left\")\n",
    "barh_ax.xaxis.tick_top()\n",
    "barh_ax.xaxis.set_label_position(\"bottom\")\n",
    "barh_ax.set_xlim(barh_ax.get_xlim()[::-1])\n",
    "barh_ax.set_xlabel('\\n Eknath Easwaran')\n",
    "barh_ax.set_ylabel('',fontsize=50)"
   ]
  }
 ],
 "metadata": {
  "kernelspec": {
   "display_name": "Python 3",
   "language": "python",
   "name": "python3"
  },
  "language_info": {
   "codemirror_mode": {
    "name": "ipython",
    "version": 3
   },
   "file_extension": ".py",
   "mimetype": "text/x-python",
   "name": "python",
   "nbconvert_exporter": "python",
   "pygments_lexer": "ipython3",
   "version": "3.10.5"
  }
 },
 "nbformat": 4,
 "nbformat_minor": 2
}
