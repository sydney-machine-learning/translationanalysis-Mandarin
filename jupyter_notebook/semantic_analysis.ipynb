{
 "cells": [
  {
   "cell_type": "code",
   "execution_count": 5,
   "metadata": {},
   "outputs": [
    {
     "name": "stdout",
     "output_type": "stream",
     "text": [
      "Requirement already satisfied: nltk in /Library/Frameworks/Python.framework/Versions/3.10/lib/python3.10/site-packages (3.8.1)\n",
      "Requirement already satisfied: tqdm in /Library/Frameworks/Python.framework/Versions/3.10/lib/python3.10/site-packages (from nltk) (4.66.1)\n",
      "Requirement already satisfied: click in /Library/Frameworks/Python.framework/Versions/3.10/lib/python3.10/site-packages (from nltk) (8.1.7)\n",
      "Requirement already satisfied: joblib in /Library/Frameworks/Python.framework/Versions/3.10/lib/python3.10/site-packages (from nltk) (1.3.2)\n",
      "Requirement already satisfied: regex>=2021.8.3 in /Library/Frameworks/Python.framework/Versions/3.10/lib/python3.10/site-packages (from nltk) (2023.12.25)\n",
      "\u001b[33mWARNING: You are using pip version 22.0.4; however, version 24.0 is available.\n",
      "You should consider upgrading via the '/usr/local/bin/python3 -m pip install --upgrade pip' command.\u001b[0m\u001b[33m\n",
      "\u001b[0mNote: you may need to restart the kernel to use updated packages.\n"
     ]
    }
   ],
   "source": [
    "#part one: compute the jaccard similarity\n",
    "#https://github.com/VipanchiKatthula/Jaccard_Cosine_Similarity/blob/master/Jaccard_and_Cosine_Similarity.ipynb\n",
    "%pip install nltk"
   ]
  },
  {
   "cell_type": "code",
   "execution_count": 1,
   "metadata": {},
   "outputs": [],
   "source": [
    "import numpy as np\n",
    "import pandas as pd"
   ]
  },
  {
   "cell_type": "code",
   "execution_count": 37,
   "metadata": {},
   "outputs": [
    {
     "name": "stdout",
     "output_type": "stream",
     "text": [
      "Requirement already satisfied: sentence-transformers in /Library/Frameworks/Python.framework/Versions/3.10/lib/python3.10/site-packages (2.4.0)\n",
      "Collecting sentence-transformers\n",
      "  Downloading sentence_transformers-2.6.1-py3-none-any.whl (163 kB)\n",
      "\u001b[2K     \u001b[90m━━━━━━━━━━━━━━━━━━━━━━━━━━━━━━━━━━━━━━━\u001b[0m \u001b[32m163.3/163.3 KB\u001b[0m \u001b[31m3.8 MB/s\u001b[0m eta \u001b[36m0:00:00\u001b[0ma \u001b[36m0:00:01\u001b[0m\n",
      "\u001b[?25hRequirement already satisfied: torch>=1.11.0 in /Library/Frameworks/Python.framework/Versions/3.10/lib/python3.10/site-packages (from sentence-transformers) (2.1.2)\n",
      "Requirement already satisfied: Pillow in /Library/Frameworks/Python.framework/Versions/3.10/lib/python3.10/site-packages (from sentence-transformers) (10.2.0)\n",
      "Requirement already satisfied: scikit-learn in /Library/Frameworks/Python.framework/Versions/3.10/lib/python3.10/site-packages (from sentence-transformers) (1.4.0)\n",
      "Requirement already satisfied: tqdm in /Library/Frameworks/Python.framework/Versions/3.10/lib/python3.10/site-packages (from sentence-transformers) (4.66.1)\n",
      "Requirement already satisfied: transformers<5.0.0,>=4.32.0 in /Library/Frameworks/Python.framework/Versions/3.10/lib/python3.10/site-packages (from sentence-transformers) (4.37.0)\n",
      "Requirement already satisfied: huggingface-hub>=0.15.1 in /Library/Frameworks/Python.framework/Versions/3.10/lib/python3.10/site-packages (from sentence-transformers) (0.20.3)\n",
      "Requirement already satisfied: numpy in /Library/Frameworks/Python.framework/Versions/3.10/lib/python3.10/site-packages (from sentence-transformers) (1.26.1)\n",
      "Requirement already satisfied: scipy in /Library/Frameworks/Python.framework/Versions/3.10/lib/python3.10/site-packages (from sentence-transformers) (1.12.0)\n",
      "Requirement already satisfied: requests in /Library/Frameworks/Python.framework/Versions/3.10/lib/python3.10/site-packages (from huggingface-hub>=0.15.1->sentence-transformers) (2.31.0)\n",
      "Requirement already satisfied: pyyaml>=5.1 in /Library/Frameworks/Python.framework/Versions/3.10/lib/python3.10/site-packages (from huggingface-hub>=0.15.1->sentence-transformers) (6.0.1)\n",
      "Requirement already satisfied: fsspec>=2023.5.0 in /Library/Frameworks/Python.framework/Versions/3.10/lib/python3.10/site-packages (from huggingface-hub>=0.15.1->sentence-transformers) (2023.12.2)\n",
      "Requirement already satisfied: typing-extensions>=3.7.4.3 in /Library/Frameworks/Python.framework/Versions/3.10/lib/python3.10/site-packages (from huggingface-hub>=0.15.1->sentence-transformers) (4.9.0)\n",
      "Requirement already satisfied: packaging>=20.9 in /Library/Frameworks/Python.framework/Versions/3.10/lib/python3.10/site-packages (from huggingface-hub>=0.15.1->sentence-transformers) (21.3)\n",
      "Requirement already satisfied: filelock in /Library/Frameworks/Python.framework/Versions/3.10/lib/python3.10/site-packages (from huggingface-hub>=0.15.1->sentence-transformers) (3.13.1)\n",
      "Requirement already satisfied: jinja2 in /Library/Frameworks/Python.framework/Versions/3.10/lib/python3.10/site-packages (from torch>=1.11.0->sentence-transformers) (3.1.2)\n",
      "Requirement already satisfied: networkx in /Library/Frameworks/Python.framework/Versions/3.10/lib/python3.10/site-packages (from torch>=1.11.0->sentence-transformers) (3.2.1)\n",
      "Requirement already satisfied: sympy in /Library/Frameworks/Python.framework/Versions/3.10/lib/python3.10/site-packages (from torch>=1.11.0->sentence-transformers) (1.12)\n",
      "Requirement already satisfied: regex!=2019.12.17 in /Library/Frameworks/Python.framework/Versions/3.10/lib/python3.10/site-packages (from transformers<5.0.0,>=4.32.0->sentence-transformers) (2023.12.25)\n",
      "Requirement already satisfied: safetensors>=0.3.1 in /Library/Frameworks/Python.framework/Versions/3.10/lib/python3.10/site-packages (from transformers<5.0.0,>=4.32.0->sentence-transformers) (0.4.2)\n",
      "Requirement already satisfied: tokenizers<0.19,>=0.14 in /Library/Frameworks/Python.framework/Versions/3.10/lib/python3.10/site-packages (from transformers<5.0.0,>=4.32.0->sentence-transformers) (0.15.1)\n",
      "Requirement already satisfied: joblib>=1.2.0 in /Library/Frameworks/Python.framework/Versions/3.10/lib/python3.10/site-packages (from scikit-learn->sentence-transformers) (1.3.2)\n",
      "Requirement already satisfied: threadpoolctl>=2.0.0 in /Library/Frameworks/Python.framework/Versions/3.10/lib/python3.10/site-packages (from scikit-learn->sentence-transformers) (3.3.0)\n",
      "Requirement already satisfied: pyparsing!=3.0.5,>=2.0.2 in /Library/Frameworks/Python.framework/Versions/3.10/lib/python3.10/site-packages (from packaging>=20.9->huggingface-hub>=0.15.1->sentence-transformers) (3.0.9)\n",
      "Requirement already satisfied: MarkupSafe>=2.0 in /Library/Frameworks/Python.framework/Versions/3.10/lib/python3.10/site-packages (from jinja2->torch>=1.11.0->sentence-transformers) (2.1.1)\n",
      "Requirement already satisfied: urllib3<3,>=1.21.1 in /Library/Frameworks/Python.framework/Versions/3.10/lib/python3.10/site-packages (from requests->huggingface-hub>=0.15.1->sentence-transformers) (2.1.0)\n",
      "Requirement already satisfied: idna<4,>=2.5 in /Library/Frameworks/Python.framework/Versions/3.10/lib/python3.10/site-packages (from requests->huggingface-hub>=0.15.1->sentence-transformers) (2.10)\n",
      "Requirement already satisfied: certifi>=2017.4.17 in /Library/Frameworks/Python.framework/Versions/3.10/lib/python3.10/site-packages (from requests->huggingface-hub>=0.15.1->sentence-transformers) (2023.7.22)\n",
      "Requirement already satisfied: charset-normalizer<4,>=2 in /Library/Frameworks/Python.framework/Versions/3.10/lib/python3.10/site-packages (from requests->huggingface-hub>=0.15.1->sentence-transformers) (3.3.2)\n",
      "Requirement already satisfied: mpmath>=0.19 in /Library/Frameworks/Python.framework/Versions/3.10/lib/python3.10/site-packages (from sympy->torch>=1.11.0->sentence-transformers) (1.3.0)\n",
      "Installing collected packages: sentence-transformers\n",
      "  Attempting uninstall: sentence-transformers\n",
      "    Found existing installation: sentence-transformers 2.4.0\n",
      "    Uninstalling sentence-transformers-2.4.0:\n",
      "      Successfully uninstalled sentence-transformers-2.4.0\n",
      "Successfully installed sentence-transformers-2.6.1\n",
      "\u001b[33mWARNING: You are using pip version 22.0.4; however, version 24.0 is available.\n",
      "You should consider upgrading via the '/usr/local/bin/python3 -m pip install --upgrade pip' command.\u001b[0m\u001b[33m\n",
      "\u001b[0mNote: you may need to restart the kernel to use updated packages.\n"
     ]
    }
   ],
   "source": [
    "%pip install -U sentence-transformers"
   ]
  },
  {
   "cell_type": "code",
   "execution_count": 2,
   "metadata": {},
   "outputs": [],
   "source": [
    "from sentence_transformers import SentenceTransformer\n",
    "model = SentenceTransformer('all-mpnet-base-v2')"
   ]
  },
  {
   "cell_type": "code",
   "execution_count": 3,
   "metadata": {},
   "outputs": [
    {
     "name": "stdout",
     "output_type": "stream",
     "text": [
      "                                        English_Verse\n",
      "0   There are said to be some victors who take no ...\n",
      "1   Look at Ah Q, light and elated, as if about to...\n",
      "2   This victory was not without strange consequen...\n",
      "3                        \"Ah Q, may you die sonless!\"\n",
      "4   These words sounded again in Ah Q's cars, and ...\n",
      "5   \"…The monk paws... Woman, woman! … Woman!\" he ...\n",
      "6   We shall never know when Ah Q finally fell asl...\n",
      "7   From this we can see that woman is a menace to...\n",
      "8   The majority of Chinese men could become saint...\n",
      "9   Ah Q, too, was a man of strict morals to begin...\n",
      "10  Who could tell that close on thirty, when a ma...\n",
      "11                          \"Woman ...\" thought Ah Q.\n",
      "12  He kept a close watch on those women who he be...\n",
      "13  One day when Ah Q was grinding rice in Mr. Cha...\n",
      "14  When Amah Wu, the only maidservant in the Chao...\n",
      "15  \"Our mistress hasn't eaten anything for two da...\n",
      "16  \"Woman... Amah Wu... this little widow,\" thoug...\n",
      "17  \"Our young mistress is going to have a baby in...\n",
      "18                             \"Woman.\" thought Ah Q.\n",
      "19                 He put down his pipe and stood up.\n",
      "20       \"Our young mistress -\" Amah Wu chattered on.\n",
      "21  \"Sleep with me!\" Ah Q suddenly rushed forward ...\n",
      "22            There was a moment of absolute silence.\n",
      "23  \"Ai ya!\" Dumbfounded for an instant, Amah Wu s...\n",
      "24  Ah Q kneeling opposite the wall was dumbfounde...\n",
      "25                            \"How dare you … you ….\"\n",
      "26  The big bamboo pole came down across Ah Q's sh...\n",
      "27  \"Turtle's egg!\" shouted the successful candida...\n",
      "28  Ah Q fled to the hulling-floor where he stood ...\n",
      "29  While he was taking off his shirt he heard an ...\n",
      "30  The young mistress was leading Amah Wu out of ...\n",
      "31  \"Come outside. don't stay brooding in your own...\n",
      "32  \"Everybody knows you are a good woman,\" put in...\n",
      "33  Amah Wu merely wailed, muttering something ina...\n",
      "34  \"This is interesting.\" thought Ah Q. \"What mis...\n",
      "35  After Ah Q had sat down for a time, his skin b...\n",
      "36  \"Curse you, Ah Q!\" said the bailiff. \"So you c...\n",
      "37           You've made me lose my sleep, curse you!\n",
      "38  Under this torrent of abuse Ah Q naturally had...\n",
      "39  1. The next morning Ah Q must take a pair of r...\n",
      "40  2. Ah Q must pay for the Taoist priests whom t...\n",
      "41  3. Ah Q must never again set foot in the Chao ...\n",
      "42  4. It anything unfortunate should happen to Am...\n",
      "43   5. Ah Q must not go back for his wages or shirt.\n",
      "44  Ah Q naturally agreed to everything, but unfor...                                         English_Verse\n",
      "0   Some people say: Some winners are willing to b...\n",
      "1                     Seeing, he seemed to be flying!\n",
      "2   However, this victory made him a little strang...\n",
      "3                          \"Broken son's grandson Q!\"\n",
      "4   This sentence was heard in A Q's ears.He thoug...\n",
      "5                     \"Women, women! ...\" He thought.\n",
      "6   \".... Monk moves ... women, women! ... woman!\"...\n",
      "7   We can't know when A Q is snoring this night.B...\n",
      "8        That is, we can know that women are harmful.\n",
      "9   Most Chinese men could have been sages, but un...\n",
      "10  Ah Q was originally a positive person. Althoug...\n",
      "11  Who knows that he will be in the year of \"stan...\n",
      "12                         \"Female ...\" Ah Q thought.\n",
      "13  He often pays attention to the woman who think...\n",
      "14  On this day, A Q was springing for a day in th...\n",
      "15  Wu Ma is the only maid in the house of Taiye Z...\n",
      "16  \"My wife didn't eat for two days, because the ...\n",
      "17  \"Woman, Wu Ma, this little lonely,\" Ah Q thought.\n",
      "18  \"Our young grandma is going to have children i...\n",
      "19                          \"Woman ...\" Ah Q thought.\n",
      "20      A Q put down the cigarette pipe and stood up.\n",
      "21                \"Our young grandma ...\" Wu Ma said.\n",
      "22  \"I feel sleepy with you, I and you are sleepy!...\n",
      "23                   It was very silent for a moment.\n",
      "24  \"Ah!\" Wu Ma shook, trembled suddenly, yelled a...\n",
      "25  Ah Q was kneeling on the wall and also froze, ...\n",
      "26                     \"You're reversed, ... you ...\"\n",
      "27  The big bamboo bar split him again.A Q's hands...\n",
      "28  \"Forgot to eight eggs! Xiucai scolded the offi...\n",
      "29  A Q ran into the rice field, standing alone, s...\n",
      "30  When he took off his clothes, he heard that he...\n",
      "31  The young grandmother was dragging Wu's mother...\n",
      "32  \"Come outside, ... don't hide in your own room...\n",
      "33  \"Who doesn't know that you are serious, ... th...\n",
      "34  Wu Ma just cried, clamped some words, but he d...\n",
      "35  Ah Q thought: \"Huh, interesting, this little l...\n",
      "36  A Q sat for a while, his skin was a little bit...\n",
      "37  \"Ah Q, your mother! You even teased by the Zha...\n",
      "38  If Yunyun's lesson, Ah Q naturally had nothing...\n",
      "39  Tomorrow with red candle -a pound of weight -a...\n",
      "40  On the second Zhao Mansion, the Taoist priest ...\n",
      "41  San Ah Q has never been allowed to step into t...\n",
      "42  If the four Wu moms have followed up, Ah Q is ...\n",
      "43  Wu Ah Q is not allowed to ask for workers and ...\n",
      "44  Ah Q naturally agreed, but unfortunately there...                                         English_Verse\n",
      "0   There are, it is said, some victors who deligh...\n",
      "1   See him now: walking on air after a busy day o...\n",
      "2   ‘May you die without descendants!’ echoed in t...\n",
      "3    ‘Woman...’ he thought. ‘Must... find... woman...\n",
      "4   ‘Sauce for the goose...’ he thought some more,...\n",
      "5   As to when, exactly, Ah-Q began snoring that e...\n",
      "6   Irrefutable proof that women are at the root o...\n",
      "7   The great majority of Chinese men in history w...\n",
      "8   Until this point in his career, Ah-Q had been ...\n",
      "9   Yet here he was, at the age of thirty – the ye...\n",
      "10                  ‘Woman...’ Ah-Q went on thinking.\n",
      "11  Ah-Q often kept women he suspected of having d...\n",
      "12  One evening, after a day spent husking rice at...\n",
      "13  Once the dishes were done, Mrs Wu, the Zhaos’ ...\n",
      "14  ‘The mistress hasn’t eaten for two days, becau...\n",
      "15  ‘Woman... Mrs Wu...’ Ah-Q thought. ‘She’s stil...\n",
      "16  ‘The young mistress is having a baby in the ei...\n",
      "17                                         ‘Woman...’\n",
      "18               Ah-Q put down his pipe and stood up.\n",
      "19                        ‘She’s – ’ Wu chattered on.\n",
      "20  ‘Sleep with me!’ Ah-Q suddenly rushed forward,...\n",
      "21  There was a moment of stunned silence before s...\n",
      "22  After staring perplexedly at the wall a while,...\n",
      "23                             ‘You filthy little...’\n",
      "24  Down came the bamboo again. Covering his head ...\n",
      "25  ‘Bastard!’ The man of letters honoured him wit...\n",
      "26  His fingers still stinging, Ah-Q took solitary...\n",
      "27  As he did so, he heard a great commotion outsi...\n",
      "28  ‘Come on out.’ Mr Zhao’s daughter-in-law was t...\n",
      "29  ‘No one thinks the worse of you,’ Mrs Zou inte...\n",
      "30        Mrs Wu’s response was incoherent with sobs.\n",
      "31  ‘Rum,’ Ah-Q thought to himself. ‘What’s up wit...\n",
      "32  After sitting there a while, Ah-Q began to fee...\n",
      "33  ‘Damn you, Ah-Q! Can’t you even keep your hand...\n",
      "34  On he went for a while, lecturing Ah-Q on his ...\n",
      "35  1. To take a pair of red candles – a pound eac...\n",
      "36  2. To cover the costs of the Daoist priest tha...\n",
      "37  3. Never to set foot, ever again, over the Zha...\n",
      "38  4. If any accident, of any unforeseen kind, we...\n",
      "39  5. To abandon all hope of recovering his wages...\n",
      "40  Regrettably, Ah-Q lacked the funds to make goo...\n"
     ]
    }
   ],
   "source": [
    "#load the file\n",
    "df_hsien = pd.read_csv('/Users/wangxuechun/unsw/UNSW-Thesis-/data_processing/chapter_4_eng_version_hsien.csv')\n",
    "df_google = pd.read_csv('/Users/wangxuechun/unsw/UNSW-Thesis-/data_processing/chapter_4_eng_version_google.csv')\n",
    "df_yiyun = pd.read_csv('/Users/wangxuechun/unsw/UNSW-Thesis-/data_processing/chapter_4_eng_version_yiyun.csv')\n",
    "df_google = df_google.drop('Unnamed: 0', axis=1)\n",
    "df_hsien.columns = ['English_Verse']\n",
    "df_yiyun.columns = ['English_Verse']\n",
    "df_google.columns = ['English_Verse']\n",
    "print(df_hsien,df_google,df_yiyun)"
   ]
  },
  {
   "cell_type": "code",
   "execution_count": 4,
   "metadata": {},
   "outputs": [],
   "source": [
    "from sklearn.metrics.pairwise import cosine_similarity\n"
   ]
  },
  {
   "cell_type": "code",
   "execution_count": 5,
   "metadata": {},
   "outputs": [],
   "source": [
    "embedding_hsien = model.encode(df_hsien['English_Verse'].tolist(), convert_to_tensor=True)\n",
    "embedding_yiyun = model.encode(df_yiyun['English_Verse'].tolist(), convert_to_tensor=True)\n",
    "embedding_google = model.encode(df_google['English_Verse'].tolist(), convert_to_tensor=True)"
   ]
  },
  {
   "cell_type": "code",
   "execution_count": 6,
   "metadata": {},
   "outputs": [
    {
     "name": "stdout",
     "output_type": "stream",
     "text": [
      "0     0.747759\n",
      "1     0.547950\n",
      "2     0.693194\n",
      "3     0.630115\n",
      "4     0.652093\n",
      "5     0.709445\n",
      "6     0.363449\n",
      "7     0.125580\n",
      "8     0.275009\n",
      "9     0.366055\n",
      "10    0.506409\n",
      "11    0.341411\n",
      "12    0.267233\n",
      "13    0.310761\n",
      "14    0.556252\n",
      "15    0.284639\n",
      "16    0.289029\n",
      "17    0.304159\n",
      "18    0.299109\n",
      "19    0.212317\n",
      "20    0.100469\n",
      "21    0.314354\n",
      "22    0.251280\n",
      "23    0.323763\n",
      "24    0.377994\n",
      "25    0.173434\n",
      "26    0.189718\n",
      "27    0.305243\n",
      "28    0.399616\n",
      "29    0.575080\n",
      "30    0.421430\n",
      "31    0.247936\n",
      "32    0.384014\n",
      "33    0.241067\n",
      "34    0.342778\n",
      "35    0.607510\n",
      "36    0.237076\n",
      "37    0.257679\n",
      "38    0.756672\n",
      "39    0.619574\n",
      "40    0.750252\n",
      "41    0.513646\n",
      "42    0.578352\n",
      "43    0.371969\n",
      "44    0.878099\n",
      "Name: similarities, dtype: float32\n"
     ]
    }
   ],
   "source": [
    "similarity = []\n",
    "for emb1, emb2 in zip(embedding_hsien, embedding_google):\n",
    "    sim = cosine_similarity([emb1.cpu().numpy()], [emb2.cpu().numpy()])\n",
    "    similarity.append(sim[0][0])  # sim is a 2D array, extract the single value\n",
    "\n",
    "df_google['similarities'] = similarity\n",
    "print(df_google['similarities'])"
   ]
  },
  {
   "cell_type": "code",
   "execution_count": 12,
   "metadata": {},
   "outputs": [
    {
     "name": "stdout",
     "output_type": "stream",
     "text": [
      "There are said to be some victors who take no pleasure in a victory unless their opponents arc as fierce as tigers or eagles: if their adversaries are as timid as sheep or chickens they find their triumph empty. There are other victors who, having carried all before them, with the enemy slain or surrendered, cowering in utter subjection, realize that now no toc, rival, or friend is left - they have only them-selves, supreme, solitary, desolate, and forlorn. Then they find their triumph a tragedy. But our hero was not so spine-less. He was always exultant. This may be a proof of the moral supremacy of China over the rest of the world. Look at Ah Q, light and elated, as if about to fly! This victory was not without strange consequences, though. For quite a time he seemed to be flying, and he flew into the Tutelary God's Temple, where he would normally have snored as soon as he lay down. This evening, however, he found it very difficult to close his eyes, for he felt as if there were something the matter with his thumb and first finger, which seemed to be smoother than usual. It is impossible to say whether something soft and smooth on the little nun's face had stuck to his fingers, or whether his fingers had been rubbed smooth against her cheek. \"Ah Q, may you die sonless!\" These words sounded again in Ah Q's cars, and he thought, \"Quite right, I should take a wife; for if a man dies sonless he has no one to sacrifice a bowl of rice to his spirit. . . I ought to have a wife.\" As the saying goes, \"There are three forms of unfilial conduct, of which the worst is to have no descendants,\" and it is one of the tragedies of life that \"spirits without descendants go hungry.' Thus his view was absolutely in accordance with the teachings of the saints and sages, and it is indeed a pity that later he should have run amok. \"Woman, woman! ...\" he thought. \"…The monk paws... Woman, woman! … Woman!\" he thought again. We shall never know when Ah Q finally fell asleep that evening. After this, however, he probably always found his fingers rather soft and smooth, and always remained a little light-headed. \"Woman\" he kept thinking. From this we can see that woman is a menace to mankind. The majority of Chinese men could become saints and sages, were it not for the unfortunate fact that they are ruined by women. The Shang dynasty was destroyed by Ta Chi, the Chou dynasty was undermined by Pao Szu; as for the Chin dynasty, although there is no historical evidence to that effect, if we assume that it fell on account of some woman we shall probably not be far wrong. And it is a fact that Tung Cho's death was caused by Tiao Chan.’ Ah Q, too, was a man of strict morals to begin with. Although we do not know whether he was guided by some good teacher, he had always shown himself most scrupulous in observing \"strict segregation of the sexes,\" and was right-cous enough to denounce such heretics as the little nun and the Imitation Foreign Devil. His view was, \"All nuns must carry on in secret with monks. If a woman walks alone on the street, she must want to seduce had men. When a man and a woman talk together, it must be to arrange to meet.\" In order to correct such people, he would glare furiously, pass loud, cutting remarks, or, if the place were deserted, throw a small stone from behind. Who could tell that close on thirty, when a man should \"stand firm,\" he would lose his head like this over a little nun? Such light-headedness, according to the classical canons, is most reprehensible; thus women certainly are hateful creatures. For if the little nun's face had not been soft and smooth, Ah Q would not have been bewitched by her; nor would this have happened if the little nun's face had been covered by a cloth. Five or six years before, when watching an open-air opera, he had pinched the leg of a woman in the audience; but because it was separated from him by the cloth of her trousers he had not had this light-headed feeling afterwards. The little nun had not covered her face, how-ever, and this is another proof of the odiousness of the herctic. \"Woman ...\" thought Ah Q. He kept a close watch on those women who he believed must \"want to seduce bad men,\" but they did not smile at him. He listened very carefully to those women who talked to him, but not one of them mentioned anything relevant to a secret rendezvous. Ahl This was simply another example of the odiousness of women: they all assumed a false modesty. One day when Ah Q was grinding rice in Mr. Chao's house, he sat down in the kitchen after supper to smoke a pipe. If it had been anyone else's house, he could have gone home after supper, but they dined early in the Chao family. Although it was the rule that you must not light a lamp, but go to bed after eating, there were occasional exceptions to the rule. Before Mr. Chao's son passed the county examination he was allowed to light a lamp to study the examination essays, and when Ah Q went to do odd jobs he was allowed to light a lamp to grind rice. Because of this latter exception to the rule, Ah Q still sat in the kitchen smoking before going on with his work. When Amah Wu, the only maidservant in the Chao household, had finished washing the dishes, she sat down on the long bench too and started chatting to Ah Q: \"Our mistress hasn't eaten anything for two days, because the master wants to get a concubine. \"Woman... Amah Wu... this little widow,\" thought Ah Q. \"Our young mistress is going to have a baby in the eighth moon…\" \"Woman.\" thought Ah Q. He put down his pipe and stood up. \"Our young mistress -\" Amah Wu chattered on. \"Sleep with me!\" Ah Q suddenly rushed forward and threw himself at her feet. There was a moment of absolute silence. \"Ai ya!\" Dumbfounded for an instant, Amah Wu suddenly began to tremble, then rushed out shrieking and could soon be heard sobbing. Ah Q kneeling opposite the wall was dumbfounded too. He grasped the empty bench with both hands and stood up slowly, dimly aware that something was wrong. In fact, by this time he was in rather a nervous state himself. In a flurry, he stuck his pipe into his belt and decided to go back to the rice. But - bang! a heavy blow landed on his head, and he spun round to see the successful county candidate standing before him brandishing a big bamboo pole. \"How dare you … you ….\" The big bamboo pole came down across Ah Q's shoulders. When he put up both hands to protect his head, the blow landed on his knuckles, causing him considerable pain. As he escaped through the kitchen door it seemed as if his back also received a blow. \"Turtle's egg!\" shouted the successful candidate, cursing him in mandarin from behind. Ah Q fled to the hulling-floor where he stood alone, still feeling a pain in his knuckles and still remembering that \"turtle's egg\" because it was an expression never used by the Weichuang villagers, but only by the rich who had seen something of official life. This made him more frightened, and left an exceptionally deep impression on his mind. By now, however, all thought of \"Woman had flown. After this cursing and beating it seemed as if something were done with, and quite light heartedly he began to grind rice again. After grinding for some time he felt hot, and stopped to take off his shirt. While he was taking off his shirt he heard an uproar outside, and since Ah Q always liked to join in any excitement that was going, he went out in search of the sound. He traced it gradually right into Mr. Chao's inner courtyard. Although it was dusk he could see many people there: all the Chao family including the mistress who had not eaten for two days. In addition, their neighbour Mrs. Tsou was there, as well as their relatives Chao Pai-yen and Chao Szu-chen. The young mistress was leading Amah Wu out of the servants' quarters, saying as she did so: \"Come outside. don't stay brooding in your own room.\" \"Everybody knows you are a good woman,\" put in Mrs.Tsou from the side. \"You mustn't think of committing suicide. \" Amah Wu merely wailed, muttering something inaudible. \"This is interesting.\" thought Ah Q. \"What mischief can this little widow be up to? Wanting to find out, he was approaching Chao Szu-chen when suddenly he caught sight of Mr. Chao's eldest son rushing towards him with, what was worse, the big bamboo pole in his hand. The sight of this big bamboo pole reminded him that he had been beaten by it, and he realized that apparently he was connected in some way with this scene of excitement. He turned and ran, hoping to escape to the hulling-floor, not foreseeing that the bamboo pole would cut off his retreat; thereupon he turned and ran in the other direction, leaving without further ado by the back door. In a short time he was back in the Tutelary God's Temple. After Ah Q had sat down for a time, his skin began to form goose pimples and he felt cold, because although it was spring the nights were still quite frosty and not suited to bare backs. He remembered that he had left his shirt in the Chaos house, but he was afraid if he went to fetch it he might get another taste of the successful candidate's bamboo pole. Then the bailiff came in. \"Curse you, Ah Q!\" said the bailiff. \"So you can't even keep your hands off the Chao family servants, you rebel! You've made me lose my sleep, curse you! Under this torrent of abuse Ah Q naturally had nothing to say. Finally, since it was night-time, Ah Q had to pay double and give the bailiff four hundred cash. Because he happened to have no ready money by him, he gave his felt hat as security, and agreed to the following five terms: 1. The next morning Ah Q must take a pair of red candles, weighing one pound, and a bundle of incense sticks to the Chao family to atone for his misdeeds. 2. Ah Q must pay for the Taoist priests whom the Chao family had called to exorcize evil spirits. 3. Ah Q must never again set foot in the Chao household. 4. It anything unfortunate should happen to Amah Wu, Ah Q must be held responsible. 5. Ah Q must not go back for his wages or shirt. Ah Q naturally agreed to everything, but unfortunately he had no ready money. Luckily it was already spring, so it was possible to do without his padded quilt which he pawned for two thousand cash to comply with the terms stipulated. After kowtowing with bare back he still had a few cash left, but instead of using these to redeem his felt hat from the bailiff, he spent them all on drink. Actually, the Chao family burned neither the incense nor the candles, because these could be used when the mistress worshipped Buddha and were put aside for that purpose. Most of the ragged shirt was made into diapers for the baby which was born to the young mistress in the eighth moon, while the tattered remainder was used by Amah Wu to make shoe soles.\n"
     ]
    }
   ],
   "source": [
    "#comparison of whole chapter\n",
    "chapt4_hsien = \" \".join(df_hsien['English_Verse'])\n",
    "chapt4_google = \" \".join(df_google['English_Verse'])\n",
    "chapt4_yiyun = \" \".join(df_yiyun['English_Verse'])\n",
    "print(chapt4_hsien)"
   ]
  },
  {
   "cell_type": "code",
   "execution_count": 9,
   "metadata": {},
   "outputs": [],
   "source": [
    "embedding_whole_hsien = model.encode(chapt4_hsien, convert_to_tensor=True)\n",
    "embedding_whole_google = model.encode(chapt4_google, convert_to_tensor=True)\n",
    "embedding_whole_yiyun = model.encode(chapt4_yiyun, convert_to_tensor=True)"
   ]
  },
  {
   "cell_type": "code",
   "execution_count": 10,
   "metadata": {},
   "outputs": [
    {
     "name": "stdout",
     "output_type": "stream",
     "text": [
      "[[0.7861637]] [[0.75270593]] [[0.8798642]]\n"
     ]
    }
   ],
   "source": [
    "similarity_whole_hsigoo = cosine_similarity([embedding_whole_hsien.cpu().numpy()], [embedding_whole_google.cpu().numpy()])\n",
    "similarity_whole_gooyi = cosine_similarity([embedding_whole_google.cpu().numpy()], [embedding_whole_yiyun.cpu().numpy()])\n",
    "similarity_whole_hsiyi = cosine_similarity([embedding_whole_hsien.cpu().numpy()], [embedding_whole_yiyun.cpu().numpy()])\n",
    "print(similarity_whole_hsigoo, similarity_whole_gooyi, similarity_whole_hsiyi)"
   ]
  },
  {
   "cell_type": "code",
   "execution_count": 15,
   "metadata": {},
   "outputs": [],
   "source": [
    "#split to string to set\n",
    "set_hsien_chapt4 = set(chapt4_hsien.split())\n",
    "set_google_chapt4 = set(chapt4_google.split())\n",
    "set_yiyun_chapt4 = set(chapt4_yiyun.split())\n"
   ]
  },
  {
   "cell_type": "code",
   "execution_count": 20,
   "metadata": {},
   "outputs": [
    {
     "name": "stdout",
     "output_type": "stream",
     "text": [
      "0.19126506024096385\n",
      "0.15555555555555556\n",
      "0.21108179419525067\n"
     ]
    }
   ],
   "source": [
    "#compute jaccard similarity\n",
    "\n",
    "#jaccard score between hsien and google\n",
    "inter_hsigoo_chapt4 = set_hsien_chapt4.intersection(set_google_chapt4)\n",
    "union_hsigoo_chapt4 = set_hsien_chapt4.union(set_google_chapt4)\n",
    "jaccard_hsigoo_chapt4 = len(inter_hsigoo_chapt4)/len(union_hsigoo_chapt4)\n",
    "print(jaccard_hsigoo_chapt4)\n",
    "\n",
    "#jaccard score between google and yiyun\n",
    "inter_gooyi_chapt4 = set_google_chapt4.intersection(set_yiyun_chapt4)\n",
    "union_gooyi_chapt4 = set_google_chapt4.union(set_yiyun_chapt4)\n",
    "jaccard_gooyi_chapt4 = len(inter_gooyi_chapt4)/len(union_gooyi_chapt4)\n",
    "print(jaccard_gooyi_chapt4)\n",
    "\n",
    "#jaccard score between yiyun and hsien\n",
    "inter_hsiyi_chapt4 = set_hsien_chapt4.intersection(set_yiyun_chapt4)\n",
    "union_hsiyi_chapt4 = set_hsien_chapt4.union(set_yiyun_chapt4)\n",
    "jaccard_hsiyi_chapt4 = len(inter_hsiyi_chapt4)/len(union_hsiyi_chapt4)\n",
    "print(jaccard_hsiyi_chapt4)"
   ]
  },
  {
   "cell_type": "code",
   "execution_count": 5,
   "metadata": {},
   "outputs": [
    {
     "name": "stderr",
     "output_type": "stream",
     "text": [
      "[nltk_data] Downloading package punkt to\n",
      "[nltk_data]     /Users/wangxuechun/nltk_data...\n",
      "[nltk_data]   Package punkt is already up-to-date!\n",
      "[nltk_data] Downloading package stopwords to\n",
      "[nltk_data]     /Users/wangxuechun/nltk_data...\n",
      "[nltk_data]   Package stopwords is already up-to-date!\n"
     ]
    },
    {
     "data": {
      "text/plain": [
       "True"
      ]
     },
     "execution_count": 5,
     "metadata": {},
     "output_type": "execute_result"
    }
   ],
   "source": [
    "import string\n",
    "import nltk\n",
    "from nltk.corpus import stopwords\n",
    "from nltk.tokenize import word_tokenize\n",
    "import ssl\n",
    "\n",
    "try:\n",
    "    _create_unverified_https_context = ssl._create_unverified_context\n",
    "except AttributeError:\n",
    "    pass\n",
    "else:\n",
    "    ssl._create_default_https_context = _create_unverified_https_context\n",
    "\n",
    "\n",
    "nltk.download('punkt')\n",
    "nltk.download('stopwords')\n",
    "\n",
    "\n",
    "\n"
   ]
  },
  {
   "cell_type": "code",
   "execution_count": 9,
   "metadata": {},
   "outputs": [
    {
     "name": "stdout",
     "output_type": "stream",
     "text": [
      "Requirement already satisfied: scikit-learn in /Library/Frameworks/Python.framework/Versions/3.10/lib/python3.10/site-packages (1.4.0)\n",
      "Requirement already satisfied: threadpoolctl>=2.0.0 in /Library/Frameworks/Python.framework/Versions/3.10/lib/python3.10/site-packages (from scikit-learn) (3.3.0)\n",
      "Requirement already satisfied: scipy>=1.6.0 in /Library/Frameworks/Python.framework/Versions/3.10/lib/python3.10/site-packages (from scikit-learn) (1.12.0)\n",
      "Requirement already satisfied: numpy<2.0,>=1.19.5 in /Library/Frameworks/Python.framework/Versions/3.10/lib/python3.10/site-packages (from scikit-learn) (1.26.1)\n",
      "Requirement already satisfied: joblib>=1.2.0 in /Library/Frameworks/Python.framework/Versions/3.10/lib/python3.10/site-packages (from scikit-learn) (1.3.2)\n",
      "\u001b[33mWARNING: You are using pip version 22.0.4; however, version 24.0 is available.\n",
      "You should consider upgrading via the '/usr/local/bin/python3 -m pip install --upgrade pip' command.\u001b[0m\u001b[33m\n",
      "\u001b[0mNote: you may need to restart the kernel to use updated packages.\n"
     ]
    }
   ],
   "source": [
    "%pip install scikit-learn"
   ]
  },
  {
   "cell_type": "code",
   "execution_count": 11,
   "metadata": {},
   "outputs": [
    {
     "name": "stdout",
     "output_type": "stream",
     "text": [
      "Requirement already satisfied: keybert in /Library/Frameworks/Python.framework/Versions/3.10/lib/python3.10/site-packages (0.8.4)\n",
      "Requirement already satisfied: rich>=10.4.0 in /Library/Frameworks/Python.framework/Versions/3.10/lib/python3.10/site-packages (from keybert) (13.7.0)\n",
      "Requirement already satisfied: sentence-transformers>=0.3.8 in /Library/Frameworks/Python.framework/Versions/3.10/lib/python3.10/site-packages (from keybert) (2.4.0)\n",
      "Requirement already satisfied: scikit-learn>=0.22.2 in /Library/Frameworks/Python.framework/Versions/3.10/lib/python3.10/site-packages (from keybert) (1.4.0)\n",
      "Requirement already satisfied: numpy>=1.18.5 in /Library/Frameworks/Python.framework/Versions/3.10/lib/python3.10/site-packages (from keybert) (1.26.1)\n",
      "Requirement already satisfied: pygments<3.0.0,>=2.13.0 in /Library/Frameworks/Python.framework/Versions/3.10/lib/python3.10/site-packages (from rich>=10.4.0->keybert) (2.13.0)\n",
      "Requirement already satisfied: markdown-it-py>=2.2.0 in /Library/Frameworks/Python.framework/Versions/3.10/lib/python3.10/site-packages (from rich>=10.4.0->keybert) (3.0.0)\n",
      "Requirement already satisfied: threadpoolctl>=2.0.0 in /Library/Frameworks/Python.framework/Versions/3.10/lib/python3.10/site-packages (from scikit-learn>=0.22.2->keybert) (3.3.0)\n",
      "Requirement already satisfied: scipy>=1.6.0 in /Library/Frameworks/Python.framework/Versions/3.10/lib/python3.10/site-packages (from scikit-learn>=0.22.2->keybert) (1.12.0)\n",
      "Requirement already satisfied: joblib>=1.2.0 in /Library/Frameworks/Python.framework/Versions/3.10/lib/python3.10/site-packages (from scikit-learn>=0.22.2->keybert) (1.3.2)\n",
      "Requirement already satisfied: transformers<5.0.0,>=4.32.0 in /Library/Frameworks/Python.framework/Versions/3.10/lib/python3.10/site-packages (from sentence-transformers>=0.3.8->keybert) (4.37.0)\n",
      "Requirement already satisfied: torch>=1.11.0 in /Library/Frameworks/Python.framework/Versions/3.10/lib/python3.10/site-packages (from sentence-transformers>=0.3.8->keybert) (2.1.2)\n",
      "Requirement already satisfied: huggingface-hub>=0.15.1 in /Library/Frameworks/Python.framework/Versions/3.10/lib/python3.10/site-packages (from sentence-transformers>=0.3.8->keybert) (0.20.3)\n",
      "Requirement already satisfied: tqdm in /Library/Frameworks/Python.framework/Versions/3.10/lib/python3.10/site-packages (from sentence-transformers>=0.3.8->keybert) (4.66.1)\n",
      "Requirement already satisfied: Pillow in /Library/Frameworks/Python.framework/Versions/3.10/lib/python3.10/site-packages (from sentence-transformers>=0.3.8->keybert) (10.2.0)\n",
      "Requirement already satisfied: pyyaml>=5.1 in /Library/Frameworks/Python.framework/Versions/3.10/lib/python3.10/site-packages (from huggingface-hub>=0.15.1->sentence-transformers>=0.3.8->keybert) (6.0.1)\n",
      "Requirement already satisfied: typing-extensions>=3.7.4.3 in /Library/Frameworks/Python.framework/Versions/3.10/lib/python3.10/site-packages (from huggingface-hub>=0.15.1->sentence-transformers>=0.3.8->keybert) (4.9.0)\n",
      "Requirement already satisfied: requests in /Library/Frameworks/Python.framework/Versions/3.10/lib/python3.10/site-packages (from huggingface-hub>=0.15.1->sentence-transformers>=0.3.8->keybert) (2.31.0)\n",
      "Requirement already satisfied: packaging>=20.9 in /Library/Frameworks/Python.framework/Versions/3.10/lib/python3.10/site-packages (from huggingface-hub>=0.15.1->sentence-transformers>=0.3.8->keybert) (21.3)\n",
      "Requirement already satisfied: fsspec>=2023.5.0 in /Library/Frameworks/Python.framework/Versions/3.10/lib/python3.10/site-packages (from huggingface-hub>=0.15.1->sentence-transformers>=0.3.8->keybert) (2023.12.2)\n",
      "Requirement already satisfied: filelock in /Library/Frameworks/Python.framework/Versions/3.10/lib/python3.10/site-packages (from huggingface-hub>=0.15.1->sentence-transformers>=0.3.8->keybert) (3.13.1)\n",
      "Requirement already satisfied: mdurl~=0.1 in /Library/Frameworks/Python.framework/Versions/3.10/lib/python3.10/site-packages (from markdown-it-py>=2.2.0->rich>=10.4.0->keybert) (0.1.2)\n",
      "Requirement already satisfied: jinja2 in /Library/Frameworks/Python.framework/Versions/3.10/lib/python3.10/site-packages (from torch>=1.11.0->sentence-transformers>=0.3.8->keybert) (3.1.2)\n",
      "Requirement already satisfied: networkx in /Library/Frameworks/Python.framework/Versions/3.10/lib/python3.10/site-packages (from torch>=1.11.0->sentence-transformers>=0.3.8->keybert) (3.2.1)\n",
      "Requirement already satisfied: sympy in /Library/Frameworks/Python.framework/Versions/3.10/lib/python3.10/site-packages (from torch>=1.11.0->sentence-transformers>=0.3.8->keybert) (1.12)\n",
      "Requirement already satisfied: tokenizers<0.19,>=0.14 in /Library/Frameworks/Python.framework/Versions/3.10/lib/python3.10/site-packages (from transformers<5.0.0,>=4.32.0->sentence-transformers>=0.3.8->keybert) (0.15.1)\n",
      "Requirement already satisfied: regex!=2019.12.17 in /Library/Frameworks/Python.framework/Versions/3.10/lib/python3.10/site-packages (from transformers<5.0.0,>=4.32.0->sentence-transformers>=0.3.8->keybert) (2023.12.25)\n",
      "Requirement already satisfied: safetensors>=0.3.1 in /Library/Frameworks/Python.framework/Versions/3.10/lib/python3.10/site-packages (from transformers<5.0.0,>=4.32.0->sentence-transformers>=0.3.8->keybert) (0.4.2)\n",
      "Requirement already satisfied: pyparsing!=3.0.5,>=2.0.2 in /Library/Frameworks/Python.framework/Versions/3.10/lib/python3.10/site-packages (from packaging>=20.9->huggingface-hub>=0.15.1->sentence-transformers>=0.3.8->keybert) (3.0.9)\n",
      "Requirement already satisfied: MarkupSafe>=2.0 in /Library/Frameworks/Python.framework/Versions/3.10/lib/python3.10/site-packages (from jinja2->torch>=1.11.0->sentence-transformers>=0.3.8->keybert) (2.1.1)\n",
      "Requirement already satisfied: certifi>=2017.4.17 in /Library/Frameworks/Python.framework/Versions/3.10/lib/python3.10/site-packages (from requests->huggingface-hub>=0.15.1->sentence-transformers>=0.3.8->keybert) (2023.7.22)\n",
      "Requirement already satisfied: idna<4,>=2.5 in /Library/Frameworks/Python.framework/Versions/3.10/lib/python3.10/site-packages (from requests->huggingface-hub>=0.15.1->sentence-transformers>=0.3.8->keybert) (2.10)\n",
      "Requirement already satisfied: charset-normalizer<4,>=2 in /Library/Frameworks/Python.framework/Versions/3.10/lib/python3.10/site-packages (from requests->huggingface-hub>=0.15.1->sentence-transformers>=0.3.8->keybert) (3.3.2)\n",
      "Requirement already satisfied: urllib3<3,>=1.21.1 in /Library/Frameworks/Python.framework/Versions/3.10/lib/python3.10/site-packages (from requests->huggingface-hub>=0.15.1->sentence-transformers>=0.3.8->keybert) (2.1.0)\n",
      "Requirement already satisfied: mpmath>=0.19 in /Library/Frameworks/Python.framework/Versions/3.10/lib/python3.10/site-packages (from sympy->torch>=1.11.0->sentence-transformers>=0.3.8->keybert) (1.3.0)\n",
      "\u001b[33mWARNING: You are using pip version 22.0.4; however, version 24.0 is available.\n",
      "You should consider upgrading via the '/usr/local/bin/python3 -m pip install --upgrade pip' command.\u001b[0m\u001b[33m\n",
      "\u001b[0mNote: you may need to restart the kernel to use updated packages.\n"
     ]
    }
   ],
   "source": [
    "#Keybert - extract keyword\n",
    "%pip install keybert"
   ]
  },
  {
   "cell_type": "code",
   "execution_count": 11,
   "metadata": {},
   "outputs": [],
   "source": [
    "from keybert import KeyBERT\n",
    "km_model = KeyBERT()"
   ]
  },
  {
   "cell_type": "code",
   "execution_count": 12,
   "metadata": {},
   "outputs": [
    {
     "name": "stdout",
     "output_type": "stream",
     "text": [
      "[[('victory', 0.3793), ('victors', 0.3656), ('surrendered', 0.351), ('triumph', 0.3256), ('rival', 0.3121)], [('fly', 0.4497), ('light', 0.4108), ('elated', 0.2952), ('look', 0.2642), ('ah', 0.1349)], [('nun', 0.4271), ('snored', 0.4183), ('flew', 0.3269), ('finger', 0.2598), ('victory', 0.256)], [('sonless', 0.5798), ('die', 0.2846), ('ah', 0.0955)], [('sonless', 0.2803), ('teachings', 0.2527), ('wife', 0.2264), ('ought', 0.211), ('descendants', 0.206)], [('monk', 0.3812), ('woman', 0.3592), ('paws', 0.3521), ('thought', 0.1073)], [('fingers', 0.2895), ('asleep', 0.2687), ('soft', 0.2443), ('thinking', 0.1925), ('evening', 0.1869)], [('woman', 0.5084), ('menace', 0.4291), ('mankind', 0.3863)], [('shang', 0.4679), ('chinese', 0.3642), ('chan', 0.341), ('cho', 0.3034), ('chin', 0.2992)], [('nuns', 0.4837), ('monks', 0.4243), ('heretics', 0.4008), ('nun', 0.3944), ('morals', 0.3576)], [('nun', 0.5241), ('odiousness', 0.3115), ('headedness', 0.2718), ('woman', 0.2481), ('hateful', 0.2231)], [('woman', 0.5164), ('thought', 0.2514), ('ah', 0.1772)], [('ahl', 0.3862), ('seduce', 0.3473), ('modesty', 0.3339), ('rendezvous', 0.2792), ('odiousness', 0.2486)], [('lamp', 0.3961), ('kitchen', 0.3396), ('light', 0.3245), ('chao', 0.3135), ('rice', 0.2888)], [('chao', 0.4336), ('maidservant', 0.4256), ('amah', 0.4171), ('wu', 0.3607), ('dishes', 0.3343)], [('mistress', 0.5923), ('concubine', 0.5808), ('eaten', 0.3149), ('master', 0.2554), ('hasn', 0.2462)], [('widow', 0.4822), ('amah', 0.3605), ('wu', 0.3338), ('woman', 0.3248), ('little', 0.2036)], [('mistress', 0.5244), ('moon', 0.5012), ('eighth', 0.3147), ('baby', 0.2327), ('young', 0.1943)], [('woman', 0.5133), ('thought', 0.2336), ('ah', 0.1881)], [('stood', 0.5793), ('pipe', 0.504)], [('mistress', 0.4826), ('wu', 0.432), ('amah', 0.431), ('chattered', 0.2638), ('young', 0.2026)], [('rushed', 0.2957), ('sleep', 0.2549), ('suddenly', 0.2062), ('feet', 0.1483), ('forward', 0.1363)], [('silence', 0.6223), ('moment', 0.4166), ('absolute', 0.3557)], [('amah', 0.4273), ('wu', 0.3986), ('ai', 0.3642), ('shrieking', 0.2867), ('sobbing', 0.2689)], [('stood', 0.3623), ('bang', 0.3544), ('kneeling', 0.3302), ('rice', 0.3103), ('bench', 0.3014)], [('dare', 0.4999)], [('bamboo', 0.3451), ('hands', 0.2894), ('pole', 0.2847), ('head', 0.2834), ('shoulders', 0.2825)], [('turtle', 0.4409), ('candidate', 0.3666), ('egg', 0.3659), ('mandarin', 0.3622), ('shouted', 0.3039)], [('weichuang', 0.3475), ('fled', 0.2745), ('grinding', 0.2661), ('grind', 0.258), ('rice', 0.2415)], [('chao', 0.579), ('chen', 0.2848), ('yen', 0.2822), ('tsou', 0.2636), ('mistress', 0.249)], [('mistress', 0.4343), ('wu', 0.3619), ('amah', 0.333), ('servants', 0.3071), ('quarters', 0.1863)], [('brooding', 0.4965), ('room', 0.3141), ('outside', 0.2652), ('stay', 0.1645), ('come', 0.1253)], [('tsou', 0.3876), ('suicide', 0.3656), ('mrs', 0.327), ('woman', 0.2442), ('mustn', 0.1296)], [('muttering', 0.4644), ('wu', 0.4621), ('inaudible', 0.4596), ('wailed', 0.4578), ('amah', 0.3902)], [('chao', 0.4695), ('chen', 0.3648), ('mischief', 0.3594), ('szu', 0.3549), ('bamboo', 0.3278)], [('bailiff', 0.4273), ('cold', 0.323), ('skin', 0.2686), ('goose', 0.2565), ('felt', 0.2536)], [('bailiff', 0.4833), ('chao', 0.4305), ('servants', 0.4019), ('rebel', 0.2614), ('family', 0.1872)], [('curse', 0.4629), ('sleep', 0.4237), ('ve', 0.3374), ('lose', 0.306)], [('bailiff', 0.4782), ('cash', 0.3135), ('abuse', 0.3113), ('pay', 0.2936), ('hat', 0.2588)], [('incense', 0.4833), ('candles', 0.4769), ('chao', 0.3227), ('red', 0.2842), ('weighing', 0.2434)], [('taoist', 0.4431), ('chao', 0.4022), ('priests', 0.3632), ('spirits', 0.317), ('pay', 0.2391)], [('chao', 0.5095), ('household', 0.3215), ('foot', 0.2734), ('ah', 0.1801), ('set', 0.114)], [('wu', 0.5264), ('amah', 0.3905), ('responsible', 0.3017), ('happen', 0.2009), ('ah', 0.1835)], [('wages', 0.4321), ('shirt', 0.3625), ('ah', 0.1916)], [('chao', 0.3744), ('candles', 0.3544), ('incense', 0.3481), ('tattered', 0.342), ('diapers', 0.2413)]]\n"
     ]
    }
   ],
   "source": [
    "#extract keyword from chapter 4\n",
    "df_hsien_texts = df_hsien['English_Verse'].tolist()\n",
    "df_yiyun_texts = df_yiyun['English_Verse'].tolist()\n",
    "df_google_texts = df_google['English_Verse'].tolist()\n",
    "keywords = []\n",
    "for text in df_hsien_texts:\n",
    "    extracted_keywords = km_model.extract_keywords(text, keyphrase_ngram_range=(1, 1), stop_words='english')\n",
    "    keywords.append(extracted_keywords)\n",
    "print(keywords)\n"
   ]
  },
  {
   "cell_type": "code",
   "execution_count": 13,
   "metadata": {},
   "outputs": [
    {
     "name": "stdout",
     "output_type": "stream",
     "text": [
      "[[('victory', 0.4794), ('proud', 0.4192), ('winners', 0.3988), ('crowned', 0.395), ('overcome', 0.3263)], [('flying', 0.5399), ('seeing', 0.3646)], [('finger', 0.4655), ('fingers', 0.454), ('thumb', 0.4208), ('slippery', 0.3892), ('snore', 0.3022)], [('grandson', 0.4907), ('broken', 0.3516), ('son', 0.3399)], [('piety', 0.265), ('thoughts', 0.2628), ('sentence', 0.2609), ('filial', 0.2461), ('ghost', 0.2451)], [('women', 0.4972), ('thought', 0.2537)], [('monk', 0.4618), ('woman', 0.302), ('women', 0.2894), ('moves', 0.2582), ('thought', 0.1071)], [('snoring', 0.4943), ('female', 0.2953), ('slippery', 0.2796), ('fingers', 0.2515), ('fluttered', 0.2459)], [('harmful', 0.4741), ('women', 0.3903), ('know', 0.2221)], [('zhou', 0.4953), ('shang', 0.4864), ('zhuo', 0.451), ('qin', 0.4264), ('chinese', 0.3541)], [('fanny', 0.3132), ('doctrine', 0.2472), ('monk', 0.2443), ('righteousness', 0.2433), ('nun', 0.2407)], [('nun', 0.503), ('nuns', 0.4482), ('heresy', 0.3106), ('fluttering', 0.3061), ('stunned', 0.2534)], [('female', 0.5485), ('thought', 0.1815), ('ah', 0.1641)], [('yi', 0.4608), ('iraqi', 0.3047), ('laugh', 0.2743), ('seduce', 0.2595), ('pretend', 0.1918)], [('lamp', 0.437), ('rice', 0.4), ('zhao', 0.379), ('light', 0.3715), ('taiye', 0.3484)], [('zhao', 0.4928), ('maid', 0.4625), ('taiye', 0.4534), ('wu', 0.4465), ('ma', 0.323)], [('wife', 0.3641), ('eat', 0.3237), ('small', 0.2949), ('master', 0.2776), ('days', 0.2339)], [('lonely', 0.424), ('wu', 0.3833), ('woman', 0.3743), ('little', 0.3286), ('ma', 0.3184)], [('grandma', 0.5295), ('august', 0.4271), ('children', 0.3133), ('young', 0.2251), ('going', 0.1858)], [('woman', 0.5123), ('thought', 0.251), ('ah', 0.1749)], [('cigarette', 0.5194), ('stood', 0.4553), ('pipe', 0.3779)], [('grandma', 0.5556), ('wu', 0.4447), ('ma', 0.3833), ('said', 0.2245), ('young', 0.2039)], [('yi', 0.4833), ('sleepy', 0.3945), ('kneeled', 0.2832), ('rushed', 0.2569), ('suddenly', 0.2474)], [('silent', 0.7223), ('moment', 0.3068)], [('yelled', 0.4172), ('shouting', 0.4096), ('trembled', 0.3833), ('shook', 0.3657), ('wu', 0.3592)], [('stood', 0.3985), ('chunmi', 0.3813), ('froze', 0.3079), ('bench', 0.2991), ('bar', 0.28)], [('reversed', 0.6043)], [('hitting', 0.338), ('bamboo', 0.3202), ('shooting', 0.2777), ('bar', 0.2765), ('door', 0.2681)], [('xiucai', 0.5227), ('eggs', 0.444), ('forgot', 0.2512), ('story', 0.2354), ('scolded', 0.206)], [('chunmi', 0.4497), ('weizhuang', 0.4396), ('rice', 0.3657), ('eggs', 0.3641), ('fingerache', 0.3065)], [('xunxun', 0.621), ('xun', 0.5395), ('taiye', 0.4887), ('zhao', 0.4778), ('courtyard', 0.2949)], [('wu', 0.4445), ('grandmother', 0.4429), ('mother', 0.3383), ('dragging', 0.3183), ('walked', 0.2268)], [('hide', 0.3726), ('outside', 0.3154), ('room', 0.3096), ('think', 0.2019), ('don', 0.1751)], [('shortcomings', 0.3819), ('zou', 0.3606), ('qiyi', 0.3363), ('said', 0.1907), ('doesn', 0.1249)], [('cried', 0.4921), ('wu', 0.425), ('words', 0.3395), ('clamped', 0.3023), ('hear', 0.2764)], [('zhao', 0.5186), ('chunmi', 0.3727), ('bamboo', 0.2938), ('walked', 0.2889), ('saw', 0.278)], [('zhao', 0.4813), ('bamboo', 0.3795), ('cold', 0.3467), ('shirtless', 0.317), ('cloth', 0.297)], [('zhao', 0.5326), ('rebellion', 0.3559), ('mother', 0.3077), ('night', 0.2766), ('sleep', 0.2369)], [('wines', 0.4409), ('yunyun', 0.4285), ('mortgaged', 0.2608), ('pay', 0.2529), ('lesson', 0.213)], [('candle', 0.5161), ('pound', 0.3822), ('zhao', 0.3818), ('fragrant', 0.38), ('weight', 0.3516)], [('zhao', 0.4076), ('taoist', 0.3929), ('ghosts', 0.3378), ('mansion', 0.316), ('priest', 0.285)], [('san', 0.2857), ('zhao', 0.2806), ('threshold', 0.1659), ('house', 0.136), ('step', 0.1085)], [('wu', 0.56), ('moms', 0.3305), ('asked', 0.2133), ('followed', 0.1829), ('ah', 0.1334)], [('wu', 0.3749), ('shirts', 0.3711), ('cloth', 0.3487), ('workers', 0.291), ('ask', 0.217)], [('zhao', 0.3781), ('shirtless', 0.3571), ('cloth', 0.3444), ('quilt', 0.3252), ('shirt', 0.3243)]]\n"
     ]
    }
   ],
   "source": [
    "keywords_google = []\n",
    "for text in df_google_texts:\n",
    "    extracted_keywords = km_model.extract_keywords(text, keyphrase_ngram_range=(1, 1), stop_words='english')\n",
    "    keywords_google.append(extracted_keywords)\n",
    "print(keywords_google)\n"
   ]
  },
  {
   "cell_type": "code",
   "execution_count": 13,
   "metadata": {},
   "outputs": [
    {
     "name": "stdout",
     "output_type": "stream",
     "text": [
      "[[('victory', 0.4304), ('overcoming', 0.3769), ('conquest', 0.3725), ('superiority', 0.3711), ('slain', 0.3658)], [('snoring', 0.4942), ('nun', 0.4415), ('forefinger', 0.3588), ('thumb', 0.297), ('lain', 0.2796)], [('descendants', 0.4364), ('scripture', 0.4183), ('ancient', 0.3109), ('grave', 0.2777), ('dying', 0.2596)], [('woman', 0.4018), ('thought', 0.204)], [('goose', 0.5018), ('sauce', 0.3668), ('woman', 0.2876), ('thought', 0.1582)], [('snoring', 0.5754), ('asleep', 0.275), ('evening', 0.1403), ('fingertips', 0.1308), ('fell', 0.11)], [('women', 0.4279), ('evil', 0.4067), ('proof', 0.3494), ('irrefutable', 0.3482), ('root', 0.2002)], [('shang', 0.4352), ('zhou', 0.4243), ('zhuo', 0.363), ('qin', 0.3449), ('concubine', 0.3319)], [('nuns', 0.3534), ('heretics', 0.338), ('monks', 0.3303), ('nun', 0.3022), ('ordained', 0.2503)], [('confucius', 0.4579), ('nun', 0.452), ('confucian', 0.3608), ('veiled', 0.3391), ('bewitchingly', 0.3144)], [('woman', 0.5064), ('thinking', 0.38), ('ah', 0.2087), ('went', 0.1023)], [('seduce', 0.3213), ('men', 0.2769), ('women', 0.2768), ('suspected', 0.259), ('hypocrites', 0.2456)], [('lamps', 0.4415), ('lamp', 0.4302), ('zhao', 0.3508), ('husking', 0.3296), ('zhaos', 0.3185)], [('maid', 0.4349), ('dishes', 0.3991), ('zhaos', 0.3964), ('wu', 0.3345), ('mrs', 0.3154)], [('mistress', 0.6221), ('concubine', 0.6154), ('eaten', 0.3214), ('master', 0.2697), ('hasn', 0.2248)], [('widow', 0.5414), ('mrs', 0.4925), ('wu', 0.4704), ('woman', 0.4153), ('young', 0.2359)], [('mistress', 0.6005), ('month', 0.3614), ('baby', 0.3088), ('eighth', 0.2932), ('young', 0.2626)], [('woman', 0.7029)], [('stood', 0.5174), ('pipe', 0.4993), ('ah', 0.2065)], [('wu', 0.5074), ('chattered', 0.5071)], [('rushed', 0.3269), ('sleep', 0.2769), ('suddenly', 0.2397), ('knees', 0.1711), ('ah', 0.1549)], [('shuddering', 0.4346), ('screams', 0.4113), ('stunned', 0.3505), ('silence', 0.3156), ('moment', 0.2151)], [('zhaos', 0.3791), ('bamboo', 0.3129), ('landed', 0.2753), ('village', 0.2692), ('discovered', 0.2626)], [('little', 0.5393), ('filthy', 0.4958)], [('bamboo', 0.4126), ('strike', 0.3457), ('kitchen', 0.3032), ('hands', 0.3014), ('pain', 0.2739)], [('letters', 0.3907), ('bastard', 0.3563), ('invective', 0.3397), ('honoured', 0.2868), ('scholarly', 0.2777)], [('weizhuang', 0.4967), ('husking', 0.4093), ('stinging', 0.3549), ('bamboo', 0.3043), ('fingers', 0.2843)], [('zhao', 0.512), ('house', 0.3305), ('zou', 0.3033), ('courtyard', 0.2679), ('apartments', 0.2506)], [('zhao', 0.4667), ('wu', 0.4071), ('servants', 0.365), ('mrs', 0.3232), ('daughter', 0.2221)], [('zou', 0.4598), ('killing', 0.3606), ('thinks', 0.2988), ('think', 0.2984), ('worse', 0.2825)], [('wu', 0.4704), ('mrs', 0.3828), ('sobs', 0.3513), ('incoherent', 0.2823), ('response', 0.2449)], [('zhao', 0.4691), ('rum', 0.4639), ('bamboo', 0.3819), ('temple', 0.2433), ('stick', 0.2367)], [('zhaos', 0.4057), ('bamboo', 0.3492), ('prickling', 0.295), ('village', 0.2731), ('chested', 0.2656)], [('zhaos', 0.5179), ('servants', 0.3573), ('slept', 0.3385), ('wink', 0.2935), ('mess', 0.2331)], [('constable', 0.407), ('cash', 0.3313), ('mortgaged', 0.2507), ('rate', 0.2459), ('tip', 0.2441)], [('candles', 0.5742), ('incense', 0.46), ('zhaos', 0.4292), ('red', 0.352), ('pound', 0.3286)], [('zhaos', 0.4199), ('spirits', 0.3868), ('priest', 0.3682), ('daoist', 0.3626), ('costs', 0.3236)], [('zhaos', 0.5216), ('foot', 0.43), ('threshold', 0.3707), ('set', 0.2243)], [('wu', 0.4431), ('responsible', 0.3806), ('accident', 0.3509), ('mrs', 0.3108), ('unforeseen', 0.175)], [('shirt', 0.42), ('wages', 0.3962), ('abandon', 0.3066), ('hope', 0.2588), ('recovering', 0.2211)], [('wu', 0.3307), ('zhaos', 0.3306), ('tattered', 0.3096), ('cotton', 0.2981), ('candles', 0.2782)]]\n"
     ]
    }
   ],
   "source": [
    "keywords_yiyun = []\n",
    "for text in df_yiyun_texts:\n",
    "    extracted_keywords = km_model.extract_keywords(text, keyphrase_ngram_range=(1, 1), stop_words='english')\n",
    "    keywords_yiyun.append(extracted_keywords)\n",
    "print(keywords_yiyun)\n"
   ]
  },
  {
   "cell_type": "code",
   "execution_count": 9,
   "metadata": {},
   "outputs": [
    {
     "data": {
      "text/html": [
       "<div>\n",
       "<style scoped>\n",
       "    .dataframe tbody tr th:only-of-type {\n",
       "        vertical-align: middle;\n",
       "    }\n",
       "\n",
       "    .dataframe tbody tr th {\n",
       "        vertical-align: top;\n",
       "    }\n",
       "\n",
       "    .dataframe thead th {\n",
       "        text-align: right;\n",
       "    }\n",
       "</style>\n",
       "<table border=\"1\" class=\"dataframe\">\n",
       "  <thead>\n",
       "    <tr style=\"text-align: right;\">\n",
       "      <th></th>\n",
       "      <th>English_Verse</th>\n",
       "    </tr>\n",
       "  </thead>\n",
       "  <tbody>\n",
       "    <tr>\n",
       "      <th>0</th>\n",
       "      <td>There are, it is said, some victors who deligh...</td>\n",
       "    </tr>\n",
       "    <tr>\n",
       "      <th>1</th>\n",
       "      <td>See him now: walking on air after a busy day o...</td>\n",
       "    </tr>\n",
       "    <tr>\n",
       "      <th>2</th>\n",
       "      <td>‘May you die without descendants!’ echoed in t...</td>\n",
       "    </tr>\n",
       "    <tr>\n",
       "      <th>3</th>\n",
       "      <td>‘Woman...’ he thought. ‘Must... find... woman...</td>\n",
       "    </tr>\n",
       "    <tr>\n",
       "      <th>4</th>\n",
       "      <td>‘Sauce for the goose...’ he thought some more,...</td>\n",
       "    </tr>\n",
       "    <tr>\n",
       "      <th>...</th>\n",
       "      <td>...</td>\n",
       "    </tr>\n",
       "    <tr>\n",
       "      <th>63</th>\n",
       "      <td>‘What’s that under there, then?’ The old nun i...</td>\n",
       "    </tr>\n",
       "    <tr>\n",
       "      <th>64</th>\n",
       "      <td>‘Reckon they’re yours, do you? Do they answer ...</td>\n",
       "    </tr>\n",
       "    <tr>\n",
       "      <th>65</th>\n",
       "      <td>Ah-Q broke into a run, pursued by a sizeable b...</td>\n",
       "    </tr>\n",
       "    <tr>\n",
       "      <th>66</th>\n",
       "      <td>Afraid the dog might be set loose on him, Ah-Q...</td>\n",
       "    </tr>\n",
       "    <tr>\n",
       "      <th>67</th>\n",
       "      <td>In the time it took to eat three turnips, his ...</td>\n",
       "    </tr>\n",
       "  </tbody>\n",
       "</table>\n",
       "<p>68 rows × 1 columns</p>\n",
       "</div>"
      ],
      "text/plain": [
       "                                        English_Verse\n",
       "0   There are, it is said, some victors who deligh...\n",
       "1   See him now: walking on air after a busy day o...\n",
       "2   ‘May you die without descendants!’ echoed in t...\n",
       "3    ‘Woman...’ he thought. ‘Must... find... woman...\n",
       "4   ‘Sauce for the goose...’ he thought some more,...\n",
       "..                                                ...\n",
       "63  ‘What’s that under there, then?’ The old nun i...\n",
       "64  ‘Reckon they’re yours, do you? Do they answer ...\n",
       "65  Ah-Q broke into a run, pursued by a sizeable b...\n",
       "66  Afraid the dog might be set loose on him, Ah-Q...\n",
       "67  In the time it took to eat three turnips, his ...\n",
       "\n",
       "[68 rows x 1 columns]"
      ]
     },
     "execution_count": 9,
     "metadata": {},
     "output_type": "execute_result"
    }
   ],
   "source": [
    "df_yiyun_chap5 = pd.read_csv('/Users/wangxuechun/unsw/UNSW-Thesis-/data_processing/chapter_5_eng_version_yiyun.csv')\n",
    "df_yiyun_chap5.rename(columns={'English_Verse_chap5_yiyun': 'English_Verse'}, inplace=True)\n",
    "df_yiyun_all = pd.concat([df_yiyun, df_yiyun_chap5], ignore_index=True)\n",
    "df_yiyun_all"
   ]
  },
  {
   "cell_type": "code",
   "execution_count": 26,
   "metadata": {},
   "outputs": [
    {
     "name": "stderr",
     "output_type": "stream",
     "text": [
      "huggingface/tokenizers: The current process just got forked, after parallelism has already been used. Disabling parallelism to avoid deadlocks...\n",
      "To disable this warning, you can either:\n",
      "\t- Avoid using `tokenizers` before the fork if possible\n",
      "\t- Explicitly set the environment variable TOKENIZERS_PARALLELISM=(true | false)\n"
     ]
    },
    {
     "name": "stdout",
     "output_type": "stream",
     "text": [
      "Collecting gensim\n",
      "  Downloading gensim-4.3.2-cp310-cp310-macosx_11_0_arm64.whl (24.0 MB)\n",
      "\u001b[2K     \u001b[90m━━━━━━━━━━━━━━━━━━━━━━━━━━━━━━━━━━━━━━━━\u001b[0m \u001b[32m24.0/24.0 MB\u001b[0m \u001b[31m6.6 MB/s\u001b[0m eta \u001b[36m0:00:00\u001b[0m00:01\u001b[0m00:01\u001b[0m\n",
      "\u001b[?25hCollecting smart-open>=1.8.1\n",
      "  Downloading smart_open-7.0.4-py3-none-any.whl (61 kB)\n",
      "\u001b[2K     \u001b[90m━━━━━━━━━━━━━━━━━━━━━━━━━━━━━━━━━━━━━━━━\u001b[0m \u001b[32m61.2/61.2 KB\u001b[0m \u001b[31m4.8 MB/s\u001b[0m eta \u001b[36m0:00:00\u001b[0m\n",
      "\u001b[?25hRequirement already satisfied: scipy>=1.7.0 in /Library/Frameworks/Python.framework/Versions/3.10/lib/python3.10/site-packages (from gensim) (1.12.0)\n",
      "Requirement already satisfied: numpy>=1.18.5 in /Library/Frameworks/Python.framework/Versions/3.10/lib/python3.10/site-packages (from gensim) (1.26.1)\n",
      "Requirement already satisfied: wrapt in /Library/Frameworks/Python.framework/Versions/3.10/lib/python3.10/site-packages (from smart-open>=1.8.1->gensim) (1.14.1)\n",
      "Installing collected packages: smart-open, gensim\n",
      "Successfully installed gensim-4.3.2 smart-open-7.0.4\n",
      "\u001b[33mWARNING: You are using pip version 22.0.4; however, version 24.0 is available.\n",
      "You should consider upgrading via the '/usr/local/bin/python3 -m pip install --upgrade pip' command.\u001b[0m\u001b[33m\n",
      "\u001b[0mNote: you may need to restart the kernel to use updated packages.\n"
     ]
    }
   ],
   "source": [
    "%pip install gensim\n"
   ]
  },
  {
   "cell_type": "code",
   "execution_count": 6,
   "metadata": {},
   "outputs": [],
   "source": [
    "import gensim\n",
    "from gensim.utils import simple_preprocess"
   ]
  },
  {
   "cell_type": "code",
   "execution_count": 32,
   "metadata": {},
   "outputs": [
    {
     "name": "stderr",
     "output_type": "stream",
     "text": [
      "[nltk_data] Downloading package stopwords to\n",
      "[nltk_data]     /Users/wangxuechun/nltk_data...\n",
      "[nltk_data]   Package stopwords is already up-to-date!\n"
     ]
    }
   ],
   "source": [
    "import re\n",
    "import pandas as pd\n",
    "import nltk\n",
    "from nltk.corpus import stopwords\n",
    "from nltk import ngrams\n",
    "from gensim.utils import simple_preprocess\n",
    "\n",
    "nltk.download('stopwords')\n",
    "\n",
    "stop_words = stopwords.words('english')\n",
    "newStopWords = ['ah', 'q', 'i']\n",
    "stop_words.extend(newStopWords)\n",
    "\n",
    "def remove_stopwords(tweets):\n",
    "    return [[word for word in simple_preprocess(str(tweet), deacc=True) if word not in stop_words] for tweet in tweets]\n",
    "\n",
    "def preprocessing(df):\n",
    "    df['English_Verse'] = df['English_Verse'].str.lower()  # Convert to lowercase\n",
    "    df['English_Verse'] = df['English_Verse'].str.replace(\"[^a-zA-Z#]\", \" \")  # Remove punctuations\n",
    "    df['English_Verse'] = df['English_Verse'].apply(lambda x: ' '.join([w for w in x.split() if len(w) > 3]))  # Remove short words\n",
    "    df['Tweet tokens'] = df['English_Verse'].apply(lambda x: remove_stopwords([x])[0])\n",
    "    df['tokens_no_stop_joined'] = df['Tweet tokens'].apply(lambda x: ' '.join(x))\n",
    "    return df\n",
    "\n",
    "def retrieve_text(df):\n",
    "    doc = '. '.join(df['tokens_no_stop_joined'])\n",
    "    return doc\n",
    "\n",
    "def ngrams_series_func(data, n):\n",
    "    wordList = re.sub(\"[^\\w]\", \" \", data).split()\n",
    "    ngrams_series = (pd.Series(nltk.ngrams(wordList, n)).value_counts())[:10]\n",
    "    return ngrams_series\n",
    "\n",
    "     "
   ]
  },
  {
   "cell_type": "code",
   "execution_count": 26,
   "metadata": {},
   "outputs": [
    {
     "data": {
      "text/html": [
       "<div>\n",
       "<style scoped>\n",
       "    .dataframe tbody tr th:only-of-type {\n",
       "        vertical-align: middle;\n",
       "    }\n",
       "\n",
       "    .dataframe tbody tr th {\n",
       "        vertical-align: top;\n",
       "    }\n",
       "\n",
       "    .dataframe thead th {\n",
       "        text-align: right;\n",
       "    }\n",
       "</style>\n",
       "<table border=\"1\" class=\"dataframe\">\n",
       "  <thead>\n",
       "    <tr style=\"text-align: right;\">\n",
       "      <th></th>\n",
       "      <th>English_Verse</th>\n",
       "      <th>Tweet tokens</th>\n",
       "      <th>tokens_no_stop_joined</th>\n",
       "    </tr>\n",
       "  </thead>\n",
       "  <tbody>\n",
       "    <tr>\n",
       "      <th>0</th>\n",
       "      <td>there are, said, some victors delight only vic...</td>\n",
       "      <td>[said, victors, delight, victory, worthy, adve...</td>\n",
       "      <td>said victors delight victory worthy adversarie...</td>\n",
       "    </tr>\n",
       "    <tr>\n",
       "      <th>1</th>\n",
       "      <td>now: walking after busy moral victory! this la...</td>\n",
       "      <td>[walking, busy, moral, victory, latest, victor...</td>\n",
       "      <td>walking busy moral victory latest victory howe...</td>\n",
       "    </tr>\n",
       "    <tr>\n",
       "      <th>2</th>\n",
       "      <td>‘may without descendants!’ echoed cathedral ah...</td>\n",
       "      <td>[may, without, descendants, echoed, cathedral,...</td>\n",
       "      <td>may without descendants echoed cathedral mind ...</td>\n",
       "    </tr>\n",
       "    <tr>\n",
       "      <th>3</th>\n",
       "      <td>‘woman...’ thought. ‘must... find... woman...</td>\n",
       "      <td>[woman, thought, must, find, woman]</td>\n",
       "      <td>woman thought must find woman</td>\n",
       "    </tr>\n",
       "    <tr>\n",
       "      <th>4</th>\n",
       "      <td>‘sauce goose...’ thought some more, ‘... must....</td>\n",
       "      <td>[sauce, goose, thought, must, find, woman]</td>\n",
       "      <td>sauce goose thought must find woman</td>\n",
       "    </tr>\n",
       "    <tr>\n",
       "      <th>...</th>\n",
       "      <td>...</td>\n",
       "      <td>...</td>\n",
       "      <td>...</td>\n",
       "    </tr>\n",
       "    <tr>\n",
       "      <th>63</th>\n",
       "      <td>‘what’s that under there, then?’ indicated pro...</td>\n",
       "      <td>[indicated, protuberance, beneath, jacket]</td>\n",
       "      <td>indicated protuberance beneath jacket</td>\n",
       "    </tr>\n",
       "    <tr>\n",
       "      <th>64</th>\n",
       "      <td>‘reckon they’re yours, you? they answer call t...</td>\n",
       "      <td>[reckon, answer, call]</td>\n",
       "      <td>reckon answer call</td>\n",
       "    </tr>\n",
       "    <tr>\n",
       "      <th>65</th>\n",
       "      <td>ah-q broke into run, pursued sizeable black us...</td>\n",
       "      <td>[broke, run, pursued, sizeable, black, usually...</td>\n",
       "      <td>broke run pursued sizeable black usually stati...</td>\n",
       "    </tr>\n",
       "    <tr>\n",
       "      <th>66</th>\n",
       "      <td>afraid might loose him, ah-q gathered trophies...</td>\n",
       "      <td>[afraid, might, loose, gathered, trophies, pic...</td>\n",
       "      <td>afraid might loose gathered trophies picking s...</td>\n",
       "    </tr>\n",
       "    <tr>\n",
       "      <th>67</th>\n",
       "      <td>time took three turnips, mind made</td>\n",
       "      <td>[time, took, three, turnips, mind, made]</td>\n",
       "      <td>time took three turnips mind made</td>\n",
       "    </tr>\n",
       "  </tbody>\n",
       "</table>\n",
       "<p>68 rows × 3 columns</p>\n",
       "</div>"
      ],
      "text/plain": [
       "                                        English_Verse  \\\n",
       "0   there are, said, some victors delight only vic...   \n",
       "1   now: walking after busy moral victory! this la...   \n",
       "2   ‘may without descendants!’ echoed cathedral ah...   \n",
       "3       ‘woman...’ thought. ‘must... find... woman...   \n",
       "4   ‘sauce goose...’ thought some more, ‘... must....   \n",
       "..                                                ...   \n",
       "63  ‘what’s that under there, then?’ indicated pro...   \n",
       "64  ‘reckon they’re yours, you? they answer call t...   \n",
       "65  ah-q broke into run, pursued sizeable black us...   \n",
       "66  afraid might loose him, ah-q gathered trophies...   \n",
       "67                 time took three turnips, mind made   \n",
       "\n",
       "                                         Tweet tokens  \\\n",
       "0   [said, victors, delight, victory, worthy, adve...   \n",
       "1   [walking, busy, moral, victory, latest, victor...   \n",
       "2   [may, without, descendants, echoed, cathedral,...   \n",
       "3                 [woman, thought, must, find, woman]   \n",
       "4          [sauce, goose, thought, must, find, woman]   \n",
       "..                                                ...   \n",
       "63         [indicated, protuberance, beneath, jacket]   \n",
       "64                             [reckon, answer, call]   \n",
       "65  [broke, run, pursued, sizeable, black, usually...   \n",
       "66  [afraid, might, loose, gathered, trophies, pic...   \n",
       "67           [time, took, three, turnips, mind, made]   \n",
       "\n",
       "                                tokens_no_stop_joined  \n",
       "0   said victors delight victory worthy adversarie...  \n",
       "1   walking busy moral victory latest victory howe...  \n",
       "2   may without descendants echoed cathedral mind ...  \n",
       "3                       woman thought must find woman  \n",
       "4                 sauce goose thought must find woman  \n",
       "..                                                ...  \n",
       "63              indicated protuberance beneath jacket  \n",
       "64                                 reckon answer call  \n",
       "65  broke run pursued sizeable black usually stati...  \n",
       "66  afraid might loose gathered trophies picking s...  \n",
       "67                  time took three turnips mind made  \n",
       "\n",
       "[68 rows x 3 columns]"
      ]
     },
     "execution_count": 26,
     "metadata": {},
     "output_type": "execute_result"
    }
   ],
   "source": [
    "df_ngrams_yiyun = pd.DataFrame(df_yiyun_all)\n",
    "df_ngrams_yiyun = preprocessing(df_ngrams_yiyun)\n",
    "df_ngrams_yiyun\n"
   ]
  },
  {
   "cell_type": "code",
   "execution_count": 27,
   "metadata": {},
   "outputs": [
    {
     "name": "stdout",
     "output_type": "stream",
     "text": [
      "said victors delight victory worthy adversaries conquest weak stupid dust ashes mouths others overcoming everything everyone path field strewn corpses slain obeisances surrendered enemy left fight friend celebrate feel desolate solitude victory weakness inexhaustible delight susceptible living proof perhaps global superiority chinese civilization. walking busy moral victory latest victory however bring unusual twist tail eventually floated temple earth grain according well established custom immediately lain begun snoring inexplicably however particular evening difficulty keeping eyes closed something curious thumb forefinger felt softer silkier usual something nun face attached fingers face rubbed smooth. may without descendants echoed cathedral mind quite right thought ought woman without descendants offer bowl rice grave woman need words ancient sages three ways betraying parents dying without descendants serious without descendants become hungry ghosts thinking point therefore fully line scripture pity approach resolving difficulty erred unorthodox side. woman thought must find woman. sauce goose thought must find woman. exactly began snoring evening reliable information point certain fell asleep light headed feeling satiny smoothness still fingertips woman. irrefutable proof women root evil. great majority chinese history would become saints sages ruined women first look shang dynasty destroyed licentious concubine performed service zhou dynasty well sources entirely unequivocal surmise woman involved somewhere probably wandering truth moving swiftly attested fact later han course another concubine diao chan dong zhuo death. point career blessed character rigid uprightness although knowing whether ever received personal moral guidance celebrated spiritual authority always strictly upheld classically ordained prohibitions concerning segregation sexes rejected righteous bile conduct heretics young fake foreign devil nuns affairs monks woman walking streets designs strange men woman conversation wherever must good always disciplining angry glare sentences penetrating criticism nobody else would cast pebble behind. thirty year confucius enjoined stand firm losing head thoroughly un confucian way nun abominable creatures women truly nun face bewitchingly smooth modestly veiled would turn submitted bewitched five years past wedged within packed opera audience taken opportunity pinch woman thigh intervening trousers protected debilitating light headedness heretic vixen nun shameless naked face. woman went thinking. often kept women suspected designs strange close surveillance never smiled also listened carefully women spoke never tried seduce either proof female perfidy hypocrites pretending pure driven snow. evening spent husking rice zhao kitchen smoking postprandial pipe tobacco households casual labour went back home dinner zhaos dinner served early exceptions occasionally made rule keeping lamps dinner zhaos eldest revising examinations allowed lamp study evening hired jobs permitted lamp rice husking dark came sitting kitchen taking time pipe went back work. dishes done zhaos maid bench chat. mistress eaten days master going concubine. woman wu thought still young widow. young mistress baby eighth month. woman. pipe stood. chattered. sleep suddenly rushed forward dropping knees. moment stunned silence fled room shuddering screams rippled sobs. staring perplexedly wall still knees placed hands empty bench propelled slowly back feet assailed sense could somehow handled things better distractedly tucked pipe belt decided return rice husking moment heavy object landed thump head spinning round discovered village genius zhaos eldest standing front holding large bamboo pole. filthy little. came bamboo covering head hands took weight blows directly joints fingers caused little pain rushed kitchen taking valedictory strike back went. bastard letters honoured touch scholarly invective. fingers still stinging took solitary refuge rice husking room feeling deeply unsettled bastard common garden term abuse around weizhuang usage favoured well official connections longer mood romance since bamboo expletive seemed brought whole matter close husking heavy weight lifted mind soon beginning overheat exertion work paused remove layers clothing. heard great commotion outside loved nothing better spectacle went search noise drew inexorably inner courtyard around zhao apartments arranged although dusk fallen could still make many assembled company resident members zhao clan including hunger striking lady house next door couple slightly distant relatives zhao baiyan zhao sichen. come zhao daughter law trying coax servants quarters upset. thinks worse interpolated think killing. wu response incoherent sobs. rum thought sidled zhao sichen hope learning became swiftly aware rapid approach zhao holding thick bamboo stick reminded thrashing long received zhao junior deduced present lively situation might something turning exit back husking floor found path blocked stick logically enough decided leave back door soon found back inside temple earth grain. sitting began feel goose bumps prickling skin spring nights still warm enough comfortably bare chested remembered left shirt zhaos memory bamboo discouraged trying retrieve point village constable enter. damn even keep hands zhaos servants slept wink tonight thanks mess damn. went lecturing various misdeeds latter naturally nothing say meeting drew conclusion constable four hundred coppers double usual rate called night since cash mortgaged felt hat obliged sign following five conditions. take pair candles pound packet incense zhaos tomorrow apology. cover costs daoist priest zhaos hired exorcize evil spirits. never foot ever zhaos threshold. accident unforeseen kind subsequently befall alone would held responsible. abandon hope recovering wages shirt. regrettably lacked funds make good indemnity happy coincidence spring able without cotton quilt pawned thousand coppers enabling fulfil demands peace treaty kowtowing bare chested found coppers left chose blow wine rather redeem felt hat zhaos burn candles incense right away preferring keep mistress house next paid respects buddha tattered shirt recycled nappies baby born younger mistress eighth month cuts used soles shoes. time dues paid made back temple earth grain gone beginning feel slight malaise eventually dawned root cause absence shirt remembering still possession ragged cotton jacket draped shoulders next opened eyes sun rays beating wall facing west damn muttered sitting. wander streets usually although felt particular physical discomfort result lack clothing half something seemed strike quite right world women weizhuang seemed suddenly timid darting doorways seeing approach even fifty would take shelter like rest pulling ten year old daughter whores mused curiously acting like vestal virgins sudden. took little longer however sense quite rightness take firm hold one tavern began refuse credit two babbling nonsense caretaker temple earth grain seemed ordering premises three days many exactly quite say good number hired refused credit tavern something could chased temple temporary inconvenience work stomach bitterly complained indeed confounded nuisance. could stand longer obliged make inquiries employers except zhaos whose gate banned things seemed different furious looking would always stalk tell lost though beggar. extraordinary pondered families always clamouring casual labour seemed nothing going smelt rat careful investigation around employers revealed work done called upon another individual whose name posterity precisely recorded using tried tested method leave impoverished runt whose position great hierarchy things somewhere hairy wang never worst nightmares would dreamt utter weed would make bowl rice cause fury stormed waving fist bursting spontaneously song reprising line favourite operas battle dragon tiger. thrash mace yes. days later last encountered opposite main gate qians eyes gleaming antagonistic recognition advanced holding ground. pig glared spittle flying. negotiated slug. pleasing show modesty succeeded intensifying rage forced improvise absence mace rushed forward grab hold queue opponent left hand protecting base pigtail attacking queue although would given instant pause pathetic recent hard times fallen reduced comparable physical state pretty much match good half hour remained locked struggle hand assaulting queue backs curved blue arch whitewashed front wall qian household. right right audience interjected perhaps arbitrate perhaps express approval perhaps stir things. adversaries deaf surroundings would advance three paces retreat many standstill would reached would retake three steps time retreating standstill maybe another half hour striking clocks weizhuang hard precise subject could twenty minutes hair steaming foreheads running sweat exact instant relaxed grip straightening stepped back pushed crowd. let lesson tossed shoulder. let lesson came reply. certain lack clarity closure particular battle dragon tiger weizhuang victor vanquished audience satisfied performance particular opinion expressed either way still hired labourer. unusually mild day breeze seemed breath summer began feel cold minded hunger stand first quilt felt shirt gone padded jacket sold left trousers ragged cotton jacket nobody would want except making shoe soles dreamt finding money road never dreamt finding coin dilapidated room living frantic search yielded nothing decided search sustenance. walked past familiar sights tavern trays steamed rolls without pausing without registering twinge desire either searching something else though something say. weizhuang place soon enough reached village fringed paddy fields busy pale green shoots occasional black wove among farmers working land without stopping appreciate pastoral idyll went still intuited quest food eventually neared convent quiet cultivation. convent whitewashed walls emerged unexpectedly fresh green fields surrounded vegetable garden tucked inside earthen wall back hesitated glancing around nobody scaling garden wall hauling bunch knotweed surface wall crumbled feet began tremble beneath managed scramble incidental mulberry tree though garden within lush vegetation seemed wine steamed rolls indeed anything else edible sight copse bamboo lined western wall shoots visible base unfortunately needed cooking first elsewhere bolting oilseed rape flowering mustard greens pak choi past first flush youth. prowled garden gate feeling keen sense injustice however joyful surprise awaited elderly turnips squatted tugged round head suddenly popped gate shrank back enemy young nun even though always scrupulous never slightest respect people young nuns discretion sometimes turns better part valour uprooting four turnips fast could twisted green outer leaves tucked jacket time greet nun. buddha garden stealing turnips stop thief. stealing turnips said edging away. indicated protuberance beneath jacket. reckon answer call. broke run pursued sizeable black usually stationed front gate found back garden mystery dog fangs snarled inches leg turnip happily fell jacket giving creature brief pause long enough scramble back mulberry tree earthen wall hurl together surviving turnips ground beyond leaving black barking tree chanted prayers. afraid might loose gathered trophies picking small stones road went along black made reappearance discarding stones turnips walked nothing thought time luck town. time took three turnips mind made\n"
     ]
    }
   ],
   "source": [
    "text = retrieve_text(df_ngrams_yiyun)\n",
    "print(text)"
   ]
  },
  {
   "cell_type": "code",
   "execution_count": 28,
   "metadata": {},
   "outputs": [],
   "source": [
    "import re\n",
    "import matplotlib.pyplot as plt\n"
   ]
  },
  {
   "cell_type": "code",
   "execution_count": 31,
   "metadata": {},
   "outputs": [
    {
     "data": {
      "text/plain": [
       "Text(0, 0.5, '')"
      ]
     },
     "execution_count": 31,
     "metadata": {},
     "output_type": "execute_result"
    },
    {
     "data": {
      "image/png": "[encoded data removed]",
      "text/plain": [
       "<Figure size 800x800 with 1 Axes>"
      ]
     },
     "metadata": {},
     "output_type": "display_data"
    }
   ],
   "source": [
    "bigram1 = ngrams_series_func(text, 2)\n",
    "trigram1 = ngrams_series_func(text, 3)\n",
    "\n",
    "\n",
    "\n",
    "ngram1 = pd.concat([bigram1, trigram1])\n",
    "barstyle = {'width': 0.5, 'edgecolor': 'black'}\n",
    "\n",
    "plt.rcParams.update({'font.size': 14})\n",
    "#fig, ax=plt.subplots(1,2, figsize=(16,8), gridspec_kw = {'width_ratios':[1,1], 'wspace':0.1, 'hspace':0.1})\n",
    "fig, ax=plt.subplots(1,1, figsize=(8,8))\n",
    "\n",
    "#barh_ax = ax[0]\n",
    "barh_ax = ax\n",
    "\n",
    "ngram1[::-1].plot.barh(ax=barh_ax, color= 'skyblue',**barstyle)\n",
    "barh_ax.yaxis.set_label_position(\"left\")\n",
    "barh_ax.xaxis.tick_top()\n",
    "barh_ax.xaxis.set_label_position(\"bottom\")\n",
    "barh_ax.set_xlim(barh_ax.get_xlim()[::-1])\n",
    "barh_ax.set_xlabel('\\n YiYun')\n",
    "barh_ax.set_ylabel('',fontsize=50)"
   ]
  }
 ],
 "metadata": {
  "kernelspec": {
   "display_name": "Python 3",
   "language": "python",
   "name": "python3"
  },
  "language_info": {
   "codemirror_mode": {
    "name": "ipython",
    "version": 3
   },
   "file_extension": ".py",
   "mimetype": "text/x-python",
   "name": "python",
   "nbconvert_exporter": "python",
   "pygments_lexer": "ipython3",
   "version": "3.10.5"
  }
 },
 "nbformat": 4,
 "nbformat_minor": 2
}
