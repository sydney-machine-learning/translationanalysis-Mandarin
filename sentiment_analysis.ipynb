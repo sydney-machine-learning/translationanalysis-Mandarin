{
 "cells": [
  {
   "cell_type": "code",
   "execution_count": 1,
   "metadata": {},
   "outputs": [
    {
     "name": "stdout",
     "output_type": "stream",
     "text": [
      "Requirement already satisfied: tensorflow in /Library/Frameworks/Python.framework/Versions/3.10/lib/python3.10/site-packages (2.15.0)\n",
      "Requirement already satisfied: tensorflow-macos==2.15.0 in /Library/Frameworks/Python.framework/Versions/3.10/lib/python3.10/site-packages (from tensorflow) (2.15.0)\n",
      "Requirement already satisfied: absl-py>=1.0.0 in /Library/Frameworks/Python.framework/Versions/3.10/lib/python3.10/site-packages (from tensorflow-macos==2.15.0->tensorflow) (2.1.0)\n",
      "Requirement already satisfied: keras<2.16,>=2.15.0 in /Library/Frameworks/Python.framework/Versions/3.10/lib/python3.10/site-packages (from tensorflow-macos==2.15.0->tensorflow) (2.15.0)\n",
      "Requirement already satisfied: gast!=0.5.0,!=0.5.1,!=0.5.2,>=0.2.1 in /Library/Frameworks/Python.framework/Versions/3.10/lib/python3.10/site-packages (from tensorflow-macos==2.15.0->tensorflow) (0.5.4)\n",
      "Requirement already satisfied: tensorflow-io-gcs-filesystem>=0.23.1 in /Library/Frameworks/Python.framework/Versions/3.10/lib/python3.10/site-packages (from tensorflow-macos==2.15.0->tensorflow) (0.34.0)\n",
      "Requirement already satisfied: h5py>=2.9.0 in /Library/Frameworks/Python.framework/Versions/3.10/lib/python3.10/site-packages (from tensorflow-macos==2.15.0->tensorflow) (3.10.0)\n",
      "Requirement already satisfied: tensorflow-estimator<2.16,>=2.15.0 in /Library/Frameworks/Python.framework/Versions/3.10/lib/python3.10/site-packages (from tensorflow-macos==2.15.0->tensorflow) (2.15.0)\n",
      "Requirement already satisfied: setuptools in /Library/Frameworks/Python.framework/Versions/3.10/lib/python3.10/site-packages (from tensorflow-macos==2.15.0->tensorflow) (58.1.0)\n",
      "Requirement already satisfied: google-pasta>=0.1.1 in /Library/Frameworks/Python.framework/Versions/3.10/lib/python3.10/site-packages (from tensorflow-macos==2.15.0->tensorflow) (0.2.0)\n",
      "Requirement already satisfied: tensorboard<2.16,>=2.15 in /Library/Frameworks/Python.framework/Versions/3.10/lib/python3.10/site-packages (from tensorflow-macos==2.15.0->tensorflow) (2.15.1)\n",
      "Requirement already satisfied: typing-extensions>=3.6.6 in /Library/Frameworks/Python.framework/Versions/3.10/lib/python3.10/site-packages (from tensorflow-macos==2.15.0->tensorflow) (4.9.0)\n",
      "Requirement already satisfied: ml-dtypes~=0.2.0 in /Library/Frameworks/Python.framework/Versions/3.10/lib/python3.10/site-packages (from tensorflow-macos==2.15.0->tensorflow) (0.2.0)\n",
      "Requirement already satisfied: termcolor>=1.1.0 in /Library/Frameworks/Python.framework/Versions/3.10/lib/python3.10/site-packages (from tensorflow-macos==2.15.0->tensorflow) (2.4.0)\n",
      "Requirement already satisfied: grpcio<2.0,>=1.24.3 in /Library/Frameworks/Python.framework/Versions/3.10/lib/python3.10/site-packages (from tensorflow-macos==2.15.0->tensorflow) (1.60.0)\n",
      "Requirement already satisfied: wrapt<1.15,>=1.11.0 in /Library/Frameworks/Python.framework/Versions/3.10/lib/python3.10/site-packages (from tensorflow-macos==2.15.0->tensorflow) (1.14.1)\n",
      "Requirement already satisfied: flatbuffers>=23.5.26 in /Library/Frameworks/Python.framework/Versions/3.10/lib/python3.10/site-packages (from tensorflow-macos==2.15.0->tensorflow) (23.5.26)\n",
      "Requirement already satisfied: packaging in /Library/Frameworks/Python.framework/Versions/3.10/lib/python3.10/site-packages (from tensorflow-macos==2.15.0->tensorflow) (21.3)\n",
      "Requirement already satisfied: numpy<2.0.0,>=1.23.5 in /Library/Frameworks/Python.framework/Versions/3.10/lib/python3.10/site-packages (from tensorflow-macos==2.15.0->tensorflow) (1.26.1)\n",
      "Requirement already satisfied: libclang>=13.0.0 in /Library/Frameworks/Python.framework/Versions/3.10/lib/python3.10/site-packages (from tensorflow-macos==2.15.0->tensorflow) (16.0.6)\n",
      "Requirement already satisfied: six>=1.12.0 in /Library/Frameworks/Python.framework/Versions/3.10/lib/python3.10/site-packages (from tensorflow-macos==2.15.0->tensorflow) (1.16.0)\n",
      "Requirement already satisfied: opt-einsum>=2.3.2 in /Library/Frameworks/Python.framework/Versions/3.10/lib/python3.10/site-packages (from tensorflow-macos==2.15.0->tensorflow) (3.3.0)\n",
      "Requirement already satisfied: protobuf!=4.21.0,!=4.21.1,!=4.21.2,!=4.21.3,!=4.21.4,!=4.21.5,<5.0.0dev,>=3.20.3 in /Library/Frameworks/Python.framework/Versions/3.10/lib/python3.10/site-packages (from tensorflow-macos==2.15.0->tensorflow) (4.23.4)\n",
      "Requirement already satisfied: astunparse>=1.6.0 in /Library/Frameworks/Python.framework/Versions/3.10/lib/python3.10/site-packages (from tensorflow-macos==2.15.0->tensorflow) (1.6.3)\n",
      "Requirement already satisfied: wheel<1.0,>=0.23.0 in /Library/Frameworks/Python.framework/Versions/3.10/lib/python3.10/site-packages (from astunparse>=1.6.0->tensorflow-macos==2.15.0->tensorflow) (0.42.0)\n",
      "Requirement already satisfied: google-auth<3,>=1.6.3 in /Library/Frameworks/Python.framework/Versions/3.10/lib/python3.10/site-packages (from tensorboard<2.16,>=2.15->tensorflow-macos==2.15.0->tensorflow) (2.26.2)\n",
      "Requirement already satisfied: google-auth-oauthlib<2,>=0.5 in /Library/Frameworks/Python.framework/Versions/3.10/lib/python3.10/site-packages (from tensorboard<2.16,>=2.15->tensorflow-macos==2.15.0->tensorflow) (1.2.0)\n",
      "Requirement already satisfied: requests<3,>=2.21.0 in /Library/Frameworks/Python.framework/Versions/3.10/lib/python3.10/site-packages (from tensorboard<2.16,>=2.15->tensorflow-macos==2.15.0->tensorflow) (2.31.0)\n",
      "Requirement already satisfied: tensorboard-data-server<0.8.0,>=0.7.0 in /Library/Frameworks/Python.framework/Versions/3.10/lib/python3.10/site-packages (from tensorboard<2.16,>=2.15->tensorflow-macos==2.15.0->tensorflow) (0.7.2)\n",
      "Requirement already satisfied: werkzeug>=1.0.1 in /Library/Frameworks/Python.framework/Versions/3.10/lib/python3.10/site-packages (from tensorboard<2.16,>=2.15->tensorflow-macos==2.15.0->tensorflow) (3.0.1)\n",
      "Requirement already satisfied: markdown>=2.6.8 in /Library/Frameworks/Python.framework/Versions/3.10/lib/python3.10/site-packages (from tensorboard<2.16,>=2.15->tensorflow-macos==2.15.0->tensorflow) (3.5.2)\n",
      "Requirement already satisfied: pyparsing!=3.0.5,>=2.0.2 in /Library/Frameworks/Python.framework/Versions/3.10/lib/python3.10/site-packages (from packaging->tensorflow-macos==2.15.0->tensorflow) (3.0.9)\n",
      "Requirement already satisfied: pyasn1-modules>=0.2.1 in /Library/Frameworks/Python.framework/Versions/3.10/lib/python3.10/site-packages (from google-auth<3,>=1.6.3->tensorboard<2.16,>=2.15->tensorflow-macos==2.15.0->tensorflow) (0.3.0)\n",
      "Requirement already satisfied: cachetools<6.0,>=2.0.0 in /Library/Frameworks/Python.framework/Versions/3.10/lib/python3.10/site-packages (from google-auth<3,>=1.6.3->tensorboard<2.16,>=2.15->tensorflow-macos==2.15.0->tensorflow) (5.3.2)\n",
      "Requirement already satisfied: rsa<5,>=3.1.4 in /Library/Frameworks/Python.framework/Versions/3.10/lib/python3.10/site-packages (from google-auth<3,>=1.6.3->tensorboard<2.16,>=2.15->tensorflow-macos==2.15.0->tensorflow) (4.9)\n",
      "Requirement already satisfied: requests-oauthlib>=0.7.0 in /Library/Frameworks/Python.framework/Versions/3.10/lib/python3.10/site-packages (from google-auth-oauthlib<2,>=0.5->tensorboard<2.16,>=2.15->tensorflow-macos==2.15.0->tensorflow) (1.3.1)\n",
      "Requirement already satisfied: idna<4,>=2.5 in /Library/Frameworks/Python.framework/Versions/3.10/lib/python3.10/site-packages (from requests<3,>=2.21.0->tensorboard<2.16,>=2.15->tensorflow-macos==2.15.0->tensorflow) (2.10)\n",
      "Requirement already satisfied: charset-normalizer<4,>=2 in /Library/Frameworks/Python.framework/Versions/3.10/lib/python3.10/site-packages (from requests<3,>=2.21.0->tensorboard<2.16,>=2.15->tensorflow-macos==2.15.0->tensorflow) (3.3.2)\n",
      "Requirement already satisfied: certifi>=2017.4.17 in /Library/Frameworks/Python.framework/Versions/3.10/lib/python3.10/site-packages (from requests<3,>=2.21.0->tensorboard<2.16,>=2.15->tensorflow-macos==2.15.0->tensorflow) (2023.7.22)\n",
      "Requirement already satisfied: urllib3<3,>=1.21.1 in /Library/Frameworks/Python.framework/Versions/3.10/lib/python3.10/site-packages (from requests<3,>=2.21.0->tensorboard<2.16,>=2.15->tensorflow-macos==2.15.0->tensorflow) (2.1.0)\n",
      "Requirement already satisfied: MarkupSafe>=2.1.1 in /Library/Frameworks/Python.framework/Versions/3.10/lib/python3.10/site-packages (from werkzeug>=1.0.1->tensorboard<2.16,>=2.15->tensorflow-macos==2.15.0->tensorflow) (2.1.1)\n",
      "Requirement already satisfied: pyasn1<0.6.0,>=0.4.6 in /Library/Frameworks/Python.framework/Versions/3.10/lib/python3.10/site-packages (from pyasn1-modules>=0.2.1->google-auth<3,>=1.6.3->tensorboard<2.16,>=2.15->tensorflow-macos==2.15.0->tensorflow) (0.5.1)\n",
      "Requirement already satisfied: oauthlib>=3.0.0 in /Library/Frameworks/Python.framework/Versions/3.10/lib/python3.10/site-packages (from requests-oauthlib>=0.7.0->google-auth-oauthlib<2,>=0.5->tensorboard<2.16,>=2.15->tensorflow-macos==2.15.0->tensorflow) (3.2.2)\n",
      "\u001b[33mWARNING: You are using pip version 22.0.4; however, version 23.3.2 is available.\n",
      "You should consider upgrading via the '/usr/local/bin/python3 -m pip install --upgrade pip' command.\u001b[0m\u001b[33m\n",
      "\u001b[0mNote: you may need to restart the kernel to use updated packages.\n"
     ]
    }
   ],
   "source": [
    "%pip install tensorflow\n",
    "                           "
   ]
  },
  {
   "cell_type": "code",
   "execution_count": 5,
   "metadata": {},
   "outputs": [
    {
     "name": "stdout",
     "output_type": "stream",
     "text": [
      "Collecting matplotlib\n",
      "  Downloading matplotlib-3.8.2-cp310-cp310-macosx_11_0_arm64.whl (7.5 MB)\n",
      "\u001b[2K     \u001b[90m━━━━━━━━━━━━━━━━━━━━━━━━━━━━━━━━━━━━━━━━\u001b[0m \u001b[32m7.5/7.5 MB\u001b[0m \u001b[31m1.7 MB/s\u001b[0m eta \u001b[36m0:00:00\u001b[0m00:01\u001b[0m00:01\u001b[0m0m\n",
      "\u001b[?25hRequirement already satisfied: packaging>=20.0 in /Library/Frameworks/Python.framework/Versions/3.10/lib/python3.10/site-packages (from matplotlib) (21.3)\n",
      "Requirement already satisfied: numpy<2,>=1.21 in /Library/Frameworks/Python.framework/Versions/3.10/lib/python3.10/site-packages (from matplotlib) (1.26.1)\n",
      "Requirement already satisfied: pyparsing>=2.3.1 in /Library/Frameworks/Python.framework/Versions/3.10/lib/python3.10/site-packages (from matplotlib) (3.0.9)\n",
      "Collecting pillow>=8\n",
      "  Downloading pillow-10.2.0-cp310-cp310-macosx_11_0_arm64.whl (3.3 MB)\n",
      "\u001b[2K     \u001b[90m━━━━━━━━━━━━━━━━━━━━━━━━━━━━━━━━━━━━━━━━\u001b[0m \u001b[32m3.3/3.3 MB\u001b[0m \u001b[31m2.1 MB/s\u001b[0m eta \u001b[36m0:00:00\u001b[0ma \u001b[36m0:00:01\u001b[0m\n",
      "\u001b[?25hCollecting cycler>=0.10\n",
      "  Downloading cycler-0.12.1-py3-none-any.whl (8.3 kB)\n",
      "Collecting kiwisolver>=1.3.1\n",
      "  Downloading kiwisolver-1.4.5-cp310-cp310-macosx_11_0_arm64.whl (66 kB)\n",
      "\u001b[2K     \u001b[90m━━━━━━━━━━━━━━━━━━━━━━━━━━━━━━━━━━━━━━━━\u001b[0m \u001b[32m66.2/66.2 KB\u001b[0m \u001b[31m5.1 MB/s\u001b[0m eta \u001b[36m0:00:00\u001b[0m\n",
      "\u001b[?25hRequirement already satisfied: python-dateutil>=2.7 in /Library/Frameworks/Python.framework/Versions/3.10/lib/python3.10/site-packages (from matplotlib) (2.8.2)\n",
      "Collecting fonttools>=4.22.0\n",
      "  Downloading fonttools-4.47.2-cp310-cp310-macosx_10_9_universal2.whl (2.8 MB)\n",
      "\u001b[2K     \u001b[90m━━━━━━━━━━━━━━━━━━━━━━━━━━━━━━━━━━━━━━━━\u001b[0m \u001b[32m2.8/2.8 MB\u001b[0m \u001b[31m1.8 MB/s\u001b[0m eta \u001b[36m0:00:00\u001b[0ma \u001b[36m0:00:01\u001b[0m\n",
      "\u001b[?25hCollecting contourpy>=1.0.1\n",
      "  Downloading contourpy-1.2.0-cp310-cp310-macosx_11_0_arm64.whl (242 kB)\n",
      "\u001b[2K     \u001b[90m━━━━━━━━━━━━━━━━━━━━━━━━━━━━━━━━━━━━━━━\u001b[0m \u001b[32m242.2/242.2 KB\u001b[0m \u001b[31m5.9 MB/s\u001b[0m eta \u001b[36m0:00:00\u001b[0ma \u001b[36m0:00:01\u001b[0m\n",
      "\u001b[?25hRequirement already satisfied: six>=1.5 in /Library/Frameworks/Python.framework/Versions/3.10/lib/python3.10/site-packages (from python-dateutil>=2.7->matplotlib) (1.16.0)\n",
      "Installing collected packages: pillow, kiwisolver, fonttools, cycler, contourpy, matplotlib\n",
      "Successfully installed contourpy-1.2.0 cycler-0.12.1 fonttools-4.47.2 kiwisolver-1.4.5 matplotlib-3.8.2 pillow-10.2.0\n",
      "\u001b[33mWARNING: You are using pip version 22.0.4; however, version 23.3.2 is available.\n",
      "You should consider upgrading via the '/usr/local/bin/python3 -m pip install --upgrade pip' command.\u001b[0m\u001b[33m\n",
      "\u001b[0mNote: you may need to restart the kernel to use updated packages.\n"
     ]
    }
   ],
   "source": [
    "%pip install matplotlib"
   ]
  },
  {
   "cell_type": "code",
   "execution_count": 7,
   "metadata": {},
   "outputs": [
    {
     "name": "stdout",
     "output_type": "stream",
     "text": [
      "Collecting seaborn\n",
      "  Downloading seaborn-0.13.1-py3-none-any.whl (294 kB)\n",
      "\u001b[2K     \u001b[90m━━━━━━━━━━━━━━━━━━━━━━━━━━━━━━━━━━━━━\u001b[0m \u001b[32m294.8/294.8 KB\u001b[0m \u001b[31m503.9 kB/s\u001b[0m eta \u001b[36m0:00:00\u001b[0ma \u001b[36m0:00:01\u001b[0m\n",
      "\u001b[?25hRequirement already satisfied: pandas>=1.2 in /Library/Frameworks/Python.framework/Versions/3.10/lib/python3.10/site-packages (from seaborn) (2.1.2)\n",
      "Requirement already satisfied: numpy!=1.24.0,>=1.20 in /Library/Frameworks/Python.framework/Versions/3.10/lib/python3.10/site-packages (from seaborn) (1.26.1)\n",
      "Requirement already satisfied: matplotlib!=3.6.1,>=3.4 in /Library/Frameworks/Python.framework/Versions/3.10/lib/python3.10/site-packages (from seaborn) (3.8.2)\n",
      "Requirement already satisfied: pyparsing>=2.3.1 in /Library/Frameworks/Python.framework/Versions/3.10/lib/python3.10/site-packages (from matplotlib!=3.6.1,>=3.4->seaborn) (3.0.9)\n",
      "Requirement already satisfied: kiwisolver>=1.3.1 in /Library/Frameworks/Python.framework/Versions/3.10/lib/python3.10/site-packages (from matplotlib!=3.6.1,>=3.4->seaborn) (1.4.5)\n",
      "Requirement already satisfied: python-dateutil>=2.7 in /Library/Frameworks/Python.framework/Versions/3.10/lib/python3.10/site-packages (from matplotlib!=3.6.1,>=3.4->seaborn) (2.8.2)\n",
      "Requirement already satisfied: fonttools>=4.22.0 in /Library/Frameworks/Python.framework/Versions/3.10/lib/python3.10/site-packages (from matplotlib!=3.6.1,>=3.4->seaborn) (4.47.2)\n",
      "Requirement already satisfied: pillow>=8 in /Library/Frameworks/Python.framework/Versions/3.10/lib/python3.10/site-packages (from matplotlib!=3.6.1,>=3.4->seaborn) (10.2.0)\n",
      "Requirement already satisfied: packaging>=20.0 in /Library/Frameworks/Python.framework/Versions/3.10/lib/python3.10/site-packages (from matplotlib!=3.6.1,>=3.4->seaborn) (21.3)\n",
      "Requirement already satisfied: cycler>=0.10 in /Library/Frameworks/Python.framework/Versions/3.10/lib/python3.10/site-packages (from matplotlib!=3.6.1,>=3.4->seaborn) (0.12.1)\n",
      "Requirement already satisfied: contourpy>=1.0.1 in /Library/Frameworks/Python.framework/Versions/3.10/lib/python3.10/site-packages (from matplotlib!=3.6.1,>=3.4->seaborn) (1.2.0)\n",
      "Requirement already satisfied: tzdata>=2022.1 in /Library/Frameworks/Python.framework/Versions/3.10/lib/python3.10/site-packages (from pandas>=1.2->seaborn) (2023.3)\n",
      "Requirement already satisfied: pytz>=2020.1 in /Library/Frameworks/Python.framework/Versions/3.10/lib/python3.10/site-packages (from pandas>=1.2->seaborn) (2023.3.post1)\n",
      "Requirement already satisfied: six>=1.5 in /Library/Frameworks/Python.framework/Versions/3.10/lib/python3.10/site-packages (from python-dateutil>=2.7->matplotlib!=3.6.1,>=3.4->seaborn) (1.16.0)\n",
      "Installing collected packages: seaborn\n",
      "Successfully installed seaborn-0.13.1\n",
      "\u001b[33mWARNING: You are using pip version 22.0.4; however, version 23.3.2 is available.\n",
      "You should consider upgrading via the '/usr/local/bin/python3 -m pip install --upgrade pip' command.\u001b[0m\u001b[33m\n",
      "\u001b[0mNote: you may need to restart the kernel to use updated packages.\n"
     ]
    }
   ],
   "source": [
    "%pip install seaborn\n"
   ]
  },
  {
   "cell_type": "code",
   "execution_count": 24,
   "metadata": {},
   "outputs": [
    {
     "name": "stdout",
     "output_type": "stream",
     "text": [
      "Requirement already satisfied: transformers in /Library/Frameworks/Python.framework/Versions/3.10/lib/python3.10/site-packages (4.37.0)\n",
      "Requirement already satisfied: tokenizers<0.19,>=0.14 in /Library/Frameworks/Python.framework/Versions/3.10/lib/python3.10/site-packages (from transformers) (0.15.1)\n",
      "Requirement already satisfied: regex!=2019.12.17 in /Library/Frameworks/Python.framework/Versions/3.10/lib/python3.10/site-packages (from transformers) (2023.12.25)\n",
      "Requirement already satisfied: huggingface-hub<1.0,>=0.19.3 in /Library/Frameworks/Python.framework/Versions/3.10/lib/python3.10/site-packages (from transformers) (0.20.3)\n",
      "Requirement already satisfied: tqdm>=4.27 in /Library/Frameworks/Python.framework/Versions/3.10/lib/python3.10/site-packages (from transformers) (4.66.1)\n",
      "Requirement already satisfied: requests in /Library/Frameworks/Python.framework/Versions/3.10/lib/python3.10/site-packages (from transformers) (2.31.0)\n",
      "Requirement already satisfied: safetensors>=0.3.1 in /Library/Frameworks/Python.framework/Versions/3.10/lib/python3.10/site-packages (from transformers) (0.4.2)\n",
      "Requirement already satisfied: packaging>=20.0 in /Library/Frameworks/Python.framework/Versions/3.10/lib/python3.10/site-packages (from transformers) (21.3)\n",
      "Requirement already satisfied: numpy>=1.17 in /Library/Frameworks/Python.framework/Versions/3.10/lib/python3.10/site-packages (from transformers) (1.26.1)\n",
      "Requirement already satisfied: pyyaml>=5.1 in /Library/Frameworks/Python.framework/Versions/3.10/lib/python3.10/site-packages (from transformers) (6.0.1)\n",
      "Requirement already satisfied: filelock in /Library/Frameworks/Python.framework/Versions/3.10/lib/python3.10/site-packages (from transformers) (3.13.1)\n",
      "Requirement already satisfied: typing-extensions>=3.7.4.3 in /Library/Frameworks/Python.framework/Versions/3.10/lib/python3.10/site-packages (from huggingface-hub<1.0,>=0.19.3->transformers) (4.9.0)\n",
      "Requirement already satisfied: fsspec>=2023.5.0 in /Library/Frameworks/Python.framework/Versions/3.10/lib/python3.10/site-packages (from huggingface-hub<1.0,>=0.19.3->transformers) (2023.12.2)\n",
      "Requirement already satisfied: pyparsing!=3.0.5,>=2.0.2 in /Library/Frameworks/Python.framework/Versions/3.10/lib/python3.10/site-packages (from packaging>=20.0->transformers) (3.0.9)\n",
      "Requirement already satisfied: charset-normalizer<4,>=2 in /Library/Frameworks/Python.framework/Versions/3.10/lib/python3.10/site-packages (from requests->transformers) (3.3.2)\n",
      "Requirement already satisfied: urllib3<3,>=1.21.1 in /Library/Frameworks/Python.framework/Versions/3.10/lib/python3.10/site-packages (from requests->transformers) (2.1.0)\n",
      "Requirement already satisfied: certifi>=2017.4.17 in /Library/Frameworks/Python.framework/Versions/3.10/lib/python3.10/site-packages (from requests->transformers) (2023.7.22)\n",
      "Requirement already satisfied: idna<4,>=2.5 in /Library/Frameworks/Python.framework/Versions/3.10/lib/python3.10/site-packages (from requests->transformers) (2.10)\n",
      "\u001b[33mWARNING: You are using pip version 22.0.4; however, version 23.3.2 is available.\n",
      "You should consider upgrading via the '/usr/local/bin/python3 -m pip install --upgrade pip' command.\u001b[0m\u001b[33m\n",
      "\u001b[0mNote: you may need to restart the kernel to use updated packages.\n"
     ]
    }
   ],
   "source": [
    "%pip install transformers"
   ]
  },
  {
   "cell_type": "code",
   "execution_count": 11,
   "metadata": {},
   "outputs": [
    {
     "name": "stdout",
     "output_type": "stream",
     "text": [
      "Collecting torch\n",
      "  Downloading torch-2.1.2-cp310-none-macosx_11_0_arm64.whl (59.6 MB)\n",
      "\u001b[2K     \u001b[90m━━━━━━━━━━━━━━━━━━━━━━━━━━━━━━━━━━━━━━━━\u001b[0m \u001b[32m59.6/59.6 MB\u001b[0m \u001b[31m5.9 MB/s\u001b[0m eta \u001b[36m0:00:00\u001b[0m00:01\u001b[0mm00:03\u001b[0m\n",
      "\u001b[?25hCollecting torchvision\n",
      "  Downloading torchvision-0.16.2-cp310-cp310-macosx_11_0_arm64.whl (1.5 MB)\n",
      "\u001b[2K     \u001b[90m━━━━━━━━━━━━━━━━━━━━━━━━━━━━━━━━━━━━━━━━\u001b[0m \u001b[32m1.5/1.5 MB\u001b[0m \u001b[31m1.4 MB/s\u001b[0m eta \u001b[36m0:00:00\u001b[0ma \u001b[36m0:00:01\u001b[0m\n",
      "\u001b[?25hCollecting torchaudio\n",
      "  Downloading torchaudio-2.1.2-cp310-cp310-macosx_11_0_arm64.whl (1.7 MB)\n",
      "\u001b[2K     \u001b[90m━━━━━━━━━━━━━━━━━━━━━━━━━━━━━━━━━━━━━━━━\u001b[0m \u001b[32m1.7/1.7 MB\u001b[0m \u001b[31m2.1 MB/s\u001b[0m eta \u001b[36m0:00:00\u001b[0ma \u001b[36m0:00:01\u001b[0m\n",
      "\u001b[?25hRequirement already satisfied: fsspec in /Library/Frameworks/Python.framework/Versions/3.10/lib/python3.10/site-packages (from torch) (2023.12.2)\n",
      "Collecting sympy\n",
      "  Using cached sympy-1.12-py3-none-any.whl (5.7 MB)\n",
      "Requirement already satisfied: filelock in /Library/Frameworks/Python.framework/Versions/3.10/lib/python3.10/site-packages (from torch) (3.13.1)\n",
      "Requirement already satisfied: jinja2 in /Library/Frameworks/Python.framework/Versions/3.10/lib/python3.10/site-packages (from torch) (3.1.2)\n",
      "Collecting networkx\n",
      "  Downloading networkx-3.2.1-py3-none-any.whl (1.6 MB)\n",
      "\u001b[2K     \u001b[90m━━━━━━━━━━━━━━━━━━━━━━━━━━━━━━━━━━━━━━━━\u001b[0m \u001b[32m1.6/1.6 MB\u001b[0m \u001b[31m1.4 MB/s\u001b[0m eta \u001b[36m0:00:00\u001b[0ma \u001b[36m0:00:01\u001b[0m\n",
      "\u001b[?25hRequirement already satisfied: typing-extensions in /Library/Frameworks/Python.framework/Versions/3.10/lib/python3.10/site-packages (from torch) (4.9.0)\n",
      "Requirement already satisfied: requests in /Library/Frameworks/Python.framework/Versions/3.10/lib/python3.10/site-packages (from torchvision) (2.31.0)\n",
      "Requirement already satisfied: numpy in /Library/Frameworks/Python.framework/Versions/3.10/lib/python3.10/site-packages (from torchvision) (1.26.1)\n",
      "Requirement already satisfied: pillow!=8.3.*,>=5.3.0 in /Library/Frameworks/Python.framework/Versions/3.10/lib/python3.10/site-packages (from torchvision) (10.2.0)\n",
      "Requirement already satisfied: MarkupSafe>=2.0 in /Library/Frameworks/Python.framework/Versions/3.10/lib/python3.10/site-packages (from jinja2->torch) (2.1.1)\n",
      "Requirement already satisfied: certifi>=2017.4.17 in /Library/Frameworks/Python.framework/Versions/3.10/lib/python3.10/site-packages (from requests->torchvision) (2023.7.22)\n",
      "Requirement already satisfied: urllib3<3,>=1.21.1 in /Library/Frameworks/Python.framework/Versions/3.10/lib/python3.10/site-packages (from requests->torchvision) (2.1.0)\n",
      "Requirement already satisfied: idna<4,>=2.5 in /Library/Frameworks/Python.framework/Versions/3.10/lib/python3.10/site-packages (from requests->torchvision) (2.10)\n",
      "Requirement already satisfied: charset-normalizer<4,>=2 in /Library/Frameworks/Python.framework/Versions/3.10/lib/python3.10/site-packages (from requests->torchvision) (3.3.2)\n",
      "Collecting mpmath>=0.19\n",
      "  Using cached mpmath-1.3.0-py3-none-any.whl (536 kB)\n",
      "Installing collected packages: mpmath, sympy, networkx, torch, torchvision, torchaudio\n",
      "Successfully installed mpmath-1.3.0 networkx-3.2.1 sympy-1.12 torch-2.1.2 torchaudio-2.1.2 torchvision-0.16.2\n",
      "\u001b[33mWARNING: You are using pip version 22.0.4; however, version 23.3.2 is available.\n",
      "You should consider upgrading via the '/usr/local/bin/python3 -m pip install --upgrade pip' command.\u001b[0m\u001b[33m\n",
      "\u001b[0mNote: you may need to restart the kernel to use updated packages.\n"
     ]
    }
   ],
   "source": [
    "%pip install torch torchvision torchaudio"
   ]
  },
  {
   "cell_type": "code",
   "execution_count": 2,
   "metadata": {},
   "outputs": [],
   "source": [
    "import pandas as pd\n",
    "import numpy as np\n",
    "import csv\n",
    "import tensorflow as tf\n",
    "import matplotlib.pyplot as plt\n",
    "import seaborn as sns"
   ]
  },
  {
   "cell_type": "code",
   "execution_count": 3,
   "metadata": {},
   "outputs": [],
   "source": [
    "from transformers import AutoTokenizer, AutoModelForSequenceClassification, BertTokenizer, BertModel, BertConfig\n",
    "import torch\n",
    "import re\n",
    "import os\n",
    "from torch.utils.data import TensorDataset, DataLoader, Dataset, RandomSampler, SequentialSampler"
   ]
  },
  {
   "cell_type": "code",
   "execution_count": 7,
   "metadata": {},
   "outputs": [],
   "source": [
    "#set GPUS\n",
    "if torch.cuda.is_available():\n",
    "    device = 'cuda'\n",
    "else:\n",
    "    device = 'cpu'\n"
   ]
  },
  {
   "cell_type": "code",
   "execution_count": 4,
   "metadata": {},
   "outputs": [],
   "source": [
    "MAX_LENS = 200\n",
    "Batch_size = 16\n",
    "learning_rate = 5e-5\n",
    "number_epoch = 5\n"
   ]
  },
  {
   "cell_type": "code",
   "execution_count": 5,
   "metadata": {},
   "outputs": [],
   "source": [
    "#build bert model\n",
    "tokenizer = BertTokenizer.from_pretrained('bert-base-uncased')\n",
    "model = BertModel.from_pretrained('bert-base-uncased')"
   ]
  },
  {
   "cell_type": "code",
   "execution_count": 8,
   "metadata": {},
   "outputs": [
    {
     "data": {
      "text/plain": [
       "bert_model(\n",
       "  (bert_model): BertModel(\n",
       "    (embeddings): BertEmbeddings(\n",
       "      (word_embeddings): Embedding(30522, 768, padding_idx=0)\n",
       "      (position_embeddings): Embedding(512, 768)\n",
       "      (token_type_embeddings): Embedding(2, 768)\n",
       "      (LayerNorm): LayerNorm((768,), eps=1e-12, elementwise_affine=True)\n",
       "      (dropout): Dropout(p=0.1, inplace=False)\n",
       "    )\n",
       "    (encoder): BertEncoder(\n",
       "      (layer): ModuleList(\n",
       "        (0-11): 12 x BertLayer(\n",
       "          (attention): BertAttention(\n",
       "            (self): BertSelfAttention(\n",
       "              (query): Linear(in_features=768, out_features=768, bias=True)\n",
       "              (key): Linear(in_features=768, out_features=768, bias=True)\n",
       "              (value): Linear(in_features=768, out_features=768, bias=True)\n",
       "              (dropout): Dropout(p=0.1, inplace=False)\n",
       "            )\n",
       "            (output): BertSelfOutput(\n",
       "              (dense): Linear(in_features=768, out_features=768, bias=True)\n",
       "              (LayerNorm): LayerNorm((768,), eps=1e-12, elementwise_affine=True)\n",
       "              (dropout): Dropout(p=0.1, inplace=False)\n",
       "            )\n",
       "          )\n",
       "          (intermediate): BertIntermediate(\n",
       "            (dense): Linear(in_features=768, out_features=3072, bias=True)\n",
       "            (intermediate_act_fn): GELUActivation()\n",
       "          )\n",
       "          (output): BertOutput(\n",
       "            (dense): Linear(in_features=3072, out_features=768, bias=True)\n",
       "            (LayerNorm): LayerNorm((768,), eps=1e-12, elementwise_affine=True)\n",
       "            (dropout): Dropout(p=0.1, inplace=False)\n",
       "          )\n",
       "        )\n",
       "      )\n",
       "    )\n",
       "    (pooler): BertPooler(\n",
       "      (dense): Linear(in_features=768, out_features=768, bias=True)\n",
       "      (activation): Tanh()\n",
       "    )\n",
       "  )\n",
       "  (drop): Dropout(p=0.3, inplace=False)\n",
       "  (out): Linear(in_features=768, out_features=11, bias=True)\n",
       ")"
      ]
     },
     "execution_count": 8,
     "metadata": {},
     "output_type": "execute_result"
    }
   ],
   "source": [
    "#construct bert model\n",
    "\n",
    "class bert_model(torch.nn.Module):\n",
    "    #construct class\n",
    "    def __init__(self):\n",
    "        super().__init__()\n",
    "        self.bert_model = BertModel.from_pretrained('bert-base-uncased')\n",
    "        self.drop = torch.nn.Dropout(0.3)\n",
    "        self.out = torch.nn.Linear(768,11)\n",
    "    \n",
    "    def forward(self, ids, mask, token_type_ids):\n",
    "        unw, out = self.bert_model(ids, attention_mask = mask, token_type_ids = token_type_ids)[0], self.bert_model(ids, attention_mask = mask, token_type_ids = token_type_ids)[1]\n",
    "        #add drop layer\n",
    "        drop_out = self.drop(out)\n",
    "        #final layer\n",
    "        out_final = self.out(drop_out)\n",
    "        return out_final\n",
    "    \n",
    "\n",
    "model_bert = bert_model()\n",
    "model_bert.to(device)\n",
    "\n",
    "\n",
    "\n",
    "\n",
    "        \n",
    "        "
   ]
  },
  {
   "cell_type": "code",
   "execution_count": 9,
   "metadata": {},
   "outputs": [
    {
     "name": "stdout",
     "output_type": "stream",
     "text": [
      "/Users/wangxuechun/unsw/UNSW-Thesis-\n"
     ]
    }
   ],
   "source": [
    "#get my current path\n",
    "current_path = os.getcwd()\n",
    "print(current_path)\n",
    "file_path_chapter_four = '/Users/wangxuechun/unsw/UNSW-Thesis-/chapter_4_eng_version_one.csv'"
   ]
  },
  {
   "cell_type": "code",
   "execution_count": 18,
   "metadata": {},
   "outputs": [
    {
     "data": {
      "text/html": [
       "<div>\n",
       "<style scoped>\n",
       "    .dataframe tbody tr th:only-of-type {\n",
       "        vertical-align: middle;\n",
       "    }\n",
       "\n",
       "    .dataframe tbody tr th {\n",
       "        vertical-align: top;\n",
       "    }\n",
       "\n",
       "    .dataframe thead th {\n",
       "        text-align: right;\n",
       "    }\n",
       "</style>\n",
       "<table border=\"1\" class=\"dataframe\">\n",
       "  <thead>\n",
       "    <tr style=\"text-align: right;\">\n",
       "      <th></th>\n",
       "      <th>English_Verse_chap4_hsien</th>\n",
       "    </tr>\n",
       "  </thead>\n",
       "  <tbody>\n",
       "    <tr>\n",
       "      <th>0</th>\n",
       "      <td>There are said to be some victors who take no ...</td>\n",
       "    </tr>\n",
       "    <tr>\n",
       "      <th>1</th>\n",
       "      <td>Look at Ah Q, light and elated, as if about to...</td>\n",
       "    </tr>\n",
       "    <tr>\n",
       "      <th>2</th>\n",
       "      <td>This victory was not without strange consequen...</td>\n",
       "    </tr>\n",
       "    <tr>\n",
       "      <th>3</th>\n",
       "      <td>\"Ah Q, may you die sonless!\"</td>\n",
       "    </tr>\n",
       "    <tr>\n",
       "      <th>4</th>\n",
       "      <td>These words sounded again in Ah Q's cars, and ...</td>\n",
       "    </tr>\n",
       "  </tbody>\n",
       "</table>\n",
       "</div>"
      ],
      "text/plain": [
       "                           English_Verse_chap4_hsien\n",
       "0  There are said to be some victors who take no ...\n",
       "1  Look at Ah Q, light and elated, as if about to...\n",
       "2  This victory was not without strange consequen...\n",
       "3                       \"Ah Q, may you die sonless!\"\n",
       "4  These words sounded again in Ah Q's cars, and ..."
      ]
     },
     "execution_count": 18,
     "metadata": {},
     "output_type": "execute_result"
    }
   ],
   "source": [
    "#load my dataset\n",
    "df_chapter_four = pd.read_csv(file_path_chapter_four)\n",
    "df_chapter_four.head()\n"
   ]
  },
  {
   "cell_type": "code",
   "execution_count": 19,
   "metadata": {},
   "outputs": [
    {
     "name": "stderr",
     "output_type": "stream",
     "text": [
      "Truncation was not explicitly activated but `max_length` is provided a specific value, please use `truncation=True` to explicitly truncate examples to max length. Defaulting to 'longest_first' truncation strategy. If you encode pairs of sequences (GLUE-style) with the tokenizer you can select this strategy more precisely by providing a specific strategy to `truncation`.\n"
     ]
    },
    {
     "name": "stdout",
     "output_type": "stream",
     "text": [
      "45\n",
      "[151, 18, 126, 13, 150, 22, 47, 15, 104, 157, 182, 12, 77, 155, 38, 25, 22, 18, 10, 11, 15, 20, 10, 33, 101, 11, 56, 21, 132, 110, 23, 17, 34, 15, 168, 89, 34, 14, 67, 40, 27, 16, 21, 16, 159]\n"
     ]
    }
   ],
   "source": [
    "#store length of each verses\n",
    "token_len = []\n",
    "for verses in df_chapter_four.English_Verse_chap4_hsien:\n",
    "    tokens = tokenizer.encode(verses, max_length=1000)\n",
    "    token_len.append(len(tokens))\n",
    "\n",
    "print(len(token_len))\n",
    "print(token_len)\n",
    "\n"
   ]
  },
  {
   "cell_type": "code",
   "execution_count": 20,
   "metadata": {},
   "outputs": [
    {
     "data": {
      "text/plain": [
       "Text(0.5, 9.444444444444438, 'Token count')"
      ]
     },
     "execution_count": 20,
     "metadata": {},
     "output_type": "execute_result"
    },
    {
     "data": {
      "image/png": "[encoded data removed]",
      "text/plain": [
       "<Figure size 500x500 with 1 Axes>"
      ]
     },
     "metadata": {},
     "output_type": "display_data"
    }
   ],
   "source": [
    "#plot the distribution of paragraphs lengths\n",
    "sns.displot(token_len)\n",
    "plt.xlim([0, 200])\n",
    "plt.xlabel('Token count')"
   ]
  },
  {
   "cell_type": "code",
   "execution_count": 11,
   "metadata": {},
   "outputs": [],
   "source": [
    "#test function\n",
    "def test():\n",
    "    model_bert.eval()\n",
    "    bert_outputs = []\n",
    "\n",
    "    with torch.no_grad():\n",
    "        for unw, data in enumerate(test_loader, 0):\n",
    "            ids = data['ids'].to(device, dtype = torch.long)\n",
    "            mask = data['mask'].to(device, dtype = torch.long)\n",
    "            token_type_ids = data['token_type_ids'].to(device, dtype = torch.long)\n",
    "            targets = data['targets'].to(device, dtype = torch.float)\n",
    "            outputs = model_bert(ids, mask, token_type_ids)\n",
    "\n",
    "            bert_outputs.extend(torch.sigmoid(outputs).cpu().detach().numpy().tolist())\n",
    "\n",
    "    return bert_outputs\n"
   ]
  },
  {
   "cell_type": "code",
   "execution_count": 17,
   "metadata": {},
   "outputs": [],
   "source": [
    "#construct my data frame\n",
    "class DatasetParagraphs(Dataset):\n",
    "    #intialize function\n",
    "    def __init__ (self, dataset, tokenizer, max_lens):\n",
    "        self.tokenizer = tokenizer \n",
    "        self.dataset = dataset\n",
    "        self.tweet = dataset['tweets']\n",
    "        self.targets = self.dataset.list\n",
    "        self.max_lens = max_lens\n",
    "\n",
    "\n",
    "    def __len__(self):\n",
    "        return len(self.tweet)\n",
    "\n",
    "    #get item\n",
    "    def __getitem__(self, num):\n",
    "        tweet = str(self.tweet[num])\n",
    "        tweet = \" \".join(tweet.split())\n",
    "        inputs = self.tokenizer.encode_plus(\n",
    "            tweet,\n",
    "            None, \n",
    "            add_special_tokens = True,\n",
    "            max_length = self.max_lens,\n",
    "            pad_to_max_length = True,\n",
    "            return_attention_mask = True\n",
    "        )\n",
    "\n",
    "        ids = inputs['input_ids']\n",
    "        mask = inputs['attention_mask']\n",
    "        token_type_ids = inputs['token_type_ids']\n",
    "\n",
    "        return {\n",
    "            'ids' : torch.tensor(ids, dtype = torch.long),\n",
    "            'mask' : torch.tensor(mask, dtype = torch.long),\n",
    "            'token_type_ids' : torch.tensor(token_type_ids, dtype= torch.long),\n",
    "            'targets' : torch.tensor(self.targets[num], dtype = torch.float)\n",
    "        }\n",
    "\n",
    "    \n"
   ]
  },
  {
   "cell_type": "code",
   "execution_count": 21,
   "metadata": {},
   "outputs": [
    {
     "name": "stderr",
     "output_type": "stream",
     "text": [
      "/Library/Frameworks/Python.framework/Versions/3.10/lib/python3.10/site-packages/transformers/tokenization_utils_base.py:2619: FutureWarning: The `pad_to_max_length` argument is deprecated and will be removed in a future version, use `padding=True` or `padding='longest'` to pad to the longest sequence in the batch, or use `padding='max_length'` to pad to a max length. In this case, you can give a specific length with `max_length` (e.g. `max_length=45`) or leave max_length to None to pad to the maximal input size of the model (e.g. 512 for Bert).\n",
      "  warnings.warn(\n",
      "/Library/Frameworks/Python.framework/Versions/3.10/lib/python3.10/site-packages/transformers/tokenization_utils_base.py:2619: FutureWarning: The `pad_to_max_length` argument is deprecated and will be removed in a future version, use `padding=True` or `padding='longest'` to pad to the longest sequence in the batch, or use `padding='max_length'` to pad to a max length. In this case, you can give a specific length with `max_length` (e.g. `max_length=45`) or leave max_length to None to pad to the maximal input size of the model (e.g. 512 for Bert).\n",
      "  warnings.warn(\n"
     ]
    },
    {
     "name": "stdout",
     "output_type": "stream",
     "text": [
      "   Optimistic  Thankful  Empathetic  Pessimistic  Anxious  Sad  Annoyed  \\\n",
      "0          37         0          26            1       43   19       11   \n",
      "\n",
      "   Denial  Surprise  Joking  \n",
      "0      30        40       2  \n"
     ]
    }
   ],
   "source": [
    "#sentiment analysis\n",
    "\n",
    "#part 1: the sentiment analysis of hsien version\n",
    "\n",
    "\n",
    "#load data frame and create a dataframe for sentiment analysis\n",
    "df_hsien = pd.DataFrame()\n",
    "df_hsien['tweets'] = df_chapter_four[\"English_Verse_chap4_hsien\"]\n",
    "values = [[0, 0, 0, 0, 0, 0, 0, 0, 0, 0, 0]] * len(df_chapter_four)\n",
    "df_hsien['list'] = values\n",
    "\n",
    "\n",
    "\n",
    "#custom my dataset\n",
    "dataset_new = DatasetParagraphs(df_hsien, tokenizer, MAX_LENS)\n",
    "param = {'batch_size' : 1,\n",
    "        'shuffle' : False,\n",
    "        'num_workers' : 0\n",
    "}\n",
    "\n",
    "test_loader = DataLoader(dataset_new, **param)\n",
    "test_outputs = test()\n",
    "\n",
    "#we got the test outputs values\n",
    "test_outputs = np.array(test_outputs)\n",
    "\n",
    "for i in range(test_outputs.shape[0]):\n",
    "    for j in range(test_outputs.shape[1]):\n",
    "        if test_outputs[i][j] >= 0.5:\n",
    "            test_outputs[i][j] = 1\n",
    "        else:\n",
    "            test_outputs[i][j] = 0\n",
    "\n",
    "df_hsien['Optimistic'] = \"None\"\n",
    "df_hsien['Thankful'] = \"None\"\n",
    "df_hsien['Empathetic'] = \"None\"\n",
    "df_hsien['Pessimistic'] = \"None\"\n",
    "df_hsien['Anxious'] = \"None\"\n",
    "df_hsien['Sad'] = \"None\"\n",
    "df_hsien['Annoyed'] = \"None\"\n",
    "df_hsien['Denial'] = \"None\"\n",
    "df_hsien['Official report'] = \"None\"\n",
    "df_hsien['Surprise'] = \"None\"\n",
    "df_hsien['Joking'] = \"None\"\n",
    "\n",
    "\n",
    "for i in range(len(test_outputs)):\n",
    "    df_hsien['Optimistic'].iloc[i] = test_outputs[i][0]\n",
    "    df_hsien['Thankful'].iloc[i] = test_outputs[i][1]\n",
    "    df_hsien['Empathetic'].iloc[i] = test_outputs[i][2]\n",
    "    df_hsien['Pessimistic'].iloc[i] = test_outputs[i][3]\n",
    "    df_hsien['Anxious'].iloc[i] = test_outputs[i][4]\n",
    "    df_hsien['Sad'].iloc[i] = test_outputs[i][5]\n",
    "    df_hsien['Annoyed'].iloc[i] = test_outputs[i][6]\n",
    "    df_hsien['Denial'].iloc[i] = test_outputs[i][7]\n",
    "    df_hsien['Official report'].iloc[i] = test_outputs[i][8]\n",
    "    df_hsien['Surprise'].iloc[i] = test_outputs[i][9]\n",
    "    df_hsien['Joking'].iloc[i] = test_outputs[i][10]\n",
    "\n",
    "#deep clean the dataframe\n",
    "df_hsien = df_hsien.drop(['list','Official report'], axis = 1)\n",
    "df_count_hsien = pd.DataFrame()\n",
    "\n",
    "df_count_hsien = pd.DataFrame(index=[0], columns=['Optimistic', 'Thankful', 'Empathetic', 'Pessimistic', 'Anxious', 'Sad', 'Annoyed', 'Denial', 'Surprise', 'Joking'])\n",
    "df_count_hsien[:] = \"None\"\n",
    "\n",
    "# Define a function to count 1.0 in columns\n",
    "def count_ones(column):\n",
    "    return (df_hsien[column] == 1.0).sum()\n",
    "\n",
    "# Use the function to count and assign values\n",
    "df_count_hsien['Optimistic'] = count_ones('Optimistic')\n",
    "df_count_hsien['Thankful'] = count_ones('Thankful')\n",
    "df_count_hsien['Empathetic'] = count_ones('Empathetic')\n",
    "df_count_hsien['Pessimistic'] = count_ones('Pessimistic')\n",
    "df_count_hsien['Anxious'] = count_ones('Anxious')\n",
    "df_count_hsien['Sad'] = count_ones('Sad')\n",
    "df_count_hsien['Annoyed'] = count_ones('Annoyed')\n",
    "df_count_hsien['Denial'] = count_ones('Denial')\n",
    "df_count_hsien['Surprise'] = count_ones('Surprise')\n",
    "df_count_hsien['Joking'] = count_ones('Joking')\n",
    "\n",
    "print(df_count_hsien.head())\n",
    "\n",
    "\n",
    "\n",
    "\n",
    "\n"
   ]
  },
  {
   "cell_type": "code",
   "execution_count": 22,
   "metadata": {},
   "outputs": [
    {
     "data": {
      "image/png": "[encoded data removed]",
      "text/plain": [
       "<Figure size 1000x600 with 1 Axes>"
      ]
     },
     "metadata": {},
     "output_type": "display_data"
    }
   ],
   "source": [
    "# Assuming df_count_hsien is your DataFrame and it contains one row with the counts of 1.0 in each column\n",
    "# Convert the counts to numeric values, just in case they're not\n",
    "df_count_hsien_numeric = df_count_hsien.iloc[0].apply(pd.to_numeric)\n",
    "\n",
    "# Define a list of colors (the length should match the number of categories/columns)\n",
    "colors = ['red', 'green', 'blue', 'orange', 'purple', 'brown', 'pink', 'gray', 'cyan', 'magenta']\n",
    "\n",
    "# Check if the number of colors matches the number of columns\n",
    "if len(colors) >= len(df_count_hsien_numeric):\n",
    "    # Plotting\n",
    "    plt.figure(figsize=(10, 6))  # Set the figure size (width, height) in inches\n",
    "    plt.bar(df_count_hsien_numeric.index, df_count_hsien_numeric.values, color=colors)  # Create a bar plot with different colors\n",
    "\n",
    "    # Adding titles and labels\n",
    "    plt.title('Counts of 1.0 in Each Column')\n",
    "    plt.xlabel('Columns')\n",
    "    plt.ylabel('Counts')\n",
    "    plt.xticks(rotation=45, ha='right')  # Rotate the x labels to avoid overlapping\n",
    "\n",
    "    # Show the plot\n",
    "    plt.tight_layout()  # Adjusts subplot params so that the subplot(s) fits in to the figure area\n",
    "    plt.show()\n",
    "else:\n",
    "    print(\"Not enough colors defined.\")\n",
    "\n",
    "\n"
   ]
  },
  {
   "cell_type": "code",
   "execution_count": 25,
   "metadata": {},
   "outputs": [
    {
     "data": {
      "text/html": [
       "<div>\n",
       "<style scoped>\n",
       "    .dataframe tbody tr th:only-of-type {\n",
       "        vertical-align: middle;\n",
       "    }\n",
       "\n",
       "    .dataframe tbody tr th {\n",
       "        vertical-align: top;\n",
       "    }\n",
       "\n",
       "    .dataframe thead th {\n",
       "        text-align: right;\n",
       "    }\n",
       "</style>\n",
       "<table border=\"1\" class=\"dataframe\">\n",
       "  <thead>\n",
       "    <tr style=\"text-align: right;\">\n",
       "      <th></th>\n",
       "      <th>English_Verse</th>\n",
       "    </tr>\n",
       "  </thead>\n",
       "  <tbody>\n",
       "    <tr>\n",
       "      <th>0</th>\n",
       "      <td>Some people say: Some winners are willing to b...</td>\n",
       "    </tr>\n",
       "    <tr>\n",
       "      <th>1</th>\n",
       "      <td>Seeing, he seemed to be flying!</td>\n",
       "    </tr>\n",
       "    <tr>\n",
       "      <th>2</th>\n",
       "      <td>However, this victory made him a little strang...</td>\n",
       "    </tr>\n",
       "    <tr>\n",
       "      <th>3</th>\n",
       "      <td>\"Broken son's grandson Q!\"</td>\n",
       "    </tr>\n",
       "    <tr>\n",
       "      <th>4</th>\n",
       "      <td>This sentence was heard in A Q's ears.He thoug...</td>\n",
       "    </tr>\n",
       "  </tbody>\n",
       "</table>\n",
       "</div>"
      ],
      "text/plain": [
       "                                       English_Verse\n",
       "0  Some people say: Some winners are willing to b...\n",
       "1                    Seeing, he seemed to be flying!\n",
       "2  However, this victory made him a little strang...\n",
       "3                         \"Broken son's grandson Q!\"\n",
       "4  This sentence was heard in A Q's ears.He thoug..."
      ]
     },
     "execution_count": 25,
     "metadata": {},
     "output_type": "execute_result"
    }
   ],
   "source": [
    "#google translate chapter four sentiment analysis\n",
    "\n",
    "\n",
    "#clean the new dataset\n",
    "#get the file path for the google translate version\n",
    "file_path_four_google = '/Users/wangxuechun/unsw/UNSW-Thesis-/chapter_4_trans.csv'\n",
    "#construct a dataframe\n",
    "df_four_google = pd.read_csv(file_path_four_google)\n",
    "#drop the Chinese_verse, and keep the translated English Verse\n",
    "# Assuming df is your DataFrame and 'ColumnToDrop' is the name of the column you want to drop\n",
    "df_four_google = df_four_google.drop('Chinese_verse', axis=1)\n",
    "\n",
    "df_four_google.head()\n",
    "\n"
   ]
  },
  {
   "cell_type": "code",
   "execution_count": 26,
   "metadata": {},
   "outputs": [
    {
     "name": "stderr",
     "output_type": "stream",
     "text": [
      "/Library/Frameworks/Python.framework/Versions/3.10/lib/python3.10/site-packages/transformers/tokenization_utils_base.py:2619: FutureWarning: The `pad_to_max_length` argument is deprecated and will be removed in a future version, use `padding=True` or `padding='longest'` to pad to the longest sequence in the batch, or use `padding='max_length'` to pad to a max length. In this case, you can give a specific length with `max_length` (e.g. `max_length=45`) or leave max_length to None to pad to the maximal input size of the model (e.g. 512 for Bert).\n",
      "  warnings.warn(\n"
     ]
    },
    {
     "name": "stdout",
     "output_type": "stream",
     "text": [
      "   Optimistic  Thankful  Empathetic  Pessimistic  Anxious  Sad  Annoyed  \\\n",
      "0          37         0          25            0       45   18       10   \n",
      "\n",
      "   Denial  Surprise  Joking  \n",
      "0      30        38       2  \n"
     ]
    }
   ],
   "source": [
    "#part 2: sentiment analysis for google translation version\n",
    "\n",
    "#load data frame and create a dataframe for sentiment analysis\n",
    "df_google = pd.DataFrame()\n",
    "df_google['tweets'] = df_four_google[\"English_Verse\"]\n",
    "values_google_four = [[0, 0, 0, 0, 0, 0, 0, 0, 0, 0, 0]] * len(df_google)\n",
    "df_google['list'] = values_google_four\n",
    "\n",
    "\n",
    "\n",
    "#custom my dataset\n",
    "dataset_new_google = DatasetParagraphs(df_google, tokenizer, MAX_LENS)\n",
    "\n",
    "test_loader = DataLoader(dataset_new_google, **param)\n",
    "test_outputs_google = test()\n",
    "\n",
    "#we got the test outputs values\n",
    "test_outputs_google = np.array(test_outputs_google)\n",
    "\n",
    "for i in range(test_outputs_google.shape[0]):\n",
    "    for j in range(test_outputs_google.shape[1]):\n",
    "        if test_outputs_google[i][j] >= 0.5:\n",
    "            test_outputs_google[i][j] = 1\n",
    "        else:\n",
    "            test_outputs_google[i][j] = 0\n",
    "\n",
    "df_google['Optimistic'] = \"None\"\n",
    "df_google['Thankful'] = \"None\"\n",
    "df_google['Empathetic'] = \"None\"\n",
    "df_google['Pessimistic'] = \"None\"\n",
    "df_google['Anxious'] = \"None\"\n",
    "df_google['Sad'] = \"None\"\n",
    "df_google['Annoyed'] = \"None\"\n",
    "df_google['Denial'] = \"None\"\n",
    "df_google['Official report'] = \"None\"\n",
    "df_google['Surprise'] = \"None\"\n",
    "df_google['Joking'] = \"None\"\n",
    "\n",
    "\n",
    "for i in range(len(test_outputs_google)):\n",
    "    df_google['Optimistic'].iloc[i] = test_outputs_google[i][0]\n",
    "    df_google['Thankful'].iloc[i] = test_outputs_google[i][1]\n",
    "    df_google['Empathetic'].iloc[i] = test_outputs_google[i][2]\n",
    "    df_google['Pessimistic'].iloc[i] = test_outputs_google[i][3]\n",
    "    df_google['Anxious'].iloc[i] = test_outputs_google[i][4]\n",
    "    df_google['Sad'].iloc[i] = test_outputs_google[i][5]\n",
    "    df_google['Annoyed'].iloc[i] = test_outputs_google[i][6]\n",
    "    df_google['Denial'].iloc[i] = test_outputs_google[i][7]\n",
    "    df_google['Official report'].iloc[i] = test_outputs_google[i][8]\n",
    "    df_google['Surprise'].iloc[i] = test_outputs_google[i][9]\n",
    "    df_google['Joking'].iloc[i] = test_outputs_google[i][10]\n",
    "\n",
    "#deep clean the dataframe\n",
    "df_google = df_google.drop(['list','Official report'], axis = 1)\n",
    "df_count_google = pd.DataFrame()\n",
    "\n",
    "df_count_google = pd.DataFrame(index=[0], columns=['Optimistic', 'Thankful', 'Empathetic', 'Pessimistic', 'Anxious', 'Sad', 'Annoyed', 'Denial', 'Surprise', 'Joking'])\n",
    "df_count_google[:] = \"None\"\n",
    "\n",
    "# Define a function to count 1.0 in columns\n",
    "def count_google(column):\n",
    "    return (df_google[column] == 1.0).sum()\n",
    "\n",
    "# Use the function to count and assign values\n",
    "df_count_google['Optimistic'] = count_google('Optimistic')\n",
    "df_count_google['Thankful'] = count_google('Thankful')\n",
    "df_count_google['Empathetic'] = count_google('Empathetic')\n",
    "df_count_google['Pessimistic'] = count_google('Pessimistic')\n",
    "df_count_google['Anxious'] = count_google('Anxious')\n",
    "df_count_google['Sad'] = count_google('Sad')\n",
    "df_count_google['Annoyed'] = count_google('Annoyed')\n",
    "df_count_google['Denial'] = count_google('Denial')\n",
    "df_count_google['Surprise'] = count_google('Surprise')\n",
    "df_count_google['Joking'] = count_google('Joking')\n",
    "\n",
    "print(df_count_google.head())\n"
   ]
  },
  {
   "cell_type": "code",
   "execution_count": 28,
   "metadata": {},
   "outputs": [
    {
     "data": {
      "image/png": "[encoded data removed]",
      "text/plain": [
       "<Figure size 1000x600 with 1 Axes>"
      ]
     },
     "metadata": {},
     "output_type": "display_data"
    }
   ],
   "source": [
    "df_count_google_numeric = df_count_google.iloc[0].apply(pd.to_numeric)\n",
    "\n",
    "# Define a list of colors (the length should match the number of categories/columns)\n",
    "colors = ['red', 'green', 'blue', 'orange', 'purple', 'brown', 'pink', 'gray', 'cyan', 'magenta']\n",
    "\n",
    "# Check if the number of colors matches the number of columns\n",
    "if len(colors) >= len(df_count_google_numeric):\n",
    "    # Plotting\n",
    "    plt.figure(figsize=(10, 6))  # Set the figure size (width, height) in inches\n",
    "    plt.bar(df_count_google_numeric.index, df_count_google_numeric.values, color=colors)  # Create a bar plot with different colors\n",
    "\n",
    "    # Adding titles and labels\n",
    "    plt.title('Counts of Google version chapter 4')\n",
    "    plt.xlabel('Columns')\n",
    "    plt.ylabel('Counts')\n",
    "    plt.xticks(rotation=45, ha='right')  # Rotate the x labels to avoid overlapping\n",
    "\n",
    "    # Show the plot\n",
    "    plt.tight_layout()  # Adjusts subplot params so that the subplot(s) fits in to the figure area\n",
    "    plt.show()\n",
    "else:\n",
    "    print(\"Not enough colors defined.\")"
   ]
  },
  {
   "cell_type": "code",
   "execution_count": 14,
   "metadata": {},
   "outputs": [
    {
     "data": {
      "text/html": [
       "<div>\n",
       "<style scoped>\n",
       "    .dataframe tbody tr th:only-of-type {\n",
       "        vertical-align: middle;\n",
       "    }\n",
       "\n",
       "    .dataframe tbody tr th {\n",
       "        vertical-align: top;\n",
       "    }\n",
       "\n",
       "    .dataframe thead th {\n",
       "        text-align: right;\n",
       "    }\n",
       "</style>\n",
       "<table border=\"1\" class=\"dataframe\">\n",
       "  <thead>\n",
       "    <tr style=\"text-align: right;\">\n",
       "      <th></th>\n",
       "      <th>English_Verse_chap4_yiyun</th>\n",
       "    </tr>\n",
       "  </thead>\n",
       "  <tbody>\n",
       "    <tr>\n",
       "      <th>0</th>\n",
       "      <td>There are, it is said, some victors who deligh...</td>\n",
       "    </tr>\n",
       "    <tr>\n",
       "      <th>1</th>\n",
       "      <td>See him now: walking on air after a busy day o...</td>\n",
       "    </tr>\n",
       "    <tr>\n",
       "      <th>2</th>\n",
       "      <td>‘May you die without descendants!’ echoed in t...</td>\n",
       "    </tr>\n",
       "    <tr>\n",
       "      <th>3</th>\n",
       "      <td>‘Woman...’ he thought. ‘Must... find... woman...</td>\n",
       "    </tr>\n",
       "    <tr>\n",
       "      <th>4</th>\n",
       "      <td>‘Sauce for the goose...’ he thought some more,...</td>\n",
       "    </tr>\n",
       "  </tbody>\n",
       "</table>\n",
       "</div>"
      ],
      "text/plain": [
       "                           English_Verse_chap4_yiyun\n",
       "0  There are, it is said, some victors who deligh...\n",
       "1  See him now: walking on air after a busy day o...\n",
       "2  ‘May you die without descendants!’ echoed in t...\n",
       "3   ‘Woman...’ he thought. ‘Must... find... woman...\n",
       "4  ‘Sauce for the goose...’ he thought some more,..."
      ]
     },
     "execution_count": 14,
     "metadata": {},
     "output_type": "execute_result"
    }
   ],
   "source": [
    "#google translate chapter four sentiment analysis\n",
    "\n",
    "\n",
    "#clean the new dataset\n",
    "#get the file path for the google translate version\n",
    "file_path_four_yiyun = '/Users/wangxuechun/unsw/UNSW-Thesis-/chapter_4_eng_version_yiyun.csv'\n",
    "#construct a dataframe\n",
    "df_four_yiyun = pd.read_csv(file_path_four_yiyun)\n",
    "\n",
    "df_four_yiyun.head()"
   ]
  },
  {
   "cell_type": "code",
   "execution_count": 23,
   "metadata": {},
   "outputs": [
    {
     "name": "stderr",
     "output_type": "stream",
     "text": [
      "/Library/Frameworks/Python.framework/Versions/3.10/lib/python3.10/site-packages/transformers/tokenization_utils_base.py:2619: FutureWarning: The `pad_to_max_length` argument is deprecated and will be removed in a future version, use `padding=True` or `padding='longest'` to pad to the longest sequence in the batch, or use `padding='max_length'` to pad to a max length. In this case, you can give a specific length with `max_length` (e.g. `max_length=45`) or leave max_length to None to pad to the maximal input size of the model (e.g. 512 for Bert).\n",
      "  warnings.warn(\n"
     ]
    },
    {
     "name": "stdout",
     "output_type": "stream",
     "text": [
      "   Optimistic  Thankful  Empathetic  Pessimistic  Anxious  Sad  Annoyed  \\\n",
      "0          30         0          19            0       41   27       12   \n",
      "\n",
      "   Denial  Surprise  Joking  \n",
      "0      27        39       0  \n"
     ]
    }
   ],
   "source": [
    "#part 3 the sentiment analysis for yiyun\n",
    "\n",
    "#load data frame and create a dataframe for sentiment analysis\n",
    "df_yiyun = pd.DataFrame()\n",
    "df_yiyun['tweets'] = df_four_yiyun[\"English_Verse_chap4_yiyun\"]\n",
    "values_yiyun_four = [[0, 0, 0, 0, 0, 0, 0, 0, 0, 0, 0]] * len(df_yiyun)\n",
    "df_yiyun['list'] = values_yiyun_four\n",
    "\n",
    "\n",
    "\n",
    "#custom my dataset\n",
    "dataset_new_yiyun = DatasetParagraphs(df_yiyun, tokenizer, MAX_LENS)\n",
    "\n",
    "test_loader = DataLoader(dataset_new_yiyun, **param)\n",
    "test_outputs_yiyun= test()\n",
    "\n",
    "#we got the test outputs values\n",
    "test_outputs_yiyun = np.array(test_outputs_yiyun)\n",
    "\n",
    "for i in range(test_outputs_yiyun.shape[0]):\n",
    "    for j in range(test_outputs_yiyun.shape[1]):\n",
    "        if test_outputs_yiyun[i][j] >= 0.5:\n",
    "            test_outputs_yiyun[i][j] = 1\n",
    "        else:\n",
    "            test_outputs_yiyun[i][j] = 0\n",
    "\n",
    "df_yiyun['Optimistic'] = \"None\"\n",
    "df_yiyun['Thankful'] = \"None\"\n",
    "df_yiyun['Empathetic'] = \"None\"\n",
    "df_yiyun['Pessimistic'] = \"None\"\n",
    "df_yiyun['Anxious'] = \"None\"\n",
    "df_yiyun['Sad'] = \"None\"\n",
    "df_yiyun['Annoyed'] = \"None\"\n",
    "df_yiyun['Denial'] = \"None\"\n",
    "df_yiyun['Official report'] = \"None\"\n",
    "df_yiyun['Surprise'] = \"None\"\n",
    "df_yiyun['Joking'] = \"None\"\n",
    "\n",
    "\n",
    "for i in range(len(test_outputs_yiyun)):\n",
    "    df_yiyun['Optimistic'].iloc[i] = test_outputs_yiyun[i][0]\n",
    "    df_yiyun['Thankful'].iloc[i] = test_outputs_yiyun[i][1]\n",
    "    df_yiyun['Empathetic'].iloc[i] = test_outputs_yiyun[i][2]\n",
    "    df_yiyun['Pessimistic'].iloc[i] = test_outputs_yiyun[i][3]\n",
    "    df_yiyun['Anxious'].iloc[i] = test_outputs_yiyun[i][4]\n",
    "    df_yiyun['Sad'].iloc[i] = test_outputs_yiyun[i][5]\n",
    "    df_yiyun['Annoyed'].iloc[i] = test_outputs_yiyun[i][6]\n",
    "    df_yiyun['Denial'].iloc[i] = test_outputs_yiyun[i][7]\n",
    "    df_yiyun['Official report'].iloc[i] = test_outputs_yiyun[i][8]\n",
    "    df_yiyun['Surprise'].iloc[i] = test_outputs_yiyun[i][9]\n",
    "    df_yiyun['Joking'].iloc[i] = test_outputs_yiyun[i][10]\n",
    "\n",
    "#deep clean the dataframe\n",
    "df_yiyun = df_yiyun.drop(['list','Official report'], axis = 1)\n",
    "df_count_yiyun = pd.DataFrame()\n",
    "\n",
    "df_count_yiyun = pd.DataFrame(index=[0], columns=['Optimistic', 'Thankful', 'Empathetic', 'Pessimistic', 'Anxious', 'Sad', 'Annoyed', 'Denial', 'Surprise', 'Joking'])\n",
    "df_count_yiyun[:] = \"None\"\n",
    "\n",
    "# Define a function to count 1.0 in columns\n",
    "def count_yiyun(column):\n",
    "    return (df_yiyun[column] == 1.0).sum()\n",
    "\n",
    "# Use the function to count and assign values\n",
    "df_count_yiyun['Optimistic'] = count_yiyun('Optimistic')\n",
    "df_count_yiyun['Thankful'] = count_yiyun('Thankful')\n",
    "df_count_yiyun['Empathetic'] = count_yiyun('Empathetic')\n",
    "df_count_yiyun['Pessimistic'] = count_yiyun('Pessimistic')\n",
    "df_count_yiyun['Anxious'] = count_yiyun('Anxious')\n",
    "df_count_yiyun['Sad'] = count_yiyun('Sad')\n",
    "df_count_yiyun['Annoyed'] = count_yiyun('Annoyed')\n",
    "df_count_yiyun['Denial'] = count_yiyun('Denial')\n",
    "df_count_yiyun['Surprise'] = count_yiyun('Surprise')\n",
    "df_count_yiyun['Joking'] = count_yiyun('Joking')\n",
    "\n",
    "print(df_count_yiyun.head())\n",
    "\n"
   ]
  },
  {
   "cell_type": "code",
   "execution_count": 29,
   "metadata": {},
   "outputs": [
    {
     "data": {
      "image/png": "[encoded data removed]",
      "text/plain": [
       "<Figure size 1000x600 with 1 Axes>"
      ]
     },
     "metadata": {},
     "output_type": "display_data"
    }
   ],
   "source": [
    "df_count_yiyun_numeric = df_count_yiyun.iloc[0].apply(pd.to_numeric)\n",
    "\n",
    "# Define a list of colors (the length should match the number of categories/columns)\n",
    "colors = ['red', 'green', 'blue', 'orange', 'purple', 'brown', 'pink', 'gray', 'cyan', 'magenta']\n",
    "\n",
    "# Check if the number of colors matches the number of columns\n",
    "if len(colors) >= len(df_count_yiyun_numeric):\n",
    "    # Plotting\n",
    "    plt.figure(figsize=(10, 6))  # Set the figure size (width, height) in inches\n",
    "    plt.bar(df_count_yiyun_numeric.index, df_count_yiyun_numeric.values, color=colors)  # Create a bar plot with different colors\n",
    "\n",
    "    # Adding titles and labels\n",
    "    plt.title('Counts of Yiyun version chapter 4')\n",
    "    plt.xlabel('Columns')\n",
    "    plt.ylabel('Counts')\n",
    "    plt.xticks(rotation=45, ha='right')  # Rotate the x labels to avoid overlapping\n",
    "\n",
    "    # Show the plot\n",
    "    plt.tight_layout()  # Adjusts subplot params so that the subplot(s) fits in to the figure area\n",
    "    plt.show()\n",
    "else:\n",
    "    print(\"Not enough colors defined.\")\n",
    "\n"
   ]
  },
  {
   "cell_type": "code",
   "execution_count": 31,
   "metadata": {},
   "outputs": [
    {
     "data": {
      "text/html": [
       "<div>\n",
       "<style scoped>\n",
       "    .dataframe tbody tr th:only-of-type {\n",
       "        vertical-align: middle;\n",
       "    }\n",
       "\n",
       "    .dataframe tbody tr th {\n",
       "        vertical-align: top;\n",
       "    }\n",
       "\n",
       "    .dataframe thead th {\n",
       "        text-align: right;\n",
       "    }\n",
       "</style>\n",
       "<table border=\"1\" class=\"dataframe\">\n",
       "  <thead>\n",
       "    <tr style=\"text-align: right;\">\n",
       "      <th></th>\n",
       "      <th>Optimistic</th>\n",
       "      <th>Thankful</th>\n",
       "      <th>Empathetic</th>\n",
       "      <th>Pessimistic</th>\n",
       "      <th>Anxious</th>\n",
       "      <th>Sad</th>\n",
       "      <th>Annoyed</th>\n",
       "      <th>Denial</th>\n",
       "      <th>Surprise</th>\n",
       "      <th>Joking</th>\n",
       "    </tr>\n",
       "  </thead>\n",
       "  <tbody>\n",
       "    <tr>\n",
       "      <th>0</th>\n",
       "      <td>37</td>\n",
       "      <td>0</td>\n",
       "      <td>26</td>\n",
       "      <td>1</td>\n",
       "      <td>43</td>\n",
       "      <td>19</td>\n",
       "      <td>11</td>\n",
       "      <td>30</td>\n",
       "      <td>40</td>\n",
       "      <td>2</td>\n",
       "    </tr>\n",
       "    <tr>\n",
       "      <th>0</th>\n",
       "      <td>37</td>\n",
       "      <td>0</td>\n",
       "      <td>25</td>\n",
       "      <td>0</td>\n",
       "      <td>45</td>\n",
       "      <td>18</td>\n",
       "      <td>10</td>\n",
       "      <td>30</td>\n",
       "      <td>38</td>\n",
       "      <td>2</td>\n",
       "    </tr>\n",
       "    <tr>\n",
       "      <th>0</th>\n",
       "      <td>30</td>\n",
       "      <td>0</td>\n",
       "      <td>19</td>\n",
       "      <td>0</td>\n",
       "      <td>41</td>\n",
       "      <td>27</td>\n",
       "      <td>12</td>\n",
       "      <td>27</td>\n",
       "      <td>39</td>\n",
       "      <td>0</td>\n",
       "    </tr>\n",
       "  </tbody>\n",
       "</table>\n",
       "</div>"
      ],
      "text/plain": [
       "   Optimistic  Thankful  Empathetic  Pessimistic  Anxious  Sad  Annoyed  \\\n",
       "0          37         0          26            1       43   19       11   \n",
       "0          37         0          25            0       45   18       10   \n",
       "0          30         0          19            0       41   27       12   \n",
       "\n",
       "   Denial  Surprise  Joking  \n",
       "0      30        40       2  \n",
       "0      30        38       2  \n",
       "0      27        39       0  "
      ]
     },
     "execution_count": 31,
     "metadata": {},
     "output_type": "execute_result"
    }
   ],
   "source": [
    "#conbine the counts of sentimental elements \n",
    "\n",
    "df_total_chap4 = pd.DataFrame()\n",
    "\n",
    "df_total_chap4 = pd.concat([df_count_hsien, df_count_google, df_count_yiyun], axis=0)\n",
    "\n",
    "df_total_chap4\n",
    "\n"
   ]
  },
  {
   "cell_type": "code",
   "execution_count": 34,
   "metadata": {},
   "outputs": [
    {
     "data": {
      "image/png": "[encoded data removed]",
      "text/plain": [
       "<Figure size 1500x700 with 1 Axes>"
      ]
     },
     "metadata": {},
     "output_type": "display_data"
    }
   ],
   "source": [
    "# Number of rows in the DataFrame\n",
    "num_rows = df_total_chap4.shape[0]\n",
    "# Number of columns (features) in the DataFrame\n",
    "num_columns = df_total_chap4.shape[1]\n",
    "# Create an array with the position of each bar along the x-axis\n",
    "bar_positions = np.arange(num_columns)\n",
    "\n",
    "# Set the width of each bar\n",
    "bar_width = 0.2\n",
    "\n",
    "# Plotting\n",
    "plt.figure(figsize=(15, 7))\n",
    "\n",
    "# Plot a bar for each row\n",
    "for i in range(num_rows):\n",
    "    plt.bar(bar_positions + i * bar_width, df_total_chap4.iloc[i, :], width=bar_width, label=f'Row {i+1}')\n",
    "\n",
    "# Set the position and labels for the x-axis ticks\n",
    "plt.xticks(bar_positions + bar_width, df_total_chap4.columns)\n",
    "\n",
    "# Adding titles and labels\n",
    "plt.title('Combination of sentiment analysis')\n",
    "plt.xlabel('Features')\n",
    "plt.ylabel('Frequency')\n",
    "plt.legend(title=\"Legend\")  # Show legend with title\n",
    "\n",
    "# Show the plot\n",
    "plt.tight_layout()  # Adjust subplot parameters to give specified padding.\n",
    "plt.show()"
   ]
  }
 ],
 "metadata": {
  "kernelspec": {
   "display_name": "Python 3",
   "language": "python",
   "name": "python3"
  },
  "language_info": {
   "codemirror_mode": {
    "name": "ipython",
    "version": 3
   },
   "file_extension": ".py",
   "mimetype": "text/x-python",
   "name": "python",
   "nbconvert_exporter": "python",
   "pygments_lexer": "ipython3",
   "version": "3.10.5"
  }
 },
 "nbformat": 4,
 "nbformat_minor": 2
}
