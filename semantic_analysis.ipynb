{
 "cells": [
  {
   "cell_type": "code",
   "execution_count": 25,
   "metadata": {},
   "outputs": [
    {
     "name": "stdout",
     "output_type": "stream",
     "text": [
      "Collecting nltk\n",
      "  Downloading nltk-3.8.1-py3-none-any.whl (1.5 MB)\n",
      "\u001b[2K     \u001b[90m━━━━━━━━━━━━━━━━━━━━━━━━━━━━━━━━━━━━━━━━\u001b[0m \u001b[32m1.5/1.5 MB\u001b[0m \u001b[31m6.3 MB/s\u001b[0m eta \u001b[36m0:00:00\u001b[0m00:01\u001b[0m00:01\u001b[0m\n",
      "\u001b[?25hRequirement already satisfied: regex>=2021.8.3 in /Library/Frameworks/Python.framework/Versions/3.10/lib/python3.10/site-packages (from nltk) (2023.12.25)\n",
      "Collecting click\n",
      "  Downloading click-8.1.7-py3-none-any.whl (97 kB)\n",
      "\u001b[2K     \u001b[90m━━━━━━━━━━━━━━━━━━━━━━━━━━━━━━━━━━━━━━━━\u001b[0m \u001b[32m97.9/97.9 KB\u001b[0m \u001b[31m4.9 MB/s\u001b[0m eta \u001b[36m0:00:00\u001b[0m\n",
      "\u001b[?25hCollecting joblib\n",
      "  Downloading joblib-1.3.2-py3-none-any.whl (302 kB)\n",
      "\u001b[2K     \u001b[90m━━━━━━━━━━━━━━━━━━━━━━━━━━━━━━━━━━━━━━━\u001b[0m \u001b[32m302.2/302.2 KB\u001b[0m \u001b[31m6.1 MB/s\u001b[0m eta \u001b[36m0:00:00\u001b[0ma \u001b[36m0:00:01\u001b[0m\n",
      "\u001b[?25hRequirement already satisfied: tqdm in /Library/Frameworks/Python.framework/Versions/3.10/lib/python3.10/site-packages (from nltk) (4.66.1)\n",
      "Installing collected packages: joblib, click, nltk\n",
      "Successfully installed click-8.1.7 joblib-1.3.2 nltk-3.8.1\n",
      "\u001b[33mWARNING: You are using pip version 22.0.4; however, version 24.0 is available.\n",
      "You should consider upgrading via the '/usr/local/bin/python3 -m pip install --upgrade pip' command.\u001b[0m\u001b[33m\n",
      "\u001b[0mNote: you may need to restart the kernel to use updated packages.\n"
     ]
    }
   ],
   "source": [
    "#part one: compute the jaccard similarity\n",
    "#https://github.com/VipanchiKatthula/Jaccard_Cosine_Similarity/blob/master/Jaccard_and_Cosine_Similarity.ipynb\n",
    "%pip install nltk"
   ]
  },
  {
   "cell_type": "code",
   "execution_count": 1,
   "metadata": {},
   "outputs": [],
   "source": [
    "import numpy as np\n",
    "import pandas as pd"
   ]
  },
  {
   "cell_type": "code",
   "execution_count": 2,
   "metadata": {},
   "outputs": [],
   "source": [
    "#load the file\n",
    "df_hsien = pd.read_csv('/Users/wangxuechun/unsw/UNSW-Thesis-/chapter_4_eng_version_one.csv')\n",
    "df_google = pd.read_csv('/Users/wangxuechun/unsw/UNSW-Thesis-/chapter_4_trans.csv')\n",
    "df_google = df_google.drop('Chinese_verse', axis=1)\n",
    "df_yiyun = pd.read_csv('/Users/wangxuechun/unsw/UNSW-Thesis-/chapter_4_eng_version_yiyun.csv')\n",
    "df_hsien.columns = ['English_Verse']\n",
    "df_yiyun.columns = ['English_Verse']"
   ]
  },
  {
   "cell_type": "code",
   "execution_count": 3,
   "metadata": {},
   "outputs": [],
   "source": [
    "#convert lists of lists:\n",
    "def lists_of_lists(lists):\n",
    "    return [item for sublist in lists for item in sublist]"
   ]
  },
  {
   "cell_type": "code",
   "execution_count": 4,
   "metadata": {},
   "outputs": [],
   "source": [
    "#computation of jaccard similarities\n",
    "def jaccard_similarities(list1, list2):\n",
    "    intersections = len(set(list1).intersection(set(list2)))\n",
    "    unions = len(set(list1).union(set(list2)))\n",
    "    return (intersections/unions)*100"
   ]
  },
  {
   "cell_type": "code",
   "execution_count": 5,
   "metadata": {},
   "outputs": [
    {
     "name": "stderr",
     "output_type": "stream",
     "text": [
      "[nltk_data] Downloading package punkt to\n",
      "[nltk_data]     /Users/wangxuechun/nltk_data...\n",
      "[nltk_data]   Package punkt is already up-to-date!\n",
      "[nltk_data] Downloading package stopwords to\n",
      "[nltk_data]     /Users/wangxuechun/nltk_data...\n",
      "[nltk_data]   Package stopwords is already up-to-date!\n"
     ]
    },
    {
     "data": {
      "text/plain": [
       "True"
      ]
     },
     "execution_count": 5,
     "metadata": {},
     "output_type": "execute_result"
    }
   ],
   "source": [
    "import string\n",
    "import nltk\n",
    "from nltk.corpus import stopwords\n",
    "from nltk.tokenize import word_tokenize\n",
    "import ssl\n",
    "\n",
    "try:\n",
    "    _create_unverified_https_context = ssl._create_unverified_context\n",
    "except AttributeError:\n",
    "    pass\n",
    "else:\n",
    "    ssl._create_default_https_context = _create_unverified_https_context\n",
    "\n",
    "\n",
    "nltk.download('punkt')\n",
    "nltk.download('stopwords')\n",
    "\n",
    "\n",
    "\n"
   ]
  },
  {
   "cell_type": "code",
   "execution_count": 8,
   "metadata": {},
   "outputs": [
    {
     "name": "stdout",
     "output_type": "stream",
     "text": [
      "['said', 'victors', 'take', 'pleasure', 'victory', 'unless', 'opponents', 'arc', 'fierce', 'tigers', 'eagles', 'adversaries', 'timid', 'sheep', 'chickens', 'find', 'triumph', 'empty', 'victors', 'carried', 'enemy', 'slain', 'surrendered', 'cowering', 'utter', 'subjection', 'realize', 'toc', 'rival', 'friend', 'left', 'supreme', 'solitary', 'desolate', 'forlorn', 'find', 'triumph', 'tragedy', 'hero', 'always', 'exultant', 'may', 'proof', 'moral', 'supremacy', 'china', 'rest', 'world', 'look', 'ah', 'q', 'light', 'elated', 'fly', 'victory', 'without', 'strange', 'consequences', 'though', 'quite', 'time', 'seemed', 'flying', 'flew', 'tutelary', 'god', 'temple', 'would', 'normally', 'snored', 'soon', 'lay', 'evening', 'however', 'found', 'difficult', 'close', 'eyes', 'felt', 'something', 'matter', 'thumb', 'first', 'finger', 'seemed', 'smoother', 'usual', 'impossible', 'say', 'whether', 'something', 'soft', 'smooth', 'little', 'nun', 'face', 'stuck', 'fingers', 'whether', 'fingers', 'rubbed', 'smooth', 'cheek', 'ah', 'q', 'may', 'die', 'sonless', 'words', 'sounded', 'ah', 'q', 'cars', 'thought', 'quite', 'right', 'take', 'wife', 'man', 'dies', 'sonless', 'one', 'sacrifice', 'bowl', 'rice', 'spirit', 'ought', 'wife', 'saying', 'goes', 'three', 'forms', 'unfilial', 'conduct', 'worst', 'descendants', 'one', 'tragedies', 'life', 'spirits', 'without', 'descendants', 'go', 'hungry', 'thus', 'view', 'absolutely', 'accordance', 'teachings', 'saints', 'sages', 'indeed', 'pity', 'later', 'run', 'amok', 'woman', 'woman', 'thought', 'monk', 'paws', 'woman', 'woman', 'woman', 'thought', 'shall', 'never', 'know', 'ah', 'q', 'finally', 'fell', 'asleep', 'evening', 'however', 'probably', 'always', 'found', 'fingers', 'rather', 'soft', 'smooth', 'always', 'remained', 'little', 'woman', 'kept', 'thinking', 'see', 'woman', 'menace', 'mankind', 'majority', 'chinese', 'men', 'could', 'become', 'saints', 'sages', 'unfortunate', 'fact', 'ruined', 'women', 'shang', 'dynasty', 'destroyed', 'ta', 'chi', 'chou', 'dynasty', 'undermined', 'pao', 'szu', 'chin', 'dynasty', 'although', 'historical', 'evidence', 'effect', 'assume', 'fell', 'account', 'woman', 'shall', 'probably', 'far', 'wrong', 'fact', 'tung', 'cho', 'death', 'caused', 'tiao', 'chan', 'ah', 'q', 'man', 'strict', 'morals', 'begin', 'although', 'know', 'whether', 'guided', 'good', 'teacher', 'always', 'shown', 'scrupulous', 'observing', 'strict', 'segregation', 'sexes', 'enough', 'denounce', 'heretics', 'little', 'nun', 'imitation', 'foreign', 'devil', 'view', 'nuns', 'must', 'carry', 'secret', 'monks', 'woman', 'walks', 'alone', 'street', 'must', 'want', 'seduce', 'men', 'man', 'woman', 'talk', 'together', 'must', 'arrange', 'meet', 'order', 'correct', 'people', 'would', 'glare', 'furiously', 'pass', 'loud', 'cutting', 'remarks', 'place', 'deserted', 'throw', 'small', 'stone', 'behind', 'could', 'tell', 'close', 'thirty', 'man', 'stand', 'firm', 'would', 'lose', 'head', 'like', 'little', 'nun', 'according', 'classical', 'canons', 'reprehensible', 'thus', 'women', 'certainly', 'hateful', 'creatures', 'little', 'nun', 'face', 'soft', 'smooth', 'ah', 'q', 'would', 'bewitched', 'would', 'happened', 'little', 'nun', 'face', 'covered', 'cloth', 'five', 'six', 'years', 'watching', 'opera', 'pinched', 'leg', 'woman', 'audience', 'separated', 'cloth', 'trousers', 'feeling', 'afterwards', 'little', 'nun', 'covered', 'face', 'another', 'proof', 'odiousness', 'herctic', 'woman', 'thought', 'ah', 'q', 'kept', 'close', 'watch', 'women', 'believed', 'must', 'want', 'seduce', 'bad', 'men', 'smile', 'listened', 'carefully', 'women', 'talked', 'one', 'mentioned', 'anything', 'relevant', 'secret', 'rendezvous', 'ahl', 'simply', 'another', 'example', 'odiousness', 'women', 'assumed', 'false', 'modesty', 'one', 'day', 'ah', 'q', 'grinding', 'rice', 'chao', 'house', 'sat', 'kitchen', 'supper', 'smoke', 'pipe', 'anyone', 'else', 'house', 'could', 'gone', 'home', 'supper', 'dined', 'early', 'chao', 'family', 'although', 'rule', 'must', 'light', 'lamp', 'go', 'bed', 'eating', 'occasional', 'exceptions', 'rule', 'chao', 'son', 'passed', 'county', 'examination', 'allowed', 'light', 'lamp', 'study', 'examination', 'essays', 'ah', 'q', 'went', 'odd', 'jobs', 'allowed', 'light', 'lamp', 'grind', 'rice', 'latter', 'exception', 'rule', 'ah', 'q', 'still', 'sat', 'kitchen', 'smoking', 'going', 'work', 'amah', 'wu', 'maidservant', 'chao', 'household', 'finished', 'washing', 'dishes', 'sat', 'long', 'bench', 'started', 'chatting', 'ah', 'q', 'mistress', 'eaten', 'anything', 'two', 'days', 'master', 'wants', 'get', 'concubine', 'woman', 'amah', 'wu', 'little', 'widow', 'thought', 'ah', 'q', 'young', 'mistress', 'going', 'baby', 'eighth', 'woman', 'thought', 'ah', 'q', 'put', 'pipe', 'stood', 'young', 'mistress', 'amah', 'wu', 'chattered', 'sleep', 'ah', 'q', 'suddenly', 'rushed', 'forward', 'threw', 'feet', 'moment', 'absolute', 'silence', 'ai', 'ya', 'dumbfounded', 'instant', 'amah', 'wu', 'suddenly', 'began', 'tremble', 'rushed', 'shrieking', 'could', 'soon', 'heard', 'sobbing', 'ah', 'q', 'kneeling', 'opposite', 'wall', 'dumbfounded', 'grasped', 'empty', 'bench', 'hands', 'stood', 'slowly', 'dimly', 'aware', 'something', 'wrong', 'fact', 'time', 'rather', 'nervous', 'state', 'flurry', 'stuck', 'pipe', 'belt', 'decided', 'go', 'back', 'rice', 'bang', 'heavy', 'blow', 'landed', 'head', 'spun', 'round', 'see', 'successful', 'county', 'candidate', 'standing', 'brandishing', 'big', 'bamboo', 'pole', 'dare', 'big', 'bamboo', 'pole', 'came', 'across', 'ah', 'q', 'shoulders', 'put', 'hands', 'protect', 'head', 'blow', 'landed', 'knuckles', 'causing', 'considerable', 'pain', 'escaped', 'kitchen', 'door', 'seemed', 'back', 'also', 'received', 'blow', 'turtle', 'egg', 'shouted', 'successful', 'candidate', 'cursing', 'mandarin', 'behind', 'ah', 'q', 'fled', 'stood', 'alone', 'still', 'feeling', 'pain', 'knuckles', 'still', 'remembering', 'turtle', 'egg', 'expression', 'never', 'used', 'weichuang', 'villagers', 'rich', 'seen', 'something', 'official', 'life', 'made', 'frightened', 'left', 'exceptionally', 'deep', 'impression', 'mind', 'however', 'thought', 'woman', 'flown', 'cursing', 'beating', 'seemed', 'something', 'done', 'quite', 'light', 'heartedly', 'began', 'grind', 'rice', 'grinding', 'time', 'felt', 'hot', 'stopped', 'take', 'shirt', 'taking', 'shirt', 'heard', 'uproar', 'outside', 'since', 'ah', 'q', 'always', 'liked', 'join', 'excitement', 'going', 'went', 'search', 'sound', 'traced', 'gradually', 'right', 'chao', 'inner', 'courtyard', 'although', 'dusk', 'could', 'see', 'many', 'people', 'chao', 'family', 'including', 'mistress', 'eaten', 'two', 'days', 'addition', 'neighbour', 'tsou', 'well', 'relatives', 'chao', 'chao', 'young', 'mistress', 'leading', 'amah', 'wu', 'servants', 'quarters', 'saying', 'come', 'outside', 'stay', 'brooding', 'room', 'everybody', 'knows', 'good', 'woman', 'put', 'side', 'must', 'think', 'committing', 'amah', 'wu', 'merely', 'wailed', 'muttering', 'something', 'inaudible', 'interesting', 'thought', 'ah', 'q', 'mischief', 'little', 'widow', 'wanting', 'find', 'approaching', 'chao', 'suddenly', 'caught', 'sight', 'chao', 'eldest', 'son', 'rushing', 'towards', 'worse', 'big', 'bamboo', 'pole', 'hand', 'sight', 'big', 'bamboo', 'pole', 'reminded', 'beaten', 'realized', 'apparently', 'connected', 'way', 'scene', 'excitement', 'turned', 'ran', 'hoping', 'escape', 'foreseeing', 'bamboo', 'pole', 'would', 'cut', 'retreat', 'thereupon', 'turned', 'ran', 'direction', 'leaving', 'without', 'ado', 'back', 'door', 'short', 'time', 'back', 'tutelary', 'god', 'temple', 'ah', 'q', 'sat', 'time', 'skin', 'began', 'form', 'goose', 'pimples', 'felt', 'cold', 'although', 'spring', 'nights', 'still', 'quite', 'frosty', 'suited', 'bare', 'backs', 'remembered', 'left', 'shirt', 'chaos', 'house', 'afraid', 'went', 'fetch', 'might', 'get', 'another', 'taste', 'successful', 'candidate', 'bamboo', 'pole', 'bailiff', 'came', 'curse', 'ah', 'q', 'said', 'bailiff', 'ca', 'even', 'keep', 'hands', 'chao', 'family', 'servants', 'rebel', 'made', 'lose', 'sleep', 'curse', 'torrent', 'abuse', 'ah', 'q', 'naturally', 'nothing', 'say', 'finally', 'since', 'ah', 'q', 'pay', 'double', 'give', 'bailiff', 'four', 'hundred', 'cash', 'happened', 'ready', 'money', 'gave', 'felt', 'hat', 'security', 'agreed', 'following', 'five', 'terms', 'next', 'morning', 'ah', 'q', 'must', 'take', 'pair', 'red', 'candles', 'weighing', 'one', 'pound', 'bundle', 'incense', 'sticks', 'chao', 'family', 'atone', 'misdeeds', 'ah', 'q', 'must', 'pay', 'taoist', 'priests', 'chao', 'family', 'called', 'exorcize', 'evil', 'spirits', 'ah', 'q', 'must', 'never', 'set', 'foot', 'chao', 'household', 'anything', 'unfortunate', 'happen', 'amah', 'wu', 'ah', 'q', 'must', 'held', 'responsible', 'ah', 'q', 'must', 'go', 'back', 'wages', 'shirt', 'ah', 'q', 'naturally', 'agreed', 'everything', 'unfortunately', 'ready', 'money', 'luckily', 'already', 'spring', 'possible', 'without', 'padded', 'quilt', 'pawned', 'two', 'thousand', 'cash', 'comply', 'terms', 'stipulated', 'kowtowing', 'bare', 'back', 'still', 'cash', 'left', 'instead', 'using', 'redeem', 'felt', 'hat', 'bailiff', 'spent', 'drink', 'actually', 'chao', 'family', 'burned', 'neither', 'incense', 'candles', 'could', 'used', 'mistress', 'worshipped', 'buddha', 'put', 'aside', 'purpose', 'ragged', 'shirt', 'made', 'diapers', 'baby', 'born', 'young', 'mistress', 'eighth', 'moon', 'tattered', 'remainder', 'used', 'amah', 'wu', 'make', 'shoe', 'soles']\n"
     ]
    }
   ],
   "source": [
    "#data cleaning\n",
    "def data_cleaning(text):\n",
    "    tokens = word_tokenize(text)\n",
    "    #remove the punctuation and convert all to the lower case\n",
    "    tokens = [token.lower() for token in tokens if token.isalpha()]\n",
    "    # Remove stop words\n",
    "    stop_words = set(stopwords.words('english'))\n",
    "    filtered_text = [word for word in tokens if word not in stop_words]\n",
    "    return filtered_text\n",
    "\n",
    "\n",
    "hsien_lists = df_hsien['English_Verse'].apply(data_cleaning)\n",
    "google_lists = df_google['English_Verse'].apply(data_cleaning)\n",
    "yiyun_lists = df_yiyun['English_Verse'].apply(data_cleaning)\n",
    "\n",
    "hsien_list = lists_of_lists(hsien_lists)\n",
    "google_list = lists_of_lists(google_lists)\n",
    "yiyun_list = lists_of_lists(yiyun_lists)"
   ]
  },
  {
   "cell_type": "code",
   "execution_count": 9,
   "metadata": {},
   "outputs": [
    {
     "name": "stdout",
     "output_type": "stream",
     "text": [
      "18.58974358974359 21.49532710280374 26.126126126126124\n"
     ]
    }
   ],
   "source": [
    "#implementation phase\n",
    "js_yg = jaccard_similarities(yiyun_list, google_list)\n",
    "js_hg = jaccard_similarities(hsien_list,google_list)\n",
    "js_hy = jaccard_similarities(hsien_list, yiyun_list)\n",
    "\n",
    "print(js_yg, js_hg, js_hy)\n",
    "\n"
   ]
  },
  {
   "cell_type": "code",
   "execution_count": 10,
   "metadata": {},
   "outputs": [],
   "source": [
    "#semantic analysis cosine similarity\n",
    "hsien_list      = ','.join(str(v) for v in hsien_list)\n",
    "google_list    = ','.join(str(v) for v in google_list)\n",
    "yiyun_list    = ','.join(str(v) for v in yiyun_list)"
   ]
  },
  {
   "cell_type": "code",
   "execution_count": 14,
   "metadata": {},
   "outputs": [
    {
     "name": "stdout",
     "output_type": "stream",
     "text": [
      "Collecting scikit-learn\n",
      "  Downloading scikit_learn-1.4.0-1-cp310-cp310-macosx_12_0_arm64.whl (10.6 MB)\n",
      "\u001b[2K     \u001b[90m━━━━━━━━━━━━━━━━━━━━━━━━━━━━━━━━━━━━━━━━\u001b[0m \u001b[32m10.6/10.6 MB\u001b[0m \u001b[31m7.9 MB/s\u001b[0m eta \u001b[36m0:00:00\u001b[0m00:01\u001b[0m00:01\u001b[0m\n",
      "\u001b[?25hCollecting scipy>=1.6.0\n",
      "  Downloading scipy-1.12.0-cp310-cp310-macosx_12_0_arm64.whl (31.4 MB)\n",
      "\u001b[2K     \u001b[90m━━━━━━━━━━━━━━━━━━━━━━━━━━━━━━━━━━━━━━━━\u001b[0m \u001b[32m31.4/31.4 MB\u001b[0m \u001b[31m6.0 MB/s\u001b[0m eta \u001b[36m0:00:00\u001b[0m00:01\u001b[0m00:01\u001b[0m\n",
      "\u001b[?25hCollecting threadpoolctl>=2.0.0\n",
      "  Downloading threadpoolctl-3.3.0-py3-none-any.whl (17 kB)\n",
      "Requirement already satisfied: numpy<2.0,>=1.19.5 in /Library/Frameworks/Python.framework/Versions/3.10/lib/python3.10/site-packages (from scikit-learn) (1.26.1)\n",
      "Requirement already satisfied: joblib>=1.2.0 in /Library/Frameworks/Python.framework/Versions/3.10/lib/python3.10/site-packages (from scikit-learn) (1.3.2)\n",
      "Installing collected packages: threadpoolctl, scipy, scikit-learn\n",
      "Successfully installed scikit-learn-1.4.0 scipy-1.12.0 threadpoolctl-3.3.0\n",
      "\u001b[33mWARNING: You are using pip version 22.0.4; however, version 24.0 is available.\n",
      "You should consider upgrading via the '/usr/local/bin/python3 -m pip install --upgrade pip' command.\u001b[0m\u001b[33m\n",
      "\u001b[0mNote: you may need to restart the kernel to use updated packages.\n"
     ]
    }
   ],
   "source": [
    "%pip install scikit-learn"
   ]
  },
  {
   "cell_type": "code",
   "execution_count": 17,
   "metadata": {},
   "outputs": [
    {
     "name": "stdout",
     "output_type": "stream",
     "text": [
      "[[1.         0.33609327 0.50282451]\n",
      " [0.33609327 1.         0.30499986]\n",
      " [0.50282451 0.30499986 1.        ]]\n"
     ]
    }
   ],
   "source": [
    "#Calculating Cosine Similarity through TF-IDF\n",
    "\n",
    "from sklearn.feature_extraction.text import TfidfVectorizer\n",
    "from sklearn.metrics.pairwise import cosine_similarity\n",
    "\n",
    "doc = [hsien_list, yiyun_list, google_list]\n",
    "\n",
    "vectorizer = TfidfVectorizer()\n",
    "tfidf = vectorizer.fit_transform(doc)\n",
    "words = vectorizer.get_feature_names_out()\n",
    "similarity_matrix = cosine_similarity(tfidf)\n",
    "\n",
    "print(similarity_matrix)"
   ]
  }
 ],
 "metadata": {
  "kernelspec": {
   "display_name": "Python 3",
   "language": "python",
   "name": "python3"
  },
  "language_info": {
   "codemirror_mode": {
    "name": "ipython",
    "version": 3
   },
   "file_extension": ".py",
   "mimetype": "text/x-python",
   "name": "python",
   "nbconvert_exporter": "python",
   "pygments_lexer": "ipython3",
   "version": "3.10.5"
  }
 },
 "nbformat": 4,
 "nbformat_minor": 2
}
