{
 "cells": [
  {
   "cell_type": "code",
   "execution_count": 1,
   "metadata": {},
   "outputs": [
    {
     "name": "stdout",
     "output_type": "stream",
     "text": [
      "Requirement already satisfied: PyPDF2 in /Users/wangxuechun/miniconda3/envs/tf/lib/python3.10/site-packages (3.0.1)\n",
      "Note: you may need to restart the kernel to use updated packages.\n"
     ]
    }
   ],
   "source": [
    "%pip install PyPDF2"
   ]
  },
  {
   "cell_type": "code",
   "execution_count": 43,
   "metadata": {},
   "outputs": [
    {
     "name": "stdout",
     "output_type": "stream",
     "text": [
      "有人说：有些胜利者，愿意敌手如虎，如鹰，他才感得胜利的欢喜；假使如羊，如小鸡，他便反觉得胜利的无聊。又有些胜利者，当克服一切之后，看见死的死了，降的降了，“臣诚惶诚恐死罪死罪”，他于是没有了敌人，没有了对手，没有了朋友，只有自己在上，一个，孤另另，凄凉，寂寞，便反而感到了胜利的悲哀。然而我们的阿Q却没有这样乏，他是永远得意的：这或者也是中国精神文明冠于全球的一个证据了。@ 看哪，他飘飘然的似乎要飞去了！@ 然而这一次的胜利，却又使他有些异样。他飘飘然的飞了大半天，飘进土谷祠，照例应该躺下便打鼾。谁知道这一晚，他很不容易合眼，他觉得自己的大拇指和第二指有点古怪：仿佛比平常滑腻些。不知道是小尼姑的脸上有一点滑腻的东西粘在他指上，还是他的指头在小尼姑脸上磨得滑腻了? @\t “断子绝孙的阿Q！”@ 阿Q的耳朵里又听到这句话。他想：不错，应该有一个女人，断子绝孙便没有人供一碗饭，应该有一个女人。夫“不孝有三无后为大”，而“若敖之鬼馁而\"，也是一件人生的大哀，所以他那思想，其实是样样合于圣经贤传的，只可惜后来有些“不能收其放心“了。@ “女人、女人！......”他想。@ “……. 和尚効得 ……女人、女人！......女人！”他又想。@ 我们不能知道这晚上阿Q在什么时候才打鼾。但大约他从此总觉得指头有些滑腻，所以他从此总有些飘飘然；“女…⋯”他想。@ 即此一端，我们便可以知道女人是害人的东西。@ 中国的男人，本来大半都可以做圣贤，可惜全被女人毁掉了。商是妲己闹亡的；周是褒姒弄坏的；秦……虽然史无明文，我们也假定他因为女人，大约未必十分错；而董卓可是的确给貂蝉害死了。@ 阿Q本来也是正人，我们虽然不知道他曾蒙什么明师指授过，但他对于“男女之大防”却历来非常严；也很有排斥异端—一如小尼姑及假洋鬼子之类—的正气。他的学说是：凡尼姑，一定与和尚私通；一个女人在外面走，一定想引诱野男人；一男一女在那里讲话，一定要有勾当了。为惩治他们起见，所以他往往怒目而视，或者大声说几句“诛心”话，或者在冷僻处，便从后面掷一块小石头。@ 谁知道他将到“而立”之年，竟被小尼姑害得飘飘然了。这飘飘然的精神，在礼教上是不应该有的，所以女人真可恶，假使小尼姑的脸上不滑腻，阿Q便不至于被蛊，又假使小尼姑的脸上盖一层布，阿Q便也不至于被蛊了，一他五六年前，曾在戏台下的人丛中拧过一个女人的大腿，但因力隔一层裤，所以此后并不飘飘然，—而小尼姑并不然，这也足见异端之可恶。@ “女……”阿Q想。@ 他对于以为“一定想引诱野男人”的女人，时常留心看，然而伊并不对他笑。他对于和他讲话的女人，也时常留心听，然而伊又并不提起关于什么勾当的话来。哦，这也是女人可恶之一节：伊们全都要装“假正经”的。@ 这一天，阿Q在赵太爷家里春了一天米，吃过晚饭，便坐在厨房里吸早烟。倘在别家，吃过晚饭本可以回去的了，但赵府上晚饭早，虽说定例不准掌灯，一吃完便睡觉，然而偶然也有一些例外：其一，是赵大爷未进秀才的时候，准其点灯读文章；其二，便是阿Q来做短工的时候，准其点灯舂米。因这一条例外，所以阿Q在动手舂米之前，还坐在厨房里吸旱烟。@ 吴妈，是赵太爷家里唯一的女仆，洗完了碗碟，也就在长凳上坐下了，而且和阿Q谈闲天：@ “太太两天没有吃饭哩，因为老爷要买一个小的⋯⋯”@ “女人⋯⋯吴妈⋯⋯这小孤孀⋯⋯”阿Q想。@ “我们的少奶奶是八月里要生孩子了⋯⋯”“女人⋯⋯”阿Q想。@ 阿Q放下烟管，站了起来。@ “我们的少奶奶…⋯”吴妈还唠叨说。@ “我和你困觉，我和你困觉！”阿Q忽然抢上去，对伊跪下 了。@ 一刹时中很寂然。@ “阿呀！”吴妈楞了一息，突然发抖，大叫着往外跑，且跑且嚷、似乎后来带哭了。@ 阿Q对了墙壁跪着也发楞，于是两手扶着空板凳，慢慢的站起来，仿佛觉得有些糟。他这时确也有些忐忑了，慌张的将烟管插在裤带上，就想去春米。蓬的一声，头上着了很粗的一下，他急忙回转身去，那秀才便拿了一支大竹杠站在他面前。@ “你反了，⋯⋯你这⋯⋯”@ 大竹杠又向他劈下来了。阿Q两手去抱头，拍的正打在指节上，这可很有一些痛。他冲出厨房门，仿佛背上又着了一下似的。@ “忘八蛋！秀才在后面用了官话这样骂。@ 阿Q奔入舂米场，一个人站着，还觉得指头痛，还记得“忘八蛋”，因为这话是未庄的乡下人从来不用，专是见过官府的阔人用的，所以格外怕，而印象也格外深。但这时，他那“女…”的思想却也没有了。而且打骂之后，似乎一件事也已经收束，倒反觉得一无挂碍似的，便动手去春米。春了一会，他热起来了，又歇了手脱衣服。@ 脱下衣服的时候，他听得外面很热闹，阿Q生平本来最爱看热闹，便即寻声走出去了。寻声渐渐的寻到赵太爷的内院里，虽然在昏黄中，却辦得出许多人，赵府一家连两日不吃饭的太太也在内，还有间壁的邹七嫂，真正本家的赵白眼，赵司晨。@ 少奶奶正拖着吴妈走出下房来，一面说：@ “你到外面来, ……不要躲在自己房里想......”@ “谁不知道你正经，…⋯短见是万万寻不得的。”邹七嫂也从旁说。@ 吴妈只是哭，夹些语，却不甚听得分明。@ 阿Q想：“哼，有趣，这小孤孀不知道闹着什么玩意儿了？”他想打听，走近赵司晨的身边。这时他猛然间看见赵大爷向他奔来，而且手里捏着一支大竹杠。他看见这一支大竹杠，便猛然间悟到自己曾经被打，和这一场热闹似乎有点相关。他翻身便走，想逃回春米场，不图这支竹杠阻了他的去路，于是他又翻身便走，自然而然的走出后门，不多工夫，已在土谷祠内了。@ 阿Q坐了一会，皮肤有些起粟，他觉得冷了，因为虽在春季，而夜间颇有余寒，尚不宜于赤膊。他也记得布衫留在赵家，但倘若去取，又深怕秀才的竹杠。然而地保进来了。@ “阿Q，你的妈妈的！你连赵家的用人都调戏起来，简直是造反。害得我晚上没有觉睡，你的妈妈的！……”@ 如是云云的教训了一通，阿Q自然没有话。临末，因为在晚上，应该送地保加倍酒钱四百文，阿Q正没有现钱，便用一顶毡帽做抵押，并且订定了五条件：@ 一 明天用红烛—要一斤重的——一对，香一封，到赵府上去赔罪。@ 二赵府上请道士祓除缢鬼，费用由阿Q负担。@ 三阿Q从此不准踏进赵府的门槛。@ 四吴妈此后倘有不测，惟阿Q是问。@ 五阿Q不准再去索取工銭和布衫。@ 阿Q自然都答应了，可惜没有钱。幸而已经春天，棉被可以无用，便质了二千大钱，履行条约。赤膊磕头之后，居然还剩几文，他也不再赎毡帽，统统喝了酒了。但赵家也并不烧香点烛，因为太太拜佛的时候可以用，留着了。那破布衫是大半做了少奶奶八月间生下来的孩子的衬尿布，那小半破烂的便都做了吴妈的鞋底。@ \n"
     ]
    }
   ],
   "source": [
    "import PyPDF2\n",
    "\n",
    "# Open the PDF file in read-binary mode\n",
    "with open('/Users/wangxuechun/Desktop/chapter4_Chinese_Version.pdf', 'rb') as pdf_file:\n",
    "    pdf_reader = PyPDF2.PdfReader(pdf_file)\n",
    "\n",
    "    # Initialize an empty string to store the text\n",
    "    pdf_text = ''\n",
    "\n",
    "    # Iterate through the pages and extract text\n",
    "    for page_num in range(len(pdf_reader.pages)):\n",
    "        page = pdf_reader.pages[page_num]\n",
    "        pdf_text += page.extract_text()\n",
    "\n",
    "print(pdf_text)\n"
   ]
  },
  {
   "cell_type": "code",
   "execution_count": 45,
   "metadata": {},
   "outputs": [
    {
     "name": "stdout",
     "output_type": "stream",
     "text": [
      "44\n"
     ]
    }
   ],
   "source": [
    "#split text into paragraphs\n",
    "verses = [verse.strip() for verse in pdf_text.strip().split('@') if verse]\n",
    "print(len(verses))"
   ]
  },
  {
   "cell_type": "code",
   "execution_count": 47,
   "metadata": {},
   "outputs": [
    {
     "name": "stdout",
     "output_type": "stream",
     "text": [
      "Collecting googletrans==4.0.0-rc1\n",
      "  Downloading googletrans-4.0.0rc1.tar.gz (20 kB)\n",
      "  Preparing metadata (setup.py) ... \u001b[?25ldone\n",
      "\u001b[?25hCollecting httpx==0.13.3 (from googletrans==4.0.0-rc1)\n",
      "  Downloading httpx-0.13.3-py3-none-any.whl (55 kB)\n",
      "\u001b[2K     \u001b[90m━━━━━━━━━━━━━━━━━━━━━━━━━━━━━━━━━━━━━━━\u001b[0m \u001b[32m55.1/55.1 kB\u001b[0m \u001b[31m354.3 kB/s\u001b[0m eta \u001b[36m0:00:00\u001b[0ma \u001b[36m0:00:01\u001b[0m\n",
      "\u001b[?25hRequirement already satisfied: certifi in /Users/wangxuechun/miniconda3/envs/tf/lib/python3.10/site-packages (from httpx==0.13.3->googletrans==4.0.0-rc1) (2023.7.22)\n",
      "Collecting hstspreload (from httpx==0.13.3->googletrans==4.0.0-rc1)\n",
      "  Downloading hstspreload-2023.1.1-py3-none-any.whl (1.5 MB)\n",
      "\u001b[2K     \u001b[90m━━━━━━━━━━━━━━━━━━━━━━━━━━━━━━━━━━━━━━━━\u001b[0m \u001b[32m1.5/1.5 MB\u001b[0m \u001b[31m220.0 kB/s\u001b[0m eta \u001b[36m0:00:00\u001b[0m00:01\u001b[0m00:01\u001b[0m\n",
      "\u001b[?25hRequirement already satisfied: sniffio in /Users/wangxuechun/miniconda3/envs/tf/lib/python3.10/site-packages (from httpx==0.13.3->googletrans==4.0.0-rc1) (1.2.0)\n",
      "Collecting chardet==3.* (from httpx==0.13.3->googletrans==4.0.0-rc1)\n",
      "  Downloading chardet-3.0.4-py2.py3-none-any.whl (133 kB)\n",
      "\u001b[2K     \u001b[90m━━━━━━━━━━━━━━━━━━━━━━━━━━━━━━━━━━━━━\u001b[0m \u001b[32m133.4/133.4 kB\u001b[0m \u001b[31m104.8 kB/s\u001b[0m eta \u001b[36m0:00:00\u001b[0ma \u001b[36m0:00:01\u001b[0m\n",
      "\u001b[?25hCollecting idna==2.* (from httpx==0.13.3->googletrans==4.0.0-rc1)\n",
      "  Downloading idna-2.10-py2.py3-none-any.whl (58 kB)\n",
      "\u001b[2K     \u001b[90m━━━━━━━━━━━━━━━━━━━━━━━━━━━━━━━━━━━━━━━━\u001b[0m \u001b[32m58.8/58.8 kB\u001b[0m \u001b[31m78.1 kB/s\u001b[0m eta \u001b[36m0:00:00\u001b[0ma \u001b[36m0:00:01\u001b[0m\n",
      "\u001b[?25hCollecting rfc3986<2,>=1.3 (from httpx==0.13.3->googletrans==4.0.0-rc1)\n",
      "  Downloading rfc3986-1.5.0-py2.py3-none-any.whl (31 kB)\n",
      "Collecting httpcore==0.9.* (from httpx==0.13.3->googletrans==4.0.0-rc1)\n",
      "  Downloading httpcore-0.9.1-py3-none-any.whl (42 kB)\n",
      "\u001b[2K     \u001b[90m━━━━━━━━━━━━━━━━━━━━━━━━━━━━━━━━━━━━━━━━\u001b[0m \u001b[32m42.6/42.6 kB\u001b[0m \u001b[31m91.5 kB/s\u001b[0m eta \u001b[36m0:00:00\u001b[0ma \u001b[36m0:00:01\u001b[0m\n",
      "\u001b[?25hCollecting h11<0.10,>=0.8 (from httpcore==0.9.*->httpx==0.13.3->googletrans==4.0.0-rc1)\n",
      "  Downloading h11-0.9.0-py2.py3-none-any.whl (53 kB)\n",
      "\u001b[2K     \u001b[90m━━━━━━━━━━━━━━━━━━━━━━━━━━━━━━━━━━━━━━━━\u001b[0m \u001b[32m53.6/53.6 kB\u001b[0m \u001b[31m84.0 kB/s\u001b[0m eta \u001b[36m0:00:00\u001b[0ma \u001b[36m0:00:01\u001b[0m\n",
      "\u001b[?25hCollecting h2==3.* (from httpcore==0.9.*->httpx==0.13.3->googletrans==4.0.0-rc1)\n",
      "  Downloading h2-3.2.0-py2.py3-none-any.whl (65 kB)\n",
      "\u001b[2K     \u001b[90m━━━━━━━━━━━━━━━━━━━━━━━━━━━━━━━━━━━━━━━━\u001b[0m \u001b[32m65.0/65.0 kB\u001b[0m \u001b[31m93.3 kB/s\u001b[0m eta \u001b[36m0:00:00\u001b[0ma \u001b[36m0:00:01\u001b[0m\n",
      "\u001b[?25hCollecting hyperframe<6,>=5.2.0 (from h2==3.*->httpcore==0.9.*->httpx==0.13.3->googletrans==4.0.0-rc1)\n",
      "  Downloading hyperframe-5.2.0-py2.py3-none-any.whl (12 kB)\n",
      "Collecting hpack<4,>=3.0 (from h2==3.*->httpcore==0.9.*->httpx==0.13.3->googletrans==4.0.0-rc1)\n",
      "  Downloading hpack-3.0.0-py2.py3-none-any.whl (38 kB)\n",
      "Building wheels for collected packages: googletrans\n",
      "  Building wheel for googletrans (setup.py) ... \u001b[?25ldone\n",
      "\u001b[?25h  Created wheel for googletrans: filename=googletrans-4.0.0rc1-py3-none-any.whl size=17397 sha256=8c0ed63622bdf095791f4e44dd72bd03a460f47343f0955f697267b9b025df6c\n",
      "  Stored in directory: /Users/wangxuechun/Library/Caches/pip/wheels/c0/59/9f/7372f0cf70160fe61b528532e1a7c8498c4becd6bcffb022de\n",
      "Successfully built googletrans\n",
      "Installing collected packages: rfc3986, hyperframe, hpack, h11, chardet, idna, hstspreload, h2, httpcore, httpx, googletrans\n",
      "  Attempting uninstall: idna\n",
      "    Found existing installation: idna 3.4\n",
      "    Uninstalling idna-3.4:\n",
      "      Successfully uninstalled idna-3.4\n",
      "\u001b[31mERROR: pip's dependency resolver does not currently take into account all the packages that are installed. This behaviour is the source of the following dependency conflicts.\n",
      "tensorflow 2.11.0 requires libclang>=13.0.0, which is not installed.\n",
      "tensorflow 2.11.0 requires protobuf<3.20,>=3.9.2, but you have protobuf 3.20.3 which is incompatible.\u001b[0m\u001b[31m\n",
      "\u001b[0mSuccessfully installed chardet-3.0.4 googletrans-4.0.0rc1 h11-0.9.0 h2-3.2.0 hpack-3.0.0 hstspreload-2023.1.1 httpcore-0.9.1 httpx-0.13.3 hyperframe-5.2.0 idna-2.10 rfc3986-1.5.0\n",
      "Note: you may need to restart the kernel to use updated packages.\n"
     ]
    }
   ],
   "source": [
    "%pip install googletrans==4.0.0-rc1"
   ]
  },
  {
   "cell_type": "code",
   "execution_count": 56,
   "metadata": {},
   "outputs": [
    {
     "name": "stdout",
     "output_type": "stream",
     "text": [
      "44\n"
     ]
    }
   ],
   "source": [
    "from googletrans import Translator, LANGUAGES\n",
    "\n",
    "translator = Translator()\n",
    "\n",
    "translated_verses = [translator.translate(verse, src='zh-cn', dest='en').text for verse in verses]\n"
   ]
  },
  {
   "cell_type": "code",
   "execution_count": 55,
   "metadata": {},
   "outputs": [
    {
     "name": "stdout",
     "output_type": "stream",
     "text": [
      "Original: 有人说：有些胜利者，愿意敌手如虎，如鹰，他才感得胜利的欢喜；假使如羊，如小鸡，他便反觉得胜利的无聊。又有些胜利者，当克服一切之后，看见死的死了，降的降了，“臣诚惶诚恐死罪死罪”，他于是没有了敌人，没有了对手，没有了朋友，只有自己在上，一个，孤另另，凄凉，寂寞，便反而感到了胜利的悲哀。然而我们的阿Q却没有这样乏，他是永远得意的：这或者也是中国精神文明冠于全球的一个证据了。\n",
      "Translated: Some people say: Some winners are willing to be a tiger like a tiger, like an eagle, and he feels happy; if he is like a sheep, like a chicken, he feels boredom of victory.Some winners, when they overcome everything, saw the death of death and fell.In addition, desolate, loneliness, instead feel the sadness of victory.However, our A Q is not so lacking. He is always proud: this is also a evidence that Chinese spiritual civilization is crowned around the world.\n",
      "\n",
      "Original: 看哪，他飘飘然的似乎要飞去了！\n",
      "Translated: Seeing, he seemed to be flying!\n",
      "\n",
      "Original: 然而这一次的胜利，却又使他有些异样。他飘飘然的飞了大半天，飘进土谷祠，照例应该躺下便打鼾。谁知道这一晚，他很不容易合眼，他觉得自己的大拇指和第二指有点古怪：仿佛比平常滑腻些。不知道是小尼姑的脸上有一点滑腻的东西粘在他指上，还是他的指头在小尼姑脸上磨得滑腻了?\n",
      "Translated: However, this victory made him a little strange.He fluttered for a long time, drifting into the Tulu Temple, as usual, he should lie down and snore.Who knows that this night, he is not easy to close. He feels that his thumb and second finger are a little weird: as if they are more slippery than usual.I do n’t know if there is a little slippery thing on his face to stick to his fingers, or does his finger grind on the face of Aunti Xiao Ni?\n",
      "\n",
      "Original: “断子绝孙的阿Q！”\n",
      "Translated: \"Broken son's grandson Q!\"\n",
      "\n",
      "Original: 阿Q的耳朵里又听到这句话。他想：不错，应该有一个女人，断子绝孙便没有人供一碗饭，应该有一个女人。夫“不孝有三无后为大”，而“若敖之鬼馁而\"，也是一件人生的大哀，所以他那思想，其实是样样合于圣经贤传的，只可惜后来有些“不能收其放心“了。\n",
      "Translated: This sentence was heard in A Q's ears.He thought: Yes, there should be a woman, and no one for the broken son for a bowl of rice, there should be a woman.The husband \"there is no after the filial piety is not the big\", and \"Ruo Ao's ghost is discouraged\" is also a great grief of life, so his thoughts are actually in the Bible virtue, but unfortunately, some \"cannot be\" can't be \"can't.Access it with confidence \".\n",
      "\n",
      "Original: “女人、女人！......”他想。\n",
      "Translated: \"Women, women! ...\" He thought.\n",
      "\n",
      "Original: “……. 和尚効得 ……女人、女人！......女人！”他又想。\n",
      "Translated: \".... The monk works ... women, women! ... woman!\" He thought again.\n",
      "\n",
      "Original: 我们不能知道这晚上阿Q在什么时候才打鼾。但大约他从此总觉得指头有些滑腻，所以他从此总有些飘飘然；“女…⋯”他想。\n",
      "Translated: We can't know when A Q is snoring this night.But he always felt that his fingers were somewhat slippery, so he always fluttered; \"female ...\" he thought.\n",
      "\n",
      "Original: 即此一端，我们便可以知道女人是害人的东西。\n",
      "Translated: That is, we can know that women are harmful.\n",
      "\n",
      "Original: 中国的男人，本来大半都可以做圣贤，可惜全被女人毁掉了。商是妲己闹亡的；周是褒姒弄坏的；秦……虽然史无明文，我们也假定他因为女人，大约未必十分错；而董卓可是的确给貂蝉害死了。\n",
      "Translated: Most Chinese men could have been sages, but unfortunately they were destroyed by women.Shang was killed by his own self -stretch; Zhou was damaged by the sorrow; Qin ... Although Shi Wumingwen, we also assumed that he was not very wrong because of a woman; Dong Zhuo did kill Diao Chan.\n",
      "\n",
      "Original: 阿Q本来也是正人，我们虽然不知道他曾蒙什么明师指授过，但他对于“男女之大防”却历来非常严；也很有排斥异端—一如小尼姑及假洋鬼子之类—的正气。他的学说是：凡尼姑，一定与和尚私通；一个女人在外面走，一定想引诱野男人；一男一女在那里讲话，一定要有勾当了。为惩治他们起见，所以他往往怒目而视，或者大声说几句“诛心”话，或者在冷僻处，便从后面掷一块小石头。\n",
      "Translated: Ah Q was originally a positive person. Although we didn't know what he had taught by Master, he had always been very strict for the \"big defense of men and women\"; he also had a rejection -like a little nun and a fake foreign ghost -like —Righteousness.His doctrine is: Aunt Fanny must be private with a monk; a woman walks outside, and must want to seduce wild men; a man and a woman speak there, and must be dwelling.To punish them, he often watched, or said a few words of \"heart\" words, or in the cold place, he threw a small stone from behind.\n",
      "\n",
      "Original: 谁知道他将到“而立”之年，竟被小尼姑害得飘飘然了。这飘飘然的精神，在礼教上是不应该有的，所以女人真可恶，假使小尼姑的脸上不滑腻，阿Q便不至于被蛊，又假使小尼姑的脸上盖一层布，阿Q便也不至于被蛊了，一他五六年前，曾在戏台下的人丛中拧过一个女人的大腿，但因力隔一层裤，所以此后并不飘飘然，—而小尼姑并不然，这也足见异端之可恶。\n",
      "Translated: Who knows that he will be in the year of \"standing\", but he was killed by his aunt.This fluttering spirit should not have it in etiquette and religion, so women are really abominable. If the face of the little nun is not slippery, Ah Q will not be stunned, and if the little nun's face is covered, Ah Q Q, A QIt won't be stunned. Five or six years ago, he twisted a woman's thigh in the crowd of the movie, but because of his power to separate a layer of pants, he did not fluttering since then, but the aunt of the nuns, otherwise it is not a nun, otherwise it is not a nun.This shows that heresy is abominable.\n",
      "\n",
      "Original: “女……”阿Q想。\n",
      "Translated: \"Female ...\" Ah Q thought.\n",
      "\n",
      "Original: 他对于以为“一定想引诱野男人”的女人，时常留心看，然而伊并不对他笑。他对于和他讲话的女人，也时常留心听，然而伊又并不提起关于什么勾当的话来。哦，这也是女人可恶之一节：伊们全都要装“假正经”的。\n",
      "Translated: He often pays attention to the woman who thinks \"who wants to seduce wild men\", but Yi does not laugh at him.He often listened to the woman who spoke to him, but Yi did not mention what kind of words about.Oh, this is also one of the abominable sections of women: Iraqi must pretend to be \"false\".\n",
      "\n",
      "Original: 这一天，阿Q在赵太爷家里春了一天米，吃过晚饭，便坐在厨房里吸早烟。倘在别家，吃过晚饭本可以回去的了，但赵府上晚饭早，虽说定例不准掌灯，一吃完便睡觉，然而偶然也有一些例外：其一，是赵大爷未进秀才的时候，准其点灯读文章；其二，便是阿Q来做短工的时候，准其点灯舂米。因这一条例外，所以阿Q在动手舂米之前，还坐在厨房里吸旱烟。\n",
      "Translated: On this day, A Q was springing for a day in the house of Taiye Zhao. After dinner, he sat in the kitchen and smoked early.If you have dinner, you can go back after dinner, but Zhao House has dinner in the morning. Although the lamp is not allowed to be the light, it will go to bed when you eat it.It is quasirable to read the article; the second is that when A Q came to be a short worker, it was allowed to light rice.Due to this exception, before Ah Q was still in the kitchen, he was drunk in the kitchen.\n",
      "\n",
      "Original: 吴妈，是赵太爷家里唯一的女仆，洗完了碗碟，也就在长凳上坐下了，而且和阿Q谈闲天：\n",
      "Translated: Wu Ma is the only maid in the house of Taiye Zhao. After washing the dishes, he sat down on the bench, and talked with Ah Q:\n",
      "\n",
      "Original: “太太两天没有吃饭哩，因为老爷要买一个小的⋯⋯”\n",
      "Translated: \"My wife didn't eat for two days, because the master wanted to buy a small one\"\n",
      "\n",
      "Original: “女人⋯⋯吴妈⋯⋯这小孤孀⋯⋯”阿Q想。\n",
      "Translated: \"Woman, Wu Ma, this little lonely,\" Ah Q thought.\n",
      "\n",
      "Original: “我们的少奶奶是八月里要生孩子了⋯⋯”“女人⋯⋯”阿Q想。\n",
      "Translated: \"Our grandmother is going to have children in August ...\" \"Woman ...\" Ah Q thought.\n",
      "\n",
      "Original: 阿Q放下烟管，站了起来。\n",
      "Translated: A Q put down the cigarette pipe and stood up.\n",
      "\n",
      "Original: “我们的少奶奶…⋯”吴妈还唠叨说。\n",
      "Translated: \"Our young grandma ...\" Wu Ma said.\n",
      "\n",
      "Original: “我和你困觉，我和你困觉！”阿Q忽然抢上去，对伊跪下 了。\n",
      "Translated: \"I feel sleepy with you, I and you are sleepy!\" Ah Q suddenly rushed up and kneeled down to Yi.\n",
      "\n",
      "Original: 一刹时中很寂然。\n",
      "Translated: It was very silent for a moment.\n",
      "\n",
      "Original: “阿呀！”吴妈楞了一息，突然发抖，大叫着往外跑，且跑且嚷、似乎后来带哭了。\n",
      "Translated: \"Ah!\" Wu Ma shook, trembled suddenly, yelled and ran out, running and shouting, and seemed to be crying later.\n",
      "\n",
      "Original: 阿Q对了墙壁跪着也发楞，于是两手扶着空板凳，慢慢的站起来，仿佛觉得有些糟。他这时确也有些忐忑了，慌张的将烟管插在裤带上，就想去春米。蓬的一声，头上着了很粗的一下，他急忙回转身去，那秀才便拿了一支大竹杠站在他面前。\n",
      "Translated: Ah Q was kneeling on the wall and also froze, so he held the empty bench with both hands and slowly stood up, as if it felt a little bad.At this time, he was really a little embarrassed. He panicked and inserted the cigarette pipe on his pants and wanted to go to Chunmi.With a crowned, his head was thick, and he hurried back and turned around, and then the show stood in front of him with a big bamboo bar.\n",
      "\n",
      "Original: “你反了，⋯⋯你这⋯⋯”\n",
      "Translated: \"You're reversed, ... you ...\"\n",
      "\n",
      "Original: 大竹杠又向他劈下来了。阿Q两手去抱头，拍的正打在指节上，这可很有一些痛。他冲出厨房门，仿佛背上又着了一下似的。\n",
      "Translated: The big bamboo bar split him again.A Q's hands were hugged, and the shooting was hitting the knuckles, which was a little painful.He rushed out of the kitchen door, as if on his back.\n",
      "\n",
      "Original: “忘八蛋！秀才在后面用了官话这样骂。\n",
      "Translated: \"Forgot to eight eggs! Xiucai scolded the official story later.\n",
      "\n",
      "Original: 阿Q奔入舂米场，一个人站着，还觉得指头痛，还记得“忘八蛋”，因为这话是未庄的乡下人从来不用，专是见过官府的阔人用的，所以格外怕，而印象也格外深。但这时，他那“女…”的思想却也没有了。而且打骂之后，似乎一件事也已经收束，倒反觉得一无挂碍似的，便动手去春米。春了一会，他热起来了，又歇了手脱衣服。\n",
      "Translated: A Q ran into the rice field, standing alone, still felt his fingerache, and remembered \"forgetting the eight eggs\", because this is not used by the villagers in Weizhuang.Fear, and the impression is particularly deep.But at this time, his \"female ...\" thought was gone.And after being scolded, it seemed that one thing had been ended. Instead, I felt like there was no hindrance, so I went to Chunmi.After spring, he got hot and took a break again.\n",
      "\n",
      "Original: 脱下衣服的时候，他听得外面很热闹，阿Q生平本来最爱看热闹，便即寻声走出去了。寻声渐渐的寻到赵太爷的内院里，虽然在昏黄中，却辦得出许多人，赵府一家连两日不吃饭的太太也在内，还有间壁的邹七嫂，真正本家的赵白眼，赵司晨。\n",
      "Translated: When he took off his clothes, he heard that he was very lively outside. Ah Q loved to see the lively, and he went out.Xun Xunxun gradually found in the inner courtyard of Taiye. Although in the dimness, many people were able to do it., Zhao Sichen.\n",
      "\n",
      "Original: 少奶奶正拖着吴妈走出下房来，一面说：\n",
      "Translated: The young grandmother was dragging Wu's mother and walked out of the room, and said:\n",
      "\n",
      "Original: “你到外面来, ……不要躲在自己房里想......”\n",
      "Translated: \"Come outside, ... don't hide in your own room and think ...\"\n",
      "\n",
      "Original: “谁不知道你正经，…⋯短见是万万寻不得的。”邹七嫂也从旁说。\n",
      "Translated: \"Who doesn't know that you are serious, ... the shortcomings are unable to find it.\" Zou Qiyi also said.\n",
      "\n",
      "Original: 吴妈只是哭，夹些语，却不甚听得分明。\n",
      "Translated: Wu Ma just cried, clamped some words, but he didn't hear clearly.\n",
      "\n",
      "Original: 阿Q想：“哼，有趣，这小孤孀不知道闹着什么玩意儿了？”他想打听，走近赵司晨的身边。这时他猛然间看见赵大爷向他奔来，而且手里捏着一支大竹杠。他看见这一支大竹杠，便猛然间悟到自己曾经被打，和这一场热闹似乎有点相关。他翻身便走，想逃回春米场，不图这支竹杠阻了他的去路，于是他又翻身便走，自然而然的走出后门，不多工夫，已在土谷祠内了。\n",
      "Translated: Ah Q thought: \"Huh, interesting, this little lonely didn't know what the messenger was doing?\" He wanted to inquire and approach Zhao Sichen's side.At this time he suddenly saw Uncle Zhao running towards him, and he squeezed a big bamboo bar in his hand.When he saw this big bamboo bar, he suddenly realized that he had been beaten, which seemed to be a bit related to this excitement.He turned around and walked away, trying to escape back to Chunmi Farm, not trying to obstruct his way, so he turned around again, and naturally walked out of the back door.\n",
      "\n",
      "Original: 阿Q坐了一会，皮肤有些起粟，他觉得冷了，因为虽在春季，而夜间颇有余寒，尚不宜于赤膊。他也记得布衫留在赵家，但倘若去取，又深怕秀才的竹杠。然而地保进来了。\n",
      "Translated: A Q sat for a while, his skin was a little bit millet, and he felt cold, because although he was in spring, there was a cold cold at night, and it was not shirtless.He also remembers the cloth shirt to stay in the Zhao family, but if he takes it, he is afraid of showing the talented bamboo bar.But the land protection came in.\n",
      "\n",
      "Original: “阿Q，你的妈妈的！你连赵家的用人都调戏起来，简直是造反。害得我晚上没有觉睡，你的妈妈的！……”\n",
      "Translated: \"Ah Q, your mother! You even teased by the Zhao family's employers. It is a rebellion. It hurts me to sleep at night, your mother's! ...\"\n",
      "\n",
      "Original: 如是云云的教训了一通，阿Q自然没有话。临末，因为在晚上，应该送地保加倍酒钱四百文，阿Q正没有现钱，便用一顶毡帽做抵押，并且订定了五条件：\n",
      "Translated: If Yunyun's lesson, Ah Q naturally had nothing to say.At the end of the time, because in the evening, it should be sent to the land to pay more than four hundred wines. Ah Q did not have any money, so he used a felt hat to be mortgaged, and five conditions were set:\n",
      "\n",
      "Original: 一 明天用红烛—要一斤重的——一对，香一封，到赵府上去赔罪。\n",
      "Translated: Tomorrow with red candle -a pound of weight -a pair, a fragrant, go to Zhao Mansion to compensate.\n",
      "\n",
      "Original: 二赵府上请道士祓除缢鬼，费用由阿Q负担。\n",
      "Translated: On the second Zhao Mansion, the Taoist priest was asked to remove the ghosts, and the cost was borne by Ah Q.\n",
      "\n",
      "Original: 三阿Q从此不准踏进赵府的门槛。\n",
      "Translated: San Ah Q has never been allowed to step into the threshold of Zhao's house.\n",
      "\n",
      "Original: 四吴妈此后倘有不测，惟阿Q是问。\n",
      "Translated: If the four Wu moms have followed up, Ah Q is asked.\n",
      "\n",
      "Original: 五阿Q不准再去索取工銭和布衫。\n",
      "Translated: Wu Ah Q is not allowed to ask for workers and cloth shirts.\n",
      "\n",
      "Original: 阿Q自然都答应了，可惜没有钱。幸而已经春天，棉被可以无用，便质了二千大钱，履行条约。赤膊磕头之后，居然还剩几文，他也不再赎毡帽，统统喝了酒了。但赵家也并不烧香点烛，因为太太拜佛的时候可以用，留着了。那破布衫是大半做了少奶奶八月间生下来的孩子的衬尿布，那小半破烂的便都做了吴妈的鞋底。\n",
      "Translated: Ah Q naturally agreed, but unfortunately there was no money.Fortunately, in the spring, the quilt can be useless, and it has 2,000 money and fulfills the treaty.After shirtless, there were a few articles left, and he no longer redeemed a felt hat, and he drank all of them.But the Zhao family did not burn incense candle, because the wife could use it when worshiping the Buddha, and kept it.The broken cloth shirt was mostly the lining of the children born in August in August, and the half -tattered sole was made.\n",
      "\n",
      "141\n"
     ]
    }
   ],
   "source": [
    "for original, translated in zip(verses, translated_verses):\n",
    "    print(f\"Original: {original}\")\n",
    "    print(f\"Translated: {translated}\\n\")"
   ]
  },
  {
   "cell_type": "code",
   "execution_count": 60,
   "metadata": {},
   "outputs": [],
   "source": [
    "import pandas as pd\n",
    "import os\n",
    "\n",
    "#create a dataframe to store the chinese paragraph and english paragraph\n",
    "df = pd.DataFrame({\n",
    "    'Chinese_verse': verses,\n",
    "    'English_Verse':translated_verses\n",
    "})\n",
    "\n",
    "#store the csv format in the desktop \n",
    "desktop = os.path.join(os.path.join(os.path.expanduser('~')), 'Desktop')\n",
    "filepath = os.path.join(desktop, 'chapter_4_trans.csv')\n",
    "df.to_csv(filepath, index=False)\n",
    "\n",
    "\n"
   ]
  }
 ],
 "metadata": {
  "kernelspec": {
   "display_name": "Python 3",
   "language": "python",
   "name": "python3"
  },
  "language_info": {
   "codemirror_mode": {
    "name": "ipython",
    "version": 3
   },
   "file_extension": ".py",
   "mimetype": "text/x-python",
   "name": "python",
   "nbconvert_exporter": "python",
   "pygments_lexer": "ipython3",
   "version": "3.10.12"
  }
 },
 "nbformat": 4,
 "nbformat_minor": 2
}
