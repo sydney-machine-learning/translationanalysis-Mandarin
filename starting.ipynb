{
 "cells": [
  {
   "cell_type": "code",
   "execution_count": 1,
   "metadata": {},
   "outputs": [
    {
     "name": "stdout",
     "output_type": "stream",
     "text": [
      "Requirement already satisfied: PyPDF2 in /Users/wangxuechun/miniconda3/envs/tf/lib/python3.10/site-packages (3.0.1)\n",
      "Note: you may need to restart the kernel to use updated packages.\n"
     ]
    }
   ],
   "source": [
    "%pip install PyPDF2"
   ]
  },
  {
   "cell_type": "code",
   "execution_count": 1,
   "metadata": {},
   "outputs": [
    {
     "name": "stdout",
     "output_type": "stream",
     "text": [
      "阿Q礼毕之后，仍旧回到土谷祠，太阳下去了，渐渐觉得世上有些古径。他仔细一想，终于省悟过来：其原因盖在自己的赤膊。他记得破夹袄还在，便披在身上，躺倒了，待张开眼睛，原来太阳又已经照在西墙上头了。他坐起身，一面说道，“妈妈的……”@ 他起来之后，也仍旧在街上逛，虽然不比赤膊之有切肤之痛，却又渐渐的觉得世上有些古径了。仿佛从这一天起，未庄的女人们忽然都怕了羞，伊们一见阿Q走来，便个个躲进门里去。甚而至于将近五十岁的邹七嫂，也跟着别人乱钻，而且将十一岁的女儿都叫进去了。阿Q很以为奇，而且想：“这些东西忽然都学起小姐模样来了。这娼妇们……”@ 但他更觉得世上有些古怪，规是许多日以后的事。其一，酒店不肯赊欠了；其二，管士谷祠的老头子说些废话，似乎叫他走；其三，他虽然记不清多少日，但确乎有许多日，没有一个人来叫他做短工。酒店不赊，熬着也罢了；老头子催他走，噜苏一通也就算了；只是没有人来叫他做短工，却使阿Q肚子饿：这委实是一件非常“妈妈的”的事情。@ 阿Q忍不下去了，他只好到老主顾的家里去探问，—一但独不许踏进赵府的门槛，然而情形也异样：一定走出一个男人来，现了十分烦厌的相貌，像回复乞丐一般的摇手道：@ “没有没有！你出去！”@ 阿Q愈觉得稀奇了。他想，这些人家向来少不了要帮忙，不至于现在忽然都无事，这总该有些蹊跷在里面了。他留心打听，才知道他们有事都去叫小Don色。这小D，是一个穷小子，又瘦又乏，在阿Q的眼睛里，位置是在王胡之下的，谁料这小子竞谋了他的饭碗去。所以阿Q这气，更与平常不同，当气愤愤的走着的时候，忽然将手一扬，唱道：@ “我手执钢鞭将你打！……”@ 几天之后，他竟在钱府的照壁前遇见了小D。“仇人相见分外眼明”，阿Q便迎上去，小D也站住了。@ “畜生！”阿Q怒目而视的说，嘴角上飞出唾沫来。@ “我是虫豸，好么？…”小D说。@ 这谦逊反使阿Q更加愤怒起来，但他手里没有钢鞭，于是只得扑上去，伸手去拔小D的辫子。小D一手护住了自己的辫根，一手也来拔阿Q的辫子，阿Q便也将空着的一只手护住了自己的辫根。从先前的阿Q看来、小D本来是不足齿数的，但他近来挨了饿，又瘦又乏已经不下于小D，所以便成了势均力敌的现象，四只手拔着两颗头，都弯了腰，在钱家粉墙上映出一个蓝色的虹形，至于半点钟之久了。@ “好了，好了！”看的人们说，大约是解劝的。@ “好，好！”看的人们说，不知道是解劝，是颂扬，还是煸动。@ 然而他们都不听。阿Q进三步，小D便退三步，都站着；小D进三步，阿Q便退三步，又都站着。大约半点钟，未庄少有自鸣钟，所以很难说，或者二十分，一他们的头发里便都冒烟，额上便都流汗，阿Q的手放松了，在同一瞬间，小D的手也正放松了，同时直起，同时退开，都挤出人丛去。@ “记着罢，妈妈的..”阿Q回过头去说。@ “妈妈的，记着罢”小D也回过头来说。@ 这一场“龙虎斗”似乎并无胜败，也不知道看的人可满足，都没有发什么议论，而阿Q起仍然没有人来叫他做短工。@ 有一日很温和，微风拂拂的颇有些夏意了，阿Q却觉得寒冷起来，但这还可担当，第一倒是肚子饿。棉被，毡帽，布衫，早已没有了，其次就卖了棉袄：现在有裤子，劫万不可脱的；有破夹袄，又除了送人做鞋底之外，决定卖不出钱。他早想在路上拾得一注钱，但至今还没有见：他想在自己的破屋里忽然寻到一注钱，慌张的四顾，但屋内是空虚而且了然。于是他决计出门求食去了。@ 他在路上走着要“求食”，看见熟识的酒店，看见熟识的馒头，但他都走过了，不但没有暂停，而且并不想要。他所求的不是这类东西了；他求的是什么东西，他自己不知道。@ 未庄本不是大村镇，不多时便走尽了。村外多是水田，满眼是新秧的嫩绿，夹着几个圆形的活动的黑点，便是耕田的农夫。阿Q并不赏鉴这田家乐，却只是走，因为他直觉的知道这与他的“求食”之道是很辽远的。但他终于走到静修庵的墙外了。@ 庵周围也是水田，粉墙突出在新绿里，后面的低土墙里是菜园。阿Q迟疑了一会，四面一看，并没有人。他便爬上这矮墙去，扯着何首乌藤，但泥土仍然簌簌的掉，阿Q的脚也索索的抖；终于攀着桑树枝，跳到里面了。里面真是郁郁葱葱，但似乎并没有黄酒馒头，以及此外可吃的之类。靠西墙是竹丛，下面许多笋，只可惜都是并末煮熟的，还有油菜早经结子，芥莱已将开花，小白菜也很老了。@ 阿Q仿佛文童落第似的觉得很冤屈，他慢慢走近园门去，忽而非常惊喜了，这分明是一畦老萝卜。他于是蹲下便拔，而门口突然伸出一个很圆的头来，又即缩回去了，这分明是小尼姑。小尼姑之流是阿Q本来视若草芥的，但世事须“退步想”，所以他便赶紧拔起四个萝卜，拧下青叶，兜在大襟里。然而老尼姑已经出来了。@ “阿弥陀佛，阿Q，你怎么跳进园里来偷萝卜！阿呀，罪过呵，阿唷，阿弥陀佛！.....”@ “我什么时候跳进你的园里来偷萝卜？”阿Q且看且走的说。@ “现在....这不是？”老尼姑指着他的衣兜。@ “这是你的？你能叫得他答应你么？你……”@ 阿Q没有说完话，拔步便跑；追来的是一匹很肥大的黑狗。这本来在前门的，不知怎的到后园来了。黑狗哼而且追，已经要咬着阿Q的腿，幸而从衣兜里落下一个萝卜来，那狗给一吓，略略一停，阿Q已经爬上桑树，跨到土墙，连人和萝卜都滚出墙外面了。只剩着黑狗还在对着桑树嗥，老尼姑念着佛。@ 阿Q怕尼姑又放出黑狗来，拾起萝卜便走，沿路又捡了几块小石头，但黑狗却并不再出现。阿Q于是抛了石块，一面走一面吃，而且想道，这里也没有什么东西寻，不如进城去…@ 待三个萝卜吃完时，他已经打定了进城的主意了。@ \n"
     ]
    }
   ],
   "source": [
    "import PyPDF2\n",
    "\n",
    "# Open the PDF file in read-binary mode\n",
    "with open('/Users/wangxuechun/Desktop/data_preparation/chapter5_Chinese_Version.pdf', 'rb') as pdf_file:\n",
    "    pdf_reader = PyPDF2.PdfReader(pdf_file)\n",
    "\n",
    "    # Initialize an empty string to store the text\n",
    "    pdf_text = ''\n",
    "\n",
    "    # Iterate through the pages and extract text\n",
    "    for page_num in range(len(pdf_reader.pages)):\n",
    "        page = pdf_reader.pages[page_num]\n",
    "        pdf_text += page.extract_text()\n",
    "    # test\n",
    "\n",
    "print(pdf_text)\n"
   ]
  },
  {
   "cell_type": "code",
   "execution_count": 2,
   "metadata": {},
   "outputs": [
    {
     "name": "stdout",
     "output_type": "stream",
     "text": [
      "29\n"
     ]
    }
   ],
   "source": [
    "#split text into paragraphs\n",
    "verses = [verse.strip() for verse in pdf_text.strip().split('@') if verse]\n",
    "print(len(verses))"
   ]
  },
  {
   "cell_type": "code",
   "execution_count": 5,
   "metadata": {},
   "outputs": [
    {
     "name": "stdout",
     "output_type": "stream",
     "text": [
      "Collecting googletrans==4.0.0-rc1\n",
      "  Using cached googletrans-4.0.0rc1-py3-none-any.whl\n",
      "Collecting httpx==0.13.3\n",
      "  Using cached httpx-0.13.3-py3-none-any.whl (55 kB)\n",
      "Collecting certifi\n",
      "  Downloading certifi-2023.7.22-py3-none-any.whl (158 kB)\n",
      "\u001b[2K     \u001b[90m━━━━━━━━━━━━━━━━━━━━━━━━━━━━━━━━━━━━━━━\u001b[0m \u001b[32m158.3/158.3 KB\u001b[0m \u001b[31m1.7 MB/s\u001b[0m eta \u001b[36m0:00:00\u001b[0ma \u001b[36m0:00:01\u001b[0m\n",
      "\u001b[?25hCollecting idna==2.*\n",
      "  Using cached idna-2.10-py2.py3-none-any.whl (58 kB)\n",
      "Collecting sniffio\n",
      "  Downloading sniffio-1.3.0-py3-none-any.whl (10 kB)\n",
      "Collecting httpcore==0.9.*\n",
      "  Using cached httpcore-0.9.1-py3-none-any.whl (42 kB)\n",
      "Collecting chardet==3.*\n",
      "  Using cached chardet-3.0.4-py2.py3-none-any.whl (133 kB)\n",
      "Collecting rfc3986<2,>=1.3\n",
      "  Using cached rfc3986-1.5.0-py2.py3-none-any.whl (31 kB)\n",
      "Collecting hstspreload\n",
      "  Using cached hstspreload-2023.1.1-py3-none-any.whl (1.5 MB)\n",
      "Collecting h11<0.10,>=0.8\n",
      "  Using cached h11-0.9.0-py2.py3-none-any.whl (53 kB)\n",
      "Collecting h2==3.*\n",
      "  Using cached h2-3.2.0-py2.py3-none-any.whl (65 kB)\n",
      "Collecting hpack<4,>=3.0\n",
      "  Using cached hpack-3.0.0-py2.py3-none-any.whl (38 kB)\n",
      "Collecting hyperframe<6,>=5.2.0\n",
      "  Using cached hyperframe-5.2.0-py2.py3-none-any.whl (12 kB)\n",
      "Installing collected packages: rfc3986, hyperframe, hpack, h11, chardet, sniffio, idna, hstspreload, h2, certifi, httpcore, httpx, googletrans\n",
      "Successfully installed certifi-2023.7.22 chardet-3.0.4 googletrans-4.0.0rc1 h11-0.9.0 h2-3.2.0 hpack-3.0.0 hstspreload-2023.1.1 httpcore-0.9.1 httpx-0.13.3 hyperframe-5.2.0 idna-2.10 rfc3986-1.5.0 sniffio-1.3.0\n",
      "\u001b[33mWARNING: You are using pip version 22.0.4; however, version 23.3.1 is available.\n",
      "You should consider upgrading via the '/usr/local/bin/python3 -m pip install --upgrade pip' command.\u001b[0m\u001b[33m\n",
      "\u001b[0mNote: you may need to restart the kernel to use updated packages.\n"
     ]
    }
   ],
   "source": [
    "%pip install googletrans==4.0.0-rc1"
   ]
  },
  {
   "cell_type": "code",
   "execution_count": 3,
   "metadata": {},
   "outputs": [],
   "source": [
    "from googletrans import Translator, LANGUAGES\n",
    "\n",
    "translator = Translator()\n",
    "\n",
    "translated_verses = [translator.translate(verse, src='zh-cn', dest='en').text for verse in verses]\n"
   ]
  },
  {
   "cell_type": "code",
   "execution_count": 4,
   "metadata": {},
   "outputs": [
    {
     "name": "stdout",
     "output_type": "stream",
     "text": [
      "Original: 阿Q礼毕之后，仍旧回到土谷祠，太阳下去了，渐渐觉得世上有些古径。他仔细一想，终于省悟过来：其原因盖在自己的赤膊。他记得破夹袄还在，便披在身上，躺倒了，待张开眼睛，原来太阳又已经照在西墙上头了。他坐起身，一面说道，“妈妈的……”\n",
      "Translated: After Ah Q Li Li, he still returned to Tugu Temple. The sun went down, and gradually felt that there were some ancient trails in the world.He thought carefully and finally realized: The reason was covered with shirtlessness.He remembered that the broken clip was still there, he put it on his body, lay down, and opened his eyes. It turned out that the sun was already on the west wall again.He sat up and said, \"Mom's ...\"\n",
      "\n",
      "Original: 他起来之后，也仍旧在街上逛，虽然不比赤膊之有切肤之痛，却又渐渐的觉得世上有些古径了。仿佛从这一天起，未庄的女人们忽然都怕了羞，伊们一见阿Q走来，便个个躲进门里去。甚而至于将近五十岁的邹七嫂，也跟着别人乱钻，而且将十一岁的女儿都叫进去了。阿Q很以为奇，而且想：“这些东西忽然都学起小姐模样来了。这娼妇们……”\n",
      "Translated: After he got up, he still strolled on the street. Although he was no more painful than shirtless, he gradually felt that there were some ancient trails in the world.As if from this day, the women in Weizhuang suddenly were afraid of shame. When I saw that Ah Q came, they all hid in the door.Even Zou Qiyi, nearly fifty -year -old, also followed others, and called her 11 -year -old daughter in.Ah Q thought was surprising, and thought: \"Suddenly these things have learned the lady. This daughter -in -law ...\"\n",
      "\n",
      "Original: 但他更觉得世上有些古怪，规是许多日以后的事。其一，酒店不肯赊欠了；其二，管士谷祠的老头子说些废话，似乎叫他走；其三，他虽然记不清多少日，但确乎有许多日，没有一个人来叫他做短工。酒店不赊，熬着也罢了；老头子催他走，噜苏一通也就算了；只是没有人来叫他做短工，却使阿Q肚子饿：这委实是一件非常“妈妈的”的事情。\n",
      "Translated: But he felt a little weird in the world, and rules for many days.First, the hotel was unwilling to owe it; second, the old man of the Guan Shigu Temple said something nonsense and seemed to call him away. Third, although he couldn't remember for many days, there were many days. No one came to call him him.Be a short worker.The hotel is not stunned, and it is boiled; the old man urges him to leave, and even Su Yitong is just as good as it; but no one came to call him a short worker, but he was hungry by A Q: This is really a very \"mother\" thing.\n",
      "\n",
      "Original: 阿Q忍不下去了，他只好到老主顾的家里去探问，—一但独不许踏进赵府的门槛，然而情形也异样：一定走出一个男人来，现了十分烦厌的相貌，像回复乞丐一般的摇手道：\n",
      "Translated: Ah Q couldn't bear it anymore, he had to go to the house of the Pianchi to inquire, -once he was not allowed to step into the threshold of Zhao's house, but the situation was also strange: he must go out of a man, and now he is very annoying.Beggar shakes hands:\n",
      "\n",
      "Original: “没有没有！你出去！”\n",
      "Translated: \"No! You go out!\"\n",
      "\n",
      "Original: 阿Q愈觉得稀奇了。他想，这些人家向来少不了要帮忙，不至于现在忽然都无事，这总该有些蹊跷在里面了。他留心打听，才知道他们有事都去叫小Don色。这小D，是一个穷小子，又瘦又乏，在阿Q的眼睛里，位置是在王胡之下的，谁料这小子竞谋了他的饭碗去。所以阿Q这气，更与平常不同，当气愤愤的走着的时候，忽然将手一扬，唱道：\n",
      "Translated: Ah Q feels more strange.He thought that these people have always been indispensable to help, so that there is no problem now, it should always be a little strange.He kept inquiring and knew that they had to call Xiao Don color when they had something.This little D is a poor boy, thin and lacking. In Ah Q's eyes, the position is under Wang Hu. Who would like to compete for his rice bowl.Therefore, Ah Q is even more different from usual. When walking angrily, he suddenly raised his hand and sang:\n",
      "\n",
      "Original: “我手执钢鞭将你打！……”\n",
      "Translated: \"I hold you with a steel whip! ...\"\n",
      "\n",
      "Original: 几天之后，他竟在钱府的照壁前遇见了小D。“仇人相见分外眼明”，阿Q便迎上去，小D也站住了。\n",
      "Translated: A few days later, he met Xiao D in front of Qianfu's picture wall.\"The enemies met with each other.\" Ah Q welcomed, and Xiao D stood up.\n",
      "\n",
      "Original: “畜生！”阿Q怒目而视的说，嘴角上飞出唾沫来。\n",
      "Translated: \"Beast!\" Ah Q said angrily, and his mouth was spitting out of his mouth.\n",
      "\n",
      "Original: “我是虫豸，好么？…”小D说。\n",
      "Translated: \"I'm a worm, okay? ...\" Xiao D said.\n",
      "\n",
      "Original: 这谦逊反使阿Q更加愤怒起来，但他手里没有钢鞭，于是只得扑上去，伸手去拔小D的辫子。小D一手护住了自己的辫根，一手也来拔阿Q的辫子，阿Q便也将空着的一只手护住了自己的辫根。从先前的阿Q看来、小D本来是不足齿数的，但他近来挨了饿，又瘦又乏已经不下于小D，所以便成了势均力敌的现象，四只手拔着两颗头，都弯了腰，在钱家粉墙上映出一个蓝色的虹形，至于半点钟之久了。\n",
      "Translated: This humility made Ah Q more angry, but he had no steel whip in his hand, so he had to rush up and reached out to pull the braid of Xiao D.Xiao D protects his braid roots with one hand, and he also comes to pull Ah Q's braids in one hand. A Q also protects his braid roots in his empty hand.From the perspective of Ah Q in the previous Ah Q, Little D was originally insufficient, but he was hungry recently, thin and lack of Little D, so it became a phenomenon of evenly matched.They all bent, and a blue rainbow shape was released on the Qianjia Pink Wall, as for a long time.\n",
      "\n",
      "Original: “好了，好了！”看的人们说，大约是解劝的。\n",
      "Translated: \"Okay, okay!\" The people who watched said, it was about persuasion.\n",
      "\n",
      "Original: “好，好！”看的人们说，不知道是解劝，是颂扬，还是煸动。\n",
      "Translated: \"Okay, okay!\" The people said, I don't know if it is persuasion, praise, or stir.\n",
      "\n",
      "Original: 然而他们都不听。阿Q进三步，小D便退三步，都站着；小D进三步，阿Q便退三步，又都站着。大约半点钟，未庄少有自鸣钟，所以很难说，或者二十分，一他们的头发里便都冒烟，额上便都流汗，阿Q的手放松了，在同一瞬间，小D的手也正放松了，同时直起，同时退开，都挤出人丛去。\n",
      "Translated: But they don't listen.Three steps in A Q, Xiao D took three steps and stood all; Xiao D took three steps, Ah Q took three steps and stood again.At about a little, there are few self -clocks in Weizhuang, so it is difficult to say, or twenty points. As soon as their hair is smoking, they sweat on their foreheads. Ah Q's hand was loosened. At the same time, small D’sThe hands were also relaxed, at the same time, straight, retreating at the same time, all of them squeezed out of the crowd.\n",
      "\n",
      "Original: “记着罢，妈妈的..”阿Q回过头去说。\n",
      "Translated: \"Remember, mother's ...\" Ah Q turned back.\n",
      "\n",
      "Original: “妈妈的，记着罢”小D也回过头来说。\n",
      "Translated: \"Mom, remember\" Xiao D also turned back.\n",
      "\n",
      "Original: 这一场“龙虎斗”似乎并无胜败，也不知道看的人可满足，都没有发什么议论，而阿Q起仍然没有人来叫他做短工。\n",
      "Translated: This \"Dragon Tiger Fighting\" does not seem to be victorious, and people who do not know that they can be satisfied. None of the discussion is issued, and no one still calls him to be a short worker.\n",
      "\n",
      "Original: 有一日很温和，微风拂拂的颇有些夏意了，阿Q却觉得寒冷起来，但这还可担当，第一倒是肚子饿。棉被，毡帽，布衫，早已没有了，其次就卖了棉袄：现在有裤子，劫万不可脱的；有破夹袄，又除了送人做鞋底之外，决定卖不出钱。他早想在路上拾得一注钱，但至今还没有见：他想在自己的破屋里忽然寻到一注钱，慌张的四顾，但屋内是空虚而且了然。于是他决计出门求食去了。\n",
      "Translated: One day was very gentle, and the breeze was a little bit summer, but A Q felt cold, but this was still responsible. The first was hungry.Cotton, felt hats, cloth shirts, have long been gone, followed by cotton jackets: now there are pants, calamity is inevitable; there is a broken clip jacket, and except for sending people to make a sole, it is decided not to sell money.He wanted to pick up a money on the road, but so far he has not seen it: he wants to suddenly find a money in his broken house. He panicked, but the room was empty and clear.So he decided to go out for food.\n",
      "\n",
      "Original: 他在路上走着要“求食”，看见熟识的酒店，看见熟识的馒头，但他都走过了，不但没有暂停，而且并不想要。他所求的不是这类东西了；他求的是什么东西，他自己不知道。\n",
      "Translated: He walked on the road to \"ask for food\", saw the familiar hotel, and saw the familiar buns, but he had gone through. Not only did he not be suspended, but he didn't want it.What he asked for wasn't such a thing; what he asked for, he didn't know.\n",
      "\n",
      "Original: 未庄本不是大村镇，不多时便走尽了。村外多是水田，满眼是新秧的嫩绿，夹着几个圆形的活动的黑点，便是耕田的农夫。阿Q并不赏鉴这田家乐，却只是走，因为他直觉的知道这与他的“求食”之道是很辽远的。但他终于走到静修庵的墙外了。\n",
      "Translated: Weizhuang was not in Daicun Town, and after a long time, it went through.Most of the villages are paddy fields, the eyes are full of tender green, and the black spots of several round activities are sandwiched.A Q didn't appreciate this Tianjiale, but he just left, because he intuitively knew that the way of \"eating\" with him was very long.But he finally walked outside the wall of Jing Xiuyu.\n",
      "\n",
      "Original: 庵周围也是水田，粉墙突出在新绿里，后面的低土墙里是菜园。阿Q迟疑了一会，四面一看，并没有人。他便爬上这矮墙去，扯着何首乌藤，但泥土仍然簌簌的掉，阿Q的脚也索索的抖；终于攀着桑树枝，跳到里面了。里面真是郁郁葱葱，但似乎并没有黄酒馒头，以及此外可吃的之类。靠西墙是竹丛，下面许多笋，只可惜都是并末煮熟的，还有油菜早经结子，芥莱已将开花，小白菜也很老了。\n",
      "Translated: There is also a paddy field around the ，, and the pink wall protrudes in the new green, and the low earth wall behind is a vegetable garden.Ah Q hesitated for a while, looked at each other on all sides, and no one.He climbed into this low wall and pulled Ho Shouwu vine, but the soil was still losingly, and A Q's feet shook; finally climbed mulberry branches and jumped into it.It is really lush inside, but it does not seem to have rice wine buns, as well as other foods.The west wall is a bamboo bush, and many bamboo shoots below are unfortunately cooked in the end. There are also early tunnels of rapeseed. Mustard has blossomed and cabbage is very old.\n",
      "\n",
      "Original: 阿Q仿佛文童落第似的觉得很冤屈，他慢慢走近园门去，忽而非常惊喜了，这分明是一畦老萝卜。他于是蹲下便拔，而门口突然伸出一个很圆的头来，又即缩回去了，这分明是小尼姑。小尼姑之流是阿Q本来视若草芥的，但世事须“退步想”，所以他便赶紧拔起四个萝卜，拧下青叶，兜在大襟里。然而老尼姑已经出来了。\n",
      "Translated: Ah Q felt uncomfortable as if Wen Tongshi was in the middle of the garden, and he was very surprised. This was clearly an old radish.He squatted down and pulled it down, and suddenly a very round head was out of the door, and he shrank back. This was clearly a little nun.The flow of the aunt of the little nun was that Ah Q had originally regarded the grass and mustard, but the world had to \"retreat\", so he quickly pulled up four radishes, twisted the green leaves, and pocked in the big placket.But the old nun has come out.\n",
      "\n",
      "Original: “阿弥陀佛，阿Q，你怎么跳进园里来偷萝卜！阿呀，罪过呵，阿唷，阿弥陀佛！.....”\n",
      "Translated: \"Amitabha, Ah Q, how do you jump into the garden to steal radish! Ah, sin, Ah, Amitabha! ...\"\n",
      "\n",
      "Original: “我什么时候跳进你的园里来偷萝卜？”阿Q且看且走的说。\n",
      "Translated: \"When will I jump into your garden to steal radish?\" Ah Q said and walked away.\n",
      "\n",
      "Original: “现在....这不是？”老尼姑指着他的衣兜。\n",
      "Translated: \"Now ... isn't this?\" Lao Nigu pointed at his pocket.\n",
      "\n",
      "Original: “这是你的？你能叫得他答应你么？你……”\n",
      "Translated: \"Is this yours? Can you call him promise you? You ...\"\n",
      "\n",
      "Original: 阿Q没有说完话，拔步便跑；追来的是一匹很肥大的黑狗。这本来在前门的，不知怎的到后园来了。黑狗哼而且追，已经要咬着阿Q的腿，幸而从衣兜里落下一个萝卜来，那狗给一吓，略略一停，阿Q已经爬上桑树，跨到土墙，连人和萝卜都滚出墙外面了。只剩着黑狗还在对着桑树嗥，老尼姑念着佛。\n",
      "Translated: Ah Q didn't finish his words, and ran away; he chased a very fat black dog.This was originally in the front door, but somehow came to the back garden.The black dog hummed and chased, and she was already biting A Q's legs. Fortunately, a radish fell from the pocket. The dog was frightened and stopped slightly.Get out of the wall.Only the black dog was still facing the mulberry cricket, and the old nun was thinking about the Buddha.\n",
      "\n",
      "Original: 阿Q怕尼姑又放出黑狗来，拾起萝卜便走，沿路又捡了几块小石头，但黑狗却并不再出现。阿Q于是抛了石块，一面走一面吃，而且想道，这里也没有什么东西寻，不如进城去…\n",
      "Translated: Ah Q was afraid that Nuni would release the black dog again, picked up the radish and walked away. He picked up a few small stones along the road, but the black dog no longer appeared.Ah Q thus throwing the stone and eating, thinking, and thinking, there is nothing to find here, it is better to go to the city ...\n",
      "\n",
      "Original: 待三个萝卜吃完时，他已经打定了进城的主意了。\n",
      "Translated: When the three radish finished eating, he had made up the idea of entering the city.\n",
      "\n"
     ]
    }
   ],
   "source": [
    "for original, translated in zip(verses, translated_verses):\n",
    "    print(f\"Original: {original}\")\n",
    "    print(f\"Translated: {translated}\\n\")"
   ]
  },
  {
   "cell_type": "code",
   "execution_count": 8,
   "metadata": {},
   "outputs": [],
   "source": [
    "import pandas as pd\n",
    "import os\n",
    "\n",
    "#create a dataframe to store the chinese paragraph and english paragraph\n",
    "df = pd.DataFrame({\n",
    "    'Chinese_verse': verses,\n",
    "    'English_Verse':translated_verses\n",
    "})\n",
    "\n",
    "#store the csv format in the desktop \n",
    "desktop = os.path.join(os.path.join(os.path.expanduser('~')), 'Desktop')\n",
    "filepath = os.path.join(desktop, 'chapter_4_trans.csv')\n",
    "df.to_csv(filepath, index=False)\n",
    "\n",
    "\n"
   ]
  }
 ],
 "metadata": {
  "kernelspec": {
   "display_name": "Python 3",
   "language": "python",
   "name": "python3"
  },
  "language_info": {
   "codemirror_mode": {
    "name": "ipython",
    "version": 3
   },
   "file_extension": ".py",
   "mimetype": "text/x-python",
   "name": "python",
   "nbconvert_exporter": "python",
   "pygments_lexer": "ipython3",
   "version": "3.10.5"
  }
 },
 "nbformat": 4,
 "nbformat_minor": 2
}
