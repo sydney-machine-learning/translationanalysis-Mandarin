{
 "cells": [
  {
   "cell_type": "code",
   "execution_count": 6,
   "metadata": {},
   "outputs": [
    {
     "name": "stdout",
     "output_type": "stream",
     "text": [
      "Requirement already satisfied: PyPDF2 in /Library/Frameworks/Python.framework/Versions/3.10/lib/python3.10/site-packages (3.0.1)\n",
      "\u001b[33mWARNING: You are using pip version 22.0.4; however, version 23.3.1 is available.\n",
      "You should consider upgrading via the '/usr/local/bin/python3 -m pip install --upgrade pip' command.\u001b[0m\u001b[33m\n",
      "\u001b[0mNote: you may need to restart the kernel to use updated packages.\n"
     ]
    }
   ],
   "source": [
    "%pip install PyPDF2"
   ]
  },
  {
   "cell_type": "code",
   "execution_count": 7,
   "metadata": {},
   "outputs": [
    {
     "name": "stdout",
     "output_type": "stream",
     "text": [
      "There are said to be some victors who take no pleasure in a victory unless their opponents arc as fierce as tigers or eagles: if their adversaries are as timid as sheep or chickens they find their triumph empty. There are other victors who, having carried all before them, with the enemy slain or surrendered, cowering in utter subjection, realize that now no toc, rival, or friend is left - they have only them-selves, supreme, solitary, desolate, and forlorn. Then they find their triumph a tragedy. But our hero was not so spine-less. He was always exultant. This may be a proof of the moral supremacy of China over the rest of the world. @ Look at Ah Q, light and elated, as if about to fly! @ This victory was not without strange consequences, though. For quite a time he seemed to be flying, and he flew into the Tutelary God's Temple, where he would normally have snored as soon as he lay down. This evening, however, he found it very difficult to close his eyes, for he felt as if there were something the matter with his thumb and first finger, which seemed to be smoother than usual. It is impossible to say whether something soft and smooth on the little nun's face had stuck to his fingers, or whether his fingers had been rubbed smooth against her cheek. @ \"Ah Q, may you die sonless!\" @ These words sounded again in Ah Q's cars, and he thought, \"Quite right, I should take a wife; for if a man dies sonless he has no one to sacrifice a bowl of rice to his spirit. . . I ought to have a wife.\" As the saying goes, \"There are three forms of unfilial conduct, of which the worst is to have no descendants,\" and it is one of the tragedies of life that \"spirits without descendants go hungry.' Thus his view was absolutely in accordance with the teachings of the saints and sages, and it is indeed a pity that later he should have run amok. \"Woman, woman! ...\" he thought. @ \"…The monk paws... Woman, woman! … Woman!\" he thought again. @ We shall never know when Ah Q finally fell asleep that evening. After this, however, he probably always found his fingers rather soft and smooth, and always remained a little light-headed. \"Woman\" he kept thinking. @ From this we can see that woman is a menace to mankind. @ The majority of Chinese men could become saints and sages, were it not for the unfortunate fact that they are ruined by women. The Shang dynasty was destroyed by Ta Chi, the Chou dynasty was undermined by Pao Szu; as for the Chin dynasty, although there is no historical evidence to that effect, if we assume that it fell on account of some woman we shall probably not be far wrong. And it is a fact that Tung Cho's death was caused by Tiao Chan.’ @ Ah Q, too, was a man of strict morals to begin with. Although we do not know whether he was guided by some good teacher, he had always shown himself most scrupulous in observing \"strict segregation of the sexes,\" and was right-cous enough to denounce such heretics as the little nun and the Imitation Foreign Devil. His view was, \"All nuns must carry on in secret with monks. If a woman walks alone on the street, she must want to seduce had men. When a man and a woman talk together, it must be to arrange to meet.\" In order to correct such people, he would glare furiously, pass loud, cutting remarks, or, if the place were deserted, throw a small stone from behind. @ Who could tell that close on thirty, when a man should \"stand firm,\" he would lose his head like this over a little nun? Such light-headedness, according to the classical canons, is most reprehensible; thus women certainly are hateful creatures. For if the little nun's face had not been soft and smooth, Ah Q would not have been bewitched by her; nor would this have happened if the little nun's face had been covered by a cloth. Five or six years before, when watching an open-air opera, he had pinched the leg of a woman in the audience; but because it was separated from him by the cloth of her trousers he had not had this light-headed feeling afterwards. The little nun had not covered her face, how-ever, and this is another proof of the odiousness of the herctic. @ \"Woman ...\" thought Ah Q. @ He kept a close watch on those women who he believed must \"want to seduce bad men,\" but they did not smile at him. He listened very carefully to those women who talked to him, but not one of them mentioned anything relevant to a secret rendezvous. Ahl This was simply another example of the odiousness of women: they all assumed a false modesty. @ One day when Ah Q was grinding rice in Mr. Chao's house, he sat down in the kitchen after supper to smoke a pipe. If it had been anyone else's house, he could have gone home after supper, but they dined early in the Chao family. Although it was the rule that you must not light a lamp, but go to bed after eating, there were occasional exceptions to the rule. Before Mr. Chao's son passed the county examination he was allowed to light a lamp to study the examination essays, and when Ah Q went to do odd jobs he was allowed to light a lamp to grind rice. Because of this latter exception to the rule, Ah Q still sat in the kitchen smoking before going on with his work. @ When Amah Wu, the only maidservant in the Chao household, had finished washing the dishes, she sat down on the long bench too and started chatting to Ah Q: @ \"Our mistress hasn't eaten anything for two days, because the master wants to get a concubine. @ \"Woman... Amah Wu... this little widow,\" thought Ah Q. @ \"Our young mistress is going to have a baby in the eighth moon…\" @ \"Woman.\" thought Ah Q. @ He put down his pipe and stood up. @ \"Our young mistress -\" Amah Wu chattered on. @ \"Sleep with me!\" Ah Q suddenly rushed forward and threw himself at her feet. @ There was a moment of absolute silence. @ \"Ai ya!\" Dumbfounded for an instant, Amah Wu suddenly began to tremble, then rushed out shrieking and could soon be heard sobbing. @ Ah Q kneeling opposite the wall was dumbfounded too. He grasped the empty bench with both hands and stood up slowly, dimly aware that something was wrong. In fact, by this time he was in rather a nervous state himself. In a flurry, he stuck his pipe into his belt and decided to go back to the rice. But - bang! a heavy blow landed on his head, and he spun round to see the successful county candidate standing before him brandishing a big bamboo pole. @ \"How dare you … you ….\" @ The big bamboo pole came down across Ah Q's shoulders. When he put up both hands to protect his head, the blow landed on his knuckles, causing him considerable pain. As he escaped through the kitchen door it seemed as if his back also received a blow. @ \"Turtle's egg!\" shouted the successful candidate, cursing him in mandarin from behind. @ Ah Q fled to the hulling-floor where he stood alone, still feeling a pain in his knuckles and still remembering that \"turtle's egg\" because it was an expression never used by the Weichuang villagers, but only by the rich who had seen something of official life. This made him more frightened, and left an exceptionally deep impression on his mind. By now, however, all thought of \"Woman had flown. After this cursing and beating it seemed as if something were done with, and quite light heartedly he began to grind rice again. After grinding for some time he felt hot, and stopped to take off his shirt. @ While he was taking off his shirt he heard an uproar outside, and since Ah Q always liked to join in any excitement that was going, he went out in search of the sound. He traced it gradually right into Mr. Chao's inner courtyard. Although it was dusk he could see many people there: all the Chao family including the mistress who had not eaten for two days. In addition, their neighbour Mrs. Tsou was there, as well as their relatives Chao Pai-yen and Chao Szu-chen. @ The young mistress was leading Amah Wu out of the servants' quarters, saying as she did so: @ \"Come outside. don't stay brooding in your own room.\" @ \"Everybody knows you are a good woman,\" put in Mrs.Tsou from the side. \"You mustn't think of committing suicide. \" @ Amah Wu merely wailed, muttering something inaudible. @ \"This is interesting.\" thought Ah Q. \"What mischief can this little widow be up to? Wanting to find out, he was approaching Chao Szu-chen when suddenly he caught sight of Mr. Chao's eldest son rushing towards him with, what was worse, the big bamboo pole in his hand. The sight of this big bamboo pole reminded him that he had been beaten by it, and he realized that apparently he was connected in some way with this scene of excitement. He turned and ran, hoping to escape to the hulling-floor, not foreseeing that the bamboo pole would cut off his retreat; thereupon he turned and ran in the other direction, leaving without further ado by the back door. In a short time he was back in the Tutelary God's Temple. @ After Ah Q had sat down for a time, his skin began to form goose pimples and he felt cold, because although it was spring the nights were still quite frosty and not suited to bare backs. He remembered that he had left his shirt in the Chaos house, but he was afraid if he went to fetch it he might get another taste of the successful candidate's bamboo pole. Then the bailiff came in. @ \"Curse you, Ah Q!\" said the bailiff. \"So you can't even keep your hands off the Chao family servants, you rebel! @ You've made me lose my sleep, curse you! @ Under this torrent of abuse Ah Q naturally had nothing to say. Finally, since it was night-time, Ah Q had to pay double and give the bailiff four hundred cash. Because he happened to have no ready money by him, he gave his felt hat as security, and agreed to the following five terms: @ 1. The next morning Ah Q must take a pair of red candles, weighing one pound, and a bundle of incense sticks to the Chao family to atone for his misdeeds. @ 2. Ah Q must pay for the Taoist priests whom the Chao family had called to exorcize evil spirits. @ 3. Ah Q must never again set foot in the Chao household. @ 4. It anything unfortunate should happen to Amah Wu, Ah Q must be held responsible. @ 5. Ah Q must not go back for his wages or shirt. @ Ah Q naturally agreed to everything, but unfortunately he had no ready money. Luckily it was already spring, so it was possible to do without his padded quilt which he pawned for two thousand cash to comply with the terms stipulated. After kowtowing with bare back he still had a few cash left, but instead of using these to redeem his felt hat from the bailiff, he spent them all on drink. Actually, the Chao family burned neither the incense nor the candles, because these could be used when the mistress worshipped Buddha and were put aside for that purpose. Most of the ragged shirt was made into diapers for the baby which was born to the young mistress in the eighth moon, while the tattered remainder was used by Amah Wu to make shoe soles. @ \n"
     ]
    }
   ],
   "source": [
    "import PyPDF2\n",
    "\n",
    "# Open the PDF file in read-binary mode\n",
    "with open('/Users/wangxuechun/Desktop/Version_by_Yang_Hsien.pdf', 'rb') as pdf_file:\n",
    "    pdf_reader = PyPDF2.PdfReader(pdf_file)\n",
    "\n",
    "    # Initialize an empty string to store the text\n",
    "    pdf_text = ''\n",
    "\n",
    "    # Iterate through the pages and extract text\n",
    "    for page_num in range(len(pdf_reader.pages)):\n",
    "        page = pdf_reader.pages[page_num]\n",
    "        pdf_text += page.extract_text()\n",
    "    # test\n",
    "\n",
    "print(pdf_text)"
   ]
  },
  {
   "cell_type": "code",
   "execution_count": 8,
   "metadata": {},
   "outputs": [
    {
     "name": "stdout",
     "output_type": "stream",
     "text": [
      "45\n"
     ]
    }
   ],
   "source": [
    "#split text into paragraphs\n",
    "verses = [verse.strip() for verse in pdf_text.strip().split('@') if verse]\n",
    "print(len(verses))"
   ]
  },
  {
   "cell_type": "code",
   "execution_count": 9,
   "metadata": {},
   "outputs": [
    {
     "name": "stdout",
     "output_type": "stream",
     "text": [
      "Collecting pandas\n",
      "  Downloading pandas-2.1.2-cp310-cp310-macosx_11_0_arm64.whl (10.9 MB)\n",
      "\u001b[2K     \u001b[90m━━━━━━━━━━━━━━━━━━━━━━━━━━━━━━━━━━━━━━━━\u001b[0m \u001b[32m10.9/10.9 MB\u001b[0m \u001b[31m6.5 MB/s\u001b[0m eta \u001b[36m0:00:00\u001b[0m00:01\u001b[0m00:01\u001b[0m\n",
      "\u001b[?25hRequirement already satisfied: python-dateutil>=2.8.2 in /Library/Frameworks/Python.framework/Versions/3.10/lib/python3.10/site-packages (from pandas) (2.8.2)\n",
      "Collecting numpy<2,>=1.22.4\n",
      "  Downloading numpy-1.26.1-cp310-cp310-macosx_11_0_arm64.whl (14.0 MB)\n",
      "\u001b[2K     \u001b[90m━━━━━━━━━━━━━━━━━━━━━━━━━━━━━━━━━━━━━━━━\u001b[0m \u001b[32m14.0/14.0 MB\u001b[0m \u001b[31m6.7 MB/s\u001b[0m eta \u001b[36m0:00:00\u001b[0m00:01\u001b[0m00:01\u001b[0m\n",
      "\u001b[?25hCollecting pytz>=2020.1\n",
      "  Downloading pytz-2023.3.post1-py2.py3-none-any.whl (502 kB)\n",
      "\u001b[2K     \u001b[90m━━━━━━━━━━━━━━━━━━━━━━━━━━━━━━━━━━━━━━━\u001b[0m \u001b[32m502.5/502.5 KB\u001b[0m \u001b[31m7.4 MB/s\u001b[0m eta \u001b[36m0:00:00\u001b[0ma \u001b[36m0:00:01\u001b[0m\n",
      "\u001b[?25hCollecting tzdata>=2022.1\n",
      "  Downloading tzdata-2023.3-py2.py3-none-any.whl (341 kB)\n",
      "\u001b[2K     \u001b[90m━━━━━━━━━━━━━━━━━━━━━━━━━━━━━━━━━━━━━━━\u001b[0m \u001b[32m341.8/341.8 KB\u001b[0m \u001b[31m6.3 MB/s\u001b[0m eta \u001b[36m0:00:00\u001b[0ma \u001b[36m0:00:01\u001b[0m\n",
      "\u001b[?25hRequirement already satisfied: six>=1.5 in /Library/Frameworks/Python.framework/Versions/3.10/lib/python3.10/site-packages (from python-dateutil>=2.8.2->pandas) (1.16.0)\n",
      "Installing collected packages: pytz, tzdata, numpy, pandas\n",
      "Successfully installed numpy-1.26.1 pandas-2.1.2 pytz-2023.3.post1 tzdata-2023.3\n",
      "\u001b[33mWARNING: You are using pip version 22.0.4; however, version 23.3.1 is available.\n",
      "You should consider upgrading via the '/usr/local/bin/python3 -m pip install --upgrade pip' command.\u001b[0m\u001b[33m\n",
      "\u001b[0mNote: you may need to restart the kernel to use updated packages.\n"
     ]
    }
   ],
   "source": [
    "%pip install pandas"
   ]
  },
  {
   "cell_type": "code",
   "execution_count": 10,
   "metadata": {},
   "outputs": [],
   "source": [
    "import pandas as pd\n",
    "import os\n",
    "\n",
    "#create a dataframe to store the chinese paragraph and english paragraph\n",
    "df = pd.DataFrame({\n",
    "    'English_Verse_chap4_hsien': verses,\n",
    "})\n",
    "\n"
   ]
  }
 ],
 "metadata": {
  "kernelspec": {
   "display_name": "Python 3",
   "language": "python",
   "name": "python3"
  },
  "language_info": {
   "codemirror_mode": {
    "name": "ipython",
    "version": 3
   },
   "file_extension": ".py",
   "mimetype": "text/x-python",
   "name": "python",
   "nbconvert_exporter": "python",
   "pygments_lexer": "ipython3",
   "version": "3.10.5"
  }
 },
 "nbformat": 4,
 "nbformat_minor": 2
}
