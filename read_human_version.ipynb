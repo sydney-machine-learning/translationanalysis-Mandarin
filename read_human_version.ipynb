{
 "cells": [
  {
   "cell_type": "code",
   "execution_count": 6,
   "metadata": {},
   "outputs": [
    {
     "name": "stdout",
     "output_type": "stream",
     "text": [
      "Requirement already satisfied: PyPDF2 in /Library/Frameworks/Python.framework/Versions/3.10/lib/python3.10/site-packages (3.0.1)\n",
      "\u001b[33mWARNING: You are using pip version 22.0.4; however, version 23.3.1 is available.\n",
      "You should consider upgrading via the '/usr/local/bin/python3 -m pip install --upgrade pip' command.\u001b[0m\u001b[33m\n",
      "\u001b[0mNote: you may need to restart the kernel to use updated packages.\n"
     ]
    }
   ],
   "source": [
    "%pip install PyPDF2"
   ]
  },
  {
   "cell_type": "code",
   "execution_count": 12,
   "metadata": {},
   "outputs": [
    {
     "name": "stdout",
     "output_type": "stream",
     "text": [
      "After Ah Q had kowtowed and complied with the Chao family's terms, he went back as usual to the Tutelary God's Temple. The sun had gone down, and he began to feel that something was wrong. Careful thought led him to the conclusion that this was probably because his back was bare. Remembering that he still had a ragged lined jacket, he put it on and lay down, and when he opened his eyes again the sun was already shining on the top of the west wall. He sat up, saying, \"Curse it. ...\" @  After getting up he loafed about the streets as usual, until he began to feel that something else was wrong, though this was not to be compared to the physical discomfort of a bare back. Apparently, from that day onwards all the women in Weichuang became shy of Ah Q: whenever they saw him coming they took refuge indoors. In fact, even Mrs. Tsou who was nearly fifty years old retreated in confusion with the rest, calling her eleven-year-old daughter to go inside.This struck Ah Q as very strange. \"The bitches!\" he thought. \"They have suddenly become as coy as young ladies. ...\" @  A good many days later, however, he felt even more strongly that something was wrong. First, the wineshop re- fused him credit; secondly, the old man in charge of the Tutelary God's Temple made some uncalled-for remarks, as if he wanted Ah Q to leave; and thirdly, for many days — how many exactly he could not remember - not a soul had come to hire him. To be refused credit in the wineshop he could put up with; if the old man kept urging him to leave, Ah Q could just ignore his complaints; but when no one came to hire him he had to go hungry; and this was really a \"cursed\" state to be in. @  When Ah Q could stand it no longer he went to his regular employers' houses to find out what was the matter - it was only. Mr. Chao's threshold that he was not allowed to cross. But he met with a very strange reception. The one to appear was always a man, who looked thoroughly annoyed and waved Ah Q away as if he were a beggar, saying: @  \"There is nothing, nothing at all! Go away!\" @  Ah Q found it more and more extraordinary. \"These people always needed help in the past,\" he thought. \"They can't suddenly have nothing to be conc. This looks fishy.\" After making careful enquiries he found out that when they had any odd jobs they all called in Young D. Now this Young D was a lean and weakly pauper, even lower in Ah Q's eyes than Whiskers Wang. Who could have thought that this low fellow would steal his living from him? So this time Ah Q's indignation was greater than usual, and going on his way, fuming, he suddenly raised his arm and sang: \"I'll thrash you with a steel mace….” @  A few days later he did indeed meet Young D in front of Mr. Chien's house. \"When two foes meet, their eyes flash fire.\" As Ah Q went up to him, Young D stood still. @  \"Stupid ass!\" hissed Ah Q, glaring furiously and foaming at the mouth. @  \"I'm an insect — will that do? \" asked Young D. @  Such modesty only made Ah Q angrier than ever, but since he had no steel mace in his hand all he could do was to rush forward with outstretched hand to seize Young D's pigtail. Young D, while protecting his pigtail with one hand, tried to seize Ah Q's with the other, whereupon Ah Q also used one free hand to protect his own pigtail. In the past Ah Q had never considered Young D worth taking seriously, but since he had recently suffered from hunger himself he was now as thin and weak as his opponent, so that they presented a spectacle of evenly matched antagonists. Four hands clutched at two heads, both men bending at the waist, cast a blue, rainbow-shaped shadow on the Chien family's white wall for over half an hour. @  \"All right! All right!\" exclaimed some of the onlookers, probably trying to make peace. @  \"Good, good!\" exclaimed others, but whether to make peace, applaud the fighters or incite them on to further efforts, is not certain. @  The two combatants turned deaf ears to them all, however. If Ah Q advanced three paces, Young D would recoil three paces, and so they would stand. If Young D advanced three paces, Ah Q would recoil three paces, and so they would stand again. After about half an hour — Weichuang had few striking clocks, so it is difficult to tell the time; it may have been twenty minutes - when steam was rising from their heads and sweat pouring down their cheeks, Ah Q let fall his hands, and in the same second Young D's hands fell too. They straightened up simultaneously and stepped back simultaneously, pushing their way out through the crowd. @  \"You'll be hearing from me again, curse you! \" said Ah Q over his shoulder. @  \"Curse you! You'll be hearing from me again. echoed Young D, also over his shoulder. @  This epic struggle had apparently ended neither in victory nor defeat, and it is not known whether the spectators were satisfied or not, for none of them expressed any opinion. But still not a soul came to hire Ah Q. @  One warm day, when a balmy breeze seemed to give some foretaste of summer, Ah Q actually felt cold; but he could put up with this - his greatest worry was an empty stomach. His cotton quilt, felt hat and shirt had long since disappeared, and after that he had sold his padded jacket. Now nothing was left but his trousers, and these of course he could not take off. He had a ragged lined jacket, it is true; but this was certainly worthless, unless he gave it away to be made into shoe soles. He had long hoped to pick up a sum of money on the road, but hitherto he had not been successful; he had also hoped he might suddenly discover a sum of money in his tumble-down room, and had looked wildly all through it, but the room was quite, quite empty. Thereupon he made up his mind to go out in search of food. @  As he walked along the road \"in search of food\" he saw the familiar wineshop and the familiar steamed bread, but he passed them by without pausing for a second, without even hankering after them. It was not these he was looking for, although what exactly he was looking for he did not know himself. @  Since Weichuang was not a big place, he soon left it behind. Most of the country outside the village consisted of paddy fields, green as far as the cyc could see with the tender shoots of young rice, dotted here and there with round, black, moving objects, which were peasants cultivating the fields. But blind to the delights of country life, Ah Q simply went on his way, for he knew instinctively that this was far removed from his \"search for food.\" Finally, however, he came to the walls of the Convent of Quiet Self-improvement. @  The convent too was surrounded by paddy fields, its white walls standing out sharply in the fresh green, and inside the low earthen wall at the back was a vegetable garden. Ah Q hesitated for a time, looking around him. Since there was no one in sight he scrambled on to the low wall, holding on to some milkwort. The mud wall started crumbling, and Ah Q shook with fear; however, by clutching at the branch of a mulberry tree he managed to jump over it. Within was a wild profusion of vegetation, but no sign of yellow wine, steamed bread, or anything edible. A clump of bamboos, with many young shoots, grew by the west wall but unfortunately these shoots were not cooked. There was also rape which had long since gone to seed; the mustard was already about to flower, and the small cabbages looked very tough. @  Ah Q felt as resentful as a scholar who has failed in the examinations. As he walked slowly towards the gate of the garden he gave a start of joy, for there before him what did he see but a patch of turnips! He knelt down and began pulling, when suddenly a round head appeared from behind the gate, only to be withdrawn again at once. This was no other than the little nun. Now though Ah Q had always had the greatest contempt for such people as little nuns, there are times when \"Discretion is the better part of valour.\" He hastily pulled up four turnips, tore off the leaves and folded them in his jacket. By this time an old nun had already come out. @  \"May Buddha preserve us, Ah Q1 What made you climb into our garden to steal turnips!.. Oh dear, what a wicked thing to do! Oh dear, Buddha preserve us! @  \"When did I ever climb into your garden and steal turnips?\" retorted Ah Q, as he started off, still looking at her. @  \"Now — aren't you?\" said the old nun, pointing at the folds of his jacket. @  \"Are these yours? Can you make them answer you? You. ..” @  Leaving his sentence unfinished, Ah Q took to his heels as fast as he could, followed by an enormously fat, black dog. Originally this dog had been at the front gate, and how it reached the back garden was a mystery. With a snarl the black dog gave chase and was just about to bite Ah Q's leg when most opportunely a turnip fell from his jacket, and the dog, taken by surprise, stopped for a second. During this time Ah Q scrambled up the mulberry tree, scaled the mud wall and fell, turnips and all, outside the convent. He left the black dog still barking by the mulberry tree, and the old nun saying her prayers. @  Fearing that the nun would let the black dog out again, Ah Q gathered together his turnips and ran, picking up a few small stones as he went. But the black dog did not reappear. Ah Q threw away the stones and walked on, eating as he went, thinking to himself: \"There is nothing to be had here; I had better go to town. ...\" @  By the time he had finished the third turnip, he had made up his mind to go to town. @ \n"
     ]
    }
   ],
   "source": [
    "import PyPDF2\n",
    "\n",
    "# Open the PDF file in read-binary mode\n",
    "with open('/Users/wangxuechun/Desktop/data_preparation/Version_by_Hsien_chapt5.pdf', 'rb') as pdf_file:\n",
    "    pdf_reader = PyPDF2.PdfReader(pdf_file)\n",
    "\n",
    "    # Initialize an empty string to store the text\n",
    "    pdf_text = ''\n",
    "\n",
    "    # Iterate through the pages and extract text\n",
    "    for page_num in range(len(pdf_reader.pages)):\n",
    "        page = pdf_reader.pages[page_num]\n",
    "        pdf_text += page.extract_text()\n",
    "    # test\n",
    "\n",
    "print(pdf_text)"
   ]
  },
  {
   "cell_type": "code",
   "execution_count": 13,
   "metadata": {},
   "outputs": [
    {
     "name": "stdout",
     "output_type": "stream",
     "text": [
      "28\n"
     ]
    }
   ],
   "source": [
    "#split text into paragraphs\n",
    "verses = [verse.strip() for verse in pdf_text.strip().split('@') if verse]\n",
    "print(len(verses))"
   ]
  },
  {
   "cell_type": "code",
   "execution_count": 9,
   "metadata": {},
   "outputs": [
    {
     "name": "stdout",
     "output_type": "stream",
     "text": [
      "Collecting pandas\n",
      "  Downloading pandas-2.1.2-cp310-cp310-macosx_11_0_arm64.whl (10.9 MB)\n",
      "\u001b[2K     \u001b[90m━━━━━━━━━━━━━━━━━━━━━━━━━━━━━━━━━━━━━━━━\u001b[0m \u001b[32m10.9/10.9 MB\u001b[0m \u001b[31m6.5 MB/s\u001b[0m eta \u001b[36m0:00:00\u001b[0m00:01\u001b[0m00:01\u001b[0m\n",
      "\u001b[?25hRequirement already satisfied: python-dateutil>=2.8.2 in /Library/Frameworks/Python.framework/Versions/3.10/lib/python3.10/site-packages (from pandas) (2.8.2)\n",
      "Collecting numpy<2,>=1.22.4\n",
      "  Downloading numpy-1.26.1-cp310-cp310-macosx_11_0_arm64.whl (14.0 MB)\n",
      "\u001b[2K     \u001b[90m━━━━━━━━━━━━━━━━━━━━━━━━━━━━━━━━━━━━━━━━\u001b[0m \u001b[32m14.0/14.0 MB\u001b[0m \u001b[31m6.7 MB/s\u001b[0m eta \u001b[36m0:00:00\u001b[0m00:01\u001b[0m00:01\u001b[0m\n",
      "\u001b[?25hCollecting pytz>=2020.1\n",
      "  Downloading pytz-2023.3.post1-py2.py3-none-any.whl (502 kB)\n",
      "\u001b[2K     \u001b[90m━━━━━━━━━━━━━━━━━━━━━━━━━━━━━━━━━━━━━━━\u001b[0m \u001b[32m502.5/502.5 KB\u001b[0m \u001b[31m7.4 MB/s\u001b[0m eta \u001b[36m0:00:00\u001b[0ma \u001b[36m0:00:01\u001b[0m\n",
      "\u001b[?25hCollecting tzdata>=2022.1\n",
      "  Downloading tzdata-2023.3-py2.py3-none-any.whl (341 kB)\n",
      "\u001b[2K     \u001b[90m━━━━━━━━━━━━━━━━━━━━━━━━━━━━━━━━━━━━━━━\u001b[0m \u001b[32m341.8/341.8 KB\u001b[0m \u001b[31m6.3 MB/s\u001b[0m eta \u001b[36m0:00:00\u001b[0ma \u001b[36m0:00:01\u001b[0m\n",
      "\u001b[?25hRequirement already satisfied: six>=1.5 in /Library/Frameworks/Python.framework/Versions/3.10/lib/python3.10/site-packages (from python-dateutil>=2.8.2->pandas) (1.16.0)\n",
      "Installing collected packages: pytz, tzdata, numpy, pandas\n",
      "Successfully installed numpy-1.26.1 pandas-2.1.2 pytz-2023.3.post1 tzdata-2023.3\n",
      "\u001b[33mWARNING: You are using pip version 22.0.4; however, version 23.3.1 is available.\n",
      "You should consider upgrading via the '/usr/local/bin/python3 -m pip install --upgrade pip' command.\u001b[0m\u001b[33m\n",
      "\u001b[0mNote: you may need to restart the kernel to use updated packages.\n"
     ]
    }
   ],
   "source": [
    "%pip install pandas"
   ]
  },
  {
   "cell_type": "code",
   "execution_count": 15,
   "metadata": {},
   "outputs": [],
   "source": [
    "import pandas as pd\n",
    "import os\n",
    "\n",
    "#create a dataframe to store the chinese paragraph and english paragraph\n",
    "df = pd.DataFrame({\n",
    "    'English_Verse_chap5_yiyun': verses,\n",
    "})\n",
    "\n",
    "#store the csv format in the desktop \n",
    "desktop = os.path.join(os.path.join(os.path.expanduser('~')), 'Desktop')\n",
    "filepath = os.path.join(desktop, 'chapter_5_eng_version_hsien.csv')\n",
    "df.to_csv(filepath, index=False)"
   ]
  }
 ],
 "metadata": {
  "kernelspec": {
   "display_name": "Python 3",
   "language": "python",
   "name": "python3"
  },
  "language_info": {
   "codemirror_mode": {
    "name": "ipython",
    "version": 3
   },
   "file_extension": ".py",
   "mimetype": "text/x-python",
   "name": "python",
   "nbconvert_exporter": "python",
   "pygments_lexer": "ipython3",
   "version": "3.10.5"
  }
 },
 "nbformat": 4,
 "nbformat_minor": 2
}
