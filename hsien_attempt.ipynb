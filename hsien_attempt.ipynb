{
 "cells": [
  {
   "cell_type": "code",
   "execution_count": 3,
   "metadata": {},
   "outputs": [],
   "source": [
    "import requests\n",
    "from bs4 import BeautifulSoup\n",
    "import pandas as pd\n",
    "import PyPDF2"
   ]
  },
  {
   "cell_type": "code",
   "execution_count": 4,
   "metadata": {},
   "outputs": [],
   "source": [
    "file_path = '/Users/wangxuechun/Desktop/hsien_verision_Lu_Hsun.pdf'"
   ]
  },
  {
   "cell_type": "code",
   "execution_count": 21,
   "metadata": {},
   "outputs": [],
   "source": [
    "def extract_words_from_pdf(file_path, start_word, stop_word,exclude_word):\n",
    "    with open(file_path, 'rb') as file:\n",
    "        reader = PyPDF2.PdfReader(file)\n",
    "        text = ''\n",
    "        for page in reader.pages:\n",
    "            text += page.extract_text()\n",
    "        \n",
    "        start_index = text.find(start_word)\n",
    "        stop_index = text.find(stop_word, start_index)\n",
    "        \n",
    "        if start_index == -1 or stop_index == -1:\n",
    "            return f\"Start word '{start_word}' or stop word '{stop_word}' not found in the document.\"\n",
    "        \n",
    "        # Extract the text between the start and stop words\n",
    "        extracted_text = text[start_index:stop_index + len(stop_word)]\n",
    "\n",
    "        for string in exclude_word:\n",
    "            extracted_text = extracted_text.replace(string, \"\")\n",
    "        \n",
    "        return extracted_text\n",
    "\n",
    "    "
   ]
  },
  {
   "cell_type": "code",
   "execution_count": 18,
   "metadata": {},
   "outputs": [],
   "source": [
    "start_word = \"INTRODUCTION\"\n",
    "end_word = \"______\"\n",
    "#exclude_word = '9/6/2024, 9:34\\u202fpmSelected Stories, Lu Hsun (1918-1926)\\nPage 50 of 193http://www.coldbacon.com/writing/luxun-calltoarms.html#AhQ'"
   ]
  },
  {
   "cell_type": "code",
   "execution_count": 22,
   "metadata": {},
   "outputs": [
    {
     "data": {
      "text/plain": [
       "'INTRODUCTION\\xa0FvyIvyBIIvyy;yqkyky—ykkByIykyyIkyIkTqC\"I\";yvTyyzyykyy\"Oy?\"Tvyyy\"y?\"BIvyII\"zy\"\"y\"?T\"\"y\"yy\"?BvNI\"\"I\"v\"EyCDyvRy;IT\"yy\";IkIyvvkII\"k\"j\"\"Iy\"\"IvvkIvkvkTCN\"Eky!\"Iky;TyCyTyyyk\"v\";I\\'yk\\'OCyTMC\\'yvjkyMCykvyvyByMC\\'Wyy\"y!DyyIy?\"yTkMCvy\"yk!Ivvy?IyC?\"yMCv\"yC!—DykyyC?\"CkOkkkEvC—\\'ky—vkkMCvv\\'yI\\'kyTyIkI\\'k\\'Dvyy;vy\"vk\"IyqvyIyIvvq—\"\"\"\"y?IMvyMFvy\"\"B—k—vvyyvyyFyyyBjyvIqMC\\'yvyvyCTzNYvWIkyk\\'yykyyyIkIyyWEvTyNYzIyy;vMC\\'vyI?Myy\\'ICvyykyT\"vTKv\"Byq\\'vWyvWIyTy\"\"yTyyyyvIyD\"yq\"yIvyyTyvvTy\\xa0______'"
      ]
     },
     "execution_count": 22,
     "metadata": {},
     "output_type": "execute_result"
    }
   ],
   "source": [
    "words = extract_words_from_pdf(file_path,start_word,end_word, exclude_word)\n",
    "words"
   ]
  }
 ],
 "metadata": {
  "kernelspec": {
   "display_name": "Python 3",
   "language": "python",
   "name": "python3"
  },
  "language_info": {
   "codemirror_mode": {
    "name": "ipython",
    "version": 3
   },
   "file_extension": ".py",
   "mimetype": "text/x-python",
   "name": "python",
   "nbconvert_exporter": "python",
   "pygments_lexer": "ipython3",
   "version": "3.10.5"
  }
 },
 "nbformat": 4,
 "nbformat_minor": 2
}
